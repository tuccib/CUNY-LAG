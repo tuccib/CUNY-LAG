{
  "nbformat": 4,
  "nbformat_minor": 0,
  "metadata": {
    "colab": {
      "name": "Data301_ML_Mid_Term_Test-Bruno_Tucci.ipynb",
      "provenance": [],
      "collapsed_sections": [],
      "toc_visible": true,
      "include_colab_link": true
    },
    "kernelspec": {
      "name": "python3",
      "display_name": "Python 3"
    },
    "language_info": {
      "name": "python"
    }
  },
  "cells": [
    {
      "cell_type": "markdown",
      "metadata": {
        "id": "view-in-github",
        "colab_type": "text"
      },
      "source": [
        "<a href=\"https://colab.research.google.com/github/tuccib/CUNY_LAG/blob/Analytics/Data301_ML_Mid_Term_Test_Bruno_Tucci.ipynb\" target=\"_parent\"><img src=\"https://colab.research.google.com/assets/colab-badge.svg\" alt=\"Open In Colab\"/></a>"
      ]
    },
    {
      "cell_type": "markdown",
      "metadata": {
        "id": "qPBlMYftqUmQ"
      },
      "source": [
        "# Dataset background"
      ]
    },
    {
      "cell_type": "markdown",
      "metadata": {
        "id": "xPXqBWDZqk96"
      },
      "source": [
        "This data sets consists of 3 different types of irises’ (Setosa, Versicolour, and Virginica) petal and sepal length, stored in a 150x4 numpy.ndarray\n",
        "\n",
        "The rows being the samples and the columns being: Sepal Length, Sepal Width, Petal Length and Petal Width."
      ]
    },
    {
      "cell_type": "markdown",
      "metadata": {
        "id": "fMHRanxerqdx"
      },
      "source": [
        "# Data Acquisition"
      ]
    },
    {
      "cell_type": "code",
      "metadata": {
        "id": "movlMxgEIJyj"
      },
      "source": [
        "from sklearn.datasets import load_iris"
      ],
      "execution_count": 1,
      "outputs": []
    },
    {
      "cell_type": "code",
      "metadata": {
        "id": "He8bQEvzIws4"
      },
      "source": [
        "iris_data = load_iris()"
      ],
      "execution_count": 2,
      "outputs": []
    },
    {
      "cell_type": "code",
      "metadata": {
        "colab": {
          "base_uri": "https://localhost:8080/"
        },
        "id": "m5laMl_rsPXi",
        "outputId": "a46c3e7a-2ece-48db-a7a4-dcc82b04cd3d"
      },
      "source": [
        "print(iris_data.DESCR)"
      ],
      "execution_count": 3,
      "outputs": [
        {
          "output_type": "stream",
          "name": "stdout",
          "text": [
            ".. _iris_dataset:\n",
            "\n",
            "Iris plants dataset\n",
            "--------------------\n",
            "\n",
            "**Data Set Characteristics:**\n",
            "\n",
            "    :Number of Instances: 150 (50 in each of three classes)\n",
            "    :Number of Attributes: 4 numeric, predictive attributes and the class\n",
            "    :Attribute Information:\n",
            "        - sepal length in cm\n",
            "        - sepal width in cm\n",
            "        - petal length in cm\n",
            "        - petal width in cm\n",
            "        - class:\n",
            "                - Iris-Setosa\n",
            "                - Iris-Versicolour\n",
            "                - Iris-Virginica\n",
            "                \n",
            "    :Summary Statistics:\n",
            "\n",
            "    ============== ==== ==== ======= ===== ====================\n",
            "                    Min  Max   Mean    SD   Class Correlation\n",
            "    ============== ==== ==== ======= ===== ====================\n",
            "    sepal length:   4.3  7.9   5.84   0.83    0.7826\n",
            "    sepal width:    2.0  4.4   3.05   0.43   -0.4194\n",
            "    petal length:   1.0  6.9   3.76   1.76    0.9490  (high!)\n",
            "    petal width:    0.1  2.5   1.20   0.76    0.9565  (high!)\n",
            "    ============== ==== ==== ======= ===== ====================\n",
            "\n",
            "    :Missing Attribute Values: None\n",
            "    :Class Distribution: 33.3% for each of 3 classes.\n",
            "    :Creator: R.A. Fisher\n",
            "    :Donor: Michael Marshall (MARSHALL%PLU@io.arc.nasa.gov)\n",
            "    :Date: July, 1988\n",
            "\n",
            "The famous Iris database, first used by Sir R.A. Fisher. The dataset is taken\n",
            "from Fisher's paper. Note that it's the same as in R, but not as in the UCI\n",
            "Machine Learning Repository, which has two wrong data points.\n",
            "\n",
            "This is perhaps the best known database to be found in the\n",
            "pattern recognition literature.  Fisher's paper is a classic in the field and\n",
            "is referenced frequently to this day.  (See Duda & Hart, for example.)  The\n",
            "data set contains 3 classes of 50 instances each, where each class refers to a\n",
            "type of iris plant.  One class is linearly separable from the other 2; the\n",
            "latter are NOT linearly separable from each other.\n",
            "\n",
            ".. topic:: References\n",
            "\n",
            "   - Fisher, R.A. \"The use of multiple measurements in taxonomic problems\"\n",
            "     Annual Eugenics, 7, Part II, 179-188 (1936); also in \"Contributions to\n",
            "     Mathematical Statistics\" (John Wiley, NY, 1950).\n",
            "   - Duda, R.O., & Hart, P.E. (1973) Pattern Classification and Scene Analysis.\n",
            "     (Q327.D83) John Wiley & Sons.  ISBN 0-471-22361-1.  See page 218.\n",
            "   - Dasarathy, B.V. (1980) \"Nosing Around the Neighborhood: A New System\n",
            "     Structure and Classification Rule for Recognition in Partially Exposed\n",
            "     Environments\".  IEEE Transactions on Pattern Analysis and Machine\n",
            "     Intelligence, Vol. PAMI-2, No. 1, 67-71.\n",
            "   - Gates, G.W. (1972) \"The Reduced Nearest Neighbor Rule\".  IEEE Transactions\n",
            "     on Information Theory, May 1972, 431-433.\n",
            "   - See also: 1988 MLC Proceedings, 54-64.  Cheeseman et al\"s AUTOCLASS II\n",
            "     conceptual clustering system finds 3 classes in the data.\n",
            "   - Many, many more ...\n"
          ]
        }
      ]
    },
    {
      "cell_type": "code",
      "metadata": {
        "colab": {
          "base_uri": "https://localhost:8080/"
        },
        "id": "cauob4kpI0ij",
        "outputId": "f6da5a12-7527-4de7-8f80-3014258b4db5"
      },
      "source": [
        "iris_data.feature_names"
      ],
      "execution_count": 4,
      "outputs": [
        {
          "output_type": "execute_result",
          "data": {
            "text/plain": [
              "['sepal length (cm)',\n",
              " 'sepal width (cm)',\n",
              " 'petal length (cm)',\n",
              " 'petal width (cm)']"
            ]
          },
          "metadata": {},
          "execution_count": 4
        }
      ]
    },
    {
      "cell_type": "code",
      "metadata": {
        "colab": {
          "base_uri": "https://localhost:8080/"
        },
        "id": "1KUERZOAI6Xn",
        "outputId": "2c769f1d-30b9-4081-d7ef-53f8d73be58c"
      },
      "source": [
        "iris_data.target_names"
      ],
      "execution_count": 26,
      "outputs": [
        {
          "output_type": "execute_result",
          "data": {
            "text/plain": [
              "array(['setosa', 'versicolor', 'virginica'], dtype='<U10')"
            ]
          },
          "metadata": {},
          "execution_count": 26
        }
      ]
    },
    {
      "cell_type": "markdown",
      "metadata": {
        "id": "uNe0FkJyr-Qt"
      },
      "source": [
        "# Environment Set Up"
      ]
    },
    {
      "cell_type": "code",
      "metadata": {
        "id": "qe2EqNL5JOBK"
      },
      "source": [
        "# Import all required libraries\n",
        "import pandas as pd\n",
        "import seaborn as sns\n",
        "import matplotlib.pyplot as plt\n",
        "import numpy as np"
      ],
      "execution_count": 249,
      "outputs": []
    },
    {
      "cell_type": "code",
      "metadata": {
        "id": "I0BN7IncJIae"
      },
      "source": [
        "df = pd.DataFrame(iris_data.data, columns=iris_data.feature_names)"
      ],
      "execution_count": 7,
      "outputs": []
    },
    {
      "cell_type": "code",
      "metadata": {
        "colab": {
          "base_uri": "https://localhost:8080/",
          "height": 206
        },
        "id": "b4_llsJ_JXZ9",
        "outputId": "ee66de46-e804-470d-b72a-7622bbf40b64"
      },
      "source": [
        "df.head()"
      ],
      "execution_count": 8,
      "outputs": [
        {
          "output_type": "execute_result",
          "data": {
            "text/html": [
              "<div>\n",
              "<style scoped>\n",
              "    .dataframe tbody tr th:only-of-type {\n",
              "        vertical-align: middle;\n",
              "    }\n",
              "\n",
              "    .dataframe tbody tr th {\n",
              "        vertical-align: top;\n",
              "    }\n",
              "\n",
              "    .dataframe thead th {\n",
              "        text-align: right;\n",
              "    }\n",
              "</style>\n",
              "<table border=\"1\" class=\"dataframe\">\n",
              "  <thead>\n",
              "    <tr style=\"text-align: right;\">\n",
              "      <th></th>\n",
              "      <th>sepal length (cm)</th>\n",
              "      <th>sepal width (cm)</th>\n",
              "      <th>petal length (cm)</th>\n",
              "      <th>petal width (cm)</th>\n",
              "    </tr>\n",
              "  </thead>\n",
              "  <tbody>\n",
              "    <tr>\n",
              "      <th>0</th>\n",
              "      <td>5.1</td>\n",
              "      <td>3.5</td>\n",
              "      <td>1.4</td>\n",
              "      <td>0.2</td>\n",
              "    </tr>\n",
              "    <tr>\n",
              "      <th>1</th>\n",
              "      <td>4.9</td>\n",
              "      <td>3.0</td>\n",
              "      <td>1.4</td>\n",
              "      <td>0.2</td>\n",
              "    </tr>\n",
              "    <tr>\n",
              "      <th>2</th>\n",
              "      <td>4.7</td>\n",
              "      <td>3.2</td>\n",
              "      <td>1.3</td>\n",
              "      <td>0.2</td>\n",
              "    </tr>\n",
              "    <tr>\n",
              "      <th>3</th>\n",
              "      <td>4.6</td>\n",
              "      <td>3.1</td>\n",
              "      <td>1.5</td>\n",
              "      <td>0.2</td>\n",
              "    </tr>\n",
              "    <tr>\n",
              "      <th>4</th>\n",
              "      <td>5.0</td>\n",
              "      <td>3.6</td>\n",
              "      <td>1.4</td>\n",
              "      <td>0.2</td>\n",
              "    </tr>\n",
              "  </tbody>\n",
              "</table>\n",
              "</div>"
            ],
            "text/plain": [
              "   sepal length (cm)  sepal width (cm)  petal length (cm)  petal width (cm)\n",
              "0                5.1               3.5                1.4               0.2\n",
              "1                4.9               3.0                1.4               0.2\n",
              "2                4.7               3.2                1.3               0.2\n",
              "3                4.6               3.1                1.5               0.2\n",
              "4                5.0               3.6                1.4               0.2"
            ]
          },
          "metadata": {},
          "execution_count": 8
        }
      ]
    },
    {
      "cell_type": "markdown",
      "metadata": {
        "id": "RL4NTtEGs2R0"
      },
      "source": [
        "# EDA (Exploratory Data Analysis)"
      ]
    },
    {
      "cell_type": "markdown",
      "metadata": {
        "id": "mW7Alf7O4bNi"
      },
      "source": [
        "Only basic EDA (plots)"
      ]
    },
    {
      "cell_type": "code",
      "metadata": {
        "id": "3kMKG0iSs8qB",
        "colab": {
          "base_uri": "https://localhost:8080/"
        },
        "outputId": "e3b1c4f5-4653-4625-e2ad-6992a0eeb5d5"
      },
      "source": [
        "df.info()"
      ],
      "execution_count": 9,
      "outputs": [
        {
          "output_type": "stream",
          "name": "stdout",
          "text": [
            "<class 'pandas.core.frame.DataFrame'>\n",
            "RangeIndex: 150 entries, 0 to 149\n",
            "Data columns (total 4 columns):\n",
            " #   Column             Non-Null Count  Dtype  \n",
            "---  ------             --------------  -----  \n",
            " 0   sepal length (cm)  150 non-null    float64\n",
            " 1   sepal width (cm)   150 non-null    float64\n",
            " 2   petal length (cm)  150 non-null    float64\n",
            " 3   petal width (cm)   150 non-null    float64\n",
            "dtypes: float64(4)\n",
            "memory usage: 4.8 KB\n"
          ]
        }
      ]
    },
    {
      "cell_type": "markdown",
      "metadata": {
        "id": "ruTJsOTVEunu"
      },
      "source": [
        "BT: there are no null values in this dataset. "
      ]
    },
    {
      "cell_type": "code",
      "metadata": {
        "id": "dAmVmb4es8tq",
        "colab": {
          "base_uri": "https://localhost:8080/"
        },
        "outputId": "3127756d-ae35-496d-c1c5-6c67a75a5088"
      },
      "source": [
        "df.shape"
      ],
      "execution_count": 10,
      "outputs": [
        {
          "output_type": "execute_result",
          "data": {
            "text/plain": [
              "(150, 4)"
            ]
          },
          "metadata": {},
          "execution_count": 10
        }
      ]
    },
    {
      "cell_type": "markdown",
      "metadata": {
        "id": "IOjRY0tnEzUd"
      },
      "source": [
        "BT: The dataset consists of is 150 rows and 4 columns. "
      ]
    },
    {
      "cell_type": "code",
      "metadata": {
        "id": "ch6WeHrbs8yc"
      },
      "source": [
        "import seaborn as sns\n",
        "import matplotlib.pyplot as plt"
      ],
      "execution_count": 11,
      "outputs": []
    },
    {
      "cell_type": "code",
      "metadata": {
        "id": "AouTrCsGs9Xe",
        "colab": {
          "base_uri": "https://localhost:8080/",
          "height": 351
        },
        "outputId": "dde79d23-b1f3-40f4-9e80-8aea94a9c736"
      },
      "source": [
        "sns.distplot(df['sepal length (cm)'])"
      ],
      "execution_count": 13,
      "outputs": [
        {
          "output_type": "stream",
          "name": "stderr",
          "text": [
            "/usr/local/lib/python3.7/dist-packages/seaborn/distributions.py:2619: FutureWarning: `distplot` is a deprecated function and will be removed in a future version. Please adapt your code to use either `displot` (a figure-level function with similar flexibility) or `histplot` (an axes-level function for histograms).\n",
            "  warnings.warn(msg, FutureWarning)\n"
          ]
        },
        {
          "output_type": "execute_result",
          "data": {
            "text/plain": [
              "<matplotlib.axes._subplots.AxesSubplot at 0x7fb90f820890>"
            ]
          },
          "metadata": {},
          "execution_count": 13
        },
        {
          "output_type": "display_data",
          "data": {
            "image/png": "[encoded data removed]",
            "text/plain": [
              "<Figure size 432x288 with 1 Axes>"
            ]
          },
          "metadata": {
            "needs_background": "light"
          }
        }
      ]
    },
    {
      "cell_type": "markdown",
      "metadata": {
        "id": "Lq-LfhPWCV6a"
      },
      "source": [
        "BT: Distribution plot of sepal length"
      ]
    },
    {
      "cell_type": "code",
      "metadata": {
        "id": "iUfJeCMfs9av",
        "colab": {
          "base_uri": "https://localhost:8080/",
          "height": 351
        },
        "outputId": "f701242f-e7cf-4ab1-dcee-74c4a019019f"
      },
      "source": [
        "sns.distplot(df['petal width (cm)'])"
      ],
      "execution_count": 14,
      "outputs": [
        {
          "output_type": "stream",
          "name": "stderr",
          "text": [
            "/usr/local/lib/python3.7/dist-packages/seaborn/distributions.py:2619: FutureWarning: `distplot` is a deprecated function and will be removed in a future version. Please adapt your code to use either `displot` (a figure-level function with similar flexibility) or `histplot` (an axes-level function for histograms).\n",
            "  warnings.warn(msg, FutureWarning)\n"
          ]
        },
        {
          "output_type": "execute_result",
          "data": {
            "text/plain": [
              "<matplotlib.axes._subplots.AxesSubplot at 0x7fb90c4add90>"
            ]
          },
          "metadata": {},
          "execution_count": 14
        },
        {
          "output_type": "display_data",
          "data": {
            "image/png": "[encoded data removed]",
            "text/plain": [
              "<Figure size 432x288 with 1 Axes>"
            ]
          },
          "metadata": {
            "needs_background": "light"
          }
        }
      ]
    },
    {
      "cell_type": "markdown",
      "metadata": {
        "id": "jrQZYhhBCuoi"
      },
      "source": [
        "BT: Distribution plot of petal width"
      ]
    },
    {
      "cell_type": "code",
      "metadata": {
        "colab": {
          "base_uri": "https://localhost:8080/",
          "height": 364
        },
        "id": "VBhLirqpC21C",
        "outputId": "21ddde98-5d06-4be8-a16c-0ce199a1bb10"
      },
      "source": [
        "cmatrix = df.corr().round(2)\n",
        "sns.heatmap(data = cmatrix, annot=True)"
      ],
      "execution_count": 17,
      "outputs": [
        {
          "output_type": "execute_result",
          "data": {
            "text/plain": [
              "<matplotlib.axes._subplots.AxesSubplot at 0x7fb9031aa2d0>"
            ]
          },
          "metadata": {},
          "execution_count": 17
        },
        {
          "output_type": "display_data",
          "data": {
            "image/png": "[encoded data removed]",
            "text/plain": [
              "<Figure size 432x288 with 2 Axes>"
            ]
          },
          "metadata": {
            "needs_background": "light"
          }
        }
      ]
    },
    {
      "cell_type": "markdown",
      "metadata": {
        "id": "84DZHT5IDV52"
      },
      "source": [
        "BT: The heatmap shows that petal length and Petal width shows the highest correlation, as indicated by a coefficient of determination (R2) of .96. Sepal length and petal length are also strongly correlated (.87). "
      ]
    },
    {
      "cell_type": "markdown",
      "metadata": {
        "id": "cL_nuRRVs-CL"
      },
      "source": [
        "# ML - Model Building"
      ]
    },
    {
      "cell_type": "markdown",
      "metadata": {
        "id": "71ZAAL2OuMRg"
      },
      "source": [
        "## Algorithm # 1 - Logistic Regression"
      ]
    },
    {
      "cell_type": "markdown",
      "metadata": {
        "id": "Sro_S7KftNYG"
      },
      "source": [
        "## Scenario 1: Build a model using Sepal Attributes only\n",
        "\n",
        "*   sepal length (cm)\n",
        "*   sepal width (cm) *italicized text*\n",
        "\n"
      ]
    },
    {
      "cell_type": "code",
      "metadata": {
        "id": "VKof6URqtj67"
      },
      "source": [
        "X = df[['sepal length (cm)', 'sepal width (cm)']]"
      ],
      "execution_count": 18,
      "outputs": []
    },
    {
      "cell_type": "code",
      "metadata": {
        "id": "rRoNddbEtj9O",
        "colab": {
          "base_uri": "https://localhost:8080/",
          "height": 206
        },
        "outputId": "1cd45eb9-2715-40a9-b7db-27580e2c0db6"
      },
      "source": [
        "X.head()"
      ],
      "execution_count": 19,
      "outputs": [
        {
          "output_type": "execute_result",
          "data": {
            "text/html": [
              "<div>\n",
              "<style scoped>\n",
              "    .dataframe tbody tr th:only-of-type {\n",
              "        vertical-align: middle;\n",
              "    }\n",
              "\n",
              "    .dataframe tbody tr th {\n",
              "        vertical-align: top;\n",
              "    }\n",
              "\n",
              "    .dataframe thead th {\n",
              "        text-align: right;\n",
              "    }\n",
              "</style>\n",
              "<table border=\"1\" class=\"dataframe\">\n",
              "  <thead>\n",
              "    <tr style=\"text-align: right;\">\n",
              "      <th></th>\n",
              "      <th>sepal length (cm)</th>\n",
              "      <th>sepal width (cm)</th>\n",
              "    </tr>\n",
              "  </thead>\n",
              "  <tbody>\n",
              "    <tr>\n",
              "      <th>0</th>\n",
              "      <td>5.1</td>\n",
              "      <td>3.5</td>\n",
              "    </tr>\n",
              "    <tr>\n",
              "      <th>1</th>\n",
              "      <td>4.9</td>\n",
              "      <td>3.0</td>\n",
              "    </tr>\n",
              "    <tr>\n",
              "      <th>2</th>\n",
              "      <td>4.7</td>\n",
              "      <td>3.2</td>\n",
              "    </tr>\n",
              "    <tr>\n",
              "      <th>3</th>\n",
              "      <td>4.6</td>\n",
              "      <td>3.1</td>\n",
              "    </tr>\n",
              "    <tr>\n",
              "      <th>4</th>\n",
              "      <td>5.0</td>\n",
              "      <td>3.6</td>\n",
              "    </tr>\n",
              "  </tbody>\n",
              "</table>\n",
              "</div>"
            ],
            "text/plain": [
              "   sepal length (cm)  sepal width (cm)\n",
              "0                5.1               3.5\n",
              "1                4.9               3.0\n",
              "2                4.7               3.2\n",
              "3                4.6               3.1\n",
              "4                5.0               3.6"
            ]
          },
          "metadata": {},
          "execution_count": 19
        }
      ]
    },
    {
      "cell_type": "code",
      "metadata": {
        "id": "DiLh_Ge0tj_s"
      },
      "source": [
        "Y = iris_data.target_names"
      ],
      "execution_count": 24,
      "outputs": []
    },
    {
      "cell_type": "code",
      "metadata": {
        "id": "Id0CuXFxtkH6",
        "colab": {
          "base_uri": "https://localhost:8080/"
        },
        "outputId": "f4f7d053-c34f-4fbb-c8a8-9dac5e40ed0c"
      },
      "source": [
        "iris_data.target"
      ],
      "execution_count": 27,
      "outputs": [
        {
          "output_type": "execute_result",
          "data": {
            "text/plain": [
              "array([0, 0, 0, 0, 0, 0, 0, 0, 0, 0, 0, 0, 0, 0, 0, 0, 0, 0, 0, 0, 0, 0,\n",
              "       0, 0, 0, 0, 0, 0, 0, 0, 0, 0, 0, 0, 0, 0, 0, 0, 0, 0, 0, 0, 0, 0,\n",
              "       0, 0, 0, 0, 0, 0, 1, 1, 1, 1, 1, 1, 1, 1, 1, 1, 1, 1, 1, 1, 1, 1,\n",
              "       1, 1, 1, 1, 1, 1, 1, 1, 1, 1, 1, 1, 1, 1, 1, 1, 1, 1, 1, 1, 1, 1,\n",
              "       1, 1, 1, 1, 1, 1, 1, 1, 1, 1, 1, 1, 2, 2, 2, 2, 2, 2, 2, 2, 2, 2,\n",
              "       2, 2, 2, 2, 2, 2, 2, 2, 2, 2, 2, 2, 2, 2, 2, 2, 2, 2, 2, 2, 2, 2,\n",
              "       2, 2, 2, 2, 2, 2, 2, 2, 2, 2, 2, 2, 2, 2, 2, 2, 2, 2])"
            ]
          },
          "metadata": {},
          "execution_count": 27
        }
      ]
    },
    {
      "cell_type": "code",
      "metadata": {
        "id": "xoR02vwatmAP"
      },
      "source": [
        "Y = iris_data.target"
      ],
      "execution_count": 28,
      "outputs": []
    },
    {
      "cell_type": "code",
      "metadata": {
        "colab": {
          "base_uri": "https://localhost:8080/"
        },
        "id": "TDRluiPHPjve",
        "outputId": "8a631afe-2f36-412e-be36-6c0289812480"
      },
      "source": [
        "Y"
      ],
      "execution_count": 29,
      "outputs": [
        {
          "output_type": "execute_result",
          "data": {
            "text/plain": [
              "array([0, 0, 0, 0, 0, 0, 0, 0, 0, 0, 0, 0, 0, 0, 0, 0, 0, 0, 0, 0, 0, 0,\n",
              "       0, 0, 0, 0, 0, 0, 0, 0, 0, 0, 0, 0, 0, 0, 0, 0, 0, 0, 0, 0, 0, 0,\n",
              "       0, 0, 0, 0, 0, 0, 1, 1, 1, 1, 1, 1, 1, 1, 1, 1, 1, 1, 1, 1, 1, 1,\n",
              "       1, 1, 1, 1, 1, 1, 1, 1, 1, 1, 1, 1, 1, 1, 1, 1, 1, 1, 1, 1, 1, 1,\n",
              "       1, 1, 1, 1, 1, 1, 1, 1, 1, 1, 1, 1, 2, 2, 2, 2, 2, 2, 2, 2, 2, 2,\n",
              "       2, 2, 2, 2, 2, 2, 2, 2, 2, 2, 2, 2, 2, 2, 2, 2, 2, 2, 2, 2, 2, 2,\n",
              "       2, 2, 2, 2, 2, 2, 2, 2, 2, 2, 2, 2, 2, 2, 2, 2, 2, 2])"
            ]
          },
          "metadata": {},
          "execution_count": 29
        }
      ]
    },
    {
      "cell_type": "code",
      "metadata": {
        "colab": {
          "base_uri": "https://localhost:8080/"
        },
        "id": "IPjPEJGgQxWq",
        "outputId": "f63a7098-edbd-497f-a00c-e3d41b34f96c"
      },
      "source": [
        "Y.shape"
      ],
      "execution_count": 32,
      "outputs": [
        {
          "output_type": "execute_result",
          "data": {
            "text/plain": [
              "(150,)"
            ]
          },
          "metadata": {},
          "execution_count": 32
        }
      ]
    },
    {
      "cell_type": "code",
      "metadata": {
        "id": "M6NF8MIFQ6tT"
      },
      "source": [
        "from sklearn.linear_model import LogisticRegression"
      ],
      "execution_count": 33,
      "outputs": []
    },
    {
      "cell_type": "code",
      "metadata": {
        "id": "bLdw8Hl-RIak"
      },
      "source": [
        "logReg = LogisticRegression()"
      ],
      "execution_count": 34,
      "outputs": []
    },
    {
      "cell_type": "code",
      "metadata": {
        "id": "zNHQM1BvRQbV"
      },
      "source": [
        "from sklearn.model_selection import train_test_split"
      ],
      "execution_count": 35,
      "outputs": []
    },
    {
      "cell_type": "code",
      "metadata": {
        "id": "3hHCB1z2RYJ3"
      },
      "source": [
        "x_train, x_test, y_train, y_test = train_test_split(X,Y)"
      ],
      "execution_count": 36,
      "outputs": []
    },
    {
      "cell_type": "code",
      "metadata": {
        "colab": {
          "base_uri": "https://localhost:8080/"
        },
        "id": "Tyje6EdhRhrw",
        "outputId": "954e6f27-1f60-481a-df79-077928515207"
      },
      "source": [
        "print(x_train.shape)\n",
        "print(x_test.shape)\n",
        "print(y_train.shape)\n",
        "print(y_test.shape)"
      ],
      "execution_count": 37,
      "outputs": [
        {
          "output_type": "stream",
          "name": "stdout",
          "text": [
            "(112, 2)\n",
            "(38, 2)\n",
            "(112,)\n",
            "(38,)\n"
          ]
        }
      ]
    },
    {
      "cell_type": "code",
      "metadata": {
        "colab": {
          "base_uri": "https://localhost:8080/"
        },
        "id": "6iD4HGPXR-IF",
        "outputId": "89910b8b-f32f-41c1-8ae9-f4805fbb918c"
      },
      "source": [
        "logReg.fit(x_train, y_train)"
      ],
      "execution_count": 38,
      "outputs": [
        {
          "output_type": "execute_result",
          "data": {
            "text/plain": [
              "LogisticRegression()"
            ]
          },
          "metadata": {},
          "execution_count": 38
        }
      ]
    },
    {
      "cell_type": "code",
      "metadata": {
        "id": "KlkBzSMhScnW"
      },
      "source": [
        "y_pred = logReg.predict(x_test)"
      ],
      "execution_count": 39,
      "outputs": []
    },
    {
      "cell_type": "code",
      "metadata": {
        "colab": {
          "base_uri": "https://localhost:8080/"
        },
        "id": "IVVLGbuoSmqm",
        "outputId": "55fcaf34-e45a-42b4-ccc6-2859dd5eea5c"
      },
      "source": [
        "y_pred"
      ],
      "execution_count": 40,
      "outputs": [
        {
          "output_type": "execute_result",
          "data": {
            "text/plain": [
              "array([2, 0, 1, 2, 1, 0, 0, 0, 1, 1, 1, 0, 1, 1, 1, 0, 2, 2, 1, 1, 0, 0,\n",
              "       1, 1, 1, 0, 2, 2, 1, 0, 0, 0, 1, 0, 0, 1, 0, 2])"
            ]
          },
          "metadata": {},
          "execution_count": 40
        }
      ]
    },
    {
      "cell_type": "code",
      "metadata": {
        "colab": {
          "base_uri": "https://localhost:8080/"
        },
        "id": "91hMnvkxS-dQ",
        "outputId": "c2433e0d-2560-4d9d-c1a4-ff5d62205d8d"
      },
      "source": [
        "y_test"
      ],
      "execution_count": 41,
      "outputs": [
        {
          "output_type": "execute_result",
          "data": {
            "text/plain": [
              "array([1, 0, 1, 2, 2, 0, 0, 0, 2, 2, 2, 0, 2, 1, 1, 0, 2, 2, 2, 1, 0, 0,\n",
              "       1, 1, 1, 0, 1, 2, 1, 0, 0, 0, 1, 0, 0, 1, 0, 2])"
            ]
          },
          "metadata": {},
          "execution_count": 41
        }
      ]
    },
    {
      "cell_type": "code",
      "metadata": {
        "colab": {
          "base_uri": "https://localhost:8080/"
        },
        "id": "z-E0FcL8TNcx",
        "outputId": "1b71c2cd-3dae-484f-b66a-9f45091674a7"
      },
      "source": [
        "logReg.score(x_test, y_test)"
      ],
      "execution_count": 42,
      "outputs": [
        {
          "output_type": "execute_result",
          "data": {
            "text/plain": [
              "0.7894736842105263"
            ]
          },
          "metadata": {},
          "execution_count": 42
        }
      ]
    },
    {
      "cell_type": "code",
      "metadata": {
        "id": "yT9yIEKDTTQk"
      },
      "source": [
        "from sklearn.metrics import accuracy_score"
      ],
      "execution_count": 43,
      "outputs": []
    },
    {
      "cell_type": "code",
      "metadata": {
        "colab": {
          "base_uri": "https://localhost:8080/"
        },
        "id": "hWZ74s76Tbky",
        "outputId": "f6a60a2f-d2a9-4632-f341-515c589842d3"
      },
      "source": [
        "accuracy_score(y_test, y_pred)"
      ],
      "execution_count": 44,
      "outputs": [
        {
          "output_type": "execute_result",
          "data": {
            "text/plain": [
              "0.7894736842105263"
            ]
          },
          "metadata": {},
          "execution_count": 44
        }
      ]
    },
    {
      "cell_type": "code",
      "metadata": {
        "id": "DL6a0DP1Tk6s"
      },
      "source": [
        "from sklearn.metrics import confusion_matrix"
      ],
      "execution_count": 45,
      "outputs": []
    },
    {
      "cell_type": "code",
      "metadata": {
        "colab": {
          "base_uri": "https://localhost:8080/"
        },
        "id": "g-7eKGl_Trlh",
        "outputId": "f742e0d3-78f9-4584-e01f-8e91868689a7"
      },
      "source": [
        "confusion_matrix(y_test, y_pred)"
      ],
      "execution_count": 46,
      "outputs": [
        {
          "output_type": "execute_result",
          "data": {
            "text/plain": [
              "array([[15,  0,  0],\n",
              "       [ 0, 10,  2],\n",
              "       [ 0,  6,  5]])"
            ]
          },
          "metadata": {},
          "execution_count": 46
        }
      ]
    },
    {
      "cell_type": "code",
      "metadata": {
        "id": "ZVV0j8zVT2Zf"
      },
      "source": [
        "from sklearn.metrics import classification_report"
      ],
      "execution_count": 47,
      "outputs": []
    },
    {
      "cell_type": "code",
      "metadata": {
        "colab": {
          "base_uri": "https://localhost:8080/"
        },
        "id": "fy339trzT_3c",
        "outputId": "f5d2af41-0f19-4610-ff15-0e8f1f9ee1c4"
      },
      "source": [
        "print(classification_report(y_test, y_pred))"
      ],
      "execution_count": 48,
      "outputs": [
        {
          "output_type": "stream",
          "name": "stdout",
          "text": [
            "              precision    recall  f1-score   support\n",
            "\n",
            "           0       1.00      1.00      1.00        15\n",
            "           1       0.62      0.83      0.71        12\n",
            "           2       0.71      0.45      0.56        11\n",
            "\n",
            "    accuracy                           0.79        38\n",
            "   macro avg       0.78      0.76      0.76        38\n",
            "weighted avg       0.80      0.79      0.78        38\n",
            "\n"
          ]
        }
      ]
    },
    {
      "cell_type": "markdown",
      "metadata": {
        "id": "nwYaMTGCUOwd"
      },
      "source": [
        "BT Conclusion: The F1 score of .79 shows that the combination of sepal length and sepal with was a strong predictor of petal name (there were 3 petal names). F1 considers both precision an recall and diminished extreme values for each.  "
      ]
    },
    {
      "cell_type": "markdown",
      "metadata": {
        "id": "KPdFFn4Vtmr2"
      },
      "source": [
        "## Scenario 2: Build a model using Petal Attributes only\n",
        "\n",
        "*   petal length (cm)\n",
        "*   petal width (cm)"
      ]
    },
    {
      "cell_type": "code",
      "metadata": {
        "id": "5qo9nOEkttH0"
      },
      "source": [
        "# hint\n",
        "# X= iris_data.data[:,2:]\n",
        "# y=iris_data.target"
      ],
      "execution_count": null,
      "outputs": []
    },
    {
      "cell_type": "code",
      "metadata": {
        "id": "B-5TZvx3ttJ2"
      },
      "source": [
        "X2 = df[['petal length (cm)', 'petal width (cm)']]"
      ],
      "execution_count": 49,
      "outputs": []
    },
    {
      "cell_type": "code",
      "metadata": {
        "id": "p0uRC5fGttMz"
      },
      "source": [
        "Y2 = iris_data.target"
      ],
      "execution_count": 50,
      "outputs": []
    },
    {
      "cell_type": "code",
      "metadata": {
        "id": "4GoxmzdlttOw"
      },
      "source": [
        "x_train2, x_test2, y_train2, y_test2 = train_test_split(X2,Y2)"
      ],
      "execution_count": 51,
      "outputs": []
    },
    {
      "cell_type": "code",
      "metadata": {
        "id": "ifMj_Z8SttS-",
        "colab": {
          "base_uri": "https://localhost:8080/"
        },
        "outputId": "31328b48-22c9-4d37-a516-f5eea9a64772"
      },
      "source": [
        "print(x_train2.shape)\n",
        "print(x_test2.shape)\n",
        "print(y_train2.shape)\n",
        "print(y_test2.shape)"
      ],
      "execution_count": 52,
      "outputs": [
        {
          "output_type": "stream",
          "name": "stdout",
          "text": [
            "(112, 2)\n",
            "(38, 2)\n",
            "(112,)\n",
            "(38,)\n"
          ]
        }
      ]
    },
    {
      "cell_type": "code",
      "metadata": {
        "id": "75yOhqNwttU4",
        "colab": {
          "base_uri": "https://localhost:8080/"
        },
        "outputId": "fc532f23-7d03-42aa-e97e-bf6c675621da"
      },
      "source": [
        "logReg.fit(x_train2, y_train2)"
      ],
      "execution_count": 53,
      "outputs": [
        {
          "output_type": "execute_result",
          "data": {
            "text/plain": [
              "LogisticRegression()"
            ]
          },
          "metadata": {},
          "execution_count": 53
        }
      ]
    },
    {
      "cell_type": "code",
      "metadata": {
        "id": "4_aNwc3wttX5"
      },
      "source": [
        "y_pred2 = logReg.predict(x_test2)"
      ],
      "execution_count": 54,
      "outputs": []
    },
    {
      "cell_type": "code",
      "metadata": {
        "colab": {
          "base_uri": "https://localhost:8080/"
        },
        "id": "mZpLOVECXl2S",
        "outputId": "a2171db0-5866-4f1a-f839-6f8044440d3d"
      },
      "source": [
        "y_test2"
      ],
      "execution_count": 55,
      "outputs": [
        {
          "output_type": "execute_result",
          "data": {
            "text/plain": [
              "array([0, 2, 1, 2, 1, 1, 2, 1, 0, 2, 1, 2, 0, 0, 1, 1, 1, 2, 1, 0, 1, 0,\n",
              "       2, 2, 1, 1, 0, 2, 2, 0, 0, 0, 2, 0, 1, 2, 0, 2])"
            ]
          },
          "metadata": {},
          "execution_count": 55
        }
      ]
    },
    {
      "cell_type": "code",
      "metadata": {
        "colab": {
          "base_uri": "https://localhost:8080/"
        },
        "id": "C9-_FJ3-X-H_",
        "outputId": "866c6815-b1cd-4cea-dbcd-e09f4b028f82"
      },
      "source": [
        "logReg.score(x_test2, y_test2)"
      ],
      "execution_count": 56,
      "outputs": [
        {
          "output_type": "execute_result",
          "data": {
            "text/plain": [
              "0.9473684210526315"
            ]
          },
          "metadata": {},
          "execution_count": 56
        }
      ]
    },
    {
      "cell_type": "markdown",
      "metadata": {
        "id": "9XlOfl7WY449"
      },
      "source": [
        "BT: The logReg score for petal length and width (.947) was higher than the logReg score for sepal length and width (.789)"
      ]
    },
    {
      "cell_type": "code",
      "metadata": {
        "colab": {
          "base_uri": "https://localhost:8080/"
        },
        "id": "HOSqS42SZGwV",
        "outputId": "0de85c68-15bc-4297-c3d4-1d4727c12d6a"
      },
      "source": [
        "accuracy_score(y_test2, y_pred2)"
      ],
      "execution_count": 59,
      "outputs": [
        {
          "output_type": "execute_result",
          "data": {
            "text/plain": [
              "0.9473684210526315"
            ]
          },
          "metadata": {},
          "execution_count": 59
        }
      ]
    },
    {
      "cell_type": "code",
      "metadata": {
        "colab": {
          "base_uri": "https://localhost:8080/"
        },
        "id": "uZRBZbM8ZNCO",
        "outputId": "d5ed72c2-fd03-4a65-e38f-e2b0247f0d63"
      },
      "source": [
        "confusion_matrix(y_test2, y_pred2)"
      ],
      "execution_count": 60,
      "outputs": [
        {
          "output_type": "execute_result",
          "data": {
            "text/plain": [
              "array([[12,  0,  0],\n",
              "       [ 0, 12,  1],\n",
              "       [ 0,  1, 12]])"
            ]
          },
          "metadata": {},
          "execution_count": 60
        }
      ]
    },
    {
      "cell_type": "code",
      "metadata": {
        "colab": {
          "base_uri": "https://localhost:8080/"
        },
        "id": "onh18mFrZh8d",
        "outputId": "6ccef1d5-617d-4e12-86bc-2548aaf66320"
      },
      "source": [
        "print(classification_report(y_test2, y_pred2))"
      ],
      "execution_count": 61,
      "outputs": [
        {
          "output_type": "stream",
          "name": "stdout",
          "text": [
            "              precision    recall  f1-score   support\n",
            "\n",
            "           0       1.00      1.00      1.00        12\n",
            "           1       0.92      0.92      0.92        13\n",
            "           2       0.92      0.92      0.92        13\n",
            "\n",
            "    accuracy                           0.95        38\n",
            "   macro avg       0.95      0.95      0.95        38\n",
            "weighted avg       0.95      0.95      0.95        38\n",
            "\n"
          ]
        }
      ]
    },
    {
      "cell_type": "markdown",
      "metadata": {
        "id": "WFqaUFsE2hmp"
      },
      "source": [
        "BT Conclusion: the petal width and length was a better predictor of the three petal names than \n",
        "was sepal width and length, as indicated by the F1 score of .95 vs .79, respectively. "
      ]
    },
    {
      "cell_type": "code",
      "metadata": {
        "colab": {
          "base_uri": "https://localhost:8080/"
        },
        "id": "WCyEwWgt6XlM",
        "outputId": "0dc52205-c33b-4654-be9e-0b5589b7dd6e"
      },
      "source": [
        "importance = logReg.coef_[0]\n",
        "print(importance.round(4))"
      ],
      "execution_count": 198,
      "outputs": [
        {
          "output_type": "stream",
          "name": "stdout",
          "text": [
            "[-0.5027  0.7997 -2.329  -0.9959]\n"
          ]
        }
      ]
    },
    {
      "cell_type": "code",
      "metadata": {
        "colab": {
          "base_uri": "https://localhost:8080/"
        },
        "id": "7Jp64mee6lnT",
        "outputId": "2ab82952-91f3-4f49-929a-c5125f20c0d0"
      },
      "source": [
        "X2.columns"
      ],
      "execution_count": 201,
      "outputs": [
        {
          "output_type": "execute_result",
          "data": {
            "text/plain": [
              "Index(['petal length (cm)', 'petal width (cm)'], dtype='object')"
            ]
          },
          "metadata": {},
          "execution_count": 201
        }
      ]
    },
    {
      "cell_type": "markdown",
      "metadata": {
        "id": "CuTi20zQtuAy"
      },
      "source": [
        "## Scenario 3: Build a model using Sepal and Petal Attributes (all attributes)\n",
        "\n",
        "*   sepal length (cm)\n",
        "*   sepal width (cm)\n",
        "*   petal length (cm)\n",
        "*   petal width (cm)"
      ]
    },
    {
      "cell_type": "code",
      "metadata": {
        "id": "BjiriEIyt5oa"
      },
      "source": [
        "X3 = df[['sepal length (cm)', 'sepal width (cm)', 'petal length (cm)', 'petal width (cm)']]"
      ],
      "execution_count": 62,
      "outputs": []
    },
    {
      "cell_type": "code",
      "metadata": {
        "id": "jJibiwDMt5qu"
      },
      "source": [
        "Y3 = iris_data.target"
      ],
      "execution_count": 65,
      "outputs": []
    },
    {
      "cell_type": "code",
      "metadata": {
        "id": "AzLnuohPt5s2"
      },
      "source": [
        "x_train3, x_test3, y_train3, y_test3 = train_test_split(X3,Y3)"
      ],
      "execution_count": 66,
      "outputs": []
    },
    {
      "cell_type": "code",
      "metadata": {
        "id": "FhlPoe1xt5vN",
        "colab": {
          "base_uri": "https://localhost:8080/"
        },
        "outputId": "be89a42a-8a1c-453f-c23e-bde8907257c8"
      },
      "source": [
        "print(x_train3.shape)\n",
        "print(x_test3.shape)\n",
        "print(y_train3.shape)\n",
        "print(y_test3.shape)"
      ],
      "execution_count": 67,
      "outputs": [
        {
          "output_type": "stream",
          "name": "stdout",
          "text": [
            "(112, 4)\n",
            "(38, 4)\n",
            "(112,)\n",
            "(38,)\n"
          ]
        }
      ]
    },
    {
      "cell_type": "code",
      "metadata": {
        "id": "KcW4idJKt5yz",
        "colab": {
          "base_uri": "https://localhost:8080/"
        },
        "outputId": "4b14b63d-c2b7-4bfc-d3b5-b57cd88ec7f2"
      },
      "source": [
        "logReg.fit(x_train3, y_train3)"
      ],
      "execution_count": 68,
      "outputs": [
        {
          "output_type": "execute_result",
          "data": {
            "text/plain": [
              "LogisticRegression()"
            ]
          },
          "metadata": {},
          "execution_count": 68
        }
      ]
    },
    {
      "cell_type": "code",
      "metadata": {
        "id": "PwTELvFRt52E"
      },
      "source": [
        "y_pred3 = logReg.predict(x_test3)"
      ],
      "execution_count": 70,
      "outputs": []
    },
    {
      "cell_type": "code",
      "metadata": {
        "colab": {
          "base_uri": "https://localhost:8080/"
        },
        "id": "v-w4yuhMbklU",
        "outputId": "ca0202c8-ee42-4cb0-a839-05219d891ed4"
      },
      "source": [
        "logReg.score(x_test3, y_test3)"
      ],
      "execution_count": 71,
      "outputs": [
        {
          "output_type": "execute_result",
          "data": {
            "text/plain": [
              "0.9473684210526315"
            ]
          },
          "metadata": {},
          "execution_count": 71
        }
      ]
    },
    {
      "cell_type": "code",
      "metadata": {
        "colab": {
          "base_uri": "https://localhost:8080/"
        },
        "id": "MTdm4XbPbkaG",
        "outputId": "021068ee-c0a4-439e-f31a-405338030f27"
      },
      "source": [
        "accuracy_score(y_test3, y_pred3)"
      ],
      "execution_count": 72,
      "outputs": [
        {
          "output_type": "execute_result",
          "data": {
            "text/plain": [
              "0.9473684210526315"
            ]
          },
          "metadata": {},
          "execution_count": 72
        }
      ]
    },
    {
      "cell_type": "code",
      "metadata": {
        "colab": {
          "base_uri": "https://localhost:8080/"
        },
        "id": "2lSiZ-rubkJg",
        "outputId": "af143d34-10ff-4796-e069-c88c39b87df7"
      },
      "source": [
        "confusion_matrix(y_test3, y_pred3)"
      ],
      "execution_count": 73,
      "outputs": [
        {
          "output_type": "execute_result",
          "data": {
            "text/plain": [
              "array([[15,  0,  0],\n",
              "       [ 0, 13,  1],\n",
              "       [ 0,  1,  8]])"
            ]
          },
          "metadata": {},
          "execution_count": 73
        }
      ]
    },
    {
      "cell_type": "code",
      "metadata": {
        "colab": {
          "base_uri": "https://localhost:8080/"
        },
        "id": "fPnfFblKcCuo",
        "outputId": "e97c7527-44f8-4faa-abe5-879fc890ba59"
      },
      "source": [
        "print(classification_report(y_test3, y_pred3))"
      ],
      "execution_count": 74,
      "outputs": [
        {
          "output_type": "stream",
          "name": "stdout",
          "text": [
            "              precision    recall  f1-score   support\n",
            "\n",
            "           0       1.00      1.00      1.00        15\n",
            "           1       0.93      0.93      0.93        14\n",
            "           2       0.89      0.89      0.89         9\n",
            "\n",
            "    accuracy                           0.95        38\n",
            "   macro avg       0.94      0.94      0.94        38\n",
            "weighted avg       0.95      0.95      0.95        38\n",
            "\n"
          ]
        }
      ]
    },
    {
      "cell_type": "markdown",
      "metadata": {
        "id": "TbqCztR4edak"
      },
      "source": [
        "BT Conclusion: Adding sepal length and sepal width did not improve the predictive abilities of petal length and width with regard to flower name, i.e. the F1 score of .95 was the same with or without sepal length and width. "
      ]
    },
    {
      "cell_type": "code",
      "metadata": {
        "id": "A1p80LMld-hv"
      },
      "source": [
        "logmodel = logReg"
      ],
      "execution_count": 79,
      "outputs": []
    },
    {
      "cell_type": "code",
      "metadata": {
        "colab": {
          "base_uri": "https://localhost:8080/",
          "height": 526
        },
        "id": "Vm_VsVjDcRRN",
        "outputId": "8892ee01-5bb4-4963-e632-2c27b092be72"
      },
      "source": [
        "plt.figure(figsize=(9,9))\n",
        "sns.heatmap(confusion_matrix(y_test3, y_pred3), annot=True, fmt=\".3f\", linewidths=.5, square = True, cmap = 'Blues_r');\n",
        "plt.ylabel('Actual label');\n",
        "plt.xlabel('Predicted label');\n",
        "all_sample_title = 'Accuracy Score: {0}'.format(logmodel.score(x_test3, y_test3))\n",
        "plt.title(all_sample_title, size = 15);"
      ],
      "execution_count": 80,
      "outputs": [
        {
          "output_type": "display_data",
          "data": {
            "image/png": "[encoded data removed]",
            "text/plain": [
              "<Figure size 648x648 with 2 Axes>"
            ]
          },
          "metadata": {
            "needs_background": "light"
          }
        }
      ]
    },
    {
      "cell_type": "code",
      "metadata": {
        "colab": {
          "base_uri": "https://localhost:8080/"
        },
        "id": "oCXfRKxZ3jCh",
        "outputId": "94e95eb8-111b-45ac-8b3c-0319ea9ea048"
      },
      "source": [
        "X3.columns"
      ],
      "execution_count": 190,
      "outputs": [
        {
          "output_type": "execute_result",
          "data": {
            "text/plain": [
              "Index(['sepal length (cm)', 'sepal width (cm)', 'petal length (cm)',\n",
              "       'petal width (cm)'],\n",
              "      dtype='object')"
            ]
          },
          "metadata": {},
          "execution_count": 190
        }
      ]
    },
    {
      "cell_type": "markdown",
      "metadata": {
        "id": "Kh5Grk0puVoa"
      },
      "source": [
        "## Algorithm # 2 - KNN (K Nearest Neibhors)"
      ]
    },
    {
      "cell_type": "markdown",
      "metadata": {
        "id": "4llS0v7WubNx"
      },
      "source": [
        "## Scenario 1: Build a model using Sepal Attributes only\n",
        "\n",
        "*   sepal length (cm)\n",
        "*   sepal width (cm)"
      ]
    },
    {
      "cell_type": "code",
      "metadata": {
        "id": "TIssnVuruYfv"
      },
      "source": [
        "from sklearn.preprocessing import StandardScaler"
      ],
      "execution_count": 81,
      "outputs": []
    },
    {
      "cell_type": "code",
      "metadata": {
        "id": "LzO3JPKcusVu"
      },
      "source": [
        "scalar = StandardScaler()"
      ],
      "execution_count": 82,
      "outputs": []
    },
    {
      "cell_type": "code",
      "metadata": {
        "id": "W0Eei3k1usaJ",
        "colab": {
          "base_uri": "https://localhost:8080/"
        },
        "outputId": "8bbb6b57-ea19-4a34-d8c1-4dab354acb1a"
      },
      "source": [
        "scalar.fit(X)"
      ],
      "execution_count": 83,
      "outputs": [
        {
          "output_type": "execute_result",
          "data": {
            "text/plain": [
              "StandardScaler()"
            ]
          },
          "metadata": {},
          "execution_count": 83
        }
      ]
    },
    {
      "cell_type": "markdown",
      "metadata": {
        "id": "9g7j3sM1UjSt"
      },
      "source": [
        "BT: Y data should have been merged with X data and the resulting XY table fitted for scalar adjustememt (not just the X data), but the Y data was given to us as a separate data frame in this exersise.  "
      ]
    },
    {
      "cell_type": "code",
      "metadata": {
        "id": "PCmz0gR7usd0"
      },
      "source": [
        "X_scaled = scalar.transform(X)"
      ],
      "execution_count": 84,
      "outputs": []
    },
    {
      "cell_type": "markdown",
      "metadata": {
        "id": "-7h6K6qzQbtO"
      },
      "source": [
        "BT: Note that X represents only two variables:  septal length (cm) and septal width (cm) as specified above in the Logistic Regression model. "
      ]
    },
    {
      "cell_type": "code",
      "metadata": {
        "id": "66ow1bvki_1v"
      },
      "source": [
        "x_train4, x_test4, y_train4, y_test4 = train_test_split(X_scaled, Y)"
      ],
      "execution_count": 90,
      "outputs": []
    },
    {
      "cell_type": "code",
      "metadata": {
        "colab": {
          "base_uri": "https://localhost:8080/"
        },
        "id": "i26lhWov1ATj",
        "outputId": "2fccb8bf-85b6-4ef7-b001-e7189bd361b9"
      },
      "source": [
        "print(x_train4.shape)\n",
        "print(x_test4.shape)\n",
        "print(y_train4.shape)\n",
        "print(y_test4.shape)"
      ],
      "execution_count": 91,
      "outputs": [
        {
          "output_type": "stream",
          "name": "stdout",
          "text": [
            "(112, 2)\n",
            "(38, 2)\n",
            "(112,)\n",
            "(38,)\n"
          ]
        }
      ]
    },
    {
      "cell_type": "code",
      "metadata": {
        "id": "nsa47X9Y1eiN"
      },
      "source": [
        "from sklearn.neighbors import KNeighborsClassifier"
      ],
      "execution_count": 94,
      "outputs": []
    },
    {
      "cell_type": "code",
      "metadata": {
        "id": "BNJuT-3g13A7"
      },
      "source": [
        "knn = KNeighborsClassifier(n_neighbors=3)"
      ],
      "execution_count": 124,
      "outputs": []
    },
    {
      "cell_type": "code",
      "metadata": {
        "colab": {
          "base_uri": "https://localhost:8080/"
        },
        "id": "t4NJPWkd2BsL",
        "outputId": "53cc6158-e71c-4f4b-e45c-5bffa773a64c"
      },
      "source": [
        "knn.fit(x_train4, y_train4)"
      ],
      "execution_count": 125,
      "outputs": [
        {
          "output_type": "execute_result",
          "data": {
            "text/plain": [
              "KNeighborsClassifier(n_neighbors=3)"
            ]
          },
          "metadata": {},
          "execution_count": 125
        }
      ]
    },
    {
      "cell_type": "code",
      "metadata": {
        "id": "ENUhK-hC2Jfe"
      },
      "source": [
        "y_pred4 = knn.predict(x_test4)"
      ],
      "execution_count": 126,
      "outputs": []
    },
    {
      "cell_type": "code",
      "metadata": {
        "colab": {
          "base_uri": "https://localhost:8080/"
        },
        "id": "A7El_rbI2chN",
        "outputId": "acad200b-db2f-4193-e4b6-8c48d5085ffc"
      },
      "source": [
        "y_pred4"
      ],
      "execution_count": 127,
      "outputs": [
        {
          "output_type": "execute_result",
          "data": {
            "text/plain": [
              "array([0, 2, 0, 0, 1, 1, 0, 2, 1, 2, 2, 0, 1, 1, 2, 2, 1, 2, 0, 1, 0, 0,\n",
              "       0, 1, 1, 2, 2, 2, 0, 2, 0, 1, 1, 1, 2, 2, 1, 1])"
            ]
          },
          "metadata": {},
          "execution_count": 127
        }
      ]
    },
    {
      "cell_type": "code",
      "metadata": {
        "colab": {
          "base_uri": "https://localhost:8080/"
        },
        "id": "ypCdrzDH2hBN",
        "outputId": "5bed3fbb-1c43-43b8-9013-fe3091f6df7d"
      },
      "source": [
        "cm4 = confusion_matrix(y_test4, y_pred4)\n",
        "cm4"
      ],
      "execution_count": 128,
      "outputs": [
        {
          "output_type": "execute_result",
          "data": {
            "text/plain": [
              "array([[11,  1,  0],\n",
              "       [ 0,  8,  6],\n",
              "       [ 0,  5,  7]])"
            ]
          },
          "metadata": {},
          "execution_count": 128
        }
      ]
    },
    {
      "cell_type": "code",
      "metadata": {
        "id": "5NYQvToY21W9"
      },
      "source": [
        "score = knn.score(x_test4, y_test4)"
      ],
      "execution_count": 129,
      "outputs": []
    },
    {
      "cell_type": "code",
      "metadata": {
        "colab": {
          "base_uri": "https://localhost:8080/"
        },
        "id": "-vPVGOmq28Zy",
        "outputId": "305d358b-781e-4972-b5ad-714ac8482fd8"
      },
      "source": [
        "score"
      ],
      "execution_count": 130,
      "outputs": [
        {
          "output_type": "execute_result",
          "data": {
            "text/plain": [
              "0.6842105263157895"
            ]
          },
          "metadata": {},
          "execution_count": 130
        }
      ]
    },
    {
      "cell_type": "code",
      "metadata": {
        "colab": {
          "base_uri": "https://localhost:8080/",
          "height": 282
        },
        "id": "Z2JgL20L3CTE",
        "outputId": "b8d1b3a3-1f2b-4beb-ce9c-3c0c8f22e135"
      },
      "source": [
        "sns.heatmap(cm4, annot=True, fmt='0.0f')"
      ],
      "execution_count": 131,
      "outputs": [
        {
          "output_type": "execute_result",
          "data": {
            "text/plain": [
              "<matplotlib.axes._subplots.AxesSubplot at 0x7fb8fe0792d0>"
            ]
          },
          "metadata": {},
          "execution_count": 131
        },
        {
          "output_type": "display_data",
          "data": {
            "image/png": "[encoded data removed]",
            "text/plain": [
              "<Figure size 432x288 with 2 Axes>"
            ]
          },
          "metadata": {
            "needs_background": "light"
          }
        }
      ]
    },
    {
      "cell_type": "markdown",
      "metadata": {
        "id": "F4yISjG1O6Rk"
      },
      "source": [
        ""
      ]
    },
    {
      "cell_type": "code",
      "metadata": {
        "colab": {
          "base_uri": "https://localhost:8080/"
        },
        "id": "rI1rwO5f3Md2",
        "outputId": "6c2f1355-65b9-43b0-8f22-8138829637fa"
      },
      "source": [
        "print(classification_report(y_test4, y_pred4))"
      ],
      "execution_count": 132,
      "outputs": [
        {
          "output_type": "stream",
          "name": "stdout",
          "text": [
            "              precision    recall  f1-score   support\n",
            "\n",
            "           0       1.00      0.92      0.96        12\n",
            "           1       0.57      0.57      0.57        14\n",
            "           2       0.54      0.58      0.56        12\n",
            "\n",
            "    accuracy                           0.68        38\n",
            "   macro avg       0.70      0.69      0.70        38\n",
            "weighted avg       0.70      0.68      0.69        38\n",
            "\n"
          ]
        }
      ]
    },
    {
      "cell_type": "markdown",
      "metadata": {
        "id": "mFQiCEKd3MFx"
      },
      "source": [
        "BT Conclusion: The f1 score of .61 in the KNN model is considerably less than the .79 in the Logistic Regression model when septal length and width were the only variables used to predict flower name and a knn = 1 was used. The f1 score changed from .61 to .68  to .66 when knn was changed from 1 to 3 to 5. "
      ]
    },
    {
      "cell_type": "markdown",
      "metadata": {
        "id": "_T2Kfvr1uuXo"
      },
      "source": [
        "## Scenario 2: Build a model using Petal Attributes only\n",
        "\n",
        "*   petal length (cm)\n",
        "*   petal width (cm)"
      ]
    },
    {
      "cell_type": "code",
      "metadata": {
        "colab": {
          "base_uri": "https://localhost:8080/"
        },
        "id": "47r2_vT4Rckt",
        "outputId": "96b881f3-6a4c-4b3d-df8a-f95c6b2d7e6b"
      },
      "source": [
        "scalar.fit(X2, Y2)"
      ],
      "execution_count": 152,
      "outputs": [
        {
          "output_type": "execute_result",
          "data": {
            "text/plain": [
              "StandardScaler()"
            ]
          },
          "metadata": {},
          "execution_count": 152
        }
      ]
    },
    {
      "cell_type": "code",
      "metadata": {
        "id": "kkbwo1m1ushg"
      },
      "source": [
        "X_scaled2 = scalar.transform(X2)"
      ],
      "execution_count": 153,
      "outputs": []
    },
    {
      "cell_type": "markdown",
      "metadata": {
        "id": "YyLTFRGyRiAe"
      },
      "source": [
        "BT: note that X2 was defined above in he Logistic Regression model as petal length (cm) and petal width (cm). "
      ]
    },
    {
      "cell_type": "code",
      "metadata": {
        "colab": {
          "base_uri": "https://localhost:8080/"
        },
        "id": "t9nJ7RYUSxA9",
        "outputId": "c4fb83f4-d98e-4c56-c92e-eb38c780c9d7"
      },
      "source": [
        "Y2"
      ],
      "execution_count": 154,
      "outputs": [
        {
          "output_type": "execute_result",
          "data": {
            "text/plain": [
              "array([0, 0, 0, 0, 0, 0, 0, 0, 0, 0, 0, 0, 0, 0, 0, 0, 0, 0, 0, 0, 0, 0,\n",
              "       0, 0, 0, 0, 0, 0, 0, 0, 0, 0, 0, 0, 0, 0, 0, 0, 0, 0, 0, 0, 0, 0,\n",
              "       0, 0, 0, 0, 0, 0, 1, 1, 1, 1, 1, 1, 1, 1, 1, 1, 1, 1, 1, 1, 1, 1,\n",
              "       1, 1, 1, 1, 1, 1, 1, 1, 1, 1, 1, 1, 1, 1, 1, 1, 1, 1, 1, 1, 1, 1,\n",
              "       1, 1, 1, 1, 1, 1, 1, 1, 1, 1, 1, 1, 2, 2, 2, 2, 2, 2, 2, 2, 2, 2,\n",
              "       2, 2, 2, 2, 2, 2, 2, 2, 2, 2, 2, 2, 2, 2, 2, 2, 2, 2, 2, 2, 2, 2,\n",
              "       2, 2, 2, 2, 2, 2, 2, 2, 2, 2, 2, 2, 2, 2, 2, 2, 2, 2])"
            ]
          },
          "metadata": {},
          "execution_count": 154
        }
      ]
    },
    {
      "cell_type": "code",
      "metadata": {
        "id": "kIRDQBbluslv"
      },
      "source": [
        "x_train5, x_test5, y_train5, y_test5 = train_test_split(X_scaled2, Y2)"
      ],
      "execution_count": 155,
      "outputs": []
    },
    {
      "cell_type": "code",
      "metadata": {
        "id": "ywKYS0azuspd",
        "colab": {
          "base_uri": "https://localhost:8080/"
        },
        "outputId": "22278879-7285-4308-b06f-0131e994c13e"
      },
      "source": [
        "print(x_train5.shape)\n",
        "print(x_test5.shape)\n",
        "print(y_train5.shape)\n",
        "print(y_test5.shape)"
      ],
      "execution_count": 156,
      "outputs": [
        {
          "output_type": "stream",
          "name": "stdout",
          "text": [
            "(112, 2)\n",
            "(38, 2)\n",
            "(112,)\n",
            "(38,)\n"
          ]
        }
      ]
    },
    {
      "cell_type": "code",
      "metadata": {
        "id": "4s3RCbPlusrE"
      },
      "source": [
        "knn = KNeighborsClassifier(n_neighbors=3)"
      ],
      "execution_count": 157,
      "outputs": []
    },
    {
      "cell_type": "code",
      "metadata": {
        "colab": {
          "base_uri": "https://localhost:8080/"
        },
        "id": "mqpOFl2RrSE_",
        "outputId": "9d3dacd2-20cd-48c7-93ad-8ce4f117964d"
      },
      "source": [
        "knn.fit(x_train5, y_train5)"
      ],
      "execution_count": 158,
      "outputs": [
        {
          "output_type": "execute_result",
          "data": {
            "text/plain": [
              "KNeighborsClassifier(n_neighbors=3)"
            ]
          },
          "metadata": {},
          "execution_count": 158
        }
      ]
    },
    {
      "cell_type": "code",
      "metadata": {
        "id": "g3_RjPv_rcQE"
      },
      "source": [
        "y_pred5 = knn.predict(x_test5)"
      ],
      "execution_count": 166,
      "outputs": []
    },
    {
      "cell_type": "code",
      "metadata": {
        "colab": {
          "base_uri": "https://localhost:8080/"
        },
        "id": "0u4lh9JYrpKg",
        "outputId": "18bb935f-91dc-40fb-b358-65246ab7eabd"
      },
      "source": [
        "y_pred5"
      ],
      "execution_count": 167,
      "outputs": [
        {
          "output_type": "execute_result",
          "data": {
            "text/plain": [
              "array([0, 1, 1, 2, 1, 2, 1, 0, 2, 1, 0, 0, 2, 1, 0, 0, 2, 1, 1, 1, 2, 0,\n",
              "       1, 2, 0, 2, 2, 2, 2, 0, 1, 0, 2, 2, 1, 0, 0, 1])"
            ]
          },
          "metadata": {},
          "execution_count": 167
        }
      ]
    },
    {
      "cell_type": "code",
      "metadata": {
        "colab": {
          "base_uri": "https://localhost:8080/"
        },
        "id": "YlaqP0ncsU9w",
        "outputId": "01a58cc9-58ae-4795-9828-d4d872667569"
      },
      "source": [
        "cm5 = confusion_matrix(y_test5, y_pred5)\n",
        "cm5"
      ],
      "execution_count": 168,
      "outputs": [
        {
          "output_type": "execute_result",
          "data": {
            "text/plain": [
              "array([[12,  0,  0],\n",
              "       [ 0, 13,  1],\n",
              "       [ 0,  0, 12]])"
            ]
          },
          "metadata": {},
          "execution_count": 168
        }
      ]
    },
    {
      "cell_type": "code",
      "metadata": {
        "id": "_h_zgL0xsyhT"
      },
      "source": [
        "score5 = knn.score(x_test5, y_test5)"
      ],
      "execution_count": 169,
      "outputs": []
    },
    {
      "cell_type": "code",
      "metadata": {
        "colab": {
          "base_uri": "https://localhost:8080/"
        },
        "id": "wEdoKkldtCPu",
        "outputId": "dc5fe6b8-4362-447a-b203-d1d980fa39a8"
      },
      "source": [
        "score5"
      ],
      "execution_count": 170,
      "outputs": [
        {
          "output_type": "execute_result",
          "data": {
            "text/plain": [
              "0.9736842105263158"
            ]
          },
          "metadata": {},
          "execution_count": 170
        }
      ]
    },
    {
      "cell_type": "code",
      "metadata": {
        "colab": {
          "base_uri": "https://localhost:8080/",
          "height": 282
        },
        "id": "fbotJXcutGrD",
        "outputId": "3d3df689-9bf7-4ac8-ef33-ab4d21c76f99"
      },
      "source": [
        "sns.heatmap(cm5, annot=True, fmt='0.0f')"
      ],
      "execution_count": 171,
      "outputs": [
        {
          "output_type": "execute_result",
          "data": {
            "text/plain": [
              "<matplotlib.axes._subplots.AxesSubplot at 0x7fb8ff810210>"
            ]
          },
          "metadata": {},
          "execution_count": 171
        },
        {
          "output_type": "display_data",
          "data": {
            "image/png": "[encoded data removed]",
            "text/plain": [
              "<Figure size 432x288 with 2 Axes>"
            ]
          },
          "metadata": {
            "needs_background": "light"
          }
        }
      ]
    },
    {
      "cell_type": "code",
      "metadata": {
        "colab": {
          "base_uri": "https://localhost:8080/"
        },
        "id": "q8eEQKYAuBxt",
        "outputId": "b6870fb4-9a23-4d81-eb51-912347e58c34"
      },
      "source": [
        "print(classification_report(y_test5, y_pred5))"
      ],
      "execution_count": 172,
      "outputs": [
        {
          "output_type": "stream",
          "name": "stdout",
          "text": [
            "              precision    recall  f1-score   support\n",
            "\n",
            "           0       1.00      1.00      1.00        12\n",
            "           1       1.00      0.93      0.96        14\n",
            "           2       0.92      1.00      0.96        12\n",
            "\n",
            "    accuracy                           0.97        38\n",
            "   macro avg       0.97      0.98      0.97        38\n",
            "weighted avg       0.98      0.97      0.97        38\n",
            "\n"
          ]
        }
      ]
    },
    {
      "cell_type": "markdown",
      "metadata": {
        "id": "gLHx_FyEvJ-8"
      },
      "source": [
        "BT Conclusion: In the KNN Model, petal length and width were more accurate predictors of flower name than sepal length and width, as indicated by the f1 score of .97 vs .68, respectively. "
      ]
    },
    {
      "cell_type": "markdown",
      "metadata": {
        "id": "ULA-g-knu1S7"
      },
      "source": [
        "## Scenario 3: Build a model using Sepal and Petal Attributes (all attributes)\n",
        "\n",
        "*   sepal length (cm)\n",
        "*   sepal width (cm)\n",
        "*   petal length (cm)\n",
        "*   petal width (cm)"
      ]
    },
    {
      "cell_type": "code",
      "metadata": {
        "id": "7ecJ9qZuu2Yf",
        "colab": {
          "base_uri": "https://localhost:8080/"
        },
        "outputId": "608c8642-d72c-4e6d-f66d-6e9026da0246"
      },
      "source": [
        "scalar.fit(X3, Y3)"
      ],
      "execution_count": 173,
      "outputs": [
        {
          "output_type": "execute_result",
          "data": {
            "text/plain": [
              "StandardScaler()"
            ]
          },
          "metadata": {},
          "execution_count": 173
        }
      ]
    },
    {
      "cell_type": "markdown",
      "metadata": {
        "id": "sQG6Vawfw02v"
      },
      "source": [
        "BT: X3 and Y3 were defined in the Logistic Regression model above as holding both sepal and petal lengths and widths. "
      ]
    },
    {
      "cell_type": "code",
      "metadata": {
        "id": "1ZC6YE1Fu6oS"
      },
      "source": [
        "X_scaled3 = scalar.transform(X3)"
      ],
      "execution_count": 175,
      "outputs": []
    },
    {
      "cell_type": "code",
      "metadata": {
        "id": "bPcctcSku6rH"
      },
      "source": [
        "x_train6, x_test6, y_train6, y_test6 = train_test_split(X_scaled3, Y3)"
      ],
      "execution_count": 176,
      "outputs": []
    },
    {
      "cell_type": "code",
      "metadata": {
        "id": "Z4wFM_s0u6tQ",
        "colab": {
          "base_uri": "https://localhost:8080/"
        },
        "outputId": "3511d671-2e18-4fe4-ab8c-124ffdda8eee"
      },
      "source": [
        "print(x_train6.shape)\n",
        "print(x_test6.shape)\n",
        "print(y_train6.shape)\n",
        "print(y_test6.shape)"
      ],
      "execution_count": 177,
      "outputs": [
        {
          "output_type": "stream",
          "name": "stdout",
          "text": [
            "(112, 4)\n",
            "(38, 4)\n",
            "(112,)\n",
            "(38,)\n"
          ]
        }
      ]
    },
    {
      "cell_type": "code",
      "metadata": {
        "id": "UJBJHhoBu6vx"
      },
      "source": [
        "knn = KNeighborsClassifier(n_neighbors=3)\n"
      ],
      "execution_count": 178,
      "outputs": []
    },
    {
      "cell_type": "code",
      "metadata": {
        "colab": {
          "base_uri": "https://localhost:8080/"
        },
        "id": "2DIdSrbPytTW",
        "outputId": "1163bf9c-d395-43e1-ec5d-acf24aa35a47"
      },
      "source": [
        "knn.fit(x_train6, y_train6)"
      ],
      "execution_count": 179,
      "outputs": [
        {
          "output_type": "execute_result",
          "data": {
            "text/plain": [
              "KNeighborsClassifier(n_neighbors=3)"
            ]
          },
          "metadata": {},
          "execution_count": 179
        }
      ]
    },
    {
      "cell_type": "code",
      "metadata": {
        "id": "1U7Lo601u6xy"
      },
      "source": [
        "y_pred6 = knn.predict(x_test6)"
      ],
      "execution_count": 180,
      "outputs": []
    },
    {
      "cell_type": "code",
      "metadata": {
        "colab": {
          "base_uri": "https://localhost:8080/"
        },
        "id": "bMkj4oGLy8Xk",
        "outputId": "90c9ab01-0628-4e41-b8af-1fc094ed9dda"
      },
      "source": [
        "cm6 = confusion_matrix(y_test6, y_pred6)\n",
        "cm6"
      ],
      "execution_count": 182,
      "outputs": [
        {
          "output_type": "execute_result",
          "data": {
            "text/plain": [
              "array([[12,  1,  0],\n",
              "       [ 0, 11,  2],\n",
              "       [ 0,  0, 12]])"
            ]
          },
          "metadata": {},
          "execution_count": 182
        }
      ]
    },
    {
      "cell_type": "code",
      "metadata": {
        "id": "SsszoDKTzQxS"
      },
      "source": [
        "score6 = knn.score(x_test6, y_test6)"
      ],
      "execution_count": 183,
      "outputs": []
    },
    {
      "cell_type": "code",
      "metadata": {
        "colab": {
          "base_uri": "https://localhost:8080/"
        },
        "id": "iyMVMMYmza27",
        "outputId": "c146f247-61eb-471a-e20f-f68309b075dc"
      },
      "source": [
        "score6"
      ],
      "execution_count": 184,
      "outputs": [
        {
          "output_type": "execute_result",
          "data": {
            "text/plain": [
              "0.9210526315789473"
            ]
          },
          "metadata": {},
          "execution_count": 184
        }
      ]
    },
    {
      "cell_type": "code",
      "metadata": {
        "colab": {
          "base_uri": "https://localhost:8080/",
          "height": 286
        },
        "id": "-tw6fz57zfka",
        "outputId": "aa932bb6-2ec9-4c78-b136-e58c4fe7b773"
      },
      "source": [
        "sns.heatmap(cm6, annot=True, fmt='0.0f')"
      ],
      "execution_count": 185,
      "outputs": [
        {
          "output_type": "execute_result",
          "data": {
            "text/plain": [
              "<matplotlib.axes._subplots.AxesSubplot at 0x7fb8fe0a1050>"
            ]
          },
          "metadata": {},
          "execution_count": 185
        },
        {
          "output_type": "display_data",
          "data": {
            "image/png": "[encoded data removed]",
            "text/plain": [
              "<Figure size 432x288 with 2 Axes>"
            ]
          },
          "metadata": {
            "needs_background": "light"
          }
        }
      ]
    },
    {
      "cell_type": "code",
      "metadata": {
        "colab": {
          "base_uri": "https://localhost:8080/"
        },
        "id": "3k2hVaW1zraQ",
        "outputId": "e5ce12c6-af79-4518-f70f-1761cad2c84c"
      },
      "source": [
        "print(classification_report(y_test6, y_pred6))"
      ],
      "execution_count": 186,
      "outputs": [
        {
          "output_type": "stream",
          "name": "stdout",
          "text": [
            "              precision    recall  f1-score   support\n",
            "\n",
            "           0       1.00      0.92      0.96        13\n",
            "           1       0.92      0.85      0.88        13\n",
            "           2       0.86      1.00      0.92        12\n",
            "\n",
            "    accuracy                           0.92        38\n",
            "   macro avg       0.92      0.92      0.92        38\n",
            "weighted avg       0.93      0.92      0.92        38\n",
            "\n"
          ]
        }
      ]
    },
    {
      "cell_type": "markdown",
      "metadata": {
        "id": "IOgQ1CuP1jsI"
      },
      "source": [
        "BT Conclusion: Adding sepal width and length to petal width and length decreased the accuracy of the KNN model in predicting petal name, as indicated by the f1 score, which was .97 when petal with and length were used, but .92 when petal and sepal widths and lengths were used. "
      ]
    },
    {
      "cell_type": "code",
      "metadata": {
        "id": "oRSek0k3S6Dh"
      },
      "source": [
        "error_rate = []\n",
        "for i in range(1,40):\n",
        "  knn = KNeighborsClassifier(n_neighbors=i)\n",
        "  knn.fit(x_train6,y_train6)\n",
        "  pred_i = knn.predict(x_test6)\n",
        "  error_rate.append(np.mean(pred_i !=y_test6))"
      ],
      "execution_count": 251,
      "outputs": []
    },
    {
      "cell_type": "code",
      "metadata": {
        "colab": {
          "base_uri": "https://localhost:8080/",
          "height": 514
        },
        "id": "jj98Wx3MU7mK",
        "outputId": "74a43170-3b46-4e63-b1f0-171c2387bb1f"
      },
      "source": [
        "plt.figure(figsize=(10,8))\n",
        "plt.plot(range(1,40), error_rate, color='blue', linestyle='dashed', marker='o', markerfacecolor='red', markersize =10)\n",
        "plt.xlabel('KNN values')\n",
        "plt.ylabel('Eror Rate'), "
      ],
      "execution_count": 252,
      "outputs": [
        {
          "output_type": "execute_result",
          "data": {
            "text/plain": [
              "(Text(0, 0.5, 'Eror Rate'),)"
            ]
          },
          "metadata": {},
          "execution_count": 252
        },
        {
          "output_type": "display_data",
          "data": {
            "image/png": "[encoded data removed]",
            "text/plain": [
              "<Figure size 720x576 with 1 Axes>"
            ]
          },
          "metadata": {
            "needs_background": "light"
          }
        }
      ]
    },
    {
      "cell_type": "markdown",
      "metadata": {
        "id": "5WQTVuRO39EQ"
      },
      "source": [
        "# Bonus Points: Decision Tree"
      ]
    },
    {
      "cell_type": "markdown",
      "metadata": {
        "id": "TAqUp81l4KvZ"
      },
      "source": [
        "## Build decision tree for Scenario 2\n"
      ]
    },
    {
      "cell_type": "code",
      "metadata": {
        "id": "vn3xFIc94tEY"
      },
      "source": [
        "from sklearn.tree import DecisionTreeClassifier\n",
        "import pydotplus, graphviz\n",
        "from sklearn import tree\n",
        "from IPython.display import Image"
      ],
      "execution_count": 250,
      "outputs": []
    },
    {
      "cell_type": "code",
      "metadata": {
        "id": "q2dby29G4UVe"
      },
      "source": [
        "# hint\n",
        "# choose decision tree max depth=2\n",
        "# X= iris_data.data[:,2:]\n",
        "# y=iris_data.target\n",
        "# dot_img = tree.export_graphviz(dt_clf,out_file='iris_tree.dot',feature_names=iris_data.feature_names[2:],class_names=iris_data.target_names,filled=True,rounded=True)\n",
        "# tree_graph = pydotplus.graph_from_dot_file('iris_tree.dot')\n",
        "# Image(tree_graph.create_png())"
      ],
      "execution_count": null,
      "outputs": []
    },
    {
      "cell_type": "markdown",
      "metadata": {
        "id": "Rwvr0TZz5A1k"
      },
      "source": [
        "Print Decision Tree and write your interpretation for it"
      ]
    },
    {
      "cell_type": "markdown",
      "metadata": {
        "id": "nyelyrNc9wLP"
      },
      "source": [
        ""
      ]
    },
    {
      "cell_type": "code",
      "metadata": {
        "id": "3lIJXQ7B4Vwn"
      },
      "source": [
        "from sklearn.tree import DecisionTreeClassifier"
      ],
      "execution_count": 212,
      "outputs": []
    },
    {
      "cell_type": "code",
      "metadata": {
        "id": "_uYf6XB_8ZxA"
      },
      "source": [
        "dec_gen_model = DecisionTreeClassifier(criterion='gini',splitter='best',max_depth=2,min_samples_leaf=4)"
      ],
      "execution_count": 209,
      "outputs": []
    },
    {
      "cell_type": "code",
      "metadata": {
        "colab": {
          "base_uri": "https://localhost:8080/"
        },
        "id": "oImh-gux8-1p",
        "outputId": "5194ab11-e41f-4723-e9f9-6ab6845ff8bb"
      },
      "source": [
        "dec_gen_model.fit(x_train5,y_train5)"
      ],
      "execution_count": 225,
      "outputs": [
        {
          "output_type": "execute_result",
          "data": {
            "text/plain": [
              "DecisionTreeClassifier(max_depth=2, min_samples_leaf=4)"
            ]
          },
          "metadata": {},
          "execution_count": 225
        }
      ]
    },
    {
      "cell_type": "markdown",
      "metadata": {
        "id": "xE7F6ySKNzNq"
      },
      "source": [
        "BT: x_train5 and y_train5 contain petal width and lenghth only, i.e. \"Scenario 2\""
      ]
    },
    {
      "cell_type": "code",
      "metadata": {
        "id": "K0WFSmAKAcAf"
      },
      "source": [
        "y_pred7 = dec_gen_model.predict(x_test5)"
      ],
      "execution_count": 226,
      "outputs": []
    },
    {
      "cell_type": "code",
      "metadata": {
        "colab": {
          "base_uri": "https://localhost:8080/"
        },
        "id": "Mba_qkDUBe15",
        "outputId": "1f596a5a-f31f-422f-8a96-794dc60a0503"
      },
      "source": [
        "y_pred7"
      ],
      "execution_count": 227,
      "outputs": [
        {
          "output_type": "execute_result",
          "data": {
            "text/plain": [
              "array([0, 1, 1, 2, 1, 2, 1, 0, 2, 1, 0, 0, 2, 1, 0, 0, 2, 1, 1, 1, 2, 0,\n",
              "       1, 2, 0, 2, 2, 1, 2, 0, 1, 0, 2, 2, 1, 0, 0, 1])"
            ]
          },
          "metadata": {},
          "execution_count": 227
        }
      ]
    },
    {
      "cell_type": "code",
      "metadata": {
        "colab": {
          "base_uri": "https://localhost:8080/"
        },
        "id": "deM4FYZqBkb4",
        "outputId": "9aaf828b-abeb-44be-f396-273ca1633fd6"
      },
      "source": [
        "accuracy_score(y_test5, y_pred5)"
      ],
      "execution_count": 228,
      "outputs": [
        {
          "output_type": "execute_result",
          "data": {
            "text/plain": [
              "0.9736842105263158"
            ]
          },
          "metadata": {},
          "execution_count": 228
        }
      ]
    },
    {
      "cell_type": "code",
      "metadata": {
        "colab": {
          "base_uri": "https://localhost:8080/"
        },
        "id": "lkh84SlmB1ZV",
        "outputId": "96aa2f6c-8d78-4e67-c7d6-469e68fc0595"
      },
      "source": [
        "dec_gen_model.score(x_test5, y_test5)*100"
      ],
      "execution_count": 229,
      "outputs": [
        {
          "output_type": "execute_result",
          "data": {
            "text/plain": [
              "100.0"
            ]
          },
          "metadata": {},
          "execution_count": 229
        }
      ]
    },
    {
      "cell_type": "markdown",
      "metadata": {
        "id": "iV9O53pvGGxJ"
      },
      "source": [
        "### Decision Tree"
      ]
    },
    {
      "cell_type": "code",
      "metadata": {
        "colab": {
          "base_uri": "https://localhost:8080/"
        },
        "id": "YNEYedWuPBw6",
        "outputId": "8fde52af-287b-435a-c4a3-1ee436320857"
      },
      "source": [
        "pip install pydotplus"
      ],
      "execution_count": 232,
      "outputs": [
        {
          "output_type": "stream",
          "name": "stdout",
          "text": [
            "Requirement already satisfied: pydotplus in /usr/local/lib/python3.7/dist-packages (2.0.2)\n",
            "Requirement already satisfied: pyparsing>=2.0.1 in /usr/local/lib/python3.7/dist-packages (from pydotplus) (3.0.6)\n"
          ]
        }
      ]
    },
    {
      "cell_type": "code",
      "metadata": {
        "colab": {
          "base_uri": "https://localhost:8080/"
        },
        "id": "PnyCjUL1PHit",
        "outputId": "471842f1-dac1-431b-ab68-9af36098cc5d"
      },
      "source": [
        "pip install pydotplus"
      ],
      "execution_count": 233,
      "outputs": [
        {
          "output_type": "stream",
          "name": "stdout",
          "text": [
            "Requirement already satisfied: pydotplus in /usr/local/lib/python3.7/dist-packages (2.0.2)\n",
            "Requirement already satisfied: pyparsing>=2.0.1 in /usr/local/lib/python3.7/dist-packages (from pydotplus) (3.0.6)\n"
          ]
        }
      ]
    },
    {
      "cell_type": "code",
      "metadata": {
        "id": "ISRb8_MjCEE4"
      },
      "source": [
        "import pydotplus, graphviz\n",
        "from sklearn import tree"
      ],
      "execution_count": 234,
      "outputs": []
    },
    {
      "cell_type": "code",
      "metadata": {
        "id": "1RWNeIDsCbpR"
      },
      "source": [
        "dot_img = tree.export_graphviz(dec_gen_model,out_file='iris_tree.dot',feature_names=iris_data.feature_names[2:],class_names=iris_data.target_names,filled=True,rounded=True)"
      ],
      "execution_count": 237,
      "outputs": []
    },
    {
      "cell_type": "code",
      "metadata": {
        "id": "WgLlAp1VP0ua"
      },
      "source": [
        "tree_graph = pydotplus.graph_from_dot_file('iris_tree.dot')"
      ],
      "execution_count": 239,
      "outputs": []
    },
    {
      "cell_type": "code",
      "metadata": {
        "id": "1LRnyXuGQenr"
      },
      "source": [
        "from IPython.display import Image"
      ],
      "execution_count": 240,
      "outputs": []
    },
    {
      "cell_type": "code",
      "metadata": {
        "colab": {
          "base_uri": "https://localhost:8080/",
          "height": 436
        },
        "id": "VcgXmVWDQogJ",
        "outputId": "ad1a6037-30de-4f5b-d2a2-430d419d5d5c"
      },
      "source": [
        "Image(tree_graph.create_png())"
      ],
      "execution_count": 241,
      "outputs": [
        {
          "output_type": "execute_result",
          "data": {
            "image/png": "[encoded data removed]",
            "text/plain": [
              "<IPython.core.display.Image object>"
            ]
          },
          "metadata": {},
          "execution_count": 241
        }
      ]
    },
    {
      "cell_type": "markdown",
      "metadata": {
        "id": "DZC9lQVfVbOp"
      },
      "source": [
        "BT: By selecting petal length as the first breakpoint, the Decision Tree model confirms the conclusion from the Logistic and KNN Models that petal length was more important than sepal length in predicting the flower names. "
      ]
    },
    {
      "cell_type": "code",
      "metadata": {
        "id": "F63SBjJpRuJM"
      },
      "source": [
        "cm7 = confusion_matrix(y_test5, y_pred5)"
      ],
      "execution_count": 243,
      "outputs": []
    },
    {
      "cell_type": "code",
      "metadata": {
        "colab": {
          "base_uri": "https://localhost:8080/",
          "height": 296
        },
        "id": "h_DYUkGgSEU5",
        "outputId": "8d44fd2b-6832-42f6-c426-bc5ab9635834"
      },
      "source": [
        "sns.heatmap(cm7,annot=True,fmt='0.0f')\n",
        "plt.ylabel('actual value')\n",
        "plt.xlabel('predicted value')"
      ],
      "execution_count": 245,
      "outputs": [
        {
          "output_type": "execute_result",
          "data": {
            "text/plain": [
              "Text(0.5, 15.0, 'predicted value')"
            ]
          },
          "metadata": {},
          "execution_count": 245
        },
        {
          "output_type": "display_data",
          "data": {
            "image/png": "[encoded data removed]",
            "text/plain": [
              "<Figure size 432x288 with 2 Axes>"
            ]
          },
          "metadata": {
            "needs_background": "light"
          }
        }
      ]
    },
    {
      "cell_type": "markdown",
      "metadata": {
        "id": "E-uXBAfNu7eN"
      },
      "source": [
        "# Model Comparison"
      ]
    },
    {
      "cell_type": "code",
      "metadata": {
        "id": "SBJttwi1vBZ4",
        "colab": {
          "base_uri": "https://localhost:8080/",
          "height": 130
        },
        "outputId": "ca4ece6f-7938-4ac9-dbcb-a124da0ebd55"
      },
      "source": [
        "See the four \"BT Conclusion:\" notes above."
      ],
      "execution_count": 242,
      "outputs": [
        {
          "output_type": "error",
          "ename": "SyntaxError",
          "evalue": "ignored",
          "traceback": [
            "\u001b[0;36m  File \u001b[0;32m\"<ipython-input-242-590f61106140>\"\u001b[0;36m, line \u001b[0;32m1\u001b[0m\n\u001b[0;31m    See the four \"BT Conclusion:\" notes above.\u001b[0m\n\u001b[0m          ^\u001b[0m\n\u001b[0;31mSyntaxError\u001b[0m\u001b[0;31m:\u001b[0m invalid syntax\n"
          ]
        }
      ]
    },
    {
      "cell_type": "code",
      "metadata": {
        "id": "sa0mXy6MvBcs"
      },
      "source": [
        ""
      ],
      "execution_count": null,
      "outputs": []
    },
    {
      "cell_type": "markdown",
      "metadata": {
        "id": "j0tO6mYXu_sZ"
      },
      "source": [
        ""
      ]
    },
    {
      "cell_type": "markdown",
      "metadata": {
        "id": "8iRZRzjkvD_f"
      },
      "source": [
        "# Model Selection"
      ]
    },
    {
      "cell_type": "code",
      "metadata": {
        "id": "1BGSM65YvIH_"
      },
      "source": [
        ""
      ],
      "execution_count": null,
      "outputs": []
    },
    {
      "cell_type": "markdown",
      "metadata": {
        "id": "zRVTFlDWvIrR"
      },
      "source": [
        ""
      ]
    },
    {
      "cell_type": "markdown",
      "metadata": {
        "id": "v0QViQ5mvJPN"
      },
      "source": [
        "# Summary and Conclusion"
      ]
    },
    {
      "cell_type": "code",
      "metadata": {
        "id": "17baSFEUvL_v"
      },
      "source": [
        ""
      ],
      "execution_count": null,
      "outputs": []
    },
    {
      "cell_type": "markdown",
      "metadata": {
        "id": "cUn0lUyovMy4"
      },
      "source": [
        "BT Conclusions: \n",
        "1) In both the Logistic Regression and KNN models, petal width and length were more accurate predictors of flower name than sepal width and length, and adding sepal width and length to petal width and length did not increase the accuracy of prediction.\n",
        "2) When only petal width and length were used to predict flower name, the KNN model was slightly more accurate than the Logistic Regression model (f-score .97 vs .95, respectively). \n",
        "3) For the KNN model, the use of 3 nearest neighbors gave the most accuate prediction of petal name. \n",
        "4) The Decision Tree model confirmed the conclusions from the Logistic and KNN Models that petal length was a more accurate predictor of flower name than sepal length. \n"
      ]
    }
  ]
}
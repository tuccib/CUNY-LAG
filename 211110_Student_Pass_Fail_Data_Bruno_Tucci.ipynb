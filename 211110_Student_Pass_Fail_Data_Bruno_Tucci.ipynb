{
  "nbformat": 4,
  "nbformat_minor": 0,
  "metadata": {
    "colab": {
      "name": "211110 Student-Pass-Fail-Data-Bruno Tucci",
      "provenance": [],
      "collapsed_sections": [],
      "include_colab_link": true
    },
    "kernelspec": {
      "display_name": "Python 3",
      "name": "python3"
    }
  },
  "cells": [
    {
      "cell_type": "markdown",
      "metadata": {
        "id": "view-in-github",
        "colab_type": "text"
      },
      "source": [
        "<a href=\"https://colab.research.google.com/github/tuccib/CUNY_LAG/blob/main/211110_Student_Pass_Fail_Data_Bruno_Tucci.ipynb\" target=\"_parent\"><img src=\"https://colab.research.google.com/assets/colab-badge.svg\" alt=\"Open In Colab\"/></a>"
      ]
    },
    {
      "cell_type": "markdown",
      "metadata": {
        "id": "agC8GmKtsa1Z"
      },
      "source": [
        "### **Research Question:**"
      ]
    },
    {
      "cell_type": "markdown",
      "metadata": {
        "id": "_aYUaAKyoe5o"
      },
      "source": [
        "BT: The research questions that will be addressed in this analysis are (1) Whether a student's ability to pass is correlated with the the student's number of hours of self-study or (2) the student's monthly tuition, or (3) whether the combined variables of hours of self-study and monthly tuition can be used in a logistic regression model to predict whether a student will pass or fail. "
      ]
    },
    {
      "cell_type": "markdown",
      "metadata": {
        "id": "bcBRe8rDCouc"
      },
      "source": [
        "# **Task 1: Environment Set Up**"
      ]
    },
    {
      "cell_type": "code",
      "metadata": {
        "id": "ZwnHlTtp4FWt"
      },
      "source": [
        "#import libraries\n",
        "import numpy as np\n",
        "import pandas as pd"
      ],
      "execution_count": 2,
      "outputs": []
    },
    {
      "cell_type": "markdown",
      "metadata": {
        "id": "TXxEYtr-Cur_"
      },
      "source": [
        "# **Task 2: Data Collection**"
      ]
    },
    {
      "cell_type": "code",
      "metadata": {
        "colab": {
          "base_uri": "https://localhost:8080/"
        },
        "id": "uGFshhU4cG-U",
        "outputId": "5ddbec01-9864-4fd3-eb28-037e03c80ba2"
      },
      "source": [
        "from google.colab import drive\n",
        "drive.mount('/content/drive', force_remount=True)"
      ],
      "execution_count": 5,
      "outputs": [
        {
          "output_type": "stream",
          "name": "stdout",
          "text": [
            "Mounted at /content/drive\n"
          ]
        }
      ]
    },
    {
      "cell_type": "code",
      "metadata": {
        "id": "vvzgFo-xXlNl"
      },
      "source": [
        "df1 = pd.read_csv('/content/drive/MyDrive/Student-Pass-Fail-Data.csv')"
      ],
      "execution_count": 7,
      "outputs": []
    },
    {
      "cell_type": "code",
      "metadata": {
        "colab": {
          "base_uri": "https://localhost:8080/"
        },
        "id": "OE8k3QPVXqnx",
        "outputId": "a7d31504-0759-4d7d-b057-6a2b84088f47"
      },
      "source": [
        "df1.head"
      ],
      "execution_count": null,
      "outputs": [
        {
          "output_type": "execute_result",
          "data": {
            "text/plain": [
              "<bound method NDFrame.head of          Date  ... People Not-Positive - Unknown Race/Ethnicity\n",
              "0    3/1/2020  ...                                            0\n",
              "1    3/2/2020  ...                                            4\n",
              "2    3/3/2020  ...                                           20\n",
              "3    3/4/2020  ...                                           20\n",
              "4    3/5/2020  ...                                            7\n",
              "..        ...  ...                                          ...\n",
              "83  5/25/2020  ...                                          602\n",
              "84  5/26/2020  ...                                         2692\n",
              "85  5/27/2020  ...                                         2401\n",
              "86  5/28/2020  ...                                         2155\n",
              "87  5/31/2020  ...                                          551\n",
              "\n",
              "[88 rows x 59 columns]>"
            ]
          },
          "metadata": {},
          "execution_count": 24
        }
      ]
    },
    {
      "cell_type": "code",
      "metadata": {
        "colab": {
          "base_uri": "https://localhost:8080/"
        },
        "id": "2c19rnbXaWvr",
        "outputId": "0ec1c549-e1ea-40dc-c5c8-cb5043716121"
      },
      "source": [
        "df1.shape"
      ],
      "execution_count": 8,
      "outputs": [
        {
          "output_type": "execute_result",
          "data": {
            "text/plain": [
              "(1000, 3)"
            ]
          },
          "metadata": {},
          "execution_count": 8
        }
      ]
    },
    {
      "cell_type": "markdown",
      "metadata": {
        "id": "0l4nkRTinoNp"
      },
      "source": [
        "BT: Data for 1,000 students will be studied. "
      ]
    },
    {
      "cell_type": "code",
      "metadata": {
        "colab": {
          "base_uri": "https://localhost:8080/"
        },
        "id": "Cj3HmfofadtK",
        "outputId": "21f976f4-0945-4adb-fb16-b9497e32a2bc"
      },
      "source": [
        "df1.describe"
      ],
      "execution_count": 9,
      "outputs": [
        {
          "output_type": "execute_result",
          "data": {
            "text/plain": [
              "<bound method NDFrame.describe of      Self_Study_Daily  Tution_Monthly  Pass_Or_Fail\n",
              "0                   7              27             1\n",
              "1                   2              43             0\n",
              "2                   7              26             1\n",
              "3                   8              29             1\n",
              "4                   3              42             0\n",
              "..                ...             ...           ...\n",
              "995                 6              22             1\n",
              "996                 9              30             1\n",
              "997                 3              39             0\n",
              "998                 7              25             1\n",
              "999                 5              37             0\n",
              "\n",
              "[1000 rows x 3 columns]>"
            ]
          },
          "metadata": {},
          "execution_count": 9
        }
      ]
    },
    {
      "cell_type": "code",
      "metadata": {
        "colab": {
          "base_uri": "https://localhost:8080/"
        },
        "id": "LPJfwtfxgh7F",
        "outputId": "156139d6-a580-45e8-df01-da50b59304ce"
      },
      "source": [
        "df1.isnull().sum()"
      ],
      "execution_count": 10,
      "outputs": [
        {
          "output_type": "execute_result",
          "data": {
            "text/plain": [
              "Self_Study_Daily    0\n",
              "Tution_Monthly      0\n",
              "Pass_Or_Fail        0\n",
              "dtype: int64"
            ]
          },
          "metadata": {},
          "execution_count": 10
        }
      ]
    },
    {
      "cell_type": "markdown",
      "metadata": {
        "id": "ZEjPLWIRxuMd"
      },
      "source": [
        "BT: There are no null values in the updated .csv data file. "
      ]
    },
    {
      "cell_type": "code",
      "metadata": {
        "colab": {
          "base_uri": "https://localhost:8080/"
        },
        "id": "DfXRBMuVgrSi",
        "outputId": "ab967bda-739c-450c-85bf-220a1a840735"
      },
      "source": [
        "df1.info()"
      ],
      "execution_count": 11,
      "outputs": [
        {
          "output_type": "stream",
          "name": "stdout",
          "text": [
            "<class 'pandas.core.frame.DataFrame'>\n",
            "RangeIndex: 1000 entries, 0 to 999\n",
            "Data columns (total 3 columns):\n",
            " #   Column            Non-Null Count  Dtype\n",
            "---  ------            --------------  -----\n",
            " 0   Self_Study_Daily  1000 non-null   int64\n",
            " 1   Tution_Monthly    1000 non-null   int64\n",
            " 2   Pass_Or_Fail      1000 non-null   int64\n",
            "dtypes: int64(3)\n",
            "memory usage: 23.6 KB\n"
          ]
        }
      ]
    },
    {
      "cell_type": "markdown",
      "metadata": {
        "id": "0N8NMd_CxWIu"
      },
      "source": [
        "BT: The figures in the .csv file are all integers."
      ]
    },
    {
      "cell_type": "markdown",
      "metadata": {
        "id": "_jsbzBAsg-sr"
      },
      "source": [
        "# Task 3: Data Wrangling and Exploratory Data Analysis"
      ]
    },
    {
      "cell_type": "code",
      "metadata": {
        "id": "I19PFyc9g7gB"
      },
      "source": [
        "import seaborn as sns\n",
        "import matplotlib.pyplot as plt"
      ],
      "execution_count": 12,
      "outputs": []
    },
    {
      "cell_type": "code",
      "metadata": {
        "colab": {
          "base_uri": "https://localhost:8080/",
          "height": 351
        },
        "id": "1eZFxHksrHZJ",
        "outputId": "f63afe31-fb1c-42eb-b55b-dbb029b7f4ec"
      },
      "source": [
        "\n",
        "sns.distplot(df1['Self_Study_Daily'])"
      ],
      "execution_count": 13,
      "outputs": [
        {
          "output_type": "stream",
          "name": "stderr",
          "text": [
            "/usr/local/lib/python3.7/dist-packages/seaborn/distributions.py:2619: FutureWarning: `distplot` is a deprecated function and will be removed in a future version. Please adapt your code to use either `displot` (a figure-level function with similar flexibility) or `histplot` (an axes-level function for histograms).\n",
            "  warnings.warn(msg, FutureWarning)\n"
          ]
        },
        {
          "output_type": "execute_result",
          "data": {
            "text/plain": [
              "<matplotlib.axes._subplots.AxesSubplot at 0x7f9789a52110>"
            ]
          },
          "metadata": {},
          "execution_count": 13
        },
        {
          "output_type": "display_data",
          "data": {
            "image/png": "[encoded data removed]",
            "text/plain": [
              "<Figure size 432x288 with 1 Axes>"
            ]
          },
          "metadata": {
            "needs_background": "light"
          }
        }
      ]
    },
    {
      "cell_type": "markdown",
      "metadata": {
        "id": "wwz9SNz7xAIG"
      },
      "source": [
        "BT: This is a distribution plot of the number of hours of daily self study for different students."
      ]
    },
    {
      "cell_type": "code",
      "metadata": {
        "colab": {
          "base_uri": "https://localhost:8080/",
          "height": 350
        },
        "id": "KEww7rHuazV-",
        "outputId": "234a0063-44c6-4b5a-cfda-53ba127e49d6"
      },
      "source": [
        "sns.distplot(df1['Tution_Monthly'])"
      ],
      "execution_count": 18,
      "outputs": [
        {
          "output_type": "stream",
          "name": "stderr",
          "text": [
            "/usr/local/lib/python3.7/dist-packages/seaborn/distributions.py:2619: FutureWarning: `distplot` is a deprecated function and will be removed in a future version. Please adapt your code to use either `displot` (a figure-level function with similar flexibility) or `histplot` (an axes-level function for histograms).\n",
            "  warnings.warn(msg, FutureWarning)\n"
          ]
        },
        {
          "output_type": "execute_result",
          "data": {
            "text/plain": [
              "<matplotlib.axes._subplots.AxesSubplot at 0x7f977333a950>"
            ]
          },
          "metadata": {},
          "execution_count": 18
        },
        {
          "output_type": "display_data",
          "data": {
            "image/png": "[encoded data removed]",
            "text/plain": [
              "<Figure size 432x288 with 1 Axes>"
            ]
          },
          "metadata": {
            "needs_background": "light"
          }
        }
      ]
    },
    {
      "cell_type": "markdown",
      "metadata": {
        "id": "VHKWzjbrbrNI"
      },
      "source": [
        "BT: This is a distribution of the monthly tuition of the different students."
      ]
    },
    {
      "cell_type": "code",
      "metadata": {
        "id": "20B2A0qbmO2B"
      },
      "source": [
        "#Positive_17 = df1['People Positive - Age 0-17']\n",
        "\n",
        "#Positive_29 = df1['People Positive - Age 18-29']\n",
        "\n",
        "\n",
        "\n"
      ],
      "execution_count": null,
      "outputs": []
    },
    {
      "cell_type": "markdown",
      "metadata": {
        "id": "GbKGvz1_wh92"
      },
      "source": [
        "BT: This is a line plot of the number of Covid cases for people aged 80 and older, shown by day of the month from March 1st, 2020 to May 31st, 2020. "
      ]
    },
    {
      "cell_type": "code",
      "metadata": {
        "colab": {
          "base_uri": "https://localhost:8080/",
          "height": 342
        },
        "id": "yEv3H33bpXRm",
        "outputId": "e33a3f23-dbae-4f80-adca-62f711e57655"
      },
      "source": [
        "plt.figure(figsize=(10, 5))\n",
        "sns.heatmap(df1.corr(), annot=True)"
      ],
      "execution_count": 20,
      "outputs": [
        {
          "output_type": "execute_result",
          "data": {
            "text/plain": [
              "<matplotlib.axes._subplots.AxesSubplot at 0x7f976a998050>"
            ]
          },
          "metadata": {},
          "execution_count": 20
        },
        {
          "output_type": "display_data",
          "data": {
            "image/png": "[encoded data removed]",
            "text/plain": [
              "<Figure size 720x360 with 2 Axes>"
            ]
          },
          "metadata": {
            "needs_background": "light"
          }
        }
      ]
    },
    {
      "cell_type": "markdown",
      "metadata": {
        "id": "vaySVJlyvb-l"
      },
      "source": [
        "BT: Pas_Or_Fail is strongly correlated with Self_Study_Daily (.79) and negatively correlated with Tuition_Monthly (-.77). "
      ]
    },
    {
      "cell_type": "markdown",
      "metadata": {
        "id": "iRVYNkWuyZ-r"
      },
      "source": [
        "## Task 4: Preparing the data for training the Machine Learning Model"
      ]
    },
    {
      "cell_type": "code",
      "metadata": {
        "colab": {
          "base_uri": "https://localhost:8080/",
          "height": 203
        },
        "id": "ok767gsg4Yio",
        "outputId": "788f058c-bd43-4220-d14e-3d405c40debc"
      },
      "source": [
        "df2 = df1[['Tution_Monthly', 'Self_Study_Daily']]\n",
        "df2.head()"
      ],
      "execution_count": 22,
      "outputs": [
        {
          "output_type": "execute_result",
          "data": {
            "text/html": [
              "<div>\n",
              "<style scoped>\n",
              "    .dataframe tbody tr th:only-of-type {\n",
              "        vertical-align: middle;\n",
              "    }\n",
              "\n",
              "    .dataframe tbody tr th {\n",
              "        vertical-align: top;\n",
              "    }\n",
              "\n",
              "    .dataframe thead th {\n",
              "        text-align: right;\n",
              "    }\n",
              "</style>\n",
              "<table border=\"1\" class=\"dataframe\">\n",
              "  <thead>\n",
              "    <tr style=\"text-align: right;\">\n",
              "      <th></th>\n",
              "      <th>Tution_Monthly</th>\n",
              "      <th>Self_Study_Daily</th>\n",
              "    </tr>\n",
              "  </thead>\n",
              "  <tbody>\n",
              "    <tr>\n",
              "      <th>0</th>\n",
              "      <td>27</td>\n",
              "      <td>7</td>\n",
              "    </tr>\n",
              "    <tr>\n",
              "      <th>1</th>\n",
              "      <td>43</td>\n",
              "      <td>2</td>\n",
              "    </tr>\n",
              "    <tr>\n",
              "      <th>2</th>\n",
              "      <td>26</td>\n",
              "      <td>7</td>\n",
              "    </tr>\n",
              "    <tr>\n",
              "      <th>3</th>\n",
              "      <td>29</td>\n",
              "      <td>8</td>\n",
              "    </tr>\n",
              "    <tr>\n",
              "      <th>4</th>\n",
              "      <td>42</td>\n",
              "      <td>3</td>\n",
              "    </tr>\n",
              "  </tbody>\n",
              "</table>\n",
              "</div>"
            ],
            "text/plain": [
              "   Tution_Monthly  Self_Study_Daily\n",
              "0              27                 7\n",
              "1              43                 2\n",
              "2              26                 7\n",
              "3              29                 8\n",
              "4              42                 3"
            ]
          },
          "metadata": {},
          "execution_count": 22
        }
      ]
    },
    {
      "cell_type": "code",
      "metadata": {
        "id": "dwGLGbyk6kcq"
      },
      "source": [
        "X_features = df2\n",
        "Y_target = df1['Pass_Or_Fail']"
      ],
      "execution_count": 25,
      "outputs": []
    },
    {
      "cell_type": "code",
      "metadata": {
        "id": "ZxkIjJN9gabR"
      },
      "source": [
        "from sklearn.linear_model import LogisticRegression\n",
        "logReg = LogisticRegression()"
      ],
      "execution_count": 26,
      "outputs": []
    },
    {
      "cell_type": "markdown",
      "metadata": {
        "id": "DeuKXKa_8SJS"
      },
      "source": [
        "## Task 5: Model Training"
      ]
    },
    {
      "cell_type": "code",
      "metadata": {
        "id": "ckbboPVl7Ib1"
      },
      "source": [
        "# import linear model - the estimator\n",
        "from sklearn.model_selection import train_test_split\n",
        "x_train, x_test, y_train, y_test = train_test_split(X_features, Y_target)"
      ],
      "execution_count": 27,
      "outputs": []
    },
    {
      "cell_type": "code",
      "metadata": {
        "colab": {
          "base_uri": "https://localhost:8080/"
        },
        "id": "XA2kMUE6g4th",
        "outputId": "4e748de5-60c0-49eb-8b75-1cc4dc6af602"
      },
      "source": [
        "logReg.fit(x_train, y_train)"
      ],
      "execution_count": 28,
      "outputs": [
        {
          "output_type": "execute_result",
          "data": {
            "text/plain": [
              "LogisticRegression(C=1.0, class_weight=None, dual=False, fit_intercept=True,\n",
              "                   intercept_scaling=1, l1_ratio=None, max_iter=100,\n",
              "                   multi_class='auto', n_jobs=None, penalty='l2',\n",
              "                   random_state=None, solver='lbfgs', tol=0.0001, verbose=0,\n",
              "                   warm_start=False)"
            ]
          },
          "metadata": {},
          "execution_count": 28
        }
      ]
    },
    {
      "cell_type": "code",
      "metadata": {
        "colab": {
          "base_uri": "https://localhost:8080/"
        },
        "id": "USLgMFBEg_Qj",
        "outputId": "0091560b-0101-4f9f-dc49-9e5e47c28032"
      },
      "source": [
        "y_pred = logReg.predict(x_test)\n",
        "y_pred"
      ],
      "execution_count": 30,
      "outputs": [
        {
          "output_type": "execute_result",
          "data": {
            "text/plain": [
              "array([0, 1, 1, 1, 1, 1, 1, 1, 1, 0, 0, 0, 0, 1, 0, 1, 1, 1, 1, 1, 0, 1,\n",
              "       1, 1, 1, 0, 0, 0, 0, 0, 0, 1, 1, 0, 1, 1, 1, 1, 1, 0, 0, 0, 1, 0,\n",
              "       0, 1, 0, 1, 0, 1, 1, 0, 1, 1, 0, 0, 1, 0, 0, 0, 0, 1, 1, 1, 0, 0,\n",
              "       0, 1, 1, 1, 1, 0, 0, 1, 1, 1, 0, 1, 0, 1, 1, 1, 1, 1, 1, 0, 0, 0,\n",
              "       1, 0, 1, 1, 1, 0, 1, 0, 1, 1, 0, 0, 1, 0, 1, 1, 0, 0, 1, 0, 0, 0,\n",
              "       0, 1, 0, 0, 1, 0, 0, 1, 1, 1, 0, 1, 1, 1, 1, 0, 1, 0, 0, 0, 1, 0,\n",
              "       0, 1, 1, 0, 1, 0, 1, 0, 0, 0, 1, 1, 0, 1, 0, 0, 0, 1, 0, 0, 0, 1,\n",
              "       1, 0, 0, 0, 1, 1, 0, 1, 0, 1, 1, 1, 1, 0, 0, 1, 1, 0, 0, 0, 0, 1,\n",
              "       0, 1, 1, 0, 1, 1, 1, 1, 1, 0, 0, 1, 0, 1, 1, 1, 1, 0, 0, 1, 1, 1,\n",
              "       1, 0, 1, 1, 0, 0, 1, 0, 0, 0, 1, 0, 1, 0, 1, 0, 1, 0, 0, 1, 0, 0,\n",
              "       0, 1, 0, 0, 0, 0, 0, 1, 1, 1, 1, 0, 1, 1, 1, 0, 0, 0, 0, 0, 0, 1,\n",
              "       0, 0, 1, 0, 1, 1, 1, 1])"
            ]
          },
          "metadata": {},
          "execution_count": 30
        }
      ]
    },
    {
      "cell_type": "markdown",
      "metadata": {
        "id": "s_FEK7kDDiok"
      },
      "source": [
        "## Task 6: Model Evaluation"
      ]
    },
    {
      "cell_type": "code",
      "metadata": {
        "colab": {
          "base_uri": "https://localhost:8080/"
        },
        "id": "J7jc4anahNpv",
        "outputId": "b38393d9-6432-48b4-fc2b-716bf236d882"
      },
      "source": [
        "logReg.score(x_test, y_test)"
      ],
      "execution_count": 31,
      "outputs": [
        {
          "output_type": "execute_result",
          "data": {
            "text/plain": [
              "0.98"
            ]
          },
          "metadata": {},
          "execution_count": 31
        }
      ]
    },
    {
      "cell_type": "code",
      "metadata": {
        "colab": {
          "base_uri": "https://localhost:8080/"
        },
        "id": "xILW-QhfhXAm",
        "outputId": "dd18f954-2813-44b6-f34e-aadf4983c99b"
      },
      "source": [
        "from sklearn.metrics import confusion_matrix\n",
        "confusion_matrix(y_test, y_pred)"
      ],
      "execution_count": 32,
      "outputs": [
        {
          "output_type": "execute_result",
          "data": {
            "text/plain": [
              "array([[119,   4],\n",
              "       [  1, 126]])"
            ]
          },
          "metadata": {},
          "execution_count": 32
        }
      ]
    },
    {
      "cell_type": "code",
      "metadata": {
        "colab": {
          "base_uri": "https://localhost:8080/"
        },
        "id": "zSY6h9SYhkW2",
        "outputId": "9be78e04-cdf4-4157-9310-c13dd1fe77f0"
      },
      "source": [
        "from sklearn.metrics import classification_report\n",
        "print(classification_report(y_test, y_pred))"
      ],
      "execution_count": 33,
      "outputs": [
        {
          "output_type": "stream",
          "name": "stdout",
          "text": [
            "              precision    recall  f1-score   support\n",
            "\n",
            "           0       0.99      0.97      0.98       123\n",
            "           1       0.97      0.99      0.98       127\n",
            "\n",
            "    accuracy                           0.98       250\n",
            "   macro avg       0.98      0.98      0.98       250\n",
            "weighted avg       0.98      0.98      0.98       250\n",
            "\n"
          ]
        }
      ]
    },
    {
      "cell_type": "code",
      "metadata": {
        "id": "qRu9C5Fkh9oc"
      },
      "source": [
        "cm = confusion_matrix(y_test, y_pred)"
      ],
      "execution_count": 34,
      "outputs": []
    },
    {
      "cell_type": "code",
      "metadata": {
        "colab": {
          "base_uri": "https://localhost:8080/",
          "height": 296
        },
        "id": "n3ZlI0JFiF95",
        "outputId": "0d769724-387b-4d9a-813e-b92c105648a4"
      },
      "source": [
        "sns.heatmap(cm, annot=True, fmt='0.0f')\n",
        "plt.ylabel('actual value')\n",
        "plt.xlabel('predicted value')"
      ],
      "execution_count": 35,
      "outputs": [
        {
          "output_type": "execute_result",
          "data": {
            "text/plain": [
              "Text(0.5, 15.0, 'predicted value')"
            ]
          },
          "metadata": {},
          "execution_count": 35
        },
        {
          "output_type": "display_data",
          "data": {
            "image/png": "[encoded data removed]",
            "text/plain": [
              "<Figure size 432x288 with 2 Axes>"
            ]
          },
          "metadata": {
            "needs_background": "light"
          }
        }
      ]
    },
    {
      "cell_type": "markdown",
      "metadata": {
        "id": "F4Iv-2ZID3c5"
      },
      "source": [
        "## Conclusions\n",
        "BT: The two x variables combined, Self_Study_Daily and Tution_Monthly were 98% accurate in predicting whether a student would pass or fail. That's (119 + 126)/(119 + 4 + 1 + 126) = .98, or (TN + TP)/(TN + FP + FN +TP)\n",
        "\n",
        "The True Positive Rate was 119/(119 + 4) = .97, as indicated by 0 recall in the classification report. \n",
        "\n",
        "The True Negative Rate was 126/(1 + 126) = .99, as indicated by the 1 recall in the classification report. \n",
        "\n",
        "The average of .97 and .99 is .98, and this .98 is the Macro Average of Accuracy in the classification report. \n",
        "\n",
        "The machine learning model, with an accuracy of .98 was more accurate than Tuition_Monthly (-.77) or Self_Study_Daily (.79) in predicting whether a student would pass or fail.\n",
        "\n"
      ]
    }
  ]
}
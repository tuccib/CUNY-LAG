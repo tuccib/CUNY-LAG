{
  "nbformat": 4,
  "nbformat_minor": 0,
  "metadata": {
    "colab": {
      "name": "211108 Advertising - Project 1",
      "provenance": [],
      "collapsed_sections": [],
      "toc_visible": true,
      "include_colab_link": true
    },
    "kernelspec": {
      "display_name": "Python 3",
      "name": "python3"
    }
  },
  "cells": [
    {
      "cell_type": "markdown",
      "metadata": {
        "id": "view-in-github",
        "colab_type": "text"
      },
      "source": [
        "<a href=\"https://colab.research.google.com/github/tuccib/CUNY_LAG/blob/Analytics/211108_Advertising_Project_1.ipynb\" target=\"_parent\"><img src=\"https://colab.research.google.com/assets/colab-badge.svg\" alt=\"Open In Colab\"/></a>"
      ]
    },
    {
      "cell_type": "markdown",
      "metadata": {
        "id": "PxJRPc5T5ijS"
      },
      "source": [
        "Research Question: Can the an internet user's clicking of an ad be predicted by a combination of Daily Time Spent on Site, Daily Internet Usage, Age, Area Income, and Gender ? Logistic Regression and KNN Models were used to predict the results. "
      ]
    },
    {
      "cell_type": "markdown",
      "metadata": {
        "id": "xhNWXzed7QW6"
      },
      "source": [
        "## Task 1: Environment Set Up"
      ]
    },
    {
      "cell_type": "code",
      "metadata": {
        "id": "CWk-89Db6Ica"
      },
      "source": [
        "#import libraries\n",
        "import numpy as np\n",
        "import pandas as pd"
      ],
      "execution_count": 1,
      "outputs": []
    },
    {
      "cell_type": "markdown",
      "metadata": {
        "id": "vUjqnU8H7W5a"
      },
      "source": [
        "## Task 2: Data Collection"
      ]
    },
    {
      "cell_type": "code",
      "metadata": {
        "colab": {
          "base_uri": "https://localhost:8080/",
          "height": 304
        },
        "id": "tiDQN_-e6bHr",
        "outputId": "12c5bc09-6cd6-4c8d-cb1a-15eefe2ff6c8"
      },
      "source": [
        "df1 = pd.read_csv('https://raw.githubusercontent.com/niteen11/data301_predictive_analytics_machine_learning/main/data/advertising.csv')\n",
        "df1.head()"
      ],
      "execution_count": 2,
      "outputs": [
        {
          "output_type": "execute_result",
          "data": {
            "text/html": [
              "<div>\n",
              "<style scoped>\n",
              "    .dataframe tbody tr th:only-of-type {\n",
              "        vertical-align: middle;\n",
              "    }\n",
              "\n",
              "    .dataframe tbody tr th {\n",
              "        vertical-align: top;\n",
              "    }\n",
              "\n",
              "    .dataframe thead th {\n",
              "        text-align: right;\n",
              "    }\n",
              "</style>\n",
              "<table border=\"1\" class=\"dataframe\">\n",
              "  <thead>\n",
              "    <tr style=\"text-align: right;\">\n",
              "      <th></th>\n",
              "      <th>Daily Time Spent on Site</th>\n",
              "      <th>Age</th>\n",
              "      <th>Area Income</th>\n",
              "      <th>Daily Internet Usage</th>\n",
              "      <th>Ad Topic Line</th>\n",
              "      <th>City</th>\n",
              "      <th>Male</th>\n",
              "      <th>Country</th>\n",
              "      <th>Timestamp</th>\n",
              "      <th>Clicked on Ad</th>\n",
              "    </tr>\n",
              "  </thead>\n",
              "  <tbody>\n",
              "    <tr>\n",
              "      <th>0</th>\n",
              "      <td>68.95</td>\n",
              "      <td>35</td>\n",
              "      <td>61833.90</td>\n",
              "      <td>256.09</td>\n",
              "      <td>Cloned 5thgeneration orchestration</td>\n",
              "      <td>Wrightburgh</td>\n",
              "      <td>0</td>\n",
              "      <td>Tunisia</td>\n",
              "      <td>2016-03-27 00:53:11</td>\n",
              "      <td>0</td>\n",
              "    </tr>\n",
              "    <tr>\n",
              "      <th>1</th>\n",
              "      <td>80.23</td>\n",
              "      <td>31</td>\n",
              "      <td>68441.85</td>\n",
              "      <td>193.77</td>\n",
              "      <td>Monitored national standardization</td>\n",
              "      <td>West Jodi</td>\n",
              "      <td>1</td>\n",
              "      <td>Nauru</td>\n",
              "      <td>2016-04-04 01:39:02</td>\n",
              "      <td>0</td>\n",
              "    </tr>\n",
              "    <tr>\n",
              "      <th>2</th>\n",
              "      <td>69.47</td>\n",
              "      <td>26</td>\n",
              "      <td>59785.94</td>\n",
              "      <td>236.50</td>\n",
              "      <td>Organic bottom-line service-desk</td>\n",
              "      <td>Davidton</td>\n",
              "      <td>0</td>\n",
              "      <td>San Marino</td>\n",
              "      <td>2016-03-13 20:35:42</td>\n",
              "      <td>0</td>\n",
              "    </tr>\n",
              "    <tr>\n",
              "      <th>3</th>\n",
              "      <td>74.15</td>\n",
              "      <td>29</td>\n",
              "      <td>54806.18</td>\n",
              "      <td>245.89</td>\n",
              "      <td>Triple-buffered reciprocal time-frame</td>\n",
              "      <td>West Terrifurt</td>\n",
              "      <td>1</td>\n",
              "      <td>Italy</td>\n",
              "      <td>2016-01-10 02:31:19</td>\n",
              "      <td>0</td>\n",
              "    </tr>\n",
              "    <tr>\n",
              "      <th>4</th>\n",
              "      <td>68.37</td>\n",
              "      <td>35</td>\n",
              "      <td>73889.99</td>\n",
              "      <td>225.58</td>\n",
              "      <td>Robust logistical utilization</td>\n",
              "      <td>South Manuel</td>\n",
              "      <td>0</td>\n",
              "      <td>Iceland</td>\n",
              "      <td>2016-06-03 03:36:18</td>\n",
              "      <td>0</td>\n",
              "    </tr>\n",
              "  </tbody>\n",
              "</table>\n",
              "</div>"
            ],
            "text/plain": [
              "   Daily Time Spent on Site  Age  ...            Timestamp  Clicked on Ad\n",
              "0                     68.95   35  ...  2016-03-27 00:53:11              0\n",
              "1                     80.23   31  ...  2016-04-04 01:39:02              0\n",
              "2                     69.47   26  ...  2016-03-13 20:35:42              0\n",
              "3                     74.15   29  ...  2016-01-10 02:31:19              0\n",
              "4                     68.37   35  ...  2016-06-03 03:36:18              0\n",
              "\n",
              "[5 rows x 10 columns]"
            ]
          },
          "metadata": {},
          "execution_count": 2
        }
      ]
    },
    {
      "cell_type": "code",
      "metadata": {
        "colab": {
          "base_uri": "https://localhost:8080/"
        },
        "id": "QJJdXQeY6q2F",
        "outputId": "540a1f46-7d2a-4ffc-d628-3b91c3a7648b"
      },
      "source": [
        "df1.shape"
      ],
      "execution_count": 3,
      "outputs": [
        {
          "output_type": "execute_result",
          "data": {
            "text/plain": [
              "(1000, 10)"
            ]
          },
          "metadata": {},
          "execution_count": 3
        }
      ]
    },
    {
      "cell_type": "code",
      "metadata": {
        "colab": {
          "base_uri": "https://localhost:8080/"
        },
        "id": "tmGck8SV6u8e",
        "outputId": "9c4a473d-07d4-4b0d-a32e-89b40a6b0292"
      },
      "source": [
        "df1.describe"
      ],
      "execution_count": 4,
      "outputs": [
        {
          "output_type": "execute_result",
          "data": {
            "text/plain": [
              "<bound method NDFrame.describe of      Daily Time Spent on Site  Age  ...            Timestamp  Clicked on Ad\n",
              "0                       68.95   35  ...  2016-03-27 00:53:11              0\n",
              "1                       80.23   31  ...  2016-04-04 01:39:02              0\n",
              "2                       69.47   26  ...  2016-03-13 20:35:42              0\n",
              "3                       74.15   29  ...  2016-01-10 02:31:19              0\n",
              "4                       68.37   35  ...  2016-06-03 03:36:18              0\n",
              "..                        ...  ...  ...                  ...            ...\n",
              "995                     72.97   30  ...  2016-02-11 21:49:00              1\n",
              "996                     51.30   45  ...  2016-04-22 02:07:01              1\n",
              "997                     51.63   51  ...  2016-02-01 17:24:57              1\n",
              "998                     55.55   19  ...  2016-03-24 02:35:54              0\n",
              "999                     45.01   26  ...  2016-06-03 21:43:21              1\n",
              "\n",
              "[1000 rows x 10 columns]>"
            ]
          },
          "metadata": {},
          "execution_count": 4
        }
      ]
    },
    {
      "cell_type": "code",
      "metadata": {
        "colab": {
          "base_uri": "https://localhost:8080/"
        },
        "id": "QLJ_BUuG69G_",
        "outputId": "493b3e3e-48e7-4282-8363-c15394ff7011"
      },
      "source": [
        "df1.isnull().sum()"
      ],
      "execution_count": 5,
      "outputs": [
        {
          "output_type": "execute_result",
          "data": {
            "text/plain": [
              "Daily Time Spent on Site    0\n",
              "Age                         0\n",
              "Area Income                 0\n",
              "Daily Internet Usage        0\n",
              "Ad Topic Line               0\n",
              "City                        0\n",
              "Male                        0\n",
              "Country                     0\n",
              "Timestamp                   0\n",
              "Clicked on Ad               0\n",
              "dtype: int64"
            ]
          },
          "metadata": {},
          "execution_count": 5
        }
      ]
    },
    {
      "cell_type": "markdown",
      "metadata": {
        "id": "oyKbi8aAiD0b"
      },
      "source": [
        "BT: There is no null data"
      ]
    },
    {
      "cell_type": "code",
      "metadata": {
        "colab": {
          "base_uri": "https://localhost:8080/"
        },
        "id": "ehIennD27ARN",
        "outputId": "57223977-56ca-43aa-96a1-b7c31f0f4357"
      },
      "source": [
        "df1.info()"
      ],
      "execution_count": 7,
      "outputs": [
        {
          "output_type": "stream",
          "name": "stdout",
          "text": [
            "<class 'pandas.core.frame.DataFrame'>\n",
            "RangeIndex: 1000 entries, 0 to 999\n",
            "Data columns (total 10 columns):\n",
            " #   Column                    Non-Null Count  Dtype  \n",
            "---  ------                    --------------  -----  \n",
            " 0   Daily Time Spent on Site  1000 non-null   float64\n",
            " 1   Age                       1000 non-null   int64  \n",
            " 2   Area Income               1000 non-null   float64\n",
            " 3   Daily Internet Usage      1000 non-null   float64\n",
            " 4   Ad Topic Line             1000 non-null   object \n",
            " 5   City                      1000 non-null   object \n",
            " 6   Male                      1000 non-null   int64  \n",
            " 7   Country                   1000 non-null   object \n",
            " 8   Timestamp                 1000 non-null   object \n",
            " 9   Clicked on Ad             1000 non-null   int64  \n",
            "dtypes: float64(3), int64(3), object(4)\n",
            "memory usage: 78.2+ KB\n"
          ]
        }
      ]
    },
    {
      "cell_type": "markdown",
      "metadata": {
        "id": "Haq5vTDSBqjP"
      },
      "source": [
        "BT: There are 1,000 rows of data"
      ]
    },
    {
      "cell_type": "markdown",
      "metadata": {
        "id": "ucvrluf07J0b"
      },
      "source": [
        "## Task 3: Data Wrangling and EDA"
      ]
    },
    {
      "cell_type": "code",
      "metadata": {
        "id": "H-o24yMX7fAP"
      },
      "source": [
        "import seaborn as sns\n",
        "import matplotlib.pyplot as plt"
      ],
      "execution_count": 8,
      "outputs": []
    },
    {
      "cell_type": "code",
      "metadata": {
        "colab": {
          "base_uri": "https://localhost:8080/",
          "height": 614
        },
        "id": "bWRB0MkU7l-R",
        "outputId": "35948642-821b-4c7a-e0fa-6e85e575d1fe"
      },
      "source": [
        "plt.figure(figsize=(25,10))\n",
        "plt.bar(x=df1['Age'], height=df1['Area Income'], color='green')\n",
        "plt.xticks(rotation=90)\n",
        "plt.show()"
      ],
      "execution_count": 9,
      "outputs": [
        {
          "output_type": "display_data",
          "data": {
            "image/png": "[encoded data removed]",
            "text/plain": [
              "<Figure size 1800x720 with 1 Axes>"
            ]
          },
          "metadata": {
            "needs_background": "light"
          }
        }
      ]
    },
    {
      "cell_type": "markdown",
      "metadata": {
        "id": "3moNThJR5N0y"
      },
      "source": [
        "BT: Plot of Area Income vs Age. Area Income holds fairly steady between ages 30-50 then drops off. "
      ]
    },
    {
      "cell_type": "code",
      "metadata": {
        "colab": {
          "base_uri": "https://localhost:8080/",
          "height": 296
        },
        "id": "l-ob8qvV8Y7O",
        "outputId": "f5ae5681-6c99-4439-fe85-8417b8515889"
      },
      "source": [
        "sns.set_style('whitegrid')\n",
        "sns.countplot(x='Clicked on Ad', data=df1)"
      ],
      "execution_count": 10,
      "outputs": [
        {
          "output_type": "execute_result",
          "data": {
            "text/plain": [
              "<matplotlib.axes._subplots.AxesSubplot at 0x7f383d13e350>"
            ]
          },
          "metadata": {},
          "execution_count": 10
        },
        {
          "output_type": "display_data",
          "data": {
            "image/png": "[encoded data removed]",
            "text/plain": [
              "<Figure size 432x288 with 1 Axes>"
            ]
          },
          "metadata": {}
        }
      ]
    },
    {
      "cell_type": "markdown",
      "metadata": {
        "id": "MwzVHxNwBcn9"
      },
      "source": [
        "BT: There were 500 clicks and 500 non-clicks for the ads. "
      ]
    },
    {
      "cell_type": "code",
      "metadata": {
        "colab": {
          "base_uri": "https://localhost:8080/",
          "height": 296
        },
        "id": "ZC5yb21vBDn4",
        "outputId": "571dbd09-a394-44fe-e029-6abe76ca1024"
      },
      "source": [
        "sns.set_style('whitegrid')\n",
        "sns.countplot(x='Clicked on Ad', hue='Male', data=df1)"
      ],
      "execution_count": 11,
      "outputs": [
        {
          "output_type": "execute_result",
          "data": {
            "text/plain": [
              "<matplotlib.axes._subplots.AxesSubplot at 0x7f383d108c90>"
            ]
          },
          "metadata": {},
          "execution_count": 11
        },
        {
          "output_type": "display_data",
          "data": {
            "image/png": "[encoded data removed]",
            "text/plain": [
              "<Figure size 432x288 with 1 Axes>"
            ]
          },
          "metadata": {}
        }
      ]
    },
    {
      "cell_type": "markdown",
      "metadata": {
        "id": "1Wvly46CCGHb"
      },
      "source": [
        "BT: Females were more likely than males to click on the add. "
      ]
    },
    {
      "cell_type": "code",
      "metadata": {
        "colab": {
          "base_uri": "https://localhost:8080/",
          "height": 350
        },
        "id": "Kpd3uErmCNbv",
        "outputId": "7fc19497-c5db-4451-913a-81a62e750557"
      },
      "source": [
        "sns.distplot(df1['Age'].dropna(), kde=False, bins=30)"
      ],
      "execution_count": 12,
      "outputs": [
        {
          "output_type": "stream",
          "name": "stderr",
          "text": [
            "/usr/local/lib/python3.7/dist-packages/seaborn/distributions.py:2619: FutureWarning: `distplot` is a deprecated function and will be removed in a future version. Please adapt your code to use either `displot` (a figure-level function with similar flexibility) or `histplot` (an axes-level function for histograms).\n",
            "  warnings.warn(msg, FutureWarning)\n"
          ]
        },
        {
          "output_type": "execute_result",
          "data": {
            "text/plain": [
              "<matplotlib.axes._subplots.AxesSubplot at 0x7f383c638fd0>"
            ]
          },
          "metadata": {},
          "execution_count": 12
        },
        {
          "output_type": "display_data",
          "data": {
            "image/png": "[encoded data removed]",
            "text/plain": [
              "<Figure size 432x288 with 1 Axes>"
            ]
          },
          "metadata": {}
        }
      ]
    },
    {
      "cell_type": "markdown",
      "metadata": {
        "id": "1SpdgVFGDwsk"
      },
      "source": [
        "BT: PLot of age distribution of customers. Usage drops off after 45 years. "
      ]
    },
    {
      "cell_type": "code",
      "metadata": {
        "colab": {
          "base_uri": "https://localhost:8080/",
          "height": 350
        },
        "id": "6OQtmcsHEG5L",
        "outputId": "7f3670b6-911a-462d-b9d2-b4b504e51e10"
      },
      "source": [
        "sns.distplot(df1['Daily Internet Usage'].dropna(), kde=False, bins=30)"
      ],
      "execution_count": 13,
      "outputs": [
        {
          "output_type": "stream",
          "name": "stderr",
          "text": [
            "/usr/local/lib/python3.7/dist-packages/seaborn/distributions.py:2619: FutureWarning: `distplot` is a deprecated function and will be removed in a future version. Please adapt your code to use either `displot` (a figure-level function with similar flexibility) or `histplot` (an axes-level function for histograms).\n",
            "  warnings.warn(msg, FutureWarning)\n"
          ]
        },
        {
          "output_type": "execute_result",
          "data": {
            "text/plain": [
              "<matplotlib.axes._subplots.AxesSubplot at 0x7f383c58a210>"
            ]
          },
          "metadata": {},
          "execution_count": 13
        },
        {
          "output_type": "display_data",
          "data": {
            "image/png": "[encoded data removed]",
            "text/plain": [
              "<Figure size 432x288 with 1 Axes>"
            ]
          },
          "metadata": {}
        }
      ]
    },
    {
      "cell_type": "markdown",
      "metadata": {
        "id": "nEI-yOa7ESAS"
      },
      "source": [
        "BT: Plot of daily internet useage (minutes). "
      ]
    },
    {
      "cell_type": "code",
      "metadata": {
        "id": "NunKFmwlEWHM",
        "colab": {
          "base_uri": "https://localhost:8080/",
          "height": 350
        },
        "outputId": "5509789e-da64-4caa-f32e-94bacb972b63"
      },
      "source": [
        "sns.distplot(df1['Daily Internet Usage'].dropna(), kde=False, bins=30)"
      ],
      "execution_count": 14,
      "outputs": [
        {
          "output_type": "stream",
          "name": "stderr",
          "text": [
            "/usr/local/lib/python3.7/dist-packages/seaborn/distributions.py:2619: FutureWarning: `distplot` is a deprecated function and will be removed in a future version. Please adapt your code to use either `displot` (a figure-level function with similar flexibility) or `histplot` (an axes-level function for histograms).\n",
            "  warnings.warn(msg, FutureWarning)\n"
          ]
        },
        {
          "output_type": "execute_result",
          "data": {
            "text/plain": [
              "<matplotlib.axes._subplots.AxesSubplot at 0x7f383c523510>"
            ]
          },
          "metadata": {},
          "execution_count": 14
        },
        {
          "output_type": "display_data",
          "data": {
            "image/png": "[encoded data removed]",
            "text/plain": [
              "<Figure size 432x288 with 1 Axes>"
            ]
          },
          "metadata": {}
        }
      ]
    },
    {
      "cell_type": "markdown",
      "metadata": {
        "id": "UyNGOnw144tJ"
      },
      "source": [
        "BT: Plot of Daily Internet Usage (minutes). "
      ]
    },
    {
      "cell_type": "code",
      "metadata": {
        "colab": {
          "base_uri": "https://localhost:8080/",
          "height": 602
        },
        "id": "4K0A8FeGEqLr",
        "outputId": "41252504-5530-417c-d227-c7646542ab5c"
      },
      "source": [
        "df1.rename(columns={'Daily Time Spent on Site':'Daily Site Time'})"
      ],
      "execution_count": 15,
      "outputs": [
        {
          "output_type": "execute_result",
          "data": {
            "text/html": [
              "<div>\n",
              "<style scoped>\n",
              "    .dataframe tbody tr th:only-of-type {\n",
              "        vertical-align: middle;\n",
              "    }\n",
              "\n",
              "    .dataframe tbody tr th {\n",
              "        vertical-align: top;\n",
              "    }\n",
              "\n",
              "    .dataframe thead th {\n",
              "        text-align: right;\n",
              "    }\n",
              "</style>\n",
              "<table border=\"1\" class=\"dataframe\">\n",
              "  <thead>\n",
              "    <tr style=\"text-align: right;\">\n",
              "      <th></th>\n",
              "      <th>Daily Site Time</th>\n",
              "      <th>Age</th>\n",
              "      <th>Area Income</th>\n",
              "      <th>Daily Internet Usage</th>\n",
              "      <th>Ad Topic Line</th>\n",
              "      <th>City</th>\n",
              "      <th>Male</th>\n",
              "      <th>Country</th>\n",
              "      <th>Timestamp</th>\n",
              "      <th>Clicked on Ad</th>\n",
              "    </tr>\n",
              "  </thead>\n",
              "  <tbody>\n",
              "    <tr>\n",
              "      <th>0</th>\n",
              "      <td>68.95</td>\n",
              "      <td>35</td>\n",
              "      <td>61833.90</td>\n",
              "      <td>256.09</td>\n",
              "      <td>Cloned 5thgeneration orchestration</td>\n",
              "      <td>Wrightburgh</td>\n",
              "      <td>0</td>\n",
              "      <td>Tunisia</td>\n",
              "      <td>2016-03-27 00:53:11</td>\n",
              "      <td>0</td>\n",
              "    </tr>\n",
              "    <tr>\n",
              "      <th>1</th>\n",
              "      <td>80.23</td>\n",
              "      <td>31</td>\n",
              "      <td>68441.85</td>\n",
              "      <td>193.77</td>\n",
              "      <td>Monitored national standardization</td>\n",
              "      <td>West Jodi</td>\n",
              "      <td>1</td>\n",
              "      <td>Nauru</td>\n",
              "      <td>2016-04-04 01:39:02</td>\n",
              "      <td>0</td>\n",
              "    </tr>\n",
              "    <tr>\n",
              "      <th>2</th>\n",
              "      <td>69.47</td>\n",
              "      <td>26</td>\n",
              "      <td>59785.94</td>\n",
              "      <td>236.50</td>\n",
              "      <td>Organic bottom-line service-desk</td>\n",
              "      <td>Davidton</td>\n",
              "      <td>0</td>\n",
              "      <td>San Marino</td>\n",
              "      <td>2016-03-13 20:35:42</td>\n",
              "      <td>0</td>\n",
              "    </tr>\n",
              "    <tr>\n",
              "      <th>3</th>\n",
              "      <td>74.15</td>\n",
              "      <td>29</td>\n",
              "      <td>54806.18</td>\n",
              "      <td>245.89</td>\n",
              "      <td>Triple-buffered reciprocal time-frame</td>\n",
              "      <td>West Terrifurt</td>\n",
              "      <td>1</td>\n",
              "      <td>Italy</td>\n",
              "      <td>2016-01-10 02:31:19</td>\n",
              "      <td>0</td>\n",
              "    </tr>\n",
              "    <tr>\n",
              "      <th>4</th>\n",
              "      <td>68.37</td>\n",
              "      <td>35</td>\n",
              "      <td>73889.99</td>\n",
              "      <td>225.58</td>\n",
              "      <td>Robust logistical utilization</td>\n",
              "      <td>South Manuel</td>\n",
              "      <td>0</td>\n",
              "      <td>Iceland</td>\n",
              "      <td>2016-06-03 03:36:18</td>\n",
              "      <td>0</td>\n",
              "    </tr>\n",
              "    <tr>\n",
              "      <th>...</th>\n",
              "      <td>...</td>\n",
              "      <td>...</td>\n",
              "      <td>...</td>\n",
              "      <td>...</td>\n",
              "      <td>...</td>\n",
              "      <td>...</td>\n",
              "      <td>...</td>\n",
              "      <td>...</td>\n",
              "      <td>...</td>\n",
              "      <td>...</td>\n",
              "    </tr>\n",
              "    <tr>\n",
              "      <th>995</th>\n",
              "      <td>72.97</td>\n",
              "      <td>30</td>\n",
              "      <td>71384.57</td>\n",
              "      <td>208.58</td>\n",
              "      <td>Fundamental modular algorithm</td>\n",
              "      <td>Duffystad</td>\n",
              "      <td>1</td>\n",
              "      <td>Lebanon</td>\n",
              "      <td>2016-02-11 21:49:00</td>\n",
              "      <td>1</td>\n",
              "    </tr>\n",
              "    <tr>\n",
              "      <th>996</th>\n",
              "      <td>51.30</td>\n",
              "      <td>45</td>\n",
              "      <td>67782.17</td>\n",
              "      <td>134.42</td>\n",
              "      <td>Grass-roots cohesive monitoring</td>\n",
              "      <td>New Darlene</td>\n",
              "      <td>1</td>\n",
              "      <td>Bosnia and Herzegovina</td>\n",
              "      <td>2016-04-22 02:07:01</td>\n",
              "      <td>1</td>\n",
              "    </tr>\n",
              "    <tr>\n",
              "      <th>997</th>\n",
              "      <td>51.63</td>\n",
              "      <td>51</td>\n",
              "      <td>42415.72</td>\n",
              "      <td>120.37</td>\n",
              "      <td>Expanded intangible solution</td>\n",
              "      <td>South Jessica</td>\n",
              "      <td>1</td>\n",
              "      <td>Mongolia</td>\n",
              "      <td>2016-02-01 17:24:57</td>\n",
              "      <td>1</td>\n",
              "    </tr>\n",
              "    <tr>\n",
              "      <th>998</th>\n",
              "      <td>55.55</td>\n",
              "      <td>19</td>\n",
              "      <td>41920.79</td>\n",
              "      <td>187.95</td>\n",
              "      <td>Proactive bandwidth-monitored policy</td>\n",
              "      <td>West Steven</td>\n",
              "      <td>0</td>\n",
              "      <td>Guatemala</td>\n",
              "      <td>2016-03-24 02:35:54</td>\n",
              "      <td>0</td>\n",
              "    </tr>\n",
              "    <tr>\n",
              "      <th>999</th>\n",
              "      <td>45.01</td>\n",
              "      <td>26</td>\n",
              "      <td>29875.80</td>\n",
              "      <td>178.35</td>\n",
              "      <td>Virtual 5thgeneration emulation</td>\n",
              "      <td>Ronniemouth</td>\n",
              "      <td>0</td>\n",
              "      <td>Brazil</td>\n",
              "      <td>2016-06-03 21:43:21</td>\n",
              "      <td>1</td>\n",
              "    </tr>\n",
              "  </tbody>\n",
              "</table>\n",
              "<p>1000 rows × 10 columns</p>\n",
              "</div>"
            ],
            "text/plain": [
              "     Daily Site Time  Age  ...            Timestamp  Clicked on Ad\n",
              "0              68.95   35  ...  2016-03-27 00:53:11              0\n",
              "1              80.23   31  ...  2016-04-04 01:39:02              0\n",
              "2              69.47   26  ...  2016-03-13 20:35:42              0\n",
              "3              74.15   29  ...  2016-01-10 02:31:19              0\n",
              "4              68.37   35  ...  2016-06-03 03:36:18              0\n",
              "..               ...  ...  ...                  ...            ...\n",
              "995            72.97   30  ...  2016-02-11 21:49:00              1\n",
              "996            51.30   45  ...  2016-04-22 02:07:01              1\n",
              "997            51.63   51  ...  2016-02-01 17:24:57              1\n",
              "998            55.55   19  ...  2016-03-24 02:35:54              0\n",
              "999            45.01   26  ...  2016-06-03 21:43:21              1\n",
              "\n",
              "[1000 rows x 10 columns]"
            ]
          },
          "metadata": {},
          "execution_count": 15
        }
      ]
    },
    {
      "cell_type": "code",
      "metadata": {
        "colab": {
          "base_uri": "https://localhost:8080/",
          "height": 350
        },
        "id": "P5gF7PCbFanm",
        "outputId": "f98dee49-d5c0-487e-a222-fbca747f77ee"
      },
      "source": [
        "sns.distplot(df1['Daily Time Spent on Site'].dropna(), kde=False, bins=30)"
      ],
      "execution_count": 16,
      "outputs": [
        {
          "output_type": "stream",
          "name": "stderr",
          "text": [
            "/usr/local/lib/python3.7/dist-packages/seaborn/distributions.py:2619: FutureWarning: `distplot` is a deprecated function and will be removed in a future version. Please adapt your code to use either `displot` (a figure-level function with similar flexibility) or `histplot` (an axes-level function for histograms).\n",
            "  warnings.warn(msg, FutureWarning)\n"
          ]
        },
        {
          "output_type": "execute_result",
          "data": {
            "text/plain": [
              "<matplotlib.axes._subplots.AxesSubplot at 0x7f383c3e24d0>"
            ]
          },
          "metadata": {},
          "execution_count": 16
        },
        {
          "output_type": "display_data",
          "data": {
            "image/png": "[encoded data removed]",
            "text/plain": [
              "<Figure size 432x288 with 1 Axes>"
            ]
          },
          "metadata": {}
        }
      ]
    },
    {
      "cell_type": "markdown",
      "metadata": {
        "id": "ogwx0qLSjxmK"
      },
      "source": [
        "BT: Plot of Daily Time Spent on Site"
      ]
    },
    {
      "cell_type": "code",
      "metadata": {
        "colab": {
          "base_uri": "https://localhost:8080/",
          "height": 399
        },
        "id": "tIsEckDQQJAF",
        "outputId": "b94e4062-ad61-457d-db76-01b98ae2cf82"
      },
      "source": [
        "sns.heatmap(df1.corr(), annot=True)"
      ],
      "execution_count": 18,
      "outputs": [
        {
          "output_type": "execute_result",
          "data": {
            "text/plain": [
              "<matplotlib.axes._subplots.AxesSubplot at 0x7f383c279990>"
            ]
          },
          "metadata": {},
          "execution_count": 18
        },
        {
          "output_type": "display_data",
          "data": {
            "image/png": "[encoded data removed]",
            "text/plain": [
              "<Figure size 432x288 with 2 Axes>"
            ]
          },
          "metadata": {}
        }
      ]
    },
    {
      "cell_type": "markdown",
      "metadata": {
        "id": "6UIXqTqD4QF1"
      },
      "source": [
        "BT: There is a strong negative correlation between Clicked on Ad and Daily Time Spent on Site (-.75). The same holds for Daily Internet Usage (-.79). Age (.49) and Area Income (-.48) had only modest predictive value for Clicked on Ad. "
      ]
    },
    {
      "cell_type": "markdown",
      "metadata": {
        "id": "uVfJAEIfGjKA"
      },
      "source": [
        "## Task 4: Data Pre-Processing"
      ]
    },
    {
      "cell_type": "code",
      "metadata": {
        "id": "uo7-9xQDGn3X"
      },
      "source": [
        "train1 = df1"
      ],
      "execution_count": 19,
      "outputs": []
    },
    {
      "cell_type": "code",
      "metadata": {
        "id": "OTDjSKdkG5HS"
      },
      "source": [
        "train1.drop(['Ad Topic Line', 'City', 'Country', 'Timestamp'], axis=1, inplace=True)"
      ],
      "execution_count": 20,
      "outputs": []
    },
    {
      "cell_type": "code",
      "metadata": {
        "colab": {
          "base_uri": "https://localhost:8080/",
          "height": 203
        },
        "id": "4boERmy4INbA",
        "outputId": "c9b3a12a-7242-41c1-d414-c83a95f969ad"
      },
      "source": [
        "train1.head()"
      ],
      "execution_count": 21,
      "outputs": [
        {
          "output_type": "execute_result",
          "data": {
            "text/html": [
              "<div>\n",
              "<style scoped>\n",
              "    .dataframe tbody tr th:only-of-type {\n",
              "        vertical-align: middle;\n",
              "    }\n",
              "\n",
              "    .dataframe tbody tr th {\n",
              "        vertical-align: top;\n",
              "    }\n",
              "\n",
              "    .dataframe thead th {\n",
              "        text-align: right;\n",
              "    }\n",
              "</style>\n",
              "<table border=\"1\" class=\"dataframe\">\n",
              "  <thead>\n",
              "    <tr style=\"text-align: right;\">\n",
              "      <th></th>\n",
              "      <th>Daily Time Spent on Site</th>\n",
              "      <th>Age</th>\n",
              "      <th>Area Income</th>\n",
              "      <th>Daily Internet Usage</th>\n",
              "      <th>Male</th>\n",
              "      <th>Clicked on Ad</th>\n",
              "    </tr>\n",
              "  </thead>\n",
              "  <tbody>\n",
              "    <tr>\n",
              "      <th>0</th>\n",
              "      <td>68.95</td>\n",
              "      <td>35</td>\n",
              "      <td>61833.90</td>\n",
              "      <td>256.09</td>\n",
              "      <td>0</td>\n",
              "      <td>0</td>\n",
              "    </tr>\n",
              "    <tr>\n",
              "      <th>1</th>\n",
              "      <td>80.23</td>\n",
              "      <td>31</td>\n",
              "      <td>68441.85</td>\n",
              "      <td>193.77</td>\n",
              "      <td>1</td>\n",
              "      <td>0</td>\n",
              "    </tr>\n",
              "    <tr>\n",
              "      <th>2</th>\n",
              "      <td>69.47</td>\n",
              "      <td>26</td>\n",
              "      <td>59785.94</td>\n",
              "      <td>236.50</td>\n",
              "      <td>0</td>\n",
              "      <td>0</td>\n",
              "    </tr>\n",
              "    <tr>\n",
              "      <th>3</th>\n",
              "      <td>74.15</td>\n",
              "      <td>29</td>\n",
              "      <td>54806.18</td>\n",
              "      <td>245.89</td>\n",
              "      <td>1</td>\n",
              "      <td>0</td>\n",
              "    </tr>\n",
              "    <tr>\n",
              "      <th>4</th>\n",
              "      <td>68.37</td>\n",
              "      <td>35</td>\n",
              "      <td>73889.99</td>\n",
              "      <td>225.58</td>\n",
              "      <td>0</td>\n",
              "      <td>0</td>\n",
              "    </tr>\n",
              "  </tbody>\n",
              "</table>\n",
              "</div>"
            ],
            "text/plain": [
              "   Daily Time Spent on Site  Age  ...  Male  Clicked on Ad\n",
              "0                     68.95   35  ...     0              0\n",
              "1                     80.23   31  ...     1              0\n",
              "2                     69.47   26  ...     0              0\n",
              "3                     74.15   29  ...     1              0\n",
              "4                     68.37   35  ...     0              0\n",
              "\n",
              "[5 rows x 6 columns]"
            ]
          },
          "metadata": {},
          "execution_count": 21
        }
      ]
    },
    {
      "cell_type": "markdown",
      "metadata": {
        "id": "Tr9u_4Bf8Z8Z"
      },
      "source": [
        "## Task 5: Model Building"
      ]
    },
    {
      "cell_type": "code",
      "metadata": {
        "id": "tjAwwi_WGKna"
      },
      "source": [
        "from sklearn.linear_model import LogisticRegression"
      ],
      "execution_count": 22,
      "outputs": []
    },
    {
      "cell_type": "code",
      "metadata": {
        "id": "XatP77q_Kyny"
      },
      "source": [
        "logReg = LogisticRegression()"
      ],
      "execution_count": 23,
      "outputs": []
    },
    {
      "cell_type": "code",
      "metadata": {
        "id": "xKqALioZGPhH"
      },
      "source": [
        "from sklearn.model_selection import train_test_split"
      ],
      "execution_count": 24,
      "outputs": []
    },
    {
      "cell_type": "code",
      "metadata": {
        "id": "0ZZoWL-MJuMa"
      },
      "source": [
        "X = train1[['Daily Time Spent on Site', 'Age', 'Area Income', 'Daily Internet Usage', 'Male']]\n",
        "y = train1[['Clicked on Ad']]"
      ],
      "execution_count": 25,
      "outputs": []
    },
    {
      "cell_type": "code",
      "metadata": {
        "id": "crZnpRnCIs3Y"
      },
      "source": [
        "X_train, X_test, y_train, y_test = train_test_split(X,y,test_size=0.25) "
      ],
      "execution_count": 26,
      "outputs": []
    },
    {
      "cell_type": "code",
      "metadata": {
        "colab": {
          "base_uri": "https://localhost:8080/"
        },
        "id": "gkT4DknfKjDc",
        "outputId": "e276428a-7769-44ff-e72b-fca79f8a8320"
      },
      "source": [
        "logReg.fit(X_train, y_train)"
      ],
      "execution_count": 27,
      "outputs": [
        {
          "output_type": "stream",
          "name": "stderr",
          "text": [
            "/usr/local/lib/python3.7/dist-packages/sklearn/utils/validation.py:760: DataConversionWarning: A column-vector y was passed when a 1d array was expected. Please change the shape of y to (n_samples, ), for example using ravel().\n",
            "  y = column_or_1d(y, warn=True)\n"
          ]
        },
        {
          "output_type": "execute_result",
          "data": {
            "text/plain": [
              "LogisticRegression(C=1.0, class_weight=None, dual=False, fit_intercept=True,\n",
              "                   intercept_scaling=1, l1_ratio=None, max_iter=100,\n",
              "                   multi_class='auto', n_jobs=None, penalty='l2',\n",
              "                   random_state=None, solver='lbfgs', tol=0.0001, verbose=0,\n",
              "                   warm_start=False)"
            ]
          },
          "metadata": {},
          "execution_count": 27
        }
      ]
    },
    {
      "cell_type": "code",
      "metadata": {
        "id": "87wkZ2H6K_vW"
      },
      "source": [
        "y_pred = logReg.predict(X_test)"
      ],
      "execution_count": 28,
      "outputs": []
    },
    {
      "cell_type": "code",
      "metadata": {
        "colab": {
          "base_uri": "https://localhost:8080/"
        },
        "id": "__YAG37rLQEB",
        "outputId": "37198d93-c046-430a-d5f6-d2cec2b3f659"
      },
      "source": [
        "y_pred[0:50]"
      ],
      "execution_count": 29,
      "outputs": [
        {
          "output_type": "execute_result",
          "data": {
            "text/plain": [
              "array([1, 1, 1, 0, 0, 0, 1, 1, 0, 1, 0, 1, 1, 0, 1, 0, 0, 1, 1, 0, 0, 0,\n",
              "       0, 0, 0, 1, 0, 0, 0, 1, 0, 1, 1, 0, 1, 0, 1, 0, 1, 1, 0, 0, 0, 0,\n",
              "       1, 1, 0, 0, 0, 1])"
            ]
          },
          "metadata": {},
          "execution_count": 29
        }
      ]
    },
    {
      "cell_type": "code",
      "metadata": {
        "colab": {
          "base_uri": "https://localhost:8080/"
        },
        "id": "nsbR2HCqLesS",
        "outputId": "d96712f7-ae93-4974-e114-d730f36b69d4"
      },
      "source": [
        "y_test.values[0:10]"
      ],
      "execution_count": 30,
      "outputs": [
        {
          "output_type": "execute_result",
          "data": {
            "text/plain": [
              "array([[1],\n",
              "       [1],\n",
              "       [1],\n",
              "       [0],\n",
              "       [0],\n",
              "       [0],\n",
              "       [1],\n",
              "       [1],\n",
              "       [0],\n",
              "       [1]])"
            ]
          },
          "metadata": {},
          "execution_count": 30
        }
      ]
    },
    {
      "cell_type": "code",
      "metadata": {
        "colab": {
          "base_uri": "https://localhost:8080/"
        },
        "id": "q2fS33rNL0nK",
        "outputId": "e371b206-6b39-40ac-b46c-70738293f1b7"
      },
      "source": [
        "logReg.score(X_test, y_test)"
      ],
      "execution_count": 31,
      "outputs": [
        {
          "output_type": "execute_result",
          "data": {
            "text/plain": [
              "0.892"
            ]
          },
          "metadata": {},
          "execution_count": 31
        }
      ]
    },
    {
      "cell_type": "code",
      "metadata": {
        "id": "WpzWLZntL_qf"
      },
      "source": [
        "from sklearn.metrics import accuracy_score"
      ],
      "execution_count": 32,
      "outputs": []
    },
    {
      "cell_type": "code",
      "metadata": {
        "colab": {
          "base_uri": "https://localhost:8080/"
        },
        "id": "53SPvsgHMLaJ",
        "outputId": "ad8088f9-9fb2-4b16-c160-339e57ab88c2"
      },
      "source": [
        "accuracy_score(y_test, y_pred)"
      ],
      "execution_count": 33,
      "outputs": [
        {
          "output_type": "execute_result",
          "data": {
            "text/plain": [
              "0.892"
            ]
          },
          "metadata": {},
          "execution_count": 33
        }
      ]
    },
    {
      "cell_type": "code",
      "metadata": {
        "id": "bEQVjnVjNYyQ"
      },
      "source": [
        "from sklearn.metrics import confusion_matrix"
      ],
      "execution_count": 34,
      "outputs": []
    },
    {
      "cell_type": "code",
      "metadata": {
        "colab": {
          "base_uri": "https://localhost:8080/"
        },
        "id": "1ZgMhIRMNftf",
        "outputId": "447f3189-edfc-4533-e627-e410fbab9b03"
      },
      "source": [
        "confusion_matrix(y_test, y_pred)"
      ],
      "execution_count": 35,
      "outputs": [
        {
          "output_type": "execute_result",
          "data": {
            "text/plain": [
              "array([[113,   9],\n",
              "       [ 18, 110]])"
            ]
          },
          "metadata": {},
          "execution_count": 35
        }
      ]
    },
    {
      "cell_type": "code",
      "metadata": {
        "id": "TH3He4mwMPQv"
      },
      "source": [
        "from sklearn.metrics import classification_report"
      ],
      "execution_count": 36,
      "outputs": []
    },
    {
      "cell_type": "code",
      "metadata": {
        "colab": {
          "base_uri": "https://localhost:8080/"
        },
        "id": "x5zPsvpyMqXe",
        "outputId": "bd52b7a3-f98c-4300-a6db-68985aa8937f"
      },
      "source": [
        "print(classification_report(y_test, y_pred))"
      ],
      "execution_count": 37,
      "outputs": [
        {
          "output_type": "stream",
          "name": "stdout",
          "text": [
            "              precision    recall  f1-score   support\n",
            "\n",
            "           0       0.86      0.93      0.89       122\n",
            "           1       0.92      0.86      0.89       128\n",
            "\n",
            "    accuracy                           0.89       250\n",
            "   macro avg       0.89      0.89      0.89       250\n",
            "weighted avg       0.89      0.89      0.89       250\n",
            "\n"
          ]
        }
      ]
    },
    {
      "cell_type": "code",
      "metadata": {
        "id": "Y9bye_zhM6At"
      },
      "source": [
        "cm = confusion_matrix(y_test, y_pred)"
      ],
      "execution_count": 38,
      "outputs": []
    },
    {
      "cell_type": "code",
      "metadata": {
        "id": "q7XMSCcPNtLg"
      },
      "source": [
        "import matplotlib.pyplot as plt"
      ],
      "execution_count": 39,
      "outputs": []
    },
    {
      "cell_type": "code",
      "metadata": {
        "colab": {
          "base_uri": "https://localhost:8080/",
          "height": 296
        },
        "id": "XN8tjV0GOc6s",
        "outputId": "53e86e15-3d55-4cfc-ca95-cc767f092cbb"
      },
      "source": [
        "sns.heatmap(cm,annot=True,fmt='0.0f')\n",
        "plt.ylabel('actual value')\n",
        "plt.xlabel('predicted value')"
      ],
      "execution_count": 40,
      "outputs": [
        {
          "output_type": "execute_result",
          "data": {
            "text/plain": [
              "Text(0.5, 15.0, 'predicted value')"
            ]
          },
          "metadata": {},
          "execution_count": 40
        },
        {
          "output_type": "display_data",
          "data": {
            "image/png": "[encoded data removed]",
            "text/plain": [
              "<Figure size 432x288 with 2 Axes>"
            ]
          },
          "metadata": {}
        }
      ]
    },
    {
      "cell_type": "markdown",
      "metadata": {
        "id": "WU05bbCwmJWw"
      },
      "source": [
        "\n",
        "TN: 113/(113 + 9) = .93\n",
        "TP: 110/(110 + 18) = .86\n",
        "\n",
        "The combination of Daily Time Spent on Site, Age, Area Income, Daily Internet Usage, and Male was able to predict with 89% accuracy whether the internet user would click the ad."
      ]
    },
    {
      "cell_type": "markdown",
      "metadata": {
        "id": "pJeQ4MqZnuIq"
      },
      "source": [
        "## KNN Data Pre Processing\n"
      ]
    },
    {
      "cell_type": "code",
      "metadata": {
        "id": "uL3oM5M8o1Ou"
      },
      "source": [
        "from sklearn.preprocessing import StandardScaler"
      ],
      "execution_count": 46,
      "outputs": []
    },
    {
      "cell_type": "code",
      "metadata": {
        "id": "T2yDk6Ydo1FU"
      },
      "source": [
        "scalar = StandardScaler()"
      ],
      "execution_count": 47,
      "outputs": []
    },
    {
      "cell_type": "code",
      "metadata": {
        "colab": {
          "base_uri": "https://localhost:8080/"
        },
        "id": "BDGwefUvo06W",
        "outputId": "31bba2fd-838e-4ad0-f0ab-7ad0c2131dcd"
      },
      "source": [
        "scalar.fit(train1.drop('Clicked on Ad', axis=1))\n"
      ],
      "execution_count": 50,
      "outputs": [
        {
          "output_type": "execute_result",
          "data": {
            "text/plain": [
              "StandardScaler(copy=True, with_mean=True, with_std=True)"
            ]
          },
          "metadata": {},
          "execution_count": 50
        }
      ]
    },
    {
      "cell_type": "code",
      "metadata": {
        "id": "agVr_0cKrbmS"
      },
      "source": [
        "scaled_features = scalar.transform(train1.drop('Clicked on Ad', axis=1))"
      ],
      "execution_count": 51,
      "outputs": []
    },
    {
      "cell_type": "code",
      "metadata": {
        "id": "Ph0rmKWRo0su"
      },
      "source": [
        "std_data = pd.DataFrame(scaled_features, columns=train1.columns[:-1])"
      ],
      "execution_count": 52,
      "outputs": []
    },
    {
      "cell_type": "code",
      "metadata": {
        "colab": {
          "base_uri": "https://localhost:8080/",
          "height": 203
        },
        "id": "xv5tYHWQsVo9",
        "outputId": "e4b2b10d-c728-465f-ca18-f7c163f61564"
      },
      "source": [
        "std_data.head()"
      ],
      "execution_count": 53,
      "outputs": [
        {
          "output_type": "execute_result",
          "data": {
            "text/html": [
              "<div>\n",
              "<style scoped>\n",
              "    .dataframe tbody tr th:only-of-type {\n",
              "        vertical-align: middle;\n",
              "    }\n",
              "\n",
              "    .dataframe tbody tr th {\n",
              "        vertical-align: top;\n",
              "    }\n",
              "\n",
              "    .dataframe thead th {\n",
              "        text-align: right;\n",
              "    }\n",
              "</style>\n",
              "<table border=\"1\" class=\"dataframe\">\n",
              "  <thead>\n",
              "    <tr style=\"text-align: right;\">\n",
              "      <th></th>\n",
              "      <th>Daily Time Spent on Site</th>\n",
              "      <th>Age</th>\n",
              "      <th>Area Income</th>\n",
              "      <th>Daily Internet Usage</th>\n",
              "      <th>Male</th>\n",
              "    </tr>\n",
              "  </thead>\n",
              "  <tbody>\n",
              "    <tr>\n",
              "      <th>0</th>\n",
              "      <td>0.249267</td>\n",
              "      <td>-0.114905</td>\n",
              "      <td>0.509691</td>\n",
              "      <td>1.734030</td>\n",
              "      <td>-0.962695</td>\n",
              "    </tr>\n",
              "    <tr>\n",
              "      <th>1</th>\n",
              "      <td>0.961132</td>\n",
              "      <td>-0.570425</td>\n",
              "      <td>1.002530</td>\n",
              "      <td>0.313805</td>\n",
              "      <td>1.038750</td>\n",
              "    </tr>\n",
              "    <tr>\n",
              "      <th>2</th>\n",
              "      <td>0.282083</td>\n",
              "      <td>-1.139826</td>\n",
              "      <td>0.356949</td>\n",
              "      <td>1.287589</td>\n",
              "      <td>-0.962695</td>\n",
              "    </tr>\n",
              "    <tr>\n",
              "      <th>3</th>\n",
              "      <td>0.577432</td>\n",
              "      <td>-0.798185</td>\n",
              "      <td>-0.014456</td>\n",
              "      <td>1.501580</td>\n",
              "      <td>1.038750</td>\n",
              "    </tr>\n",
              "    <tr>\n",
              "      <th>4</th>\n",
              "      <td>0.212664</td>\n",
              "      <td>-0.114905</td>\n",
              "      <td>1.408868</td>\n",
              "      <td>1.038731</td>\n",
              "      <td>-0.962695</td>\n",
              "    </tr>\n",
              "  </tbody>\n",
              "</table>\n",
              "</div>"
            ],
            "text/plain": [
              "   Daily Time Spent on Site       Age  ...  Daily Internet Usage      Male\n",
              "0                  0.249267 -0.114905  ...              1.734030 -0.962695\n",
              "1                  0.961132 -0.570425  ...              0.313805  1.038750\n",
              "2                  0.282083 -1.139826  ...              1.287589 -0.962695\n",
              "3                  0.577432 -0.798185  ...              1.501580  1.038750\n",
              "4                  0.212664 -0.114905  ...              1.038731 -0.962695\n",
              "\n",
              "[5 rows x 5 columns]"
            ]
          },
          "metadata": {},
          "execution_count": 53
        }
      ]
    },
    {
      "cell_type": "markdown",
      "metadata": {
        "id": "Tnr1j1Wc3xO8"
      },
      "source": [
        "BT: The data has been scaled down for purposes of the KNN Model because variables on a larger scale will have too much of an effect on the distance between the observations. "
      ]
    },
    {
      "cell_type": "markdown",
      "metadata": {
        "id": "sI2fRAfYtNb_"
      },
      "source": [
        "## KNN Model Building"
      ]
    },
    {
      "cell_type": "code",
      "metadata": {
        "id": "vhXVr7Y56GdM"
      },
      "source": [
        "from sklearn.model_selection import train_test_split"
      ],
      "execution_count": 54,
      "outputs": []
    },
    {
      "cell_type": "code",
      "metadata": {
        "id": "4kA8p3kd6HbB"
      },
      "source": [
        "x_train, x_test, y_train, y_test = train_test_split(scaled_features, train1['Clicked on Ad'])"
      ],
      "execution_count": 55,
      "outputs": []
    },
    {
      "cell_type": "code",
      "metadata": {
        "colab": {
          "base_uri": "https://localhost:8080/"
        },
        "id": "zlKGwBIJtiaV",
        "outputId": "8737445a-9ece-4764-dbdc-5eeae930fa7d"
      },
      "source": [
        "print(x_train.shape)\n",
        "print(x_test.shape)\n",
        "print(y_train.shape)\n",
        "print(y_test.shape)"
      ],
      "execution_count": 56,
      "outputs": [
        {
          "output_type": "stream",
          "name": "stdout",
          "text": [
            "(750, 5)\n",
            "(250, 5)\n",
            "(750,)\n",
            "(250,)\n"
          ]
        }
      ]
    },
    {
      "cell_type": "code",
      "metadata": {
        "id": "GJ416jHWt1oQ"
      },
      "source": [
        "from sklearn.neighbors import KNeighborsClassifier"
      ],
      "execution_count": 57,
      "outputs": []
    },
    {
      "cell_type": "code",
      "metadata": {
        "id": "DmRA_axTt9Jd"
      },
      "source": [
        "knn = KNeighborsClassifier(n_neighbors=1)"
      ],
      "execution_count": 58,
      "outputs": []
    },
    {
      "cell_type": "code",
      "metadata": {
        "colab": {
          "base_uri": "https://localhost:8080/"
        },
        "id": "JMAppd9JuGKp",
        "outputId": "9d08b5b1-39e6-4105-edbd-af5ad5839842"
      },
      "source": [
        "knn.fit(x_train, y_train)"
      ],
      "execution_count": 59,
      "outputs": [
        {
          "output_type": "execute_result",
          "data": {
            "text/plain": [
              "KNeighborsClassifier(algorithm='auto', leaf_size=30, metric='minkowski',\n",
              "                     metric_params=None, n_jobs=None, n_neighbors=1, p=2,\n",
              "                     weights='uniform')"
            ]
          },
          "metadata": {},
          "execution_count": 59
        }
      ]
    },
    {
      "cell_type": "code",
      "metadata": {
        "id": "SSvRObp6uN0W"
      },
      "source": [
        "y_pred = knn.predict(x_test)"
      ],
      "execution_count": 60,
      "outputs": []
    },
    {
      "cell_type": "code",
      "metadata": {
        "colab": {
          "base_uri": "https://localhost:8080/"
        },
        "id": "dnH6r3jAuUsh",
        "outputId": "1967447c-3007-4722-b9a0-aba22ca77cd3"
      },
      "source": [
        "y_pred"
      ],
      "execution_count": 61,
      "outputs": [
        {
          "output_type": "execute_result",
          "data": {
            "text/plain": [
              "array([0, 1, 1, 0, 1, 0, 1, 1, 0, 1, 0, 0, 1, 0, 1, 0, 0, 0, 0, 1, 0, 0,\n",
              "       0, 0, 1, 0, 0, 0, 1, 1, 1, 1, 0, 1, 1, 1, 1, 0, 1, 0, 0, 1, 0, 1,\n",
              "       0, 1, 0, 1, 1, 0, 1, 1, 0, 1, 1, 0, 1, 1, 1, 1, 1, 1, 1, 1, 1, 1,\n",
              "       1, 1, 0, 1, 1, 0, 1, 0, 0, 0, 1, 1, 1, 0, 0, 1, 1, 1, 0, 0, 0, 1,\n",
              "       0, 1, 0, 1, 1, 0, 0, 1, 1, 0, 1, 1, 1, 1, 0, 1, 0, 0, 0, 0, 1, 0,\n",
              "       0, 0, 0, 0, 0, 0, 1, 0, 0, 0, 1, 1, 1, 1, 1, 1, 0, 0, 0, 1, 1, 1,\n",
              "       0, 1, 0, 0, 1, 0, 1, 0, 1, 1, 0, 1, 0, 0, 1, 0, 1, 0, 1, 0, 1, 0,\n",
              "       0, 1, 1, 0, 0, 0, 0, 0, 0, 0, 0, 0, 0, 0, 1, 1, 1, 1, 1, 0, 0, 0,\n",
              "       1, 0, 1, 0, 1, 0, 0, 1, 0, 1, 1, 0, 0, 0, 1, 1, 1, 0, 1, 0, 0, 0,\n",
              "       1, 1, 0, 1, 1, 0, 0, 0, 1, 1, 0, 0, 1, 1, 1, 1, 1, 0, 0, 0, 0, 0,\n",
              "       1, 0, 1, 0, 0, 1, 0, 0, 1, 0, 1, 0, 1, 0, 1, 0, 1, 1, 1, 0, 0, 1,\n",
              "       0, 0, 1, 0, 0, 0, 0, 1])"
            ]
          },
          "metadata": {},
          "execution_count": 61
        }
      ]
    },
    {
      "cell_type": "code",
      "metadata": {
        "id": "XfXDO8bpuY0r"
      },
      "source": [
        "from sklearn.metrics import classification_report, confusion_matrix"
      ],
      "execution_count": 62,
      "outputs": []
    },
    {
      "cell_type": "code",
      "metadata": {
        "colab": {
          "base_uri": "https://localhost:8080/"
        },
        "id": "VbRRcyBjugNq",
        "outputId": "4de1944c-3495-47a5-a7ff-c2e91f16a05e"
      },
      "source": [
        "cm = confusion_matrix(y_test, y_pred)\n",
        "cm"
      ],
      "execution_count": 64,
      "outputs": [
        {
          "output_type": "execute_result",
          "data": {
            "text/plain": [
              "array([[116,   5],\n",
              "       [ 12, 117]])"
            ]
          },
          "metadata": {},
          "execution_count": 64
        }
      ]
    },
    {
      "cell_type": "code",
      "metadata": {
        "colab": {
          "base_uri": "https://localhost:8080/"
        },
        "id": "1PC1g9cyup6s",
        "outputId": "9c762369-161c-4720-c6aa-e8a862d64b39"
      },
      "source": [
        "score = knn.score(x_test, y_test)\n",
        "score"
      ],
      "execution_count": 65,
      "outputs": [
        {
          "output_type": "execute_result",
          "data": {
            "text/plain": [
              "0.932"
            ]
          },
          "metadata": {},
          "execution_count": 65
        }
      ]
    },
    {
      "cell_type": "code",
      "metadata": {
        "colab": {
          "base_uri": "https://localhost:8080/",
          "height": 282
        },
        "id": "fUbao2GTu0Wk",
        "outputId": "f6a58fee-8b81-46fa-a4dc-5d768356d6f3"
      },
      "source": [
        "sns.heatmap(cm, annot=True, fmt='0.0f')"
      ],
      "execution_count": 66,
      "outputs": [
        {
          "output_type": "execute_result",
          "data": {
            "text/plain": [
              "<matplotlib.axes._subplots.AxesSubplot at 0x7f382b25fd50>"
            ]
          },
          "metadata": {},
          "execution_count": 66
        },
        {
          "output_type": "display_data",
          "data": {
            "image/png": "[encoded data removed]",
            "text/plain": [
              "<Figure size 432x288 with 2 Axes>"
            ]
          },
          "metadata": {}
        }
      ]
    },
    {
      "cell_type": "code",
      "metadata": {
        "colab": {
          "base_uri": "https://localhost:8080/"
        },
        "id": "xIkFZCe7u9WS",
        "outputId": "2d221a34-7f0f-4b3c-8a11-00f6376b1485"
      },
      "source": [
        "print(classification_report(y_test, y_pred))"
      ],
      "execution_count": 67,
      "outputs": [
        {
          "output_type": "stream",
          "name": "stdout",
          "text": [
            "              precision    recall  f1-score   support\n",
            "\n",
            "           0       0.91      0.96      0.93       121\n",
            "           1       0.96      0.91      0.93       129\n",
            "\n",
            "    accuracy                           0.93       250\n",
            "   macro avg       0.93      0.93      0.93       250\n",
            "weighted avg       0.93      0.93      0.93       250\n",
            "\n"
          ]
        }
      ]
    },
    {
      "cell_type": "markdown",
      "metadata": {
        "id": "ZXX8zNgI2pMM"
      },
      "source": [
        "BT: The overall accuracy of the KNN model is .93, which is higher than the .89 generated by the Logistic Regression model. "
      ]
    },
    {
      "cell_type": "markdown",
      "metadata": {
        "id": "HkQSDs0NvgCM"
      },
      "source": [
        "## KNN with K=5"
      ]
    },
    {
      "cell_type": "code",
      "metadata": {
        "id": "AUQ3ALOrvatU"
      },
      "source": [
        "knn5 = KNeighborsClassifier(n_neighbors=5)"
      ],
      "execution_count": 68,
      "outputs": []
    },
    {
      "cell_type": "code",
      "metadata": {
        "colab": {
          "base_uri": "https://localhost:8080/"
        },
        "id": "1IHMoz0zvwLB",
        "outputId": "643d1257-f61d-4d8d-e376-d6afcee3bf64"
      },
      "source": [
        "knn5.fit(x_train, y_train)"
      ],
      "execution_count": 69,
      "outputs": [
        {
          "output_type": "execute_result",
          "data": {
            "text/plain": [
              "KNeighborsClassifier(algorithm='auto', leaf_size=30, metric='minkowski',\n",
              "                     metric_params=None, n_jobs=None, n_neighbors=5, p=2,\n",
              "                     weights='uniform')"
            ]
          },
          "metadata": {},
          "execution_count": 69
        }
      ]
    },
    {
      "cell_type": "code",
      "metadata": {
        "id": "fsfLSrWxv3Oj"
      },
      "source": [
        "y_pred_knn5 = knn5.predict(x_test)"
      ],
      "execution_count": 71,
      "outputs": []
    },
    {
      "cell_type": "code",
      "metadata": {
        "colab": {
          "base_uri": "https://localhost:8080/"
        },
        "id": "Knn_4KsswLpC",
        "outputId": "91d7f87a-66b3-4bfb-8335-d43b90abee4d"
      },
      "source": [
        "y_pred_knn5"
      ],
      "execution_count": 72,
      "outputs": [
        {
          "output_type": "execute_result",
          "data": {
            "text/plain": [
              "array([0, 1, 0, 0, 0, 0, 1, 1, 0, 0, 0, 0, 1, 0, 1, 0, 0, 0, 0, 1, 0, 0,\n",
              "       0, 0, 1, 0, 0, 0, 1, 1, 1, 1, 1, 1, 1, 1, 1, 0, 1, 0, 0, 1, 0, 1,\n",
              "       0, 1, 0, 1, 1, 0, 1, 1, 1, 1, 1, 0, 1, 1, 1, 1, 1, 1, 1, 1, 1, 1,\n",
              "       1, 1, 0, 1, 1, 0, 1, 0, 0, 0, 1, 1, 1, 0, 0, 1, 1, 1, 0, 0, 0, 1,\n",
              "       0, 1, 0, 1, 1, 0, 0, 1, 1, 0, 1, 1, 1, 1, 0, 1, 0, 0, 0, 0, 1, 0,\n",
              "       0, 0, 0, 0, 0, 0, 1, 0, 0, 0, 0, 1, 1, 1, 1, 1, 0, 0, 0, 1, 1, 1,\n",
              "       0, 1, 0, 0, 1, 0, 1, 0, 1, 1, 0, 1, 0, 0, 1, 0, 1, 0, 1, 0, 1, 0,\n",
              "       0, 1, 1, 0, 0, 0, 1, 0, 0, 0, 0, 0, 0, 0, 1, 1, 1, 1, 1, 0, 0, 0,\n",
              "       1, 0, 1, 0, 1, 0, 0, 1, 0, 1, 1, 0, 0, 0, 1, 1, 1, 0, 1, 0, 0, 0,\n",
              "       1, 1, 0, 1, 1, 0, 0, 0, 1, 1, 0, 0, 1, 1, 1, 1, 1, 0, 0, 0, 0, 0,\n",
              "       1, 0, 1, 0, 0, 1, 0, 0, 1, 0, 1, 1, 1, 0, 1, 0, 1, 1, 1, 0, 0, 1,\n",
              "       0, 0, 1, 0, 0, 0, 0, 1])"
            ]
          },
          "metadata": {},
          "execution_count": 72
        }
      ]
    },
    {
      "cell_type": "code",
      "metadata": {
        "colab": {
          "base_uri": "https://localhost:8080/"
        },
        "id": "0p6D_G_wwVhO",
        "outputId": "462af01a-3023-41e4-d7f0-bea08fa1e19b"
      },
      "source": [
        "score_knn5 = knn5.score(x_test, y_test)\n",
        "score_knn5"
      ],
      "execution_count": 73,
      "outputs": [
        {
          "output_type": "execute_result",
          "data": {
            "text/plain": [
              "0.948"
            ]
          },
          "metadata": {},
          "execution_count": 73
        }
      ]
    },
    {
      "cell_type": "markdown",
      "metadata": {
        "id": "DS-O0tdk2RUE"
      },
      "source": [
        "BT: The accuracy score increased from .93 to .948 when 5 nearest neighbors were included. "
      ]
    },
    {
      "cell_type": "markdown",
      "metadata": {
        "id": "rqQK6YpLwnEB"
      },
      "source": [
        "## K Value and Accuracy"
      ]
    },
    {
      "cell_type": "code",
      "metadata": {
        "id": "APR3U3FVwkw8"
      },
      "source": [
        "import numpy as np"
      ],
      "execution_count": 74,
      "outputs": []
    },
    {
      "cell_type": "code",
      "metadata": {
        "id": "Jdzb60HmwzJi"
      },
      "source": [
        "from sklearn import metrics"
      ],
      "execution_count": 75,
      "outputs": []
    },
    {
      "cell_type": "code",
      "metadata": {
        "id": "9LdldUl4w2Wr"
      },
      "source": [
        "score = []"
      ],
      "execution_count": 76,
      "outputs": []
    },
    {
      "cell_type": "code",
      "metadata": {
        "colab": {
          "base_uri": "https://localhost:8080/"
        },
        "id": "9jmPAWUKw6bd",
        "outputId": "4d6895f2-2fae-4569-b836-9dea6af051b2"
      },
      "source": [
        "for i in range(1,50):\n",
        "  knn = KNeighborsClassifier(n_neighbors=i)\n",
        "  knn.fit(x_train, y_train)\n",
        "  y_pred = knn.predict(x_test)\n",
        "  score.append(metrics.accuracy_score(y_test, y_pred))\n",
        "  print(score)"
      ],
      "execution_count": 77,
      "outputs": [
        {
          "output_type": "stream",
          "name": "stdout",
          "text": [
            "[0.932]\n",
            "[0.932, 0.936]\n",
            "[0.932, 0.936, 0.936]\n",
            "[0.932, 0.936, 0.936, 0.94]\n",
            "[0.932, 0.936, 0.936, 0.94, 0.948]\n",
            "[0.932, 0.936, 0.936, 0.94, 0.948, 0.944]\n",
            "[0.932, 0.936, 0.936, 0.94, 0.948, 0.944, 0.948]\n",
            "[0.932, 0.936, 0.936, 0.94, 0.948, 0.944, 0.948, 0.948]\n",
            "[0.932, 0.936, 0.936, 0.94, 0.948, 0.944, 0.948, 0.948, 0.948]\n",
            "[0.932, 0.936, 0.936, 0.94, 0.948, 0.944, 0.948, 0.948, 0.948, 0.948]\n",
            "[0.932, 0.936, 0.936, 0.94, 0.948, 0.944, 0.948, 0.948, 0.948, 0.948, 0.948]\n",
            "[0.932, 0.936, 0.936, 0.94, 0.948, 0.944, 0.948, 0.948, 0.948, 0.948, 0.948, 0.944]\n",
            "[0.932, 0.936, 0.936, 0.94, 0.948, 0.944, 0.948, 0.948, 0.948, 0.948, 0.948, 0.944, 0.944]\n",
            "[0.932, 0.936, 0.936, 0.94, 0.948, 0.944, 0.948, 0.948, 0.948, 0.948, 0.948, 0.944, 0.944, 0.944]\n",
            "[0.932, 0.936, 0.936, 0.94, 0.948, 0.944, 0.948, 0.948, 0.948, 0.948, 0.948, 0.944, 0.944, 0.944, 0.948]\n",
            "[0.932, 0.936, 0.936, 0.94, 0.948, 0.944, 0.948, 0.948, 0.948, 0.948, 0.948, 0.944, 0.944, 0.944, 0.948, 0.952]\n",
            "[0.932, 0.936, 0.936, 0.94, 0.948, 0.944, 0.948, 0.948, 0.948, 0.948, 0.948, 0.944, 0.944, 0.944, 0.948, 0.952, 0.952]\n",
            "[0.932, 0.936, 0.936, 0.94, 0.948, 0.944, 0.948, 0.948, 0.948, 0.948, 0.948, 0.944, 0.944, 0.944, 0.948, 0.952, 0.952, 0.952]\n",
            "[0.932, 0.936, 0.936, 0.94, 0.948, 0.944, 0.948, 0.948, 0.948, 0.948, 0.948, 0.944, 0.944, 0.944, 0.948, 0.952, 0.952, 0.952, 0.952]\n",
            "[0.932, 0.936, 0.936, 0.94, 0.948, 0.944, 0.948, 0.948, 0.948, 0.948, 0.948, 0.944, 0.944, 0.944, 0.948, 0.952, 0.952, 0.952, 0.952, 0.948]\n",
            "[0.932, 0.936, 0.936, 0.94, 0.948, 0.944, 0.948, 0.948, 0.948, 0.948, 0.948, 0.944, 0.944, 0.944, 0.948, 0.952, 0.952, 0.952, 0.952, 0.948, 0.944]\n",
            "[0.932, 0.936, 0.936, 0.94, 0.948, 0.944, 0.948, 0.948, 0.948, 0.948, 0.948, 0.944, 0.944, 0.944, 0.948, 0.952, 0.952, 0.952, 0.952, 0.948, 0.944, 0.948]\n",
            "[0.932, 0.936, 0.936, 0.94, 0.948, 0.944, 0.948, 0.948, 0.948, 0.948, 0.948, 0.944, 0.944, 0.944, 0.948, 0.952, 0.952, 0.952, 0.952, 0.948, 0.944, 0.948, 0.948]\n",
            "[0.932, 0.936, 0.936, 0.94, 0.948, 0.944, 0.948, 0.948, 0.948, 0.948, 0.948, 0.944, 0.944, 0.944, 0.948, 0.952, 0.952, 0.952, 0.952, 0.948, 0.944, 0.948, 0.948, 0.948]\n",
            "[0.932, 0.936, 0.936, 0.94, 0.948, 0.944, 0.948, 0.948, 0.948, 0.948, 0.948, 0.944, 0.944, 0.944, 0.948, 0.952, 0.952, 0.952, 0.952, 0.948, 0.944, 0.948, 0.948, 0.948, 0.952]\n",
            "[0.932, 0.936, 0.936, 0.94, 0.948, 0.944, 0.948, 0.948, 0.948, 0.948, 0.948, 0.944, 0.944, 0.944, 0.948, 0.952, 0.952, 0.952, 0.952, 0.948, 0.944, 0.948, 0.948, 0.948, 0.952, 0.952]\n",
            "[0.932, 0.936, 0.936, 0.94, 0.948, 0.944, 0.948, 0.948, 0.948, 0.948, 0.948, 0.944, 0.944, 0.944, 0.948, 0.952, 0.952, 0.952, 0.952, 0.948, 0.944, 0.948, 0.948, 0.948, 0.952, 0.952, 0.956]\n",
            "[0.932, 0.936, 0.936, 0.94, 0.948, 0.944, 0.948, 0.948, 0.948, 0.948, 0.948, 0.944, 0.944, 0.944, 0.948, 0.952, 0.952, 0.952, 0.952, 0.948, 0.944, 0.948, 0.948, 0.948, 0.952, 0.952, 0.956, 0.956]\n",
            "[0.932, 0.936, 0.936, 0.94, 0.948, 0.944, 0.948, 0.948, 0.948, 0.948, 0.948, 0.944, 0.944, 0.944, 0.948, 0.952, 0.952, 0.952, 0.952, 0.948, 0.944, 0.948, 0.948, 0.948, 0.952, 0.952, 0.956, 0.956, 0.956]\n",
            "[0.932, 0.936, 0.936, 0.94, 0.948, 0.944, 0.948, 0.948, 0.948, 0.948, 0.948, 0.944, 0.944, 0.944, 0.948, 0.952, 0.952, 0.952, 0.952, 0.948, 0.944, 0.948, 0.948, 0.948, 0.952, 0.952, 0.956, 0.956, 0.956, 0.956]\n",
            "[0.932, 0.936, 0.936, 0.94, 0.948, 0.944, 0.948, 0.948, 0.948, 0.948, 0.948, 0.944, 0.944, 0.944, 0.948, 0.952, 0.952, 0.952, 0.952, 0.948, 0.944, 0.948, 0.948, 0.948, 0.952, 0.952, 0.956, 0.956, 0.956, 0.956, 0.956]\n",
            "[0.932, 0.936, 0.936, 0.94, 0.948, 0.944, 0.948, 0.948, 0.948, 0.948, 0.948, 0.944, 0.944, 0.944, 0.948, 0.952, 0.952, 0.952, 0.952, 0.948, 0.944, 0.948, 0.948, 0.948, 0.952, 0.952, 0.956, 0.956, 0.956, 0.956, 0.956, 0.956]\n",
            "[0.932, 0.936, 0.936, 0.94, 0.948, 0.944, 0.948, 0.948, 0.948, 0.948, 0.948, 0.944, 0.944, 0.944, 0.948, 0.952, 0.952, 0.952, 0.952, 0.948, 0.944, 0.948, 0.948, 0.948, 0.952, 0.952, 0.956, 0.956, 0.956, 0.956, 0.956, 0.956, 0.956]\n",
            "[0.932, 0.936, 0.936, 0.94, 0.948, 0.944, 0.948, 0.948, 0.948, 0.948, 0.948, 0.944, 0.944, 0.944, 0.948, 0.952, 0.952, 0.952, 0.952, 0.948, 0.944, 0.948, 0.948, 0.948, 0.952, 0.952, 0.956, 0.956, 0.956, 0.956, 0.956, 0.956, 0.956, 0.956]\n",
            "[0.932, 0.936, 0.936, 0.94, 0.948, 0.944, 0.948, 0.948, 0.948, 0.948, 0.948, 0.944, 0.944, 0.944, 0.948, 0.952, 0.952, 0.952, 0.952, 0.948, 0.944, 0.948, 0.948, 0.948, 0.952, 0.952, 0.956, 0.956, 0.956, 0.956, 0.956, 0.956, 0.956, 0.956, 0.956]\n",
            "[0.932, 0.936, 0.936, 0.94, 0.948, 0.944, 0.948, 0.948, 0.948, 0.948, 0.948, 0.944, 0.944, 0.944, 0.948, 0.952, 0.952, 0.952, 0.952, 0.948, 0.944, 0.948, 0.948, 0.948, 0.952, 0.952, 0.956, 0.956, 0.956, 0.956, 0.956, 0.956, 0.956, 0.956, 0.956, 0.956]\n",
            "[0.932, 0.936, 0.936, 0.94, 0.948, 0.944, 0.948, 0.948, 0.948, 0.948, 0.948, 0.944, 0.944, 0.944, 0.948, 0.952, 0.952, 0.952, 0.952, 0.948, 0.944, 0.948, 0.948, 0.948, 0.952, 0.952, 0.956, 0.956, 0.956, 0.956, 0.956, 0.956, 0.956, 0.956, 0.956, 0.956, 0.956]\n",
            "[0.932, 0.936, 0.936, 0.94, 0.948, 0.944, 0.948, 0.948, 0.948, 0.948, 0.948, 0.944, 0.944, 0.944, 0.948, 0.952, 0.952, 0.952, 0.952, 0.948, 0.944, 0.948, 0.948, 0.948, 0.952, 0.952, 0.956, 0.956, 0.956, 0.956, 0.956, 0.956, 0.956, 0.956, 0.956, 0.956, 0.956, 0.956]\n",
            "[0.932, 0.936, 0.936, 0.94, 0.948, 0.944, 0.948, 0.948, 0.948, 0.948, 0.948, 0.944, 0.944, 0.944, 0.948, 0.952, 0.952, 0.952, 0.952, 0.948, 0.944, 0.948, 0.948, 0.948, 0.952, 0.952, 0.956, 0.956, 0.956, 0.956, 0.956, 0.956, 0.956, 0.956, 0.956, 0.956, 0.956, 0.956, 0.952]\n",
            "[0.932, 0.936, 0.936, 0.94, 0.948, 0.944, 0.948, 0.948, 0.948, 0.948, 0.948, 0.944, 0.944, 0.944, 0.948, 0.952, 0.952, 0.952, 0.952, 0.948, 0.944, 0.948, 0.948, 0.948, 0.952, 0.952, 0.956, 0.956, 0.956, 0.956, 0.956, 0.956, 0.956, 0.956, 0.956, 0.956, 0.956, 0.956, 0.952, 0.956]\n",
            "[0.932, 0.936, 0.936, 0.94, 0.948, 0.944, 0.948, 0.948, 0.948, 0.948, 0.948, 0.944, 0.944, 0.944, 0.948, 0.952, 0.952, 0.952, 0.952, 0.948, 0.944, 0.948, 0.948, 0.948, 0.952, 0.952, 0.956, 0.956, 0.956, 0.956, 0.956, 0.956, 0.956, 0.956, 0.956, 0.956, 0.956, 0.956, 0.952, 0.956, 0.956]\n",
            "[0.932, 0.936, 0.936, 0.94, 0.948, 0.944, 0.948, 0.948, 0.948, 0.948, 0.948, 0.944, 0.944, 0.944, 0.948, 0.952, 0.952, 0.952, 0.952, 0.948, 0.944, 0.948, 0.948, 0.948, 0.952, 0.952, 0.956, 0.956, 0.956, 0.956, 0.956, 0.956, 0.956, 0.956, 0.956, 0.956, 0.956, 0.956, 0.952, 0.956, 0.956, 0.956]\n",
            "[0.932, 0.936, 0.936, 0.94, 0.948, 0.944, 0.948, 0.948, 0.948, 0.948, 0.948, 0.944, 0.944, 0.944, 0.948, 0.952, 0.952, 0.952, 0.952, 0.948, 0.944, 0.948, 0.948, 0.948, 0.952, 0.952, 0.956, 0.956, 0.956, 0.956, 0.956, 0.956, 0.956, 0.956, 0.956, 0.956, 0.956, 0.956, 0.952, 0.956, 0.956, 0.956, 0.956]\n",
            "[0.932, 0.936, 0.936, 0.94, 0.948, 0.944, 0.948, 0.948, 0.948, 0.948, 0.948, 0.944, 0.944, 0.944, 0.948, 0.952, 0.952, 0.952, 0.952, 0.948, 0.944, 0.948, 0.948, 0.948, 0.952, 0.952, 0.956, 0.956, 0.956, 0.956, 0.956, 0.956, 0.956, 0.956, 0.956, 0.956, 0.956, 0.956, 0.952, 0.956, 0.956, 0.956, 0.956, 0.956]\n",
            "[0.932, 0.936, 0.936, 0.94, 0.948, 0.944, 0.948, 0.948, 0.948, 0.948, 0.948, 0.944, 0.944, 0.944, 0.948, 0.952, 0.952, 0.952, 0.952, 0.948, 0.944, 0.948, 0.948, 0.948, 0.952, 0.952, 0.956, 0.956, 0.956, 0.956, 0.956, 0.956, 0.956, 0.956, 0.956, 0.956, 0.956, 0.956, 0.952, 0.956, 0.956, 0.956, 0.956, 0.956, 0.956]\n",
            "[0.932, 0.936, 0.936, 0.94, 0.948, 0.944, 0.948, 0.948, 0.948, 0.948, 0.948, 0.944, 0.944, 0.944, 0.948, 0.952, 0.952, 0.952, 0.952, 0.948, 0.944, 0.948, 0.948, 0.948, 0.952, 0.952, 0.956, 0.956, 0.956, 0.956, 0.956, 0.956, 0.956, 0.956, 0.956, 0.956, 0.956, 0.956, 0.952, 0.956, 0.956, 0.956, 0.956, 0.956, 0.956, 0.956]\n",
            "[0.932, 0.936, 0.936, 0.94, 0.948, 0.944, 0.948, 0.948, 0.948, 0.948, 0.948, 0.944, 0.944, 0.944, 0.948, 0.952, 0.952, 0.952, 0.952, 0.948, 0.944, 0.948, 0.948, 0.948, 0.952, 0.952, 0.956, 0.956, 0.956, 0.956, 0.956, 0.956, 0.956, 0.956, 0.956, 0.956, 0.956, 0.956, 0.952, 0.956, 0.956, 0.956, 0.956, 0.956, 0.956, 0.956, 0.956]\n",
            "[0.932, 0.936, 0.936, 0.94, 0.948, 0.944, 0.948, 0.948, 0.948, 0.948, 0.948, 0.944, 0.944, 0.944, 0.948, 0.952, 0.952, 0.952, 0.952, 0.948, 0.944, 0.948, 0.948, 0.948, 0.952, 0.952, 0.956, 0.956, 0.956, 0.956, 0.956, 0.956, 0.956, 0.956, 0.956, 0.956, 0.956, 0.956, 0.952, 0.956, 0.956, 0.956, 0.956, 0.956, 0.956, 0.956, 0.956, 0.956]\n",
            "[0.932, 0.936, 0.936, 0.94, 0.948, 0.944, 0.948, 0.948, 0.948, 0.948, 0.948, 0.944, 0.944, 0.944, 0.948, 0.952, 0.952, 0.952, 0.952, 0.948, 0.944, 0.948, 0.948, 0.948, 0.952, 0.952, 0.956, 0.956, 0.956, 0.956, 0.956, 0.956, 0.956, 0.956, 0.956, 0.956, 0.956, 0.956, 0.952, 0.956, 0.956, 0.956, 0.956, 0.956, 0.956, 0.956, 0.956, 0.956, 0.956]\n"
          ]
        }
      ]
    },
    {
      "cell_type": "code",
      "metadata": {
        "colab": {
          "base_uri": "https://localhost:8080/",
          "height": 514
        },
        "id": "knAKkOqPxueP",
        "outputId": "64ddb1c6-dc0a-49ce-c8c8-4a4ce29205c9"
      },
      "source": [
        "plt.figure(figsize=(10,8))\n",
        "plt.plot(range(1,50), score, color='green')\n",
        "plt.xlabel('KNN values')\n",
        "plt.ylabel('Accuracy Score')"
      ],
      "execution_count": 78,
      "outputs": [
        {
          "output_type": "execute_result",
          "data": {
            "text/plain": [
              "Text(0, 0.5, 'Accuracy Score')"
            ]
          },
          "metadata": {},
          "execution_count": 78
        },
        {
          "output_type": "display_data",
          "data": {
            "image/png": "[encoded data removed]",
            "text/plain": [
              "<Figure size 720x576 with 1 Axes>"
            ]
          },
          "metadata": {}
        }
      ]
    },
    {
      "cell_type": "markdown",
      "metadata": {
        "id": "DsyQn2p_1UZC"
      },
      "source": [
        "BT: The accuracy score increased from .932 to .958 as the number of nearest neighbors increased from 1 to 50. "
      ]
    },
    {
      "cell_type": "markdown",
      "metadata": {
        "id": "HOcUN7BiyJsR"
      },
      "source": [
        "## Error rate and K Value"
      ]
    },
    {
      "cell_type": "code",
      "metadata": {
        "id": "8g4PiSqyyOp9"
      },
      "source": [
        "error_rate = []\n",
        "for i in range(1,40):\n",
        "  knn = KNeighborsClassifier(n_neighbors=i)\n",
        "  knn.fit(x_train, y_train)\n",
        "  pred_i = knn.predict(x_test)\n",
        "  error_rate.append(np.mean(pred_i !=y_test))"
      ],
      "execution_count": 79,
      "outputs": []
    },
    {
      "cell_type": "code",
      "metadata": {
        "colab": {
          "base_uri": "https://localhost:8080/",
          "height": 514
        },
        "id": "-Y5A6ucxyxTb",
        "outputId": "965244d9-7689-4da5-d79c-4f86f7dee128"
      },
      "source": [
        "plt.figure(figsize=(10,8))\n",
        "plt.plot(range(1,40), error_rate, color='red', linestyle='dashed', marker='o', markerfacecolor='blue', markersize=10)\n",
        "plt.xlabel('KNN Values')\n",
        "plt.ylabel('Error rate')"
      ],
      "execution_count": 80,
      "outputs": [
        {
          "output_type": "execute_result",
          "data": {
            "text/plain": [
              "Text(0, 0.5, 'Error rate')"
            ]
          },
          "metadata": {},
          "execution_count": 80
        },
        {
          "output_type": "display_data",
          "data": {
            "image/png": "[encoded data removed]",
            "text/plain": [
              "<Figure size 720x576 with 1 Axes>"
            ]
          },
          "metadata": {}
        }
      ]
    },
    {
      "cell_type": "markdown",
      "metadata": {
        "id": "9kklC_4wzvnB"
      },
      "source": [
        "BT: The error rate went down from .067 to .045 as the number of nearest neighbors increased from 1 to 40. "
      ]
    }
  ]
}
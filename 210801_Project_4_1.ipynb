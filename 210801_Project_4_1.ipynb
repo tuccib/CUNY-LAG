{
  "nbformat": 4,
  "nbformat_minor": 0,
  "metadata": {
    "colab": {
      "name": "210801 Project 4.1.ipynb",
      "provenance": [],
      "collapsed_sections": [],
      "mount_file_id": "17KRe5-CeON3CSjbXB02P8GMfehOPUGNW",
      "authorship_tag": "ABX9TyNf5fgLdWeuk/ix6sOr5UvI",
      "include_colab_link": true
    },
    "kernelspec": {
      "name": "python3",
      "display_name": "Python 3"
    },
    "language_info": {
      "name": "python"
    }
  },
  "cells": [
    {
      "cell_type": "markdown",
      "metadata": {
        "id": "view-in-github",
        "colab_type": "text"
      },
      "source": [
        "<a href=\"https://colab.research.google.com/github/tuccib/CUNY_LAG/blob/Python/210801_Project_4_1.ipynb\" target=\"_parent\"><img src=\"https://colab.research.google.com/assets/colab-badge.svg\" alt=\"Open In Colab\"/></a>"
      ]
    },
    {
      "cell_type": "code",
      "metadata": {
        "id": "BJAvRxColErE"
      },
      "source": [
        "import numpy as np\n",
        "import pandas as pd\n",
        "import matplotlib.pyplot as plot\n",
        "%matplotlib inline\n",
        "import seaborn as sns\n"
      ],
      "execution_count": 1,
      "outputs": []
    },
    {
      "cell_type": "markdown",
      "metadata": {
        "id": "BtQVV3ojzfje"
      },
      "source": [
        "Dataset is annual charges and costs by Ambulatory Payment Classification (APC) for U.S. hospitals for 2015-2018.  https://data.cms.gov/provider-summary-by-type-of-service/medicare-outpatient-hospitals/medicare-outpatient-hospitals-by-provider-and-service/data/2018"
      ]
    },
    {
      "cell_type": "code",
      "metadata": {
        "colab": {
          "base_uri": "https://localhost:8080/",
          "height": 542
        },
        "id": "cO9LlpMk2i84",
        "outputId": "4452e69a-e693-4d17-a16a-cddcc8a3f60a"
      },
      "source": [
        "df_drg = pd.read_csv('/content/drive/MyDrive/Colab Notebooks/2015-2018 Medicare IP hospital charges by DRG.csv')\n",
        "df_drg.head()"
      ],
      "execution_count": 3,
      "outputs": [
        {
          "output_type": "stream",
          "text": [
            "/usr/local/lib/python3.7/dist-packages/IPython/core/interactiveshell.py:2718: DtypeWarning: Columns (6,9) have mixed types.Specify dtype option on import or set low_memory=False.\n",
            "  interactivity=interactivity, compiler=compiler, result=result)\n"
          ],
          "name": "stderr"
        },
        {
          "output_type": "execute_result",
          "data": {
            "text/html": [
              "<div>\n",
              "<style scoped>\n",
              "    .dataframe tbody tr th:only-of-type {\n",
              "        vertical-align: middle;\n",
              "    }\n",
              "\n",
              "    .dataframe tbody tr th {\n",
              "        vertical-align: top;\n",
              "    }\n",
              "\n",
              "    .dataframe thead th {\n",
              "        text-align: right;\n",
              "    }\n",
              "</style>\n",
              "<table border=\"1\" class=\"dataframe\">\n",
              "  <thead>\n",
              "    <tr style=\"text-align: right;\">\n",
              "      <th></th>\n",
              "      <th>Year</th>\n",
              "      <th>Rndrng_Prvdr_CCN</th>\n",
              "      <th>Rndrng_Prvdr_Org_Name</th>\n",
              "      <th>Rndrng_Prvdr_St</th>\n",
              "      <th>Rndrng_Prvdr_City</th>\n",
              "      <th>Rndrng_Prvdr_State_Abrvtn</th>\n",
              "      <th>Rndrng_Prvdr_State_FIPS</th>\n",
              "      <th>Rndrng_Prvdr_Zip5</th>\n",
              "      <th>Rndrng_Prvdr_RUCA</th>\n",
              "      <th>Rndrng_Prvdr_RUCA_Desc</th>\n",
              "      <th>DRG_Cd</th>\n",
              "      <th>DRG_Desc</th>\n",
              "      <th>DRG_Cd-Desc</th>\n",
              "      <th>Tot_Dschrgs</th>\n",
              "      <th>Avg_Submtd_Cvrd_Chrg</th>\n",
              "      <th>Avg_Tot_Pymt_Amt</th>\n",
              "      <th>Avg_Mdcr_Pymt_Amt</th>\n",
              "    </tr>\n",
              "  </thead>\n",
              "  <tbody>\n",
              "    <tr>\n",
              "      <th>0</th>\n",
              "      <td>2018</td>\n",
              "      <td>10001</td>\n",
              "      <td>Southeast Alabama Medical Center</td>\n",
              "      <td>1108 Ross Clark Circle</td>\n",
              "      <td>Dothan</td>\n",
              "      <td>AL</td>\n",
              "      <td>AL</td>\n",
              "      <td>36301</td>\n",
              "      <td>3630.0</td>\n",
              "      <td>36301</td>\n",
              "      <td>3</td>\n",
              "      <td>ECMO OR TRACH W MV &gt;96 HRS OR PDX EXC FACE, MO...</td>\n",
              "      <td>3-ECMO OR TRACH W MV &gt;96 HRS OR PDX EXC FACE, ...</td>\n",
              "      <td>13</td>\n",
              "      <td>368434.00000</td>\n",
              "      <td>81540.923080</td>\n",
              "      <td>80434.923080</td>\n",
              "    </tr>\n",
              "    <tr>\n",
              "      <th>1</th>\n",
              "      <td>2018</td>\n",
              "      <td>10001</td>\n",
              "      <td>Southeast Alabama Medical Center</td>\n",
              "      <td>1108 Ross Clark Circle</td>\n",
              "      <td>Dothan</td>\n",
              "      <td>AL</td>\n",
              "      <td>AL</td>\n",
              "      <td>36301</td>\n",
              "      <td>3630.0</td>\n",
              "      <td>36301</td>\n",
              "      <td>23</td>\n",
              "      <td>CRANIOTOMY W MAJOR DEVICE IMPLANT OR ACUTE COM...</td>\n",
              "      <td>23-CRANIOTOMY W MAJOR DEVICE IMPLANT OR ACUTE ...</td>\n",
              "      <td>33</td>\n",
              "      <td>148677.12120</td>\n",
              "      <td>29061.515150</td>\n",
              "      <td>27996.575760</td>\n",
              "    </tr>\n",
              "    <tr>\n",
              "      <th>2</th>\n",
              "      <td>2018</td>\n",
              "      <td>10001</td>\n",
              "      <td>Southeast Alabama Medical Center</td>\n",
              "      <td>1108 Ross Clark Circle</td>\n",
              "      <td>Dothan</td>\n",
              "      <td>AL</td>\n",
              "      <td>AL</td>\n",
              "      <td>36301</td>\n",
              "      <td>3630.0</td>\n",
              "      <td>36301</td>\n",
              "      <td>25</td>\n",
              "      <td>CRANIOTOMY &amp; ENDOVASCULAR INTRACRANIAL PROCEDU...</td>\n",
              "      <td>25-CRANIOTOMY &amp; ENDOVASCULAR INTRACRANIAL PROC...</td>\n",
              "      <td>26</td>\n",
              "      <td>118718.34620</td>\n",
              "      <td>22441.769230</td>\n",
              "      <td>19591.807690</td>\n",
              "    </tr>\n",
              "    <tr>\n",
              "      <th>3</th>\n",
              "      <td>2018</td>\n",
              "      <td>10001</td>\n",
              "      <td>Southeast Alabama Medical Center</td>\n",
              "      <td>1108 Ross Clark Circle</td>\n",
              "      <td>Dothan</td>\n",
              "      <td>AL</td>\n",
              "      <td>AL</td>\n",
              "      <td>36301</td>\n",
              "      <td>3630.0</td>\n",
              "      <td>36301</td>\n",
              "      <td>38</td>\n",
              "      <td>EXTRACRANIAL PROCEDURES W CC</td>\n",
              "      <td>38-EXTRACRANIAL PROCEDURES W CC</td>\n",
              "      <td>11</td>\n",
              "      <td>74449.18182</td>\n",
              "      <td>9546.000000</td>\n",
              "      <td>7561.818182</td>\n",
              "    </tr>\n",
              "    <tr>\n",
              "      <th>4</th>\n",
              "      <td>2018</td>\n",
              "      <td>10001</td>\n",
              "      <td>Southeast Alabama Medical Center</td>\n",
              "      <td>1108 Ross Clark Circle</td>\n",
              "      <td>Dothan</td>\n",
              "      <td>AL</td>\n",
              "      <td>AL</td>\n",
              "      <td>36301</td>\n",
              "      <td>3630.0</td>\n",
              "      <td>36301</td>\n",
              "      <td>39</td>\n",
              "      <td>EXTRACRANIAL PROCEDURES W/O CC/MCC</td>\n",
              "      <td>39-EXTRACRANIAL PROCEDURES W/O CC/MCC</td>\n",
              "      <td>64</td>\n",
              "      <td>46627.78125</td>\n",
              "      <td>6468.296875</td>\n",
              "      <td>5073.296875</td>\n",
              "    </tr>\n",
              "  </tbody>\n",
              "</table>\n",
              "</div>"
            ],
            "text/plain": [
              "   Year  Rndrng_Prvdr_CCN  ... Avg_Tot_Pymt_Amt Avg_Mdcr_Pymt_Amt\n",
              "0  2018             10001  ...     81540.923080      80434.923080\n",
              "1  2018             10001  ...     29061.515150      27996.575760\n",
              "2  2018             10001  ...     22441.769230      19591.807690\n",
              "3  2018             10001  ...      9546.000000       7561.818182\n",
              "4  2018             10001  ...      6468.296875       5073.296875\n",
              "\n",
              "[5 rows x 17 columns]"
            ]
          },
          "metadata": {
            "tags": []
          },
          "execution_count": 3
        }
      ]
    },
    {
      "cell_type": "code",
      "metadata": {
        "colab": {
          "base_uri": "https://localhost:8080/",
          "height": 303
        },
        "id": "SHw47qDE59EF",
        "outputId": "f1c31773-49bc-417a-9ab6-7aec4bb50340"
      },
      "source": [
        "df_drg.drop(['Rndrng_Prvdr_State_FIPS','Rndrng_Prvdr_RUCA', 'Rndrng_Prvdr_RUCA_Desc'], axis = 1, inplace = True)"
      ],
      "execution_count": 21,
      "outputs": [
        {
          "output_type": "error",
          "ename": "KeyError",
          "evalue": "ignored",
          "traceback": [
            "\u001b[0;31m---------------------------------------------------------------------------\u001b[0m",
            "\u001b[0;31mKeyError\u001b[0m                                  Traceback (most recent call last)",
            "\u001b[0;32m<ipython-input-21-af3c2464e5c9>\u001b[0m in \u001b[0;36m<module>\u001b[0;34m()\u001b[0m\n\u001b[0;32m----> 1\u001b[0;31m \u001b[0mdf_drg\u001b[0m\u001b[0;34m.\u001b[0m\u001b[0mdrop\u001b[0m\u001b[0;34m(\u001b[0m\u001b[0;34m[\u001b[0m\u001b[0;34m'Rndrng_Prvdr_State_FIPS'\u001b[0m\u001b[0;34m,\u001b[0m\u001b[0;34m'Rndrng_Prvdr_RUCA'\u001b[0m\u001b[0;34m,\u001b[0m \u001b[0;34m'Rndrng_Prvdr_RUCA_Desc'\u001b[0m\u001b[0;34m]\u001b[0m\u001b[0;34m,\u001b[0m \u001b[0maxis\u001b[0m \u001b[0;34m=\u001b[0m \u001b[0;36m1\u001b[0m\u001b[0;34m,\u001b[0m \u001b[0minplace\u001b[0m \u001b[0;34m=\u001b[0m \u001b[0;32mTrue\u001b[0m\u001b[0;34m)\u001b[0m\u001b[0;34m\u001b[0m\u001b[0;34m\u001b[0m\u001b[0m\n\u001b[0m",
            "\u001b[0;32m/usr/local/lib/python3.7/dist-packages/pandas/core/frame.py\u001b[0m in \u001b[0;36mdrop\u001b[0;34m(self, labels, axis, index, columns, level, inplace, errors)\u001b[0m\n\u001b[1;32m   4172\u001b[0m             \u001b[0mlevel\u001b[0m\u001b[0;34m=\u001b[0m\u001b[0mlevel\u001b[0m\u001b[0;34m,\u001b[0m\u001b[0;34m\u001b[0m\u001b[0;34m\u001b[0m\u001b[0m\n\u001b[1;32m   4173\u001b[0m             \u001b[0minplace\u001b[0m\u001b[0;34m=\u001b[0m\u001b[0minplace\u001b[0m\u001b[0;34m,\u001b[0m\u001b[0;34m\u001b[0m\u001b[0;34m\u001b[0m\u001b[0m\n\u001b[0;32m-> 4174\u001b[0;31m             \u001b[0merrors\u001b[0m\u001b[0;34m=\u001b[0m\u001b[0merrors\u001b[0m\u001b[0;34m,\u001b[0m\u001b[0;34m\u001b[0m\u001b[0;34m\u001b[0m\u001b[0m\n\u001b[0m\u001b[1;32m   4175\u001b[0m         )\n\u001b[1;32m   4176\u001b[0m \u001b[0;34m\u001b[0m\u001b[0m\n",
            "\u001b[0;32m/usr/local/lib/python3.7/dist-packages/pandas/core/generic.py\u001b[0m in \u001b[0;36mdrop\u001b[0;34m(self, labels, axis, index, columns, level, inplace, errors)\u001b[0m\n\u001b[1;32m   3887\u001b[0m         \u001b[0;32mfor\u001b[0m \u001b[0maxis\u001b[0m\u001b[0;34m,\u001b[0m \u001b[0mlabels\u001b[0m \u001b[0;32min\u001b[0m \u001b[0maxes\u001b[0m\u001b[0;34m.\u001b[0m\u001b[0mitems\u001b[0m\u001b[0;34m(\u001b[0m\u001b[0;34m)\u001b[0m\u001b[0;34m:\u001b[0m\u001b[0;34m\u001b[0m\u001b[0;34m\u001b[0m\u001b[0m\n\u001b[1;32m   3888\u001b[0m             \u001b[0;32mif\u001b[0m \u001b[0mlabels\u001b[0m \u001b[0;32mis\u001b[0m \u001b[0;32mnot\u001b[0m \u001b[0;32mNone\u001b[0m\u001b[0;34m:\u001b[0m\u001b[0;34m\u001b[0m\u001b[0;34m\u001b[0m\u001b[0m\n\u001b[0;32m-> 3889\u001b[0;31m                 \u001b[0mobj\u001b[0m \u001b[0;34m=\u001b[0m \u001b[0mobj\u001b[0m\u001b[0;34m.\u001b[0m\u001b[0m_drop_axis\u001b[0m\u001b[0;34m(\u001b[0m\u001b[0mlabels\u001b[0m\u001b[0;34m,\u001b[0m \u001b[0maxis\u001b[0m\u001b[0;34m,\u001b[0m \u001b[0mlevel\u001b[0m\u001b[0;34m=\u001b[0m\u001b[0mlevel\u001b[0m\u001b[0;34m,\u001b[0m \u001b[0merrors\u001b[0m\u001b[0;34m=\u001b[0m\u001b[0merrors\u001b[0m\u001b[0;34m)\u001b[0m\u001b[0;34m\u001b[0m\u001b[0;34m\u001b[0m\u001b[0m\n\u001b[0m\u001b[1;32m   3890\u001b[0m \u001b[0;34m\u001b[0m\u001b[0m\n\u001b[1;32m   3891\u001b[0m         \u001b[0;32mif\u001b[0m \u001b[0minplace\u001b[0m\u001b[0;34m:\u001b[0m\u001b[0;34m\u001b[0m\u001b[0;34m\u001b[0m\u001b[0m\n",
            "\u001b[0;32m/usr/local/lib/python3.7/dist-packages/pandas/core/generic.py\u001b[0m in \u001b[0;36m_drop_axis\u001b[0;34m(self, labels, axis, level, errors)\u001b[0m\n\u001b[1;32m   3921\u001b[0m                 \u001b[0mnew_axis\u001b[0m \u001b[0;34m=\u001b[0m \u001b[0maxis\u001b[0m\u001b[0;34m.\u001b[0m\u001b[0mdrop\u001b[0m\u001b[0;34m(\u001b[0m\u001b[0mlabels\u001b[0m\u001b[0;34m,\u001b[0m \u001b[0mlevel\u001b[0m\u001b[0;34m=\u001b[0m\u001b[0mlevel\u001b[0m\u001b[0;34m,\u001b[0m \u001b[0merrors\u001b[0m\u001b[0;34m=\u001b[0m\u001b[0merrors\u001b[0m\u001b[0;34m)\u001b[0m\u001b[0;34m\u001b[0m\u001b[0;34m\u001b[0m\u001b[0m\n\u001b[1;32m   3922\u001b[0m             \u001b[0;32melse\u001b[0m\u001b[0;34m:\u001b[0m\u001b[0;34m\u001b[0m\u001b[0;34m\u001b[0m\u001b[0m\n\u001b[0;32m-> 3923\u001b[0;31m                 \u001b[0mnew_axis\u001b[0m \u001b[0;34m=\u001b[0m \u001b[0maxis\u001b[0m\u001b[0;34m.\u001b[0m\u001b[0mdrop\u001b[0m\u001b[0;34m(\u001b[0m\u001b[0mlabels\u001b[0m\u001b[0;34m,\u001b[0m \u001b[0merrors\u001b[0m\u001b[0;34m=\u001b[0m\u001b[0merrors\u001b[0m\u001b[0;34m)\u001b[0m\u001b[0;34m\u001b[0m\u001b[0;34m\u001b[0m\u001b[0m\n\u001b[0m\u001b[1;32m   3924\u001b[0m             \u001b[0mresult\u001b[0m \u001b[0;34m=\u001b[0m \u001b[0mself\u001b[0m\u001b[0;34m.\u001b[0m\u001b[0mreindex\u001b[0m\u001b[0;34m(\u001b[0m\u001b[0;34m**\u001b[0m\u001b[0;34m{\u001b[0m\u001b[0maxis_name\u001b[0m\u001b[0;34m:\u001b[0m \u001b[0mnew_axis\u001b[0m\u001b[0;34m}\u001b[0m\u001b[0;34m)\u001b[0m\u001b[0;34m\u001b[0m\u001b[0;34m\u001b[0m\u001b[0m\n\u001b[1;32m   3925\u001b[0m \u001b[0;34m\u001b[0m\u001b[0m\n",
            "\u001b[0;32m/usr/local/lib/python3.7/dist-packages/pandas/core/indexes/base.py\u001b[0m in \u001b[0;36mdrop\u001b[0;34m(self, labels, errors)\u001b[0m\n\u001b[1;32m   5285\u001b[0m         \u001b[0;32mif\u001b[0m \u001b[0mmask\u001b[0m\u001b[0;34m.\u001b[0m\u001b[0many\u001b[0m\u001b[0;34m(\u001b[0m\u001b[0;34m)\u001b[0m\u001b[0;34m:\u001b[0m\u001b[0;34m\u001b[0m\u001b[0;34m\u001b[0m\u001b[0m\n\u001b[1;32m   5286\u001b[0m             \u001b[0;32mif\u001b[0m \u001b[0merrors\u001b[0m \u001b[0;34m!=\u001b[0m \u001b[0;34m\"ignore\"\u001b[0m\u001b[0;34m:\u001b[0m\u001b[0;34m\u001b[0m\u001b[0;34m\u001b[0m\u001b[0m\n\u001b[0;32m-> 5287\u001b[0;31m                 \u001b[0;32mraise\u001b[0m \u001b[0mKeyError\u001b[0m\u001b[0;34m(\u001b[0m\u001b[0;34mf\"{labels[mask]} not found in axis\"\u001b[0m\u001b[0;34m)\u001b[0m\u001b[0;34m\u001b[0m\u001b[0;34m\u001b[0m\u001b[0m\n\u001b[0m\u001b[1;32m   5288\u001b[0m             \u001b[0mindexer\u001b[0m \u001b[0;34m=\u001b[0m \u001b[0mindexer\u001b[0m\u001b[0;34m[\u001b[0m\u001b[0;34m~\u001b[0m\u001b[0mmask\u001b[0m\u001b[0;34m]\u001b[0m\u001b[0;34m\u001b[0m\u001b[0;34m\u001b[0m\u001b[0m\n\u001b[1;32m   5289\u001b[0m         \u001b[0;32mreturn\u001b[0m \u001b[0mself\u001b[0m\u001b[0;34m.\u001b[0m\u001b[0mdelete\u001b[0m\u001b[0;34m(\u001b[0m\u001b[0mindexer\u001b[0m\u001b[0;34m)\u001b[0m\u001b[0;34m\u001b[0m\u001b[0;34m\u001b[0m\u001b[0m\n",
            "\u001b[0;31mKeyError\u001b[0m: \"['Rndrng_Prvdr_State_FIPS' 'Rndrng_Prvdr_RUCA_Desc'] not found in axis\""
          ]
        }
      ]
    },
    {
      "cell_type": "code",
      "metadata": {
        "id": "ke1G7ljK7dC2"
      },
      "source": [
        "df_drg.rename(columns = {'Rndrng_Prvdr_State_Abrvtn' : 'State', 'Rndrng_Prvdr_Zip5' : 'Zip Code'}, inplace=True)"
      ],
      "execution_count": 25,
      "outputs": []
    },
    {
      "cell_type": "code",
      "metadata": {
        "colab": {
          "base_uri": "https://localhost:8080/"
        },
        "id": "ZJxZtN0J2vI5",
        "outputId": "dbdfd896-5fb3-4fec-dcf4-055f41e0aff3"
      },
      "source": [
        "df_drg.info()\n",
        "# The numeric columns Avg_Tot_Pymt_Amt, etc. should be saved in \"General\" format in .csv file, \n",
        "# If you save the numeric columns as \"Number\", they are changed to \"object\" in Python.\n",
        "# a \"General\" number is changed to \"int64\" if the column in .csv has no decimals, and \n",
        "# a \"General\" number is changed to \"float64\" if the column in the .csv does have decimals"
      ],
      "execution_count": 26,
      "outputs": [
        {
          "output_type": "stream",
          "text": [
            "<class 'pandas.core.frame.DataFrame'>\n",
            "RangeIndex: 788487 entries, 0 to 788486\n",
            "Data columns (total 18 columns):\n",
            " #   Column                      Non-Null Count   Dtype  \n",
            "---  ------                      --------------   -----  \n",
            " 0   Year                        788487 non-null  int64  \n",
            " 1   Rndrng_Prvdr_CCN            788487 non-null  int64  \n",
            " 2   Rndrng_Prvdr_Org_Name       788487 non-null  object \n",
            " 3   Rndrng_Prvdr_St             788487 non-null  object \n",
            " 4   Rndrng_Prvdr_City           788487 non-null  object \n",
            " 5   State                       788487 non-null  object \n",
            " 6   Zip Code                    788487 non-null  int64  \n",
            " 7   Rndrng_Prvdr_RUCA           788487 non-null  float64\n",
            " 8   DRG_Cd                      788487 non-null  int64  \n",
            " 9   DRG_Desc                    788487 non-null  object \n",
            " 10  DRG_Cd-Desc                 788487 non-null  object \n",
            " 11  Tot_Dschrgs                 788487 non-null  int64  \n",
            " 12  Avg_Submtd_Cvrd_Chrg        788487 non-null  float64\n",
            " 13  Avg_Tot_Pymt_Amt            788487 non-null  float64\n",
            " 14  Avg_Mdcr_Pymt_Amt           788487 non-null  float64\n",
            " 15  Total IP Charges            788487 non-null  float64\n",
            " 16  Total IP Payments           788487 non-null  float64\n",
            " 17  Total IP Medicare Payments  788487 non-null  float64\n",
            "dtypes: float64(7), int64(5), object(6)\n",
            "memory usage: 108.3+ MB\n"
          ],
          "name": "stdout"
        }
      ]
    },
    {
      "cell_type": "code",
      "metadata": {
        "colab": {
          "base_uri": "https://localhost:8080/"
        },
        "id": "P-Zjj5QG_naJ",
        "outputId": "73657851-a98f-4046-9903-ff7957ecff73"
      },
      "source": [
        "# Find out the number of unique DRGs and hospitals\n",
        "df_drg.nunique()\n",
        "# Finding: there are 623 unique DRGs and 3,632 unique hospitals"
      ],
      "execution_count": 47,
      "outputs": [
        {
          "output_type": "execute_result",
          "data": {
            "text/plain": [
              "Year                               4\n",
              "Rndrng_Prvdr_CCN                3307\n",
              "Rndrng_Prvdr_Org_Name           3632\n",
              "Rndrng_Prvdr_St                 3440\n",
              "Rndrng_Prvdr_City               1961\n",
              "State                             51\n",
              "Zip Code                        3027\n",
              "Rndrng_Prvdr_RUCA               2225\n",
              "DRG_Cd                           623\n",
              "DRG_Desc                         687\n",
              "DRG_Cd-Desc                      690\n",
              "Tot_Dschrgs                     1055\n",
              "Avg_Submtd_Cvrd_Chrg          769140\n",
              "Avg_Tot_Pymt_Amt              708921\n",
              "Avg_Mdcr_Pymt_Amt             703700\n",
              "Total IP Charges              773368\n",
              "Total IP Payments             724941\n",
              "Total IP Medicare Payments    717766\n",
              "dtype: int64"
            ]
          },
          "metadata": {
            "tags": []
          },
          "execution_count": 47
        }
      ]
    },
    {
      "cell_type": "code",
      "metadata": {
        "colab": {
          "base_uri": "https://localhost:8080/",
          "height": 475
        },
        "id": "WN6FcR5xWA9v",
        "outputId": "a0da76f0-6bf3-4f9b-d67a-71b5747c5fd8"
      },
      "source": [
        "df_apc = pd.read_csv('/content/drive/MyDrive/Colab Notebooks/2015-2018 Medicare OP hospital charges by APC.csv')\n",
        "df_apc.head()"
      ],
      "execution_count": 6,
      "outputs": [
        {
          "output_type": "stream",
          "text": [
            "/usr/local/lib/python3.7/dist-packages/IPython/core/interactiveshell.py:2718: DtypeWarning: Columns (13) have mixed types.Specify dtype option on import or set low_memory=False.\n",
            "  interactivity=interactivity, compiler=compiler, result=result)\n"
          ],
          "name": "stderr"
        },
        {
          "output_type": "execute_result",
          "data": {
            "text/html": [
              "<div>\n",
              "<style scoped>\n",
              "    .dataframe tbody tr th:only-of-type {\n",
              "        vertical-align: middle;\n",
              "    }\n",
              "\n",
              "    .dataframe tbody tr th {\n",
              "        vertical-align: top;\n",
              "    }\n",
              "\n",
              "    .dataframe thead th {\n",
              "        text-align: right;\n",
              "    }\n",
              "</style>\n",
              "<table border=\"1\" class=\"dataframe\">\n",
              "  <thead>\n",
              "    <tr style=\"text-align: right;\">\n",
              "      <th></th>\n",
              "      <th>Year</th>\n",
              "      <th>Rndrng_Prvdr_CCN</th>\n",
              "      <th>Rndrng_Prvdr_Org_Name</th>\n",
              "      <th>Rndrng_Prvdr_St</th>\n",
              "      <th>Rndrng_Prvdr_City</th>\n",
              "      <th>Rndrng_Prvdr_State_Abrvtn</th>\n",
              "      <th>Rndrng_Prvdr_State_FIPS</th>\n",
              "      <th>Rndrng_Prvdr_Zip5</th>\n",
              "      <th>Rndrng_Prvdr_RUCA</th>\n",
              "      <th>Rndrng_Prvdr_RUCA_Desc</th>\n",
              "      <th>APC_Cd</th>\n",
              "      <th>APC_Desc</th>\n",
              "      <th>APC_Cd-Desc</th>\n",
              "      <th>Bene_Cnt</th>\n",
              "      <th>CAPC_Srvcs</th>\n",
              "      <th>Avg_Tot_Sbmtd_Chrgs</th>\n",
              "      <th>Avg_Mdcr_Alowd_Amt</th>\n",
              "      <th>Avg_Mdcr_Pymt_Amt</th>\n",
              "      <th>Outlier_Srvcs</th>\n",
              "      <th>Avg_Mdcr_Outlier_Amt</th>\n",
              "      <th>Unnamed: 20</th>\n",
              "    </tr>\n",
              "  </thead>\n",
              "  <tbody>\n",
              "    <tr>\n",
              "      <th>0</th>\n",
              "      <td>2018</td>\n",
              "      <td>10001</td>\n",
              "      <td>Southeast Alabama Medical Center</td>\n",
              "      <td>1108 Ross Clark Circle</td>\n",
              "      <td>Dothan</td>\n",
              "      <td>AL</td>\n",
              "      <td>1</td>\n",
              "      <td>36301</td>\n",
              "      <td>1.0</td>\n",
              "      <td>Metropolitan area core: primary flow within an...</td>\n",
              "      <td>5072</td>\n",
              "      <td>Level 2 Excision/ Biopsy/ Incision and Drainage</td>\n",
              "      <td>5072-Level 2 Excision/ Biopsy/ Incision and Dr...</td>\n",
              "      <td>248</td>\n",
              "      <td>262</td>\n",
              "      <td>10384</td>\n",
              "      <td>1141</td>\n",
              "      <td>909</td>\n",
              "      <td>NaN</td>\n",
              "      <td>NaN</td>\n",
              "      <td>NaN</td>\n",
              "    </tr>\n",
              "    <tr>\n",
              "      <th>1</th>\n",
              "      <td>2018</td>\n",
              "      <td>10001</td>\n",
              "      <td>Southeast Alabama Medical Center</td>\n",
              "      <td>1108 Ross Clark Circle</td>\n",
              "      <td>Dothan</td>\n",
              "      <td>AL</td>\n",
              "      <td>1</td>\n",
              "      <td>36301</td>\n",
              "      <td>1.0</td>\n",
              "      <td>Metropolitan area core: primary flow within an...</td>\n",
              "      <td>5073</td>\n",
              "      <td>Level 3 Excision/ Biopsy/ Incision and Drainage</td>\n",
              "      <td>5073-Level 3 Excision/ Biopsy/ Incision and Dr...</td>\n",
              "      <td>31</td>\n",
              "      <td>35</td>\n",
              "      <td>17146</td>\n",
              "      <td>1937</td>\n",
              "      <td>1535</td>\n",
              "      <td>NaN</td>\n",
              "      <td>NaN</td>\n",
              "      <td>NaN</td>\n",
              "    </tr>\n",
              "    <tr>\n",
              "      <th>2</th>\n",
              "      <td>2018</td>\n",
              "      <td>10001</td>\n",
              "      <td>Southeast Alabama Medical Center</td>\n",
              "      <td>1108 Ross Clark Circle</td>\n",
              "      <td>Dothan</td>\n",
              "      <td>AL</td>\n",
              "      <td>1</td>\n",
              "      <td>36301</td>\n",
              "      <td>1.0</td>\n",
              "      <td>Metropolitan area core: primary flow within an...</td>\n",
              "      <td>5091</td>\n",
              "      <td>Level 1 Breast/Lymphatic Surgery and Related P...</td>\n",
              "      <td>5091-Level 1 Breast/Lymphatic Surgery and Rela...</td>\n",
              "      <td>23</td>\n",
              "      <td>23</td>\n",
              "      <td>11134</td>\n",
              "      <td>2322</td>\n",
              "      <td>1850</td>\n",
              "      <td>0.0</td>\n",
              "      <td>0.0</td>\n",
              "      <td>NaN</td>\n",
              "    </tr>\n",
              "    <tr>\n",
              "      <th>3</th>\n",
              "      <td>2018</td>\n",
              "      <td>10001</td>\n",
              "      <td>Southeast Alabama Medical Center</td>\n",
              "      <td>1108 Ross Clark Circle</td>\n",
              "      <td>Dothan</td>\n",
              "      <td>AL</td>\n",
              "      <td>1</td>\n",
              "      <td>36301</td>\n",
              "      <td>1.0</td>\n",
              "      <td>Metropolitan area core: primary flow within an...</td>\n",
              "      <td>5092</td>\n",
              "      <td>Level 2 Breast/Lymphatic Surgery and Related P...</td>\n",
              "      <td>5092-Level 2 Breast/Lymphatic Surgery and Rela...</td>\n",
              "      <td>44</td>\n",
              "      <td>44</td>\n",
              "      <td>16885</td>\n",
              "      <td>4096</td>\n",
              "      <td>3263</td>\n",
              "      <td>0.0</td>\n",
              "      <td>0.0</td>\n",
              "      <td>NaN</td>\n",
              "    </tr>\n",
              "    <tr>\n",
              "      <th>4</th>\n",
              "      <td>2018</td>\n",
              "      <td>10001</td>\n",
              "      <td>Southeast Alabama Medical Center</td>\n",
              "      <td>1108 Ross Clark Circle</td>\n",
              "      <td>Dothan</td>\n",
              "      <td>AL</td>\n",
              "      <td>1</td>\n",
              "      <td>36301</td>\n",
              "      <td>1.0</td>\n",
              "      <td>Metropolitan area core: primary flow within an...</td>\n",
              "      <td>5112</td>\n",
              "      <td>Level 2 Musculoskeletal Procedures</td>\n",
              "      <td>5112-Level 2 Musculoskeletal Procedures</td>\n",
              "      <td>20</td>\n",
              "      <td>20</td>\n",
              "      <td>11335</td>\n",
              "      <td>1103</td>\n",
              "      <td>870</td>\n",
              "      <td>0.0</td>\n",
              "      <td>0.0</td>\n",
              "      <td>NaN</td>\n",
              "    </tr>\n",
              "  </tbody>\n",
              "</table>\n",
              "</div>"
            ],
            "text/plain": [
              "   Year  Rndrng_Prvdr_CCN  ... Avg_Mdcr_Outlier_Amt Unnamed: 20\n",
              "0  2018             10001  ...                  NaN         NaN\n",
              "1  2018             10001  ...                  NaN         NaN\n",
              "2  2018             10001  ...                  0.0         NaN\n",
              "3  2018             10001  ...                  0.0         NaN\n",
              "4  2018             10001  ...                  0.0         NaN\n",
              "\n",
              "[5 rows x 21 columns]"
            ]
          },
          "metadata": {
            "tags": []
          },
          "execution_count": 6
        }
      ]
    },
    {
      "cell_type": "code",
      "metadata": {
        "colab": {
          "base_uri": "https://localhost:8080/"
        },
        "id": "6wTyI73y-Za4",
        "outputId": "4e10a90a-1e70-4ae3-ab12-82141c65b54f"
      },
      "source": [
        "df_apc.info()\n"
      ],
      "execution_count": 7,
      "outputs": [
        {
          "output_type": "stream",
          "text": [
            "<class 'pandas.core.frame.DataFrame'>\n",
            "RangeIndex: 309174 entries, 0 to 309173\n",
            "Data columns (total 21 columns):\n",
            " #   Column                     Non-Null Count   Dtype  \n",
            "---  ------                     --------------   -----  \n",
            " 0   Year                       309174 non-null  int64  \n",
            " 1   Rndrng_Prvdr_CCN           309174 non-null  int64  \n",
            " 2   Rndrng_Prvdr_Org_Name      309174 non-null  object \n",
            " 3   Rndrng_Prvdr_St            309174 non-null  object \n",
            " 4   Rndrng_Prvdr_City          309174 non-null  object \n",
            " 5   Rndrng_Prvdr_State_Abrvtn  309174 non-null  object \n",
            " 6   Rndrng_Prvdr_State_FIPS    309174 non-null  int64  \n",
            " 7   Rndrng_Prvdr_Zip5          309174 non-null  int64  \n",
            " 8   Rndrng_Prvdr_RUCA          309113 non-null  float64\n",
            " 9   Rndrng_Prvdr_RUCA_Desc     309113 non-null  object \n",
            " 10  APC_Cd                     309174 non-null  int64  \n",
            " 11  APC_Desc                   309174 non-null  object \n",
            " 12  APC_Cd-Desc                309174 non-null  object \n",
            " 13  Bene_Cnt                   306449 non-null  object \n",
            " 14  CAPC_Srvcs                 309174 non-null  int64  \n",
            " 15  Avg_Tot_Sbmtd_Chrgs        309174 non-null  int64  \n",
            " 16  Avg_Mdcr_Alowd_Amt         309174 non-null  int64  \n",
            " 17  Avg_Mdcr_Pymt_Amt          309174 non-null  int64  \n",
            " 18  Outlier_Srvcs              107564 non-null  float64\n",
            " 19  Avg_Mdcr_Outlier_Amt       107564 non-null  float64\n",
            " 20  Unnamed: 20                0 non-null       float64\n",
            "dtypes: float64(4), int64(9), object(8)\n",
            "memory usage: 49.5+ MB\n"
          ],
          "name": "stdout"
        }
      ]
    },
    {
      "cell_type": "code",
      "metadata": {
        "colab": {
          "base_uri": "https://localhost:8080/",
          "height": 320
        },
        "id": "EOcjsHdL04iW",
        "outputId": "9b05172e-750f-48f8-b415-dfda674375bb"
      },
      "source": [
        "df_apc.drop(['Rndrng_Prvdr_RUCA', 'Outlier_Srvcs', 'Avg_Mdcr_Outlier_Amt', 'Unnamed: 20'], axis = 1, inplace = True)"
      ],
      "execution_count": 27,
      "outputs": [
        {
          "output_type": "error",
          "ename": "KeyError",
          "evalue": "ignored",
          "traceback": [
            "\u001b[0;31m---------------------------------------------------------------------------\u001b[0m",
            "\u001b[0;31mKeyError\u001b[0m                                  Traceback (most recent call last)",
            "\u001b[0;32m<ipython-input-27-ad08243b95cf>\u001b[0m in \u001b[0;36m<module>\u001b[0;34m()\u001b[0m\n\u001b[0;32m----> 1\u001b[0;31m \u001b[0mdf_apc\u001b[0m\u001b[0;34m.\u001b[0m\u001b[0mdrop\u001b[0m\u001b[0;34m(\u001b[0m\u001b[0;34m[\u001b[0m\u001b[0;34m'Rndrng_Prvdr_RUCA'\u001b[0m\u001b[0;34m,\u001b[0m \u001b[0;34m'Outlier_Srvcs'\u001b[0m\u001b[0;34m,\u001b[0m \u001b[0;34m'Avg_Mdcr_Outlier_Amt'\u001b[0m\u001b[0;34m,\u001b[0m \u001b[0;34m'Unnamed: 20'\u001b[0m\u001b[0;34m]\u001b[0m\u001b[0;34m,\u001b[0m \u001b[0maxis\u001b[0m \u001b[0;34m=\u001b[0m \u001b[0;36m1\u001b[0m\u001b[0;34m,\u001b[0m \u001b[0minplace\u001b[0m \u001b[0;34m=\u001b[0m \u001b[0;32mTrue\u001b[0m\u001b[0;34m)\u001b[0m\u001b[0;34m\u001b[0m\u001b[0;34m\u001b[0m\u001b[0m\n\u001b[0m\u001b[1;32m      2\u001b[0m \u001b[0mdf_apc\u001b[0m\u001b[0;34m.\u001b[0m\u001b[0mrename\u001b[0m\u001b[0;34m(\u001b[0m\u001b[0mcolumns\u001b[0m \u001b[0;34m=\u001b[0m \u001b[0;34m{\u001b[0m\u001b[0;34m'Rndrng_Prvdr_State_Abrvtn'\u001b[0m \u001b[0;34m:\u001b[0m \u001b[0;34m'State'\u001b[0m\u001b[0;34m,\u001b[0m \u001b[0;34m'Rndrng_Prvdr_Zip5'\u001b[0m \u001b[0;34m:\u001b[0m \u001b[0;34m'Zip Code'\u001b[0m\u001b[0;34m}\u001b[0m\u001b[0;34m,\u001b[0m \u001b[0minplace\u001b[0m\u001b[0;34m=\u001b[0m\u001b[0;32mTrue\u001b[0m\u001b[0;34m)\u001b[0m\u001b[0;34m\u001b[0m\u001b[0;34m\u001b[0m\u001b[0m\n",
            "\u001b[0;32m/usr/local/lib/python3.7/dist-packages/pandas/core/frame.py\u001b[0m in \u001b[0;36mdrop\u001b[0;34m(self, labels, axis, index, columns, level, inplace, errors)\u001b[0m\n\u001b[1;32m   4172\u001b[0m             \u001b[0mlevel\u001b[0m\u001b[0;34m=\u001b[0m\u001b[0mlevel\u001b[0m\u001b[0;34m,\u001b[0m\u001b[0;34m\u001b[0m\u001b[0;34m\u001b[0m\u001b[0m\n\u001b[1;32m   4173\u001b[0m             \u001b[0minplace\u001b[0m\u001b[0;34m=\u001b[0m\u001b[0minplace\u001b[0m\u001b[0;34m,\u001b[0m\u001b[0;34m\u001b[0m\u001b[0;34m\u001b[0m\u001b[0m\n\u001b[0;32m-> 4174\u001b[0;31m             \u001b[0merrors\u001b[0m\u001b[0;34m=\u001b[0m\u001b[0merrors\u001b[0m\u001b[0;34m,\u001b[0m\u001b[0;34m\u001b[0m\u001b[0;34m\u001b[0m\u001b[0m\n\u001b[0m\u001b[1;32m   4175\u001b[0m         )\n\u001b[1;32m   4176\u001b[0m \u001b[0;34m\u001b[0m\u001b[0m\n",
            "\u001b[0;32m/usr/local/lib/python3.7/dist-packages/pandas/core/generic.py\u001b[0m in \u001b[0;36mdrop\u001b[0;34m(self, labels, axis, index, columns, level, inplace, errors)\u001b[0m\n\u001b[1;32m   3887\u001b[0m         \u001b[0;32mfor\u001b[0m \u001b[0maxis\u001b[0m\u001b[0;34m,\u001b[0m \u001b[0mlabels\u001b[0m \u001b[0;32min\u001b[0m \u001b[0maxes\u001b[0m\u001b[0;34m.\u001b[0m\u001b[0mitems\u001b[0m\u001b[0;34m(\u001b[0m\u001b[0;34m)\u001b[0m\u001b[0;34m:\u001b[0m\u001b[0;34m\u001b[0m\u001b[0;34m\u001b[0m\u001b[0m\n\u001b[1;32m   3888\u001b[0m             \u001b[0;32mif\u001b[0m \u001b[0mlabels\u001b[0m \u001b[0;32mis\u001b[0m \u001b[0;32mnot\u001b[0m \u001b[0;32mNone\u001b[0m\u001b[0;34m:\u001b[0m\u001b[0;34m\u001b[0m\u001b[0;34m\u001b[0m\u001b[0m\n\u001b[0;32m-> 3889\u001b[0;31m                 \u001b[0mobj\u001b[0m \u001b[0;34m=\u001b[0m \u001b[0mobj\u001b[0m\u001b[0;34m.\u001b[0m\u001b[0m_drop_axis\u001b[0m\u001b[0;34m(\u001b[0m\u001b[0mlabels\u001b[0m\u001b[0;34m,\u001b[0m \u001b[0maxis\u001b[0m\u001b[0;34m,\u001b[0m \u001b[0mlevel\u001b[0m\u001b[0;34m=\u001b[0m\u001b[0mlevel\u001b[0m\u001b[0;34m,\u001b[0m \u001b[0merrors\u001b[0m\u001b[0;34m=\u001b[0m\u001b[0merrors\u001b[0m\u001b[0;34m)\u001b[0m\u001b[0;34m\u001b[0m\u001b[0;34m\u001b[0m\u001b[0m\n\u001b[0m\u001b[1;32m   3890\u001b[0m \u001b[0;34m\u001b[0m\u001b[0m\n\u001b[1;32m   3891\u001b[0m         \u001b[0;32mif\u001b[0m \u001b[0minplace\u001b[0m\u001b[0;34m:\u001b[0m\u001b[0;34m\u001b[0m\u001b[0;34m\u001b[0m\u001b[0m\n",
            "\u001b[0;32m/usr/local/lib/python3.7/dist-packages/pandas/core/generic.py\u001b[0m in \u001b[0;36m_drop_axis\u001b[0;34m(self, labels, axis, level, errors)\u001b[0m\n\u001b[1;32m   3921\u001b[0m                 \u001b[0mnew_axis\u001b[0m \u001b[0;34m=\u001b[0m \u001b[0maxis\u001b[0m\u001b[0;34m.\u001b[0m\u001b[0mdrop\u001b[0m\u001b[0;34m(\u001b[0m\u001b[0mlabels\u001b[0m\u001b[0;34m,\u001b[0m \u001b[0mlevel\u001b[0m\u001b[0;34m=\u001b[0m\u001b[0mlevel\u001b[0m\u001b[0;34m,\u001b[0m \u001b[0merrors\u001b[0m\u001b[0;34m=\u001b[0m\u001b[0merrors\u001b[0m\u001b[0;34m)\u001b[0m\u001b[0;34m\u001b[0m\u001b[0;34m\u001b[0m\u001b[0m\n\u001b[1;32m   3922\u001b[0m             \u001b[0;32melse\u001b[0m\u001b[0;34m:\u001b[0m\u001b[0;34m\u001b[0m\u001b[0;34m\u001b[0m\u001b[0m\n\u001b[0;32m-> 3923\u001b[0;31m                 \u001b[0mnew_axis\u001b[0m \u001b[0;34m=\u001b[0m \u001b[0maxis\u001b[0m\u001b[0;34m.\u001b[0m\u001b[0mdrop\u001b[0m\u001b[0;34m(\u001b[0m\u001b[0mlabels\u001b[0m\u001b[0;34m,\u001b[0m \u001b[0merrors\u001b[0m\u001b[0;34m=\u001b[0m\u001b[0merrors\u001b[0m\u001b[0;34m)\u001b[0m\u001b[0;34m\u001b[0m\u001b[0;34m\u001b[0m\u001b[0m\n\u001b[0m\u001b[1;32m   3924\u001b[0m             \u001b[0mresult\u001b[0m \u001b[0;34m=\u001b[0m \u001b[0mself\u001b[0m\u001b[0;34m.\u001b[0m\u001b[0mreindex\u001b[0m\u001b[0;34m(\u001b[0m\u001b[0;34m**\u001b[0m\u001b[0;34m{\u001b[0m\u001b[0maxis_name\u001b[0m\u001b[0;34m:\u001b[0m \u001b[0mnew_axis\u001b[0m\u001b[0;34m}\u001b[0m\u001b[0;34m)\u001b[0m\u001b[0;34m\u001b[0m\u001b[0;34m\u001b[0m\u001b[0m\n\u001b[1;32m   3925\u001b[0m \u001b[0;34m\u001b[0m\u001b[0m\n",
            "\u001b[0;32m/usr/local/lib/python3.7/dist-packages/pandas/core/indexes/base.py\u001b[0m in \u001b[0;36mdrop\u001b[0;34m(self, labels, errors)\u001b[0m\n\u001b[1;32m   5285\u001b[0m         \u001b[0;32mif\u001b[0m \u001b[0mmask\u001b[0m\u001b[0;34m.\u001b[0m\u001b[0many\u001b[0m\u001b[0;34m(\u001b[0m\u001b[0;34m)\u001b[0m\u001b[0;34m:\u001b[0m\u001b[0;34m\u001b[0m\u001b[0;34m\u001b[0m\u001b[0m\n\u001b[1;32m   5286\u001b[0m             \u001b[0;32mif\u001b[0m \u001b[0merrors\u001b[0m \u001b[0;34m!=\u001b[0m \u001b[0;34m\"ignore\"\u001b[0m\u001b[0;34m:\u001b[0m\u001b[0;34m\u001b[0m\u001b[0;34m\u001b[0m\u001b[0m\n\u001b[0;32m-> 5287\u001b[0;31m                 \u001b[0;32mraise\u001b[0m \u001b[0mKeyError\u001b[0m\u001b[0;34m(\u001b[0m\u001b[0;34mf\"{labels[mask]} not found in axis\"\u001b[0m\u001b[0;34m)\u001b[0m\u001b[0;34m\u001b[0m\u001b[0;34m\u001b[0m\u001b[0m\n\u001b[0m\u001b[1;32m   5288\u001b[0m             \u001b[0mindexer\u001b[0m \u001b[0;34m=\u001b[0m \u001b[0mindexer\u001b[0m\u001b[0;34m[\u001b[0m\u001b[0;34m~\u001b[0m\u001b[0mmask\u001b[0m\u001b[0;34m]\u001b[0m\u001b[0;34m\u001b[0m\u001b[0;34m\u001b[0m\u001b[0m\n\u001b[1;32m   5289\u001b[0m         \u001b[0;32mreturn\u001b[0m \u001b[0mself\u001b[0m\u001b[0;34m.\u001b[0m\u001b[0mdelete\u001b[0m\u001b[0;34m(\u001b[0m\u001b[0mindexer\u001b[0m\u001b[0;34m)\u001b[0m\u001b[0;34m\u001b[0m\u001b[0;34m\u001b[0m\u001b[0m\n",
            "\u001b[0;31mKeyError\u001b[0m: \"['Outlier_Srvcs' 'Avg_Mdcr_Outlier_Amt'] not found in axis\""
          ]
        }
      ]
    },
    {
      "cell_type": "code",
      "metadata": {
        "id": "RU2xvt9r9kog"
      },
      "source": [
        "df_apc.rename(columns = {'Rndrng_Prvdr_State_Abrvtn' : 'State', 'Rndrng_Prvdr_Zip5' : 'Zip Code'}, inplace=True)"
      ],
      "execution_count": 29,
      "outputs": []
    },
    {
      "cell_type": "code",
      "metadata": {
        "colab": {
          "base_uri": "https://localhost:8080/"
        },
        "id": "CoEUo-nV3wA6",
        "outputId": "b500f6bd-b6a9-4408-c564-0c4d1f27a29e"
      },
      "source": [
        "df_apc.info()"
      ],
      "execution_count": 30,
      "outputs": [
        {
          "output_type": "stream",
          "text": [
            "<class 'pandas.core.frame.DataFrame'>\n",
            "RangeIndex: 309174 entries, 0 to 309173\n",
            "Data columns (total 19 columns):\n",
            " #   Column                   Non-Null Count   Dtype  \n",
            "---  ------                   --------------   -----  \n",
            " 0   Year                     309174 non-null  int64  \n",
            " 1   Rndrng_Prvdr_CCN         309174 non-null  int64  \n",
            " 2   Rndrng_Prvdr_Org_Name    309174 non-null  object \n",
            " 3   Rndrng_Prvdr_St          309174 non-null  object \n",
            " 4   Rndrng_Prvdr_City        309174 non-null  object \n",
            " 5   State                    309174 non-null  object \n",
            " 6   Rndrng_Prvdr_State_FIPS  309174 non-null  int64  \n",
            " 7   Zip Code                 309174 non-null  int64  \n",
            " 8   Rndrng_Prvdr_RUCA        309113 non-null  float64\n",
            " 9   Rndrng_Prvdr_RUCA_Desc   309113 non-null  object \n",
            " 10  APC_Cd                   309174 non-null  int64  \n",
            " 11  APC_Desc                 309174 non-null  object \n",
            " 12  APC_Cd-Desc              309174 non-null  object \n",
            " 13  Bene_Cnt                 306449 non-null  object \n",
            " 14  CAPC_Srvcs               309174 non-null  int64  \n",
            " 15  Avg_Tot_Sbmtd_Chrgs      309174 non-null  int64  \n",
            " 16  Avg_Mdcr_Alowd_Amt       309174 non-null  int64  \n",
            " 17  Avg_Mdcr_Pymt_Amt        309174 non-null  int64  \n",
            " 18  Unnamed: 20              0 non-null       float64\n",
            "dtypes: float64(2), int64(9), object(8)\n",
            "memory usage: 44.8+ MB\n"
          ],
          "name": "stdout"
        }
      ]
    },
    {
      "cell_type": "code",
      "metadata": {
        "colab": {
          "base_uri": "https://localhost:8080/"
        },
        "id": "rgHmI1qrFH_L",
        "outputId": "d98484c2-911e-4c43-9d47-3123dcce32e7"
      },
      "source": [
        "# Find out the number of unique APCs and hospitals\n",
        "df_apc.nunique()\n",
        "# Finding: there are 90 unique DRGs and 3,710 unique hospitals"
      ],
      "execution_count": 48,
      "outputs": [
        {
          "output_type": "execute_result",
          "data": {
            "text/plain": [
              "Year                               4\n",
              "Rndrng_Prvdr_CCN                3396\n",
              "Rndrng_Prvdr_Org_Name           3710\n",
              "Rndrng_Prvdr_St                 3539\n",
              "Rndrng_Prvdr_City               1954\n",
              "State                             50\n",
              "Rndrng_Prvdr_State_FIPS           50\n",
              "Zip Code                        3043\n",
              "Rndrng_Prvdr_RUCA                 18\n",
              "Rndrng_Prvdr_RUCA_Desc            14\n",
              "APC_Cd                            90\n",
              "APC_Desc                          89\n",
              "APC_Cd-Desc                       93\n",
              "Bene_Cnt                        1902\n",
              "CAPC_Srvcs                      1811\n",
              "Avg_Tot_Sbmtd_Chrgs            67157\n",
              "Avg_Mdcr_Alowd_Amt             20530\n",
              "Avg_Mdcr_Pymt_Amt              20074\n",
              "Unnamed: 20                        0\n",
              "Total OP Charges              152816\n",
              "Total OP Medicare Payments    110019\n",
              "dtype: int64"
            ]
          },
          "metadata": {
            "tags": []
          },
          "execution_count": 48
        }
      ]
    },
    {
      "cell_type": "code",
      "metadata": {
        "id": "d0-W0kek04a9"
      },
      "source": [
        "# For DRG inpatient services, \n",
        "# Multiply Average Covered Charges by Total Discharges to obtain new column, Total IP Charges\n",
        "df_drg['Total IP Charges'] = df_drg['Avg_Submtd_Cvrd_Chrg'] * df_drg['Tot_Dschrgs']\n",
        "\n",
        "# Multiply Average Total Payments by Total Discharges to obtain new column, Total IP Payments\n",
        "df_drg['Total IP Payments'] = df_drg['Avg_Tot_Pymt_Amt'] * df_drg['Tot_Dschrgs']\n",
        "\n",
        "# Multiply Average Total Medicare Payments by Total Discharges to obtain new column, Total IP Medicare Payments\n",
        "df_drg['Total IP Medicare Payments'] = df_drg['Avg_Mdcr_Pymt_Amt'] * df_drg['Tot_Dschrgs']\n"
      ],
      "execution_count": 18,
      "outputs": []
    },
    {
      "cell_type": "code",
      "metadata": {
        "colab": {
          "base_uri": "https://localhost:8080/",
          "height": 542
        },
        "id": "EBvdqftmpuRZ",
        "outputId": "8e257d7d-1e0c-4299-a682-6f6223ef11fe"
      },
      "source": [
        "df_drg.head().round(0)"
      ],
      "execution_count": 31,
      "outputs": [
        {
          "output_type": "execute_result",
          "data": {
            "text/html": [
              "<div>\n",
              "<style scoped>\n",
              "    .dataframe tbody tr th:only-of-type {\n",
              "        vertical-align: middle;\n",
              "    }\n",
              "\n",
              "    .dataframe tbody tr th {\n",
              "        vertical-align: top;\n",
              "    }\n",
              "\n",
              "    .dataframe thead th {\n",
              "        text-align: right;\n",
              "    }\n",
              "</style>\n",
              "<table border=\"1\" class=\"dataframe\">\n",
              "  <thead>\n",
              "    <tr style=\"text-align: right;\">\n",
              "      <th></th>\n",
              "      <th>Year</th>\n",
              "      <th>Rndrng_Prvdr_CCN</th>\n",
              "      <th>Rndrng_Prvdr_Org_Name</th>\n",
              "      <th>Rndrng_Prvdr_St</th>\n",
              "      <th>Rndrng_Prvdr_City</th>\n",
              "      <th>State</th>\n",
              "      <th>Zip Code</th>\n",
              "      <th>Rndrng_Prvdr_RUCA</th>\n",
              "      <th>DRG_Cd</th>\n",
              "      <th>DRG_Desc</th>\n",
              "      <th>DRG_Cd-Desc</th>\n",
              "      <th>Tot_Dschrgs</th>\n",
              "      <th>Avg_Submtd_Cvrd_Chrg</th>\n",
              "      <th>Avg_Tot_Pymt_Amt</th>\n",
              "      <th>Avg_Mdcr_Pymt_Amt</th>\n",
              "      <th>Total IP Charges</th>\n",
              "      <th>Total IP Payments</th>\n",
              "      <th>Total IP Medicare Payments</th>\n",
              "    </tr>\n",
              "  </thead>\n",
              "  <tbody>\n",
              "    <tr>\n",
              "      <th>0</th>\n",
              "      <td>2018</td>\n",
              "      <td>10001</td>\n",
              "      <td>Southeast Alabama Medical Center</td>\n",
              "      <td>1108 Ross Clark Circle</td>\n",
              "      <td>Dothan</td>\n",
              "      <td>AL</td>\n",
              "      <td>36301</td>\n",
              "      <td>3630.0</td>\n",
              "      <td>3</td>\n",
              "      <td>ECMO OR TRACH W MV &gt;96 HRS OR PDX EXC FACE, MO...</td>\n",
              "      <td>3-ECMO OR TRACH W MV &gt;96 HRS OR PDX EXC FACE, ...</td>\n",
              "      <td>13</td>\n",
              "      <td>368434.0</td>\n",
              "      <td>81541.0</td>\n",
              "      <td>80435.0</td>\n",
              "      <td>4789642.0</td>\n",
              "      <td>1060032.0</td>\n",
              "      <td>1045654.0</td>\n",
              "    </tr>\n",
              "    <tr>\n",
              "      <th>1</th>\n",
              "      <td>2018</td>\n",
              "      <td>10001</td>\n",
              "      <td>Southeast Alabama Medical Center</td>\n",
              "      <td>1108 Ross Clark Circle</td>\n",
              "      <td>Dothan</td>\n",
              "      <td>AL</td>\n",
              "      <td>36301</td>\n",
              "      <td>3630.0</td>\n",
              "      <td>23</td>\n",
              "      <td>CRANIOTOMY W MAJOR DEVICE IMPLANT OR ACUTE COM...</td>\n",
              "      <td>23-CRANIOTOMY W MAJOR DEVICE IMPLANT OR ACUTE ...</td>\n",
              "      <td>33</td>\n",
              "      <td>148677.0</td>\n",
              "      <td>29062.0</td>\n",
              "      <td>27997.0</td>\n",
              "      <td>4906345.0</td>\n",
              "      <td>959030.0</td>\n",
              "      <td>923887.0</td>\n",
              "    </tr>\n",
              "    <tr>\n",
              "      <th>2</th>\n",
              "      <td>2018</td>\n",
              "      <td>10001</td>\n",
              "      <td>Southeast Alabama Medical Center</td>\n",
              "      <td>1108 Ross Clark Circle</td>\n",
              "      <td>Dothan</td>\n",
              "      <td>AL</td>\n",
              "      <td>36301</td>\n",
              "      <td>3630.0</td>\n",
              "      <td>25</td>\n",
              "      <td>CRANIOTOMY &amp; ENDOVASCULAR INTRACRANIAL PROCEDU...</td>\n",
              "      <td>25-CRANIOTOMY &amp; ENDOVASCULAR INTRACRANIAL PROC...</td>\n",
              "      <td>26</td>\n",
              "      <td>118718.0</td>\n",
              "      <td>22442.0</td>\n",
              "      <td>19592.0</td>\n",
              "      <td>3086677.0</td>\n",
              "      <td>583486.0</td>\n",
              "      <td>509387.0</td>\n",
              "    </tr>\n",
              "    <tr>\n",
              "      <th>3</th>\n",
              "      <td>2018</td>\n",
              "      <td>10001</td>\n",
              "      <td>Southeast Alabama Medical Center</td>\n",
              "      <td>1108 Ross Clark Circle</td>\n",
              "      <td>Dothan</td>\n",
              "      <td>AL</td>\n",
              "      <td>36301</td>\n",
              "      <td>3630.0</td>\n",
              "      <td>38</td>\n",
              "      <td>EXTRACRANIAL PROCEDURES W CC</td>\n",
              "      <td>38-EXTRACRANIAL PROCEDURES W CC</td>\n",
              "      <td>11</td>\n",
              "      <td>74449.0</td>\n",
              "      <td>9546.0</td>\n",
              "      <td>7562.0</td>\n",
              "      <td>818941.0</td>\n",
              "      <td>105006.0</td>\n",
              "      <td>83180.0</td>\n",
              "    </tr>\n",
              "    <tr>\n",
              "      <th>4</th>\n",
              "      <td>2018</td>\n",
              "      <td>10001</td>\n",
              "      <td>Southeast Alabama Medical Center</td>\n",
              "      <td>1108 Ross Clark Circle</td>\n",
              "      <td>Dothan</td>\n",
              "      <td>AL</td>\n",
              "      <td>36301</td>\n",
              "      <td>3630.0</td>\n",
              "      <td>39</td>\n",
              "      <td>EXTRACRANIAL PROCEDURES W/O CC/MCC</td>\n",
              "      <td>39-EXTRACRANIAL PROCEDURES W/O CC/MCC</td>\n",
              "      <td>64</td>\n",
              "      <td>46628.0</td>\n",
              "      <td>6468.0</td>\n",
              "      <td>5073.0</td>\n",
              "      <td>2984178.0</td>\n",
              "      <td>413971.0</td>\n",
              "      <td>324691.0</td>\n",
              "    </tr>\n",
              "  </tbody>\n",
              "</table>\n",
              "</div>"
            ],
            "text/plain": [
              "   Year  Rndrng_Prvdr_CCN  ... Total IP Payments Total IP Medicare Payments\n",
              "0  2018             10001  ...         1060032.0                  1045654.0\n",
              "1  2018             10001  ...          959030.0                   923887.0\n",
              "2  2018             10001  ...          583486.0                   509387.0\n",
              "3  2018             10001  ...          105006.0                    83180.0\n",
              "4  2018             10001  ...          413971.0                   324691.0\n",
              "\n",
              "[5 rows x 18 columns]"
            ]
          },
          "metadata": {
            "tags": []
          },
          "execution_count": 31
        }
      ]
    },
    {
      "cell_type": "code",
      "metadata": {
        "id": "JnWmVuHbFNI0"
      },
      "source": [
        "# For APC outpatient services, multiply Average Total Submitted Charges by Number of APC Services to obtain new column, Total Charges\n",
        "df_apc['Total OP Charges'] = df_apc['Avg_Tot_Sbmtd_Chrgs'] * df_apc['CAPC_Srvcs']\n",
        "\n",
        "# Multiply Average Medicare Payment Amount by Number of APC Services to obtain new column, Total Medicare Payments\n",
        "df_apc['Total OP Medicare Payments'] = df_apc['Avg_Mdcr_Pymt_Amt'] * df_apc['CAPC_Srvcs']\n"
      ],
      "execution_count": 32,
      "outputs": []
    },
    {
      "cell_type": "code",
      "metadata": {
        "colab": {
          "base_uri": "https://localhost:8080/",
          "height": 458
        },
        "id": "f84pZjO3rQs7",
        "outputId": "94460c1f-85a0-4985-82c3-fb04f58b69a4"
      },
      "source": [
        "df_apc.head()"
      ],
      "execution_count": 33,
      "outputs": [
        {
          "output_type": "execute_result",
          "data": {
            "text/html": [
              "<div>\n",
              "<style scoped>\n",
              "    .dataframe tbody tr th:only-of-type {\n",
              "        vertical-align: middle;\n",
              "    }\n",
              "\n",
              "    .dataframe tbody tr th {\n",
              "        vertical-align: top;\n",
              "    }\n",
              "\n",
              "    .dataframe thead th {\n",
              "        text-align: right;\n",
              "    }\n",
              "</style>\n",
              "<table border=\"1\" class=\"dataframe\">\n",
              "  <thead>\n",
              "    <tr style=\"text-align: right;\">\n",
              "      <th></th>\n",
              "      <th>Year</th>\n",
              "      <th>Rndrng_Prvdr_CCN</th>\n",
              "      <th>Rndrng_Prvdr_Org_Name</th>\n",
              "      <th>Rndrng_Prvdr_St</th>\n",
              "      <th>Rndrng_Prvdr_City</th>\n",
              "      <th>State</th>\n",
              "      <th>Rndrng_Prvdr_State_FIPS</th>\n",
              "      <th>Zip Code</th>\n",
              "      <th>Rndrng_Prvdr_RUCA</th>\n",
              "      <th>Rndrng_Prvdr_RUCA_Desc</th>\n",
              "      <th>APC_Cd</th>\n",
              "      <th>APC_Desc</th>\n",
              "      <th>APC_Cd-Desc</th>\n",
              "      <th>Bene_Cnt</th>\n",
              "      <th>CAPC_Srvcs</th>\n",
              "      <th>Avg_Tot_Sbmtd_Chrgs</th>\n",
              "      <th>Avg_Mdcr_Alowd_Amt</th>\n",
              "      <th>Avg_Mdcr_Pymt_Amt</th>\n",
              "      <th>Unnamed: 20</th>\n",
              "      <th>Total OP Charges</th>\n",
              "      <th>Total OP Medicare Payments</th>\n",
              "    </tr>\n",
              "  </thead>\n",
              "  <tbody>\n",
              "    <tr>\n",
              "      <th>0</th>\n",
              "      <td>2018</td>\n",
              "      <td>10001</td>\n",
              "      <td>Southeast Alabama Medical Center</td>\n",
              "      <td>1108 Ross Clark Circle</td>\n",
              "      <td>Dothan</td>\n",
              "      <td>AL</td>\n",
              "      <td>1</td>\n",
              "      <td>36301</td>\n",
              "      <td>1.0</td>\n",
              "      <td>Metropolitan area core: primary flow within an...</td>\n",
              "      <td>5072</td>\n",
              "      <td>Level 2 Excision/ Biopsy/ Incision and Drainage</td>\n",
              "      <td>5072-Level 2 Excision/ Biopsy/ Incision and Dr...</td>\n",
              "      <td>248</td>\n",
              "      <td>262</td>\n",
              "      <td>10384</td>\n",
              "      <td>1141</td>\n",
              "      <td>909</td>\n",
              "      <td>NaN</td>\n",
              "      <td>2720608</td>\n",
              "      <td>238158</td>\n",
              "    </tr>\n",
              "    <tr>\n",
              "      <th>1</th>\n",
              "      <td>2018</td>\n",
              "      <td>10001</td>\n",
              "      <td>Southeast Alabama Medical Center</td>\n",
              "      <td>1108 Ross Clark Circle</td>\n",
              "      <td>Dothan</td>\n",
              "      <td>AL</td>\n",
              "      <td>1</td>\n",
              "      <td>36301</td>\n",
              "      <td>1.0</td>\n",
              "      <td>Metropolitan area core: primary flow within an...</td>\n",
              "      <td>5073</td>\n",
              "      <td>Level 3 Excision/ Biopsy/ Incision and Drainage</td>\n",
              "      <td>5073-Level 3 Excision/ Biopsy/ Incision and Dr...</td>\n",
              "      <td>31</td>\n",
              "      <td>35</td>\n",
              "      <td>17146</td>\n",
              "      <td>1937</td>\n",
              "      <td>1535</td>\n",
              "      <td>NaN</td>\n",
              "      <td>600110</td>\n",
              "      <td>53725</td>\n",
              "    </tr>\n",
              "    <tr>\n",
              "      <th>2</th>\n",
              "      <td>2018</td>\n",
              "      <td>10001</td>\n",
              "      <td>Southeast Alabama Medical Center</td>\n",
              "      <td>1108 Ross Clark Circle</td>\n",
              "      <td>Dothan</td>\n",
              "      <td>AL</td>\n",
              "      <td>1</td>\n",
              "      <td>36301</td>\n",
              "      <td>1.0</td>\n",
              "      <td>Metropolitan area core: primary flow within an...</td>\n",
              "      <td>5091</td>\n",
              "      <td>Level 1 Breast/Lymphatic Surgery and Related P...</td>\n",
              "      <td>5091-Level 1 Breast/Lymphatic Surgery and Rela...</td>\n",
              "      <td>23</td>\n",
              "      <td>23</td>\n",
              "      <td>11134</td>\n",
              "      <td>2322</td>\n",
              "      <td>1850</td>\n",
              "      <td>NaN</td>\n",
              "      <td>256082</td>\n",
              "      <td>42550</td>\n",
              "    </tr>\n",
              "    <tr>\n",
              "      <th>3</th>\n",
              "      <td>2018</td>\n",
              "      <td>10001</td>\n",
              "      <td>Southeast Alabama Medical Center</td>\n",
              "      <td>1108 Ross Clark Circle</td>\n",
              "      <td>Dothan</td>\n",
              "      <td>AL</td>\n",
              "      <td>1</td>\n",
              "      <td>36301</td>\n",
              "      <td>1.0</td>\n",
              "      <td>Metropolitan area core: primary flow within an...</td>\n",
              "      <td>5092</td>\n",
              "      <td>Level 2 Breast/Lymphatic Surgery and Related P...</td>\n",
              "      <td>5092-Level 2 Breast/Lymphatic Surgery and Rela...</td>\n",
              "      <td>44</td>\n",
              "      <td>44</td>\n",
              "      <td>16885</td>\n",
              "      <td>4096</td>\n",
              "      <td>3263</td>\n",
              "      <td>NaN</td>\n",
              "      <td>742940</td>\n",
              "      <td>143572</td>\n",
              "    </tr>\n",
              "    <tr>\n",
              "      <th>4</th>\n",
              "      <td>2018</td>\n",
              "      <td>10001</td>\n",
              "      <td>Southeast Alabama Medical Center</td>\n",
              "      <td>1108 Ross Clark Circle</td>\n",
              "      <td>Dothan</td>\n",
              "      <td>AL</td>\n",
              "      <td>1</td>\n",
              "      <td>36301</td>\n",
              "      <td>1.0</td>\n",
              "      <td>Metropolitan area core: primary flow within an...</td>\n",
              "      <td>5112</td>\n",
              "      <td>Level 2 Musculoskeletal Procedures</td>\n",
              "      <td>5112-Level 2 Musculoskeletal Procedures</td>\n",
              "      <td>20</td>\n",
              "      <td>20</td>\n",
              "      <td>11335</td>\n",
              "      <td>1103</td>\n",
              "      <td>870</td>\n",
              "      <td>NaN</td>\n",
              "      <td>226700</td>\n",
              "      <td>17400</td>\n",
              "    </tr>\n",
              "  </tbody>\n",
              "</table>\n",
              "</div>"
            ],
            "text/plain": [
              "   Year  Rndrng_Prvdr_CCN  ... Total OP Charges Total OP Medicare Payments\n",
              "0  2018             10001  ...          2720608                     238158\n",
              "1  2018             10001  ...           600110                      53725\n",
              "2  2018             10001  ...           256082                      42550\n",
              "3  2018             10001  ...           742940                     143572\n",
              "4  2018             10001  ...           226700                      17400\n",
              "\n",
              "[5 rows x 21 columns]"
            ]
          },
          "metadata": {
            "tags": []
          },
          "execution_count": 33
        }
      ]
    },
    {
      "cell_type": "code",
      "metadata": {
        "colab": {
          "base_uri": "https://localhost:8080/",
          "height": 349
        },
        "id": "hHLYkL2u6kg8",
        "outputId": "01404bae-78c5-4f53-945d-905eab3f4f7d"
      },
      "source": [
        "# Describe the DRG inpatient data \n",
        "df_drg.describe().round(0)\n",
        "# Finding: the average annual charge amount for a DRG at a hospital is $2.1M and the average annual Medicare \n",
        "# payment is $411K, i.e. 20% of the charged amount"
      ],
      "execution_count": 49,
      "outputs": [
        {
          "output_type": "execute_result",
          "data": {
            "text/html": [
              "<div>\n",
              "<style scoped>\n",
              "    .dataframe tbody tr th:only-of-type {\n",
              "        vertical-align: middle;\n",
              "    }\n",
              "\n",
              "    .dataframe tbody tr th {\n",
              "        vertical-align: top;\n",
              "    }\n",
              "\n",
              "    .dataframe thead th {\n",
              "        text-align: right;\n",
              "    }\n",
              "</style>\n",
              "<table border=\"1\" class=\"dataframe\">\n",
              "  <thead>\n",
              "    <tr style=\"text-align: right;\">\n",
              "      <th></th>\n",
              "      <th>Year</th>\n",
              "      <th>Rndrng_Prvdr_CCN</th>\n",
              "      <th>Zip Code</th>\n",
              "      <th>Rndrng_Prvdr_RUCA</th>\n",
              "      <th>DRG_Cd</th>\n",
              "      <th>Tot_Dschrgs</th>\n",
              "      <th>Avg_Submtd_Cvrd_Chrg</th>\n",
              "      <th>Avg_Tot_Pymt_Amt</th>\n",
              "      <th>Avg_Mdcr_Pymt_Amt</th>\n",
              "      <th>Total IP Charges</th>\n",
              "      <th>Total IP Payments</th>\n",
              "      <th>Total IP Medicare Payments</th>\n",
              "    </tr>\n",
              "  </thead>\n",
              "  <tbody>\n",
              "    <tr>\n",
              "      <th>count</th>\n",
              "      <td>788487.0</td>\n",
              "      <td>788487.0</td>\n",
              "      <td>788487.0</td>\n",
              "      <td>788487.0</td>\n",
              "      <td>788487.0</td>\n",
              "      <td>788487.0</td>\n",
              "      <td>788487.0</td>\n",
              "      <td>788487.0</td>\n",
              "      <td>788487.0</td>\n",
              "      <td>788487.0</td>\n",
              "      <td>788487.0</td>\n",
              "      <td>788487.0</td>\n",
              "    </tr>\n",
              "    <tr>\n",
              "      <th>mean</th>\n",
              "      <td>2016.0</td>\n",
              "      <td>256082.0</td>\n",
              "      <td>47232.0</td>\n",
              "      <td>1164.0</td>\n",
              "      <td>413.0</td>\n",
              "      <td>37.0</td>\n",
              "      <td>59718.0</td>\n",
              "      <td>13857.0</td>\n",
              "      <td>11724.0</td>\n",
              "      <td>2079438.0</td>\n",
              "      <td>489298.0</td>\n",
              "      <td>411336.0</td>\n",
              "    </tr>\n",
              "    <tr>\n",
              "      <th>std</th>\n",
              "      <td>1.0</td>\n",
              "      <td>151404.0</td>\n",
              "      <td>27948.0</td>\n",
              "      <td>2468.0</td>\n",
              "      <td>248.0</td>\n",
              "      <td>55.0</td>\n",
              "      <td>71750.0</td>\n",
              "      <td>14611.0</td>\n",
              "      <td>12989.0</td>\n",
              "      <td>4149724.0</td>\n",
              "      <td>917523.0</td>\n",
              "      <td>773434.0</td>\n",
              "    </tr>\n",
              "    <tr>\n",
              "      <th>min</th>\n",
              "      <td>2015.0</td>\n",
              "      <td>10001.0</td>\n",
              "      <td>1040.0</td>\n",
              "      <td>1.0</td>\n",
              "      <td>1.0</td>\n",
              "      <td>11.0</td>\n",
              "      <td>1521.0</td>\n",
              "      <td>2366.0</td>\n",
              "      <td>0.0</td>\n",
              "      <td>22812.0</td>\n",
              "      <td>31991.0</td>\n",
              "      <td>0.0</td>\n",
              "    </tr>\n",
              "    <tr>\n",
              "      <th>25%</th>\n",
              "      <td>2015.0</td>\n",
              "      <td>110078.0</td>\n",
              "      <td>25301.0</td>\n",
              "      <td>1.0</td>\n",
              "      <td>208.0</td>\n",
              "      <td>14.0</td>\n",
              "      <td>23471.0</td>\n",
              "      <td>6497.0</td>\n",
              "      <td>5141.0</td>\n",
              "      <td>504649.0</td>\n",
              "      <td>135522.0</td>\n",
              "      <td>109111.0</td>\n",
              "    </tr>\n",
              "    <tr>\n",
              "      <th>50%</th>\n",
              "      <td>2016.0</td>\n",
              "      <td>240115.0</td>\n",
              "      <td>44024.0</td>\n",
              "      <td>1.0</td>\n",
              "      <td>357.0</td>\n",
              "      <td>22.0</td>\n",
              "      <td>39120.0</td>\n",
              "      <td>9591.0</td>\n",
              "      <td>7995.0</td>\n",
              "      <td>995420.0</td>\n",
              "      <td>245728.0</td>\n",
              "      <td>202693.0</td>\n",
              "    </tr>\n",
              "    <tr>\n",
              "      <th>75%</th>\n",
              "      <td>2017.0</td>\n",
              "      <td>380037.0</td>\n",
              "      <td>72205.0</td>\n",
              "      <td>10.0</td>\n",
              "      <td>603.0</td>\n",
              "      <td>39.0</td>\n",
              "      <td>69127.0</td>\n",
              "      <td>15379.0</td>\n",
              "      <td>13003.0</td>\n",
              "      <td>2115386.0</td>\n",
              "      <td>497716.0</td>\n",
              "      <td>418561.0</td>\n",
              "    </tr>\n",
              "    <tr>\n",
              "      <th>max</th>\n",
              "      <td>2018.0</td>\n",
              "      <td>670122.0</td>\n",
              "      <td>99801.0</td>\n",
              "      <td>9980.0</td>\n",
              "      <td>989.0</td>\n",
              "      <td>4255.0</td>\n",
              "      <td>3427380.0</td>\n",
              "      <td>552972.0</td>\n",
              "      <td>495666.0</td>\n",
              "      <td>300283908.0</td>\n",
              "      <td>90575736.0</td>\n",
              "      <td>61474341.0</td>\n",
              "    </tr>\n",
              "  </tbody>\n",
              "</table>\n",
              "</div>"
            ],
            "text/plain": [
              "           Year  ...  Total IP Medicare Payments\n",
              "count  788487.0  ...                    788487.0\n",
              "mean     2016.0  ...                    411336.0\n",
              "std         1.0  ...                    773434.0\n",
              "min      2015.0  ...                         0.0\n",
              "25%      2015.0  ...                    109111.0\n",
              "50%      2016.0  ...                    202693.0\n",
              "75%      2017.0  ...                    418561.0\n",
              "max      2018.0  ...                  61474341.0\n",
              "\n",
              "[8 rows x 12 columns]"
            ]
          },
          "metadata": {
            "tags": []
          },
          "execution_count": 49
        }
      ]
    },
    {
      "cell_type": "code",
      "metadata": {
        "colab": {
          "base_uri": "https://localhost:8080/",
          "height": 349
        },
        "id": "unrqJIM7rPwd",
        "outputId": "6875e0b6-fb1c-486b-a3f1-af57a1bcda2a"
      },
      "source": [
        "# Describe the APG outpatient data\n",
        "df_apc.describe().round(0)\n",
        "# Finding: The average annual APG charge at a hospital is $1.2M and the average Medicare payment is $168K, i.e. 14%"
      ],
      "execution_count": 50,
      "outputs": [
        {
          "output_type": "execute_result",
          "data": {
            "text/html": [
              "<div>\n",
              "<style scoped>\n",
              "    .dataframe tbody tr th:only-of-type {\n",
              "        vertical-align: middle;\n",
              "    }\n",
              "\n",
              "    .dataframe tbody tr th {\n",
              "        vertical-align: top;\n",
              "    }\n",
              "\n",
              "    .dataframe thead th {\n",
              "        text-align: right;\n",
              "    }\n",
              "</style>\n",
              "<table border=\"1\" class=\"dataframe\">\n",
              "  <thead>\n",
              "    <tr style=\"text-align: right;\">\n",
              "      <th></th>\n",
              "      <th>Year</th>\n",
              "      <th>Rndrng_Prvdr_CCN</th>\n",
              "      <th>Rndrng_Prvdr_State_FIPS</th>\n",
              "      <th>Zip Code</th>\n",
              "      <th>Rndrng_Prvdr_RUCA</th>\n",
              "      <th>APC_Cd</th>\n",
              "      <th>CAPC_Srvcs</th>\n",
              "      <th>Avg_Tot_Sbmtd_Chrgs</th>\n",
              "      <th>Avg_Mdcr_Alowd_Amt</th>\n",
              "      <th>Avg_Mdcr_Pymt_Amt</th>\n",
              "      <th>Unnamed: 20</th>\n",
              "      <th>Total OP Charges</th>\n",
              "      <th>Total OP Medicare Payments</th>\n",
              "    </tr>\n",
              "  </thead>\n",
              "  <tbody>\n",
              "    <tr>\n",
              "      <th>count</th>\n",
              "      <td>309174.0</td>\n",
              "      <td>309174.0</td>\n",
              "      <td>309174.0</td>\n",
              "      <td>309174.0</td>\n",
              "      <td>309113.0</td>\n",
              "      <td>309174.0</td>\n",
              "      <td>309174.0</td>\n",
              "      <td>309174.0</td>\n",
              "      <td>309174.0</td>\n",
              "      <td>309174.0</td>\n",
              "      <td>0.0</td>\n",
              "      <td>309174.0</td>\n",
              "      <td>309174.0</td>\n",
              "    </tr>\n",
              "    <tr>\n",
              "      <th>mean</th>\n",
              "      <td>2017.0</td>\n",
              "      <td>262638.0</td>\n",
              "      <td>28.0</td>\n",
              "      <td>51446.0</td>\n",
              "      <td>2.0</td>\n",
              "      <td>4808.0</td>\n",
              "      <td>49.0</td>\n",
              "      <td>17838.0</td>\n",
              "      <td>3197.0</td>\n",
              "      <td>2761.0</td>\n",
              "      <td>NaN</td>\n",
              "      <td>1203556.0</td>\n",
              "      <td>168272.0</td>\n",
              "    </tr>\n",
              "    <tr>\n",
              "      <th>std</th>\n",
              "      <td>1.0</td>\n",
              "      <td>159750.0</td>\n",
              "      <td>16.0</td>\n",
              "      <td>27894.0</td>\n",
              "      <td>7.0</td>\n",
              "      <td>1664.0</td>\n",
              "      <td>159.0</td>\n",
              "      <td>30213.0</td>\n",
              "      <td>5491.0</td>\n",
              "      <td>5110.0</td>\n",
              "      <td>NaN</td>\n",
              "      <td>3283596.0</td>\n",
              "      <td>411281.0</td>\n",
              "    </tr>\n",
              "    <tr>\n",
              "      <th>min</th>\n",
              "      <td>2015.0</td>\n",
              "      <td>10001.0</td>\n",
              "      <td>1.0</td>\n",
              "      <td>1040.0</td>\n",
              "      <td>1.0</td>\n",
              "      <td>39.0</td>\n",
              "      <td>0.0</td>\n",
              "      <td>0.0</td>\n",
              "      <td>0.0</td>\n",
              "      <td>0.0</td>\n",
              "      <td>NaN</td>\n",
              "      <td>0.0</td>\n",
              "      <td>0.0</td>\n",
              "    </tr>\n",
              "    <tr>\n",
              "      <th>25%</th>\n",
              "      <td>2016.0</td>\n",
              "      <td>110089.0</td>\n",
              "      <td>13.0</td>\n",
              "      <td>30041.0</td>\n",
              "      <td>1.0</td>\n",
              "      <td>5114.0</td>\n",
              "      <td>0.0</td>\n",
              "      <td>0.0</td>\n",
              "      <td>0.0</td>\n",
              "      <td>0.0</td>\n",
              "      <td>NaN</td>\n",
              "      <td>0.0</td>\n",
              "      <td>0.0</td>\n",
              "    </tr>\n",
              "    <tr>\n",
              "      <th>50%</th>\n",
              "      <td>2017.0</td>\n",
              "      <td>260025.0</td>\n",
              "      <td>29.0</td>\n",
              "      <td>48341.0</td>\n",
              "      <td>1.0</td>\n",
              "      <td>5222.0</td>\n",
              "      <td>12.0</td>\n",
              "      <td>6616.0</td>\n",
              "      <td>1298.0</td>\n",
              "      <td>1030.0</td>\n",
              "      <td>NaN</td>\n",
              "      <td>170791.0</td>\n",
              "      <td>25168.0</td>\n",
              "    </tr>\n",
              "    <tr>\n",
              "      <th>75%</th>\n",
              "      <td>2018.0</td>\n",
              "      <td>390114.0</td>\n",
              "      <td>42.0</td>\n",
              "      <td>76048.0</td>\n",
              "      <td>1.0</td>\n",
              "      <td>5375.0</td>\n",
              "      <td>41.0</td>\n",
              "      <td>23219.0</td>\n",
              "      <td>3922.0</td>\n",
              "      <td>3097.0</td>\n",
              "      <td>NaN</td>\n",
              "      <td>1070305.0</td>\n",
              "      <td>156611.0</td>\n",
              "    </tr>\n",
              "    <tr>\n",
              "      <th>max</th>\n",
              "      <td>2018.0</td>\n",
              "      <td>673058.0</td>\n",
              "      <td>56.0</td>\n",
              "      <td>99801.0</td>\n",
              "      <td>99.0</td>\n",
              "      <td>8011.0</td>\n",
              "      <td>30139.0</td>\n",
              "      <td>569051.0</td>\n",
              "      <td>45991.0</td>\n",
              "      <td>44647.0</td>\n",
              "      <td>NaN</td>\n",
              "      <td>160479137.0</td>\n",
              "      <td>12515399.0</td>\n",
              "    </tr>\n",
              "  </tbody>\n",
              "</table>\n",
              "</div>"
            ],
            "text/plain": [
              "           Year  Rndrng_Prvdr_CCN  ...  Total OP Charges  Total OP Medicare Payments\n",
              "count  309174.0          309174.0  ...          309174.0                    309174.0\n",
              "mean     2017.0          262638.0  ...         1203556.0                    168272.0\n",
              "std         1.0          159750.0  ...         3283596.0                    411281.0\n",
              "min      2015.0           10001.0  ...               0.0                         0.0\n",
              "25%      2016.0          110089.0  ...               0.0                         0.0\n",
              "50%      2017.0          260025.0  ...          170791.0                     25168.0\n",
              "75%      2018.0          390114.0  ...         1070305.0                    156611.0\n",
              "max      2018.0          673058.0  ...       160479137.0                  12515399.0\n",
              "\n",
              "[8 rows x 13 columns]"
            ]
          },
          "metadata": {
            "tags": []
          },
          "execution_count": 50
        }
      ]
    },
    {
      "cell_type": "code",
      "metadata": {
        "colab": {
          "base_uri": "https://localhost:8080/"
        },
        "id": "xu2JQ11aP01R",
        "outputId": "87b3d18b-8917-42ff-bdc0-ff1cb4b72694"
      },
      "source": [
        "# Identify the unique DRG inpatient codes\n",
        "df_drg['DRG_Cd'].unique()"
      ],
      "execution_count": 60,
      "outputs": [
        {
          "output_type": "execute_result",
          "data": {
            "text/plain": [
              "array([  3,  23,  25,  38,  39,  57,  64,  65,  66,  69,  70,  71,  73,\n",
              "        74,  85,  87,  91,  92, 100, 101, 163, 166, 175, 176, 177, 180,\n",
              "       189, 190, 191, 192, 193, 194, 202, 205, 207, 208, 233, 234, 236,\n",
              "       242, 243, 244, 246, 247, 252, 253, 254, 264, 267, 269, 270, 271,\n",
              "       280, 281, 282, 283, 286, 287, 291, 292, 293, 304, 305, 308, 309,\n",
              "       310, 312, 313, 314, 329, 330, 331, 371, 377, 378, 388, 389, 390,\n",
              "       391, 392, 393, 394, 417, 418, 419, 432, 433, 439, 441, 454, 455,\n",
              "       460, 469, 470, 480, 481, 482, 483, 493, 494, 517, 552, 603, 637,\n",
              "       638, 640, 641, 669, 673, 682, 683, 684, 689, 690, 698, 699, 708,\n",
              "       811, 812, 813, 853, 854, 862, 870, 871, 872, 880, 884, 885, 897,\n",
              "       917, 956, 981, 982, 178, 195, 300, 379, 440, 442, 445, 536, 918,\n",
              "       948,  68,  86, 164, 196, 299, 303, 438, 542, 543, 881, 235, 266,\n",
              "       372, 621, 167, 694, 117, 563,   4, 103, 239, 315, 472, 473, 607,\n",
              "       220, 617, 240, 251, 467, 895,   5,   6,  11,  12,  13,  14,  16,\n",
              "        26,  27,  31,  54,  56,  82,  83,  93, 129, 130, 133, 134, 158,\n",
              "       165, 168, 181, 200, 215, 216, 219, 228, 229, 268, 273, 274, 326,\n",
              "       327, 328, 336, 354, 356, 374, 375, 405, 406, 407, 435, 444, 459,\n",
              "       463, 464, 466, 471, 492, 501, 515, 516, 519, 551, 577, 580, 581,\n",
              "       602, 614, 615, 642, 643, 644, 652, 654, 656, 657, 658, 659, 660,\n",
              "       737, 740, 742, 743, 747, 755, 765, 781, 809, 828, 834, 837, 838,\n",
              "       839, 840, 841, 847, 856, 857, 863, 864, 866, 896, 907, 908, 919,\n",
              "       920, 921, 928, 935, 957, 963, 964, 974, 975, 983, 987,  72, 153,\n",
              "        33,  36,  84, 179, 184, 204, 206, 225, 227, 250, 272, 296, 301,\n",
              "       357, 373, 395, 436, 446, 457, 462, 468, 510, 520, 554, 556, 558,\n",
              "       605, 639, 645, 947, 988, 883, 661, 381,  40,  41, 149, 203, 249,\n",
              "       260, 261, 262, 386, 571, 579, 674, 696, 775,  35, 221, 355, 453,\n",
              "       465, 489,  62,   1, 629, 518, 186, 384, 808, 185,   7,  20,  24,\n",
              "        29,  32,  42,  61, 248, 604, 620, 226, 707, 183, 337, 623, 573,\n",
              "       904,   8, 152, 545, 653, 655, 846,  37, 691,  97, 774, 823, 187,\n",
              "       713, 882,  78, 949, 502, 539, 380, 535, 311, 562, 922, 923, 478,\n",
              "       894, 557, 734,  55, 131, 132, 741, 302, 626, 827,  89, 865, 458,\n",
              "       456, 488, 826, 829,  28, 335, 496, 504, 700, 821, 822, 627, 714,\n",
              "       565, 842,  30, 102, 306, 307, 348, 369, 385, 387, 477, 500, 546,\n",
              "       553, 560, 592, 628, 668, 728, 835, 876, 977, 717, 474, 217, 887,\n",
              "       123, 125, 155, 197, 316, 368, 540, 544, 596, 616, 687, 693, 744,\n",
              "       867, 868, 909, 564, 914,  63, 151, 345, 415, 416, 475,  59,  60,\n",
              "       574, 222, 224, 245, 351, 199, 255, 352, 353, 443, 479, 511, 512,\n",
              "       513, 514, 555, 561, 570, 593, 597, 606, 663, 666, 670, 746, 814,\n",
              "       815, 824, 843, 844,  34, 339, 945, 340, 622, 934, 916, 929, 201,\n",
              "       726, 157, 849, 902, 486,  88, 958, 754, 115, 940, 585, 559, 955,\n",
              "       421, 946, 950, 951, 820, 766, 113, 114, 578, 748,  90, 497, 941,\n",
              "        17, 848, 915, 259, 886, 154, 414, 423, 437, 686, 116, 358, 595,\n",
              "       619, 146, 218, 232, 223, 137,  77, 625, 198, 498, 343, 718, 869,\n",
              "       156, 598, 727, 736, 760, 816, 139,  58,  52,  53, 624, 147, 408,\n",
              "       583, 231, 735, 901, 989, 420,  98, 547, 256, 409, 230, 505, 349,\n",
              "       344, 347, 503, 600, 749, 810, 534, 188, 410, 572, 939,  94, 346,\n",
              "       241,   2, 825, 461, 976, 672, 237, 238, 333, 334,  81, 685, 582,\n",
              "       288, 383, 757, 758, 927, 716, 376, 294, 265, 836, 906, 150])"
            ]
          },
          "metadata": {
            "tags": []
          },
          "execution_count": 60
        }
      ]
    },
    {
      "cell_type": "code",
      "metadata": {
        "colab": {
          "base_uri": "https://localhost:8080/"
        },
        "id": "N3Fa0yyWQqRd",
        "outputId": "f51c2aa5-d579-4191-80c4-6ad3de70b380"
      },
      "source": [
        "# Identify the unique APC inpatient codes\n",
        "df_apc['APC_Cd'].unique()"
      ],
      "execution_count": 62,
      "outputs": [
        {
          "output_type": "execute_result",
          "data": {
            "text/plain": [
              "array([5072, 5073, 5091, 5092, 5112, 5113, 5114, 5115, 5153, 5154, 5155,\n",
              "       5164, 5165, 5191, 5192, 5193, 5194, 5212, 5213, 5222, 5223, 5224,\n",
              "       5231, 5232, 5302, 5303, 5313, 5331, 5341, 5361, 5362, 5373, 5374,\n",
              "       5375, 5376, 5377, 5414, 5415, 5416, 5431, 5432, 5462, 5463, 5464,\n",
              "       5471, 5491, 5492, 5503, 5627, 8011, 5094, 5200, 5504, 5493, 5494,\n",
              "       5093, 5116, 5166, 5211, 5881, 5495, 5244, 5123, 5124, 5125,   39,\n",
              "         61,   67,   83,   89,   90,  107,  108,  202,  227,  229,  318,\n",
              "        319,  384,  385,  386,  425,  655,  648,   84,   85,   86,  293,\n",
              "        259,  351])"
            ]
          },
          "metadata": {
            "tags": []
          },
          "execution_count": 62
        }
      ]
    },
    {
      "cell_type": "code",
      "metadata": {
        "colab": {
          "base_uri": "https://localhost:8080/"
        },
        "id": "7hFnxFVp9_BS",
        "outputId": "e74020bd-99c4-4066-cc84-ae2542de50a9"
      },
      "source": [
        "# Rank inpatient DRGs by Total Charges\n",
        "# df_drg = \"{:,}\".format()\n",
        "# Numberz = \"{:,}\".format(df_drg['Total IP Charges'])\n",
        "# Numberz = \"{:,}\".format(4000000)\n",
        "\n",
        "df_drg.groupby(['DRG_Cd-Desc'])['Total IP Charges'].sum().sort_values(ascending=False)\n",
        "\n",
        "#'{:,}'.format()  can't add commas to output; must view in scientific notation\n",
        "# Finding: DRG 871 Septicemia had the highest amount of charges ($100B) of all DRGs over 2015-2018"
      ],
      "execution_count": 100,
      "outputs": [
        {
          "output_type": "execute_result",
          "data": {
            "text/plain": [
              "DRG_Cd-Desc\n",
              "871-SEPTICEMIA OR SEVERE SEPSIS W/O MV >96 HOURS W MCC                    1.043743e+11\n",
              "470-MAJOR JOINT REPLACEMENT OR REATTACHMENT OF LOWER EXTREMITY W/O MCC    8.711280e+10\n",
              "853-INFECTIOUS & PARASITIC DISEASES W O.R. PROCEDURE W MCC                5.222114e+10\n",
              "291-HEART FAILURE & SHOCK W MCC                                           5.184358e+10\n",
              "460-SPINAL FUSION EXCEPT CERVICAL W/O MCC                                 3.276179e+10\n",
              "                                                                              ...     \n",
              "922-\"OTHER INJURY, POISONING & TOXIC EFFECT DIAG W MCC\"                   2.936840e+05\n",
              "869-OTHER INFECTIOUS & PARASITIC DISEASES DIAGNOSES W/O CC/MCC            2.429400e+05\n",
              "572-SKIN DEBRIDEMENT W/O CC/MCC                                           1.675390e+05\n",
              "376-DIGESTIVE MALIGNANCY W/O CC/MCC                                       1.622430e+05\n",
              "53-SPINAL DISORDERS & INJURIES W/O CC/MCC                                 8.000700e+04\n",
              "Name: Total IP Charges, Length: 690, dtype: float64"
            ]
          },
          "metadata": {
            "tags": []
          },
          "execution_count": 100
        }
      ]
    },
    {
      "cell_type": "code",
      "metadata": {
        "colab": {
          "base_uri": "https://localhost:8080/"
        },
        "id": "sJSPXFTdLcuY",
        "outputId": "e1ef7a76-214f-4b6e-b690-fa124c8ad5a0"
      },
      "source": [
        "# Can't apply format() to query results\n",
        "numbers = \"{:,}\".format(50000000)\n",
        "print(numbers)"
      ],
      "execution_count": 65,
      "outputs": [
        {
          "output_type": "stream",
          "text": [
            "50,000,000\n"
          ],
          "name": "stdout"
        }
      ]
    },
    {
      "cell_type": "code",
      "metadata": {
        "colab": {
          "base_uri": "https://localhost:8080/",
          "height": 735
        },
        "id": "fwnYhB5TyvZR",
        "outputId": "ecd8d098-77df-41d8-ac17-0b705a856a21"
      },
      "source": [
        "# Bar graph of top 10 inpatient DRGs ranked by Total Charges\n",
        "df_drg.groupby(['DRG_Cd-Desc'])['Total IP Charges'].sum().sort_values(ascending=False).head(10).plot(kind = \"bar\")\n",
        "# Finding: DRG 871 Septicemia had the highest amount of charges ($100B) of all DRGs over 2015-2018"
      ],
      "execution_count": 81,
      "outputs": [
        {
          "output_type": "execute_result",
          "data": {
            "text/plain": [
              "<matplotlib.axes._subplots.AxesSubplot at 0x7fe4c5d43f10>"
            ]
          },
          "metadata": {
            "tags": []
          },
          "execution_count": 81
        },
        {
          "output_type": "display_data",
          "data": {
            "image/png": "[encoded data removed]",
            "text/plain": [
              "<Figure size 432x288 with 1 Axes>"
            ]
          },
          "metadata": {
            "tags": [],
            "needs_background": "light"
          }
        }
      ]
    },
    {
      "cell_type": "code",
      "metadata": {
        "colab": {
          "base_uri": "https://localhost:8080/"
        },
        "id": "tBCEr6E-5B9w",
        "outputId": "9f3d5e3b-ec2f-4eeb-a3c0-6b170340456c"
      },
      "source": [
        "# Rank inpatient DRGs by Total Charges by Year\n",
        "df_drg.groupby(['Year', 'DRG_Cd-Desc'])['Total IP Charges'].sum().sort_values(ascending=False)\n",
        "# Finding: DRG 871 Septicemia in 2018 had the highest amount of charges ($38B) of all DRGs"
      ],
      "execution_count": 83,
      "outputs": [
        {
          "output_type": "execute_result",
          "data": {
            "text/plain": [
              "Year  DRG_Cd-Desc                                                           \n",
              "2018  871-SEPTICEMIA OR SEVERE SEPSIS W/O MV >96 HOURS W MCC                    3.854033e+10\n",
              "2017  871-SEPTICEMIA OR SEVERE SEPSIS W/O MV >96 HOURS W MCC                    3.553643e+10\n",
              "      470-MAJOR JOINT REPLACEMENT OR REATTACHMENT OF LOWER EXTREMITY W/O MCC    3.082505e+10\n",
              "2016  871-SEPTICEMIA OR SEVERE SEPSIS W/O MV >96 HOURS W MCC                    3.029756e+10\n",
              "      470-MAJOR JOINT REPLACEMENT OR REATTACHMENT OF LOWER EXTREMITY W/O MCC    2.967276e+10\n",
              "                                                                                    ...     \n",
              "2015  766-CESAREAN SECTION W/O CC/MCC                                           1.107710e+05\n",
              "      534-FRACTURES OF FEMUR W/O MCC                                            8.858800e+04\n",
              "2018  886-BEHAVIORAL & DEVELOPMENTAL DISORDERS                                  8.499900e+04\n",
              "2017  53-SPINAL DISORDERS & INJURIES W/O CC/MCC                                 8.000700e+04\n",
              "2015  950-AFTERCARE W/O CC/MCC                                                  6.858300e+04\n",
              "Name: Total IP Charges, Length: 2255, dtype: float64"
            ]
          },
          "metadata": {
            "tags": []
          },
          "execution_count": 83
        }
      ]
    },
    {
      "cell_type": "code",
      "metadata": {
        "colab": {
          "base_uri": "https://localhost:8080/",
          "height": 307
        },
        "id": "i-A3mA89WwhY",
        "outputId": "6320e9db-2ba9-47f2-8b57-4efb4340e1be"
      },
      "source": [
        "# Total IP charges by year for all DRGs\n",
        "sns.barplot(x='Year', y = 'Total IP Charges', data = df_drg)"
      ],
      "execution_count": 106,
      "outputs": [
        {
          "output_type": "execute_result",
          "data": {
            "text/plain": [
              "<matplotlib.axes._subplots.AxesSubplot at 0x7fe4c5308710>"
            ]
          },
          "metadata": {
            "tags": []
          },
          "execution_count": 106
        },
        {
          "output_type": "display_data",
          "data": {
            "image/png": "[encoded data removed]",
            "text/plain": [
              "<Figure size 432x288 with 1 Axes>"
            ]
          },
          "metadata": {
            "tags": [],
            "needs_background": "light"
          }
        }
      ]
    },
    {
      "cell_type": "code",
      "metadata": {
        "colab": {
          "base_uri": "https://localhost:8080/",
          "height": 774
        },
        "id": "mtiz5o1v6MlQ",
        "outputId": "8c3dfe12-c93c-4e4d-a46d-56f25b1744eb"
      },
      "source": [
        "# Rank inpatient DRGs by Total Charges by year\n",
        "df_drg.groupby(['Year', 'DRG_Cd-Desc'])['Total IP Charges'].sum().sort_values(ascending=False).head(10).plot(kind = \"bar\")\n",
        "# Finding: DRG 871 Septicemia in 2018 had the highest amount of charges ($38B) of all DRGs"
      ],
      "execution_count": 89,
      "outputs": [
        {
          "output_type": "execute_result",
          "data": {
            "text/plain": [
              "<matplotlib.axes._subplots.AxesSubplot at 0x7fe4c53ec690>"
            ]
          },
          "metadata": {
            "tags": []
          },
          "execution_count": 89
        },
        {
          "output_type": "display_data",
          "data": {
            "image/png": "[encoded data removed]",
            "text/plain": [
              "<Figure size 432x288 with 1 Axes>"
            ]
          },
          "metadata": {
            "tags": [],
            "needs_background": "light"
          }
        }
      ]
    },
    {
      "cell_type": "code",
      "metadata": {
        "colab": {
          "base_uri": "https://localhost:8080/",
          "height": 539
        },
        "id": "PtWYdsQ-SaFO",
        "outputId": "6067af5b-28f5-45ea-b081-bfc77d9c8521"
      },
      "source": [
        "# Rank outpatient APCs by Total Charges over 3 years\n",
        "df_apc.groupby(['APC_Cd-Desc'])['Total OP Charges'].sum().sort_values(ascending=False).head(10).plot(kind = \"bar\")\n",
        "# Finding:"
      ],
      "execution_count": 114,
      "outputs": [
        {
          "output_type": "execute_result",
          "data": {
            "text/plain": [
              "<matplotlib.axes._subplots.AxesSubplot at 0x7fe4c520d610>"
            ]
          },
          "metadata": {
            "tags": []
          },
          "execution_count": 114
        },
        {
          "output_type": "display_data",
          "data": {
            "image/png": "[encoded data removed]",
            "text/plain": [
              "<Figure size 432x288 with 1 Axes>"
            ]
          },
          "metadata": {
            "tags": [],
            "needs_background": "light"
          }
        }
      ]
    },
    {
      "cell_type": "code",
      "metadata": {
        "colab": {
          "base_uri": "https://localhost:8080/",
          "height": 307
        },
        "id": "b07KwNCfcYI0",
        "outputId": "13e360b4-9aaa-400c-dd5c-0050dd96c9eb"
      },
      "source": [
        "# Total OP charges by year for all APCs\n",
        "sns.barplot(x='Year', y = 'Total OP Charges', data = df_apc)"
      ],
      "execution_count": 110,
      "outputs": [
        {
          "output_type": "execute_result",
          "data": {
            "text/plain": [
              "<matplotlib.axes._subplots.AxesSubplot at 0x7fe4c5182550>"
            ]
          },
          "metadata": {
            "tags": []
          },
          "execution_count": 110
        },
        {
          "output_type": "display_data",
          "data": {
            "image/png": "[encoded data removed]",
            "text/plain": [
              "<Figure size 432x288 with 1 Axes>"
            ]
          },
          "metadata": {
            "tags": [],
            "needs_background": "light"
          }
        }
      ]
    },
    {
      "cell_type": "code",
      "metadata": {
        "colab": {
          "base_uri": "https://localhost:8080/"
        },
        "id": "9Et-sphdSZ4L",
        "outputId": "1e027416-b54a-47a4-9d56-361bf003f8ff"
      },
      "source": [
        "# Rank outpatient APCs by Total Charges over 3 years\n",
        "df_apc.groupby(['APC_Cd-Desc'])['Total OP Charges'].sum().sort_values(ascending=False)\n",
        "# Finding:"
      ],
      "execution_count": 111,
      "outputs": [
        {
          "output_type": "execute_result",
          "data": {
            "text/plain": [
              "APC_Cd-Desc\n",
              "8011-Comprehensive Observation Services                     68889305751\n",
              "5193-Level 3 Endovascular Procedures                        27775736528\n",
              "5213-Level 3 Electrophysiologic Procedures                  19360087813\n",
              "5191-Level 1 Endovascular Procedures                        19047542828\n",
              "5232-Level 2 ICD and Similar Procedures                     16822428545\n",
              "                                                               ...     \n",
              "351-Level V Intraocular Procedures                                58704\n",
              "5881-Ancillary Outpatient Services When Patient Dies                  0\n",
              "5495-Level 5 Intraocular Procedures                                   0\n",
              "5494-Level 4 Intraocular Procedures                                   0\n",
              "5244-Level 4 Blood Product Exchange and Related Services              0\n",
              "Name: Total OP Charges, Length: 93, dtype: int64"
            ]
          },
          "metadata": {
            "tags": []
          },
          "execution_count": 111
        }
      ]
    },
    {
      "cell_type": "code",
      "metadata": {
        "colab": {
          "base_uri": "https://localhost:8080/"
        },
        "id": "fhSMClvPRbN-",
        "outputId": "93d4b2ec-8f85-4537-ad70-2d400fcd0b98"
      },
      "source": [
        "# Rank outpatient APCs by Total Charges and Year\n",
        "df_apc.groupby(['Year', 'APC_Cd-Desc'])['Total OP Charges'].sum().sort_values(ascending=False).head(5)\n",
        "# Finding: DRG 871 Septicemia in 2018 had the highest amount of charges ($38B) of all DRGs\n"
      ],
      "execution_count": 113,
      "outputs": [
        {
          "output_type": "execute_result",
          "data": {
            "text/plain": [
              "Year  APC_Cd-Desc                            \n",
              "2018  8011-Comprehensive Observation Services    23900160143\n",
              "2017  8011-Comprehensive Observation Services    22938028934\n",
              "2016  8011-Comprehensive Observation Services    22051116674\n",
              "2018  5193-Level 3 Endovascular Procedures       12585777318\n",
              "2017  5193-Level 3 Endovascular Procedures       11363071943\n",
              "Name: Total OP Charges, dtype: int64"
            ]
          },
          "metadata": {
            "tags": []
          },
          "execution_count": 113
        }
      ]
    },
    {
      "cell_type": "code",
      "metadata": {
        "colab": {
          "base_uri": "https://localhost:8080/",
          "height": 287
        },
        "id": "n9iEKwmKb3AR",
        "outputId": "8322b804-bc68-436b-f1c3-408e3467ed97"
      },
      "source": [
        "# Top 3 DRGs by Total Charges are plotted for the top 3 hospitals by Total Charges\n",
        "drg_871_data = df_drg[df_drg['DRG_Cd'] == '871']\n",
        "drg_470_data = df_drg[df_drg['DRG_Cd'] == '470']\n",
        "drg_853_data = df_drg[df_drg['DRG_Cd'] == '853']\n",
        "drg_871_data.groupby(['Rndrng_Prvdr_Org_Name'])['Total IP Charges'].sum().sort_values(ascending=False).head(3).plot()\n",
        "drg_470_data.groupby(['Rndrng_Prvdr_Org_Name'])['Total IP Charges'].sum().sort_values(ascending=False).head(3).plot()\n",
        "drg_853_data.groupby(['Rndrng_Prvdr_Org_Name'])['Total IP Charges'].sum().sort_values(ascending=False).head(3).plot()\n"
      ],
      "execution_count": 125,
      "outputs": [
        {
          "output_type": "execute_result",
          "data": {
            "text/plain": [
              "<matplotlib.axes._subplots.AxesSubplot at 0x7fe4c4d12850>"
            ]
          },
          "metadata": {
            "tags": []
          },
          "execution_count": 125
        },
        {
          "output_type": "display_data",
          "data": {
            "image/png": "[encoded data removed]",
            "text/plain": [
              "<Figure size 432x288 with 1 Axes>"
            ]
          },
          "metadata": {
            "tags": [],
            "needs_background": "light"
          }
        }
      ]
    },
    {
      "cell_type": "code",
      "metadata": {
        "colab": {
          "base_uri": "https://localhost:8080/"
        },
        "id": "4Lg3twsFauVO",
        "outputId": "360a501e-4cb9-4e91-c5d1-b50ef52d02d2"
      },
      "source": [
        "# Rank DRGs by Total Charges at different hospitals \n",
        "df_drg.groupby(['DRG_Cd-Desc', 'Rndrng_Prvdr_Org_Name'])['Total IP Charges'].sum().sort_values(ascending=False).head(20)\n",
        "# Finding: Hospital for Special Surgery had the higest amount of charges ($820M) for DRG 470\n"
      ],
      "execution_count": 129,
      "outputs": [
        {
          "output_type": "execute_result",
          "data": {
            "text/plain": [
              "DRG_Cd-Desc                                                             Rndrng_Prvdr_Org_Name           \n",
              "470-MAJOR JOINT REPLACEMENT OR REATTACHMENT OF LOWER EXTREMITY W/O MCC  Hospital For Special Surgery        8.214967e+08\n",
              "871-SEPTICEMIA OR SEVERE SEPSIS W/O MV >96 HOURS W MCC                  Cedars-Sinai Medical Center         7.429215e+08\n",
              "3-ECMO OR TRACH W MV >96 HRS OR PDX EXC FACE, MOUTH & NECK W MAJ O.R.   Upmc Presbyterian Shadyside         5.387001e+08\n",
              "853-INFECTIOUS & PARASITIC DISEASES W O.R. PROCEDURE W MCC              Cedars-Sinai Medical Center         5.242456e+08\n",
              "266-ENDOVASCULAR CARDIAC VALVE REPLACEMENT W MCC                        Cedars-Sinai Medical Center         5.012122e+08\n",
              "1-HEART TRANSPLANT OR IMPLANT OF HEART ASSIST SYSTEM W MCC              Cedars-Sinai Medical Center         4.959283e+08\n",
              "470-MAJOR JOINT REPLACEMENT OR REATTACHMENT OF LOWER EXTREMITY W/O MCC  Cedars-Sinai Medical Center         4.390698e+08\n",
              "219-CARDIAC VALVE & OTH MAJ CARDIOTHORACIC PROC W/O CARD CATH W MCC     Stanford Health Care                4.249835e+08\n",
              "470-MAJOR JOINT REPLACEMENT OR REATTACHMENT OF LOWER EXTREMITY W/O MCC  Washington Hospital                 4.193748e+08\n",
              "871-SEPTICEMIA OR SEVERE SEPSIS W/O MV >96 HOURS W MCC                  Good Samaritan Hospital             4.133482e+08\n",
              "3-ECMO OR TRACH W MV >96 HRS OR PDX EXC FACE, MOUTH & NECK W MAJ O.R.   Cedars-Sinai Medical Center         4.092905e+08\n",
              "                                                                        Stanford Health Care                3.765877e+08\n",
              "871-SEPTICEMIA OR SEVERE SEPSIS W/O MV >96 HOURS W MCC                  North Shore University Hospital     3.583067e+08\n",
              "3-ECMO OR TRACH W MV >96 HRS OR PDX EXC FACE, MOUTH & NECK W MAJ O.R.   Hospital Of Univ Of Pennsylvania    3.424906e+08\n",
              "1-HEART TRANSPLANT OR IMPLANT OF HEART ASSIST SYSTEM W MCC              Stanford Health Care                3.407599e+08\n",
              "871-SEPTICEMIA OR SEVERE SEPSIS W/O MV >96 HOURS W MCC                  New York-Presbyterian Hospital      3.392047e+08\n",
              "291-HEART FAILURE & SHOCK W MCC                                         Cedars-Sinai Medical Center         3.388487e+08\n",
              "267-ENDOVASCULAR CARDIAC VALVE REPLACEMENT W/O MCC                      Cedars-Sinai Medical Center         3.370374e+08\n",
              "3-ECMO OR TRACH W MV >96 HRS OR PDX EXC FACE, MOUTH & NECK W MAJ O.R.   New York-Presbyterian Hospital      3.343197e+08\n",
              "219-CARDIAC VALVE & OTH MAJ CARDIOTHORACIC PROC W/O CARD CATH W MCC     Cedars-Sinai Medical Center         3.322317e+08\n",
              "Name: Total IP Charges, dtype: float64"
            ]
          },
          "metadata": {
            "tags": []
          },
          "execution_count": 129
        }
      ]
    },
    {
      "cell_type": "code",
      "metadata": {
        "colab": {
          "base_uri": "https://localhost:8080/",
          "height": 880
        },
        "id": "SY3tXoLXhC2U",
        "outputId": "ced7f2bc-a023-4ab8-afb0-63ce32d8b2f8"
      },
      "source": [
        "# Bar graph for DRGs ranked by Total Charges at different hospitals \n",
        "df_drg.groupby(['DRG_Cd-Desc', 'Rndrng_Prvdr_Org_Name'])['Total IP Charges'].sum().sort_values(ascending=False).head(10).plot(kind = \"bar\")\n",
        "# Finding: Hospital for Special Surgery had the higest amount of charges ($820M) for DRG 470"
      ],
      "execution_count": 132,
      "outputs": [
        {
          "output_type": "execute_result",
          "data": {
            "text/plain": [
              "<matplotlib.axes._subplots.AxesSubplot at 0x7fe4c4cc2950>"
            ]
          },
          "metadata": {
            "tags": []
          },
          "execution_count": 132
        },
        {
          "output_type": "display_data",
          "data": {
            "image/png": "[encoded data removed]",
            "text/plain": [
              "<Figure size 432x288 with 1 Axes>"
            ]
          },
          "metadata": {
            "tags": [],
            "needs_background": "light"
          }
        }
      ]
    },
    {
      "cell_type": "code",
      "metadata": {
        "colab": {
          "base_uri": "https://localhost:8080/"
        },
        "id": "VyynGg05fleS",
        "outputId": "0e6d25c3-1154-4acd-ddd7-21f513f5f62f"
      },
      "source": [
        "# Rank DRGs by Total Charges at different hospitals - Hosptial first, DRG second\n",
        "df_drg.groupby(['Rndrng_Prvdr_Org_Name', 'DRG_Cd-Desc'])['Total IP Charges'].sum().sort_values(ascending=False).head(20)\n",
        "# Finding: Hospital for Special Surgery had the higest amount of charges ($820M) for DRG 470"
      ],
      "execution_count": 134,
      "outputs": [
        {
          "output_type": "execute_result",
          "data": {
            "text/plain": [
              "Rndrng_Prvdr_Org_Name             DRG_Cd-Desc                                                           \n",
              "Hospital For Special Surgery      470-MAJOR JOINT REPLACEMENT OR REATTACHMENT OF LOWER EXTREMITY W/O MCC    8.214967e+08\n",
              "Cedars-Sinai Medical Center       871-SEPTICEMIA OR SEVERE SEPSIS W/O MV >96 HOURS W MCC                    7.429215e+08\n",
              "Upmc Presbyterian Shadyside       3-ECMO OR TRACH W MV >96 HRS OR PDX EXC FACE, MOUTH & NECK W MAJ O.R.     5.387001e+08\n",
              "Cedars-Sinai Medical Center       853-INFECTIOUS & PARASITIC DISEASES W O.R. PROCEDURE W MCC                5.242456e+08\n",
              "                                  266-ENDOVASCULAR CARDIAC VALVE REPLACEMENT W MCC                          5.012122e+08\n",
              "                                  1-HEART TRANSPLANT OR IMPLANT OF HEART ASSIST SYSTEM W MCC                4.959283e+08\n",
              "                                  470-MAJOR JOINT REPLACEMENT OR REATTACHMENT OF LOWER EXTREMITY W/O MCC    4.390698e+08\n",
              "Stanford Health Care              219-CARDIAC VALVE & OTH MAJ CARDIOTHORACIC PROC W/O CARD CATH W MCC       4.249835e+08\n",
              "Washington Hospital               470-MAJOR JOINT REPLACEMENT OR REATTACHMENT OF LOWER EXTREMITY W/O MCC    4.193748e+08\n",
              "Good Samaritan Hospital           871-SEPTICEMIA OR SEVERE SEPSIS W/O MV >96 HOURS W MCC                    4.133482e+08\n",
              "Cedars-Sinai Medical Center       3-ECMO OR TRACH W MV >96 HRS OR PDX EXC FACE, MOUTH & NECK W MAJ O.R.     4.092905e+08\n",
              "Stanford Health Care              3-ECMO OR TRACH W MV >96 HRS OR PDX EXC FACE, MOUTH & NECK W MAJ O.R.     3.765877e+08\n",
              "North Shore University Hospital   871-SEPTICEMIA OR SEVERE SEPSIS W/O MV >96 HOURS W MCC                    3.583067e+08\n",
              "Hospital Of Univ Of Pennsylvania  3-ECMO OR TRACH W MV >96 HRS OR PDX EXC FACE, MOUTH & NECK W MAJ O.R.     3.424906e+08\n",
              "Stanford Health Care              1-HEART TRANSPLANT OR IMPLANT OF HEART ASSIST SYSTEM W MCC                3.407599e+08\n",
              "New York-Presbyterian Hospital    871-SEPTICEMIA OR SEVERE SEPSIS W/O MV >96 HOURS W MCC                    3.392047e+08\n",
              "Cedars-Sinai Medical Center       291-HEART FAILURE & SHOCK W MCC                                           3.388487e+08\n",
              "                                  267-ENDOVASCULAR CARDIAC VALVE REPLACEMENT W/O MCC                        3.370374e+08\n",
              "New York-Presbyterian Hospital    3-ECMO OR TRACH W MV >96 HRS OR PDX EXC FACE, MOUTH & NECK W MAJ O.R.     3.343197e+08\n",
              "Cedars-Sinai Medical Center       219-CARDIAC VALVE & OTH MAJ CARDIOTHORACIC PROC W/O CARD CATH W MCC       3.322317e+08\n",
              "Name: Total IP Charges, dtype: float64"
            ]
          },
          "metadata": {
            "tags": []
          },
          "execution_count": 134
        }
      ]
    },
    {
      "cell_type": "code",
      "metadata": {
        "id": "-713k5Z0rYBo",
        "colab": {
          "base_uri": "https://localhost:8080/"
        },
        "outputId": "83827255-fffd-4943-84e3-51441068f813"
      },
      "source": [
        "# Rank DRGs by Total Charges at different hospitals - DRG first, State 2nd, Hosptial 3rd\n",
        "df_drg.groupby(['DRG_Cd-Desc', 'State', 'Rndrng_Prvdr_Org_Name'])['Total IP Charges'].sum().sort_values(ascending=False).head(30)\n",
        "# Finding; Hospital for Special Surgery in NY had the higest amount of charges ($820M) for DRG 470"
      ],
      "execution_count": 135,
      "outputs": [
        {
          "output_type": "execute_result",
          "data": {
            "text/plain": [
              "DRG_Cd-Desc                                                               State  Rndrng_Prvdr_Org_Name                 \n",
              "470-MAJOR JOINT REPLACEMENT OR REATTACHMENT OF LOWER EXTREMITY W/O MCC    NY     Hospital For Special Surgery              8.214967e+08\n",
              "871-SEPTICEMIA OR SEVERE SEPSIS W/O MV >96 HOURS W MCC                    CA     Cedars-Sinai Medical Center               7.429215e+08\n",
              "3-ECMO OR TRACH W MV >96 HRS OR PDX EXC FACE, MOUTH & NECK W MAJ O.R.     PA     Upmc Presbyterian Shadyside               5.387001e+08\n",
              "853-INFECTIOUS & PARASITIC DISEASES W O.R. PROCEDURE W MCC                CA     Cedars-Sinai Medical Center               5.242456e+08\n",
              "266-ENDOVASCULAR CARDIAC VALVE REPLACEMENT W MCC                          CA     Cedars-Sinai Medical Center               5.012122e+08\n",
              "1-HEART TRANSPLANT OR IMPLANT OF HEART ASSIST SYSTEM W MCC                CA     Cedars-Sinai Medical Center               4.959283e+08\n",
              "470-MAJOR JOINT REPLACEMENT OR REATTACHMENT OF LOWER EXTREMITY W/O MCC    CA     Cedars-Sinai Medical Center               4.390698e+08\n",
              "219-CARDIAC VALVE & OTH MAJ CARDIOTHORACIC PROC W/O CARD CATH W MCC       CA     Stanford Health Care                      4.249835e+08\n",
              "470-MAJOR JOINT REPLACEMENT OR REATTACHMENT OF LOWER EXTREMITY W/O MCC    CA     Washington Hospital                       4.193748e+08\n",
              "3-ECMO OR TRACH W MV >96 HRS OR PDX EXC FACE, MOUTH & NECK W MAJ O.R.     CA     Cedars-Sinai Medical Center               4.092905e+08\n",
              "                                                                                 Stanford Health Care                      3.765877e+08\n",
              "871-SEPTICEMIA OR SEVERE SEPSIS W/O MV >96 HOURS W MCC                    NY     North Shore University Hospital           3.583067e+08\n",
              "3-ECMO OR TRACH W MV >96 HRS OR PDX EXC FACE, MOUTH & NECK W MAJ O.R.     PA     Hospital Of Univ Of Pennsylvania          3.424906e+08\n",
              "1-HEART TRANSPLANT OR IMPLANT OF HEART ASSIST SYSTEM W MCC                CA     Stanford Health Care                      3.407599e+08\n",
              "871-SEPTICEMIA OR SEVERE SEPSIS W/O MV >96 HOURS W MCC                    NY     New York-Presbyterian Hospital            3.392047e+08\n",
              "291-HEART FAILURE & SHOCK W MCC                                           CA     Cedars-Sinai Medical Center               3.388487e+08\n",
              "267-ENDOVASCULAR CARDIAC VALVE REPLACEMENT W/O MCC                        CA     Cedars-Sinai Medical Center               3.370374e+08\n",
              "3-ECMO OR TRACH W MV >96 HRS OR PDX EXC FACE, MOUTH & NECK W MAJ O.R.     NY     New York-Presbyterian Hospital            3.343197e+08\n",
              "219-CARDIAC VALVE & OTH MAJ CARDIOTHORACIC PROC W/O CARD CATH W MCC       CA     Cedars-Sinai Medical Center               3.322317e+08\n",
              "871-SEPTICEMIA OR SEVERE SEPSIS W/O MV >96 HOURS W MCC                    FL     Florida Hospital                          3.207691e+08\n",
              "470-MAJOR JOINT REPLACEMENT OR REATTACHMENT OF LOWER EXTREMITY W/O MCC    TX     Baptist Medical Center                    3.169834e+08\n",
              "                                                                          FL     Florida Hospital                          3.143062e+08\n",
              "871-SEPTICEMIA OR SEVERE SEPSIS W/O MV >96 HOURS W MCC                    CA     Regional Medical Center Of San Jose       3.090879e+08\n",
              "                                                                          NY     Long Island Jewish Medical Center         3.011899e+08\n",
              "                                                                          CA     St Joseph's Medical Center Of Stockton    2.977502e+08\n",
              "470-MAJOR HIP AND KNEE JOINT REPLACEMENT OR REATTACHMENT OF LOWER EXTREM  NY     Hospital For Special Surgery              2.959427e+08\n",
              "470-MAJOR JOINT REPLACEMENT OR REATTACHMENT OF LOWER EXTREMITY W/O MCC    VA     Cjw Medical Center                        2.939320e+08\n",
              "871-SEPTICEMIA OR SEVERE SEPSIS W/O MV >96 HOURS W MCC                    NY     Montefiore Medical Center                 2.882765e+08\n",
              "                                                                          KS     Wesley Medical Center                     2.865034e+08\n",
              "                                                                          CA     Stanford Health Care                      2.791316e+08\n",
              "Name: Total IP Charges, dtype: float64"
            ]
          },
          "metadata": {
            "tags": []
          },
          "execution_count": 135
        }
      ]
    },
    {
      "cell_type": "code",
      "metadata": {
        "colab": {
          "base_uri": "https://localhost:8080/"
        },
        "id": "_MV_-3aO6ltq",
        "outputId": "ee82b5a8-a88b-4208-d784-4a98f120b9ea"
      },
      "source": [
        "# Rank hospitals by Total Charges for the top DRG - 470 - Major Joint Replacement\n",
        "df_drg2 = df_drg[df_drg['DRG_Cd'] == 470]\n",
        "df_drg2.groupby(['DRG_Cd-Desc', 'Rndrng_Prvdr_Org_Name'])['Total IP Charges'].sum().sort_values(ascending=False).head(30)\n",
        "# Finding: Hospital for Special Surgery had the higest amount of charges ($820M) for DRG 470"
      ],
      "execution_count": 141,
      "outputs": [
        {
          "output_type": "execute_result",
          "data": {
            "text/plain": [
              "DRG_Cd-Desc                                                               Rndrng_Prvdr_Org_Name                            \n",
              "470-MAJOR JOINT REPLACEMENT OR REATTACHMENT OF LOWER EXTREMITY W/O MCC    Hospital For Special Surgery                         8.214967e+08\n",
              "                                                                          Cedars-Sinai Medical Center                          4.390698e+08\n",
              "                                                                          Washington Hospital                                  4.193748e+08\n",
              "                                                                          Swedish Medical Center                               3.292454e+08\n",
              "                                                                          Baptist Medical Center                               3.169834e+08\n",
              "                                                                          Florida Hospital                                     3.143062e+08\n",
              "                                                                          Good Samaritan Hospital                              2.970683e+08\n",
              "470-MAJOR HIP AND KNEE JOINT REPLACEMENT OR REATTACHMENT OF LOWER EXTREM  Hospital For Special Surgery                         2.959427e+08\n",
              "470-MAJOR JOINT REPLACEMENT OR REATTACHMENT OF LOWER EXTREMITY W/O MCC    Cjw Medical Center                                   2.939320e+08\n",
              "                                                                          Ocala Regional Medical Center                        2.692922e+08\n",
              "                                                                          Stanford Health Care                                 2.648323e+08\n",
              "                                                                          Nyu Hospitals Center                                 2.497839e+08\n",
              "                                                                          Orlando Health                                       2.480573e+08\n",
              "                                                                          Hoag Orthopedic Institute                            2.472930e+08\n",
              "                                                                          Evanston Hospital                                    2.410592e+08\n",
              "                                                                          Atlanticare Regional Medical Center - City Campus    2.378417e+08\n",
              "                                                                          Central Dupage Hospital                              2.303308e+08\n",
              "                                                                          Mercy Hospital                                       2.285254e+08\n",
              "                                                                          Virtua West Jersey Hospitals Berlin                  2.255652e+08\n",
              "                                                                          Sky Ridge Medical Center                             2.201631e+08\n",
              "                                                                          John Muir Medical Center - Walnut Creek Campus       2.173235e+08\n",
              "470-MAJOR HIP AND KNEE JOINT REPLACEMENT OR REATTACHMENT OF LOWER EXTREM  Nyu Langone Hospitals                                2.154216e+08\n",
              "470-MAJOR JOINT REPLACEMENT OR REATTACHMENT OF LOWER EXTREMITY W/O MCC    Sarasota Memorial Hospital                           2.130249e+08\n",
              "                                                                          Los Robles Hospital & Medical Center                 2.107102e+08\n",
              "                                                                          St Francis-Downtown                                  2.086777e+08\n",
              "                                                                          Eisenhower Medical Center                            2.068304e+08\n",
              "                                                                          Providence Saint John's Health Center                2.027775e+08\n",
              "                                                                          Baptist Health Louisville                            2.024402e+08\n",
              "                                                                          Morristown Medical Center                            1.974259e+08\n",
              "                                                                          St Anthony Hospital                                  1.935021e+08\n",
              "Name: Total IP Charges, dtype: float64"
            ]
          },
          "metadata": {
            "tags": []
          },
          "execution_count": 141
        }
      ]
    },
    {
      "cell_type": "code",
      "metadata": {
        "colab": {
          "base_uri": "https://localhost:8080/",
          "height": 313
        },
        "id": "EjSPq0wyB2NU",
        "outputId": "f2caef8f-66e4-40fe-8662-2599b679a601"
      },
      "source": [
        "# Bar chart for Top 10 States ranked by Total Charges at for the top DRG - 470 - Major Joint Replacement\n",
        "df_drg = df_drg[df_drg['DRG_Cd'] == 470]\n",
        "df_drg.groupby(['State'])['Total IP Charges'].sum().sort_values(ascending=False).head(10).plot(kind = \"bar\")\n",
        "# Finding: California had the highest amount of charges ($13B) for DRG 470"
      ],
      "execution_count": 146,
      "outputs": [
        {
          "output_type": "execute_result",
          "data": {
            "text/plain": [
              "<matplotlib.axes._subplots.AxesSubplot at 0x7fe4c3326a10>"
            ]
          },
          "metadata": {
            "tags": []
          },
          "execution_count": 146
        },
        {
          "output_type": "display_data",
          "data": {
            "image/png": "[encoded data removed]",
            "text/plain": [
              "<Figure size 432x288 with 1 Axes>"
            ]
          },
          "metadata": {
            "tags": [],
            "needs_background": "light"
          }
        }
      ]
    },
    {
      "cell_type": "code",
      "metadata": {
        "colab": {
          "base_uri": "https://localhost:8080/",
          "height": 307
        },
        "id": "dsJvrehiJhiu",
        "outputId": "0fa08011-dfde-40a4-c938-73eb7ceec7ff"
      },
      "source": [
        "# Scatter plot of Total IP Charges vs Total IP Payments\n",
        "df_drg.plot(kind=\"scatter\", x = \"Total IP Charges\", y = \"Total IP Payments\")\n",
        "# Finding: Total Charges and Total Payments are correlated"
      ],
      "execution_count": 147,
      "outputs": [
        {
          "output_type": "execute_result",
          "data": {
            "text/plain": [
              "<matplotlib.axes._subplots.AxesSubplot at 0x7fe4c32fac50>"
            ]
          },
          "metadata": {
            "tags": []
          },
          "execution_count": 147
        },
        {
          "output_type": "display_data",
          "data": {
            "image/png": "[encoded data removed]",
            "text/plain": [
              "<Figure size 432x288 with 1 Axes>"
            ]
          },
          "metadata": {
            "tags": [],
            "needs_background": "light"
          }
        }
      ]
    },
    {
      "cell_type": "code",
      "metadata": {
        "colab": {
          "base_uri": "https://localhost:8080/",
          "height": 308
        },
        "id": "CxesESmJKiW2",
        "outputId": "093864d9-68ac-4e6f-92c6-9b8ea71c09d8"
      },
      "source": [
        "# Scatter plot of Total IP Discharges vs Total IP Charges\n",
        "df_drg.plot(kind=\"scatter\", x = \"Tot_Dschrgs\", y = \"Total IP Charges\")\n",
        "# Finding: Total Discharges and Total Charges are correlated"
      ],
      "execution_count": 148,
      "outputs": [
        {
          "output_type": "execute_result",
          "data": {
            "text/plain": [
              "<matplotlib.axes._subplots.AxesSubplot at 0x7fe4c32b4c50>"
            ]
          },
          "metadata": {
            "tags": []
          },
          "execution_count": 148
        },
        {
          "output_type": "display_data",
          "data": {
            "image/png": "[encoded data removed]",
            "text/plain": [
              "<Figure size 432x288 with 1 Axes>"
            ]
          },
          "metadata": {
            "tags": [],
            "needs_background": "light"
          }
        }
      ]
    },
    {
      "cell_type": "code",
      "metadata": {
        "colab": {
          "base_uri": "https://localhost:8080/",
          "height": 296
        },
        "id": "93NLCSLPLExL",
        "outputId": "20277313-f96e-4dd2-f8ec-d290de5338e3"
      },
      "source": [
        "# Scatter plot of Total Charges vs Average Medicare Payments\n",
        "df_drg.plot(kind=\"scatter\", x = \"Total IP Charges\", y = \"Avg_Mdcr_Pymt_Amt\")\n",
        "# Finding: Average Medicaare Payments leveled off as Total Charges rose"
      ],
      "execution_count": 149,
      "outputs": [
        {
          "output_type": "execute_result",
          "data": {
            "text/plain": [
              "<matplotlib.axes._subplots.AxesSubplot at 0x7fe4c317dc10>"
            ]
          },
          "metadata": {
            "tags": []
          },
          "execution_count": 149
        },
        {
          "output_type": "display_data",
          "data": {
            "image/png": "[encoded data removed]",
            "text/plain": [
              "<Figure size 432x288 with 1 Axes>"
            ]
          },
          "metadata": {
            "tags": [],
            "needs_background": "light"
          }
        }
      ]
    }
  ]
}
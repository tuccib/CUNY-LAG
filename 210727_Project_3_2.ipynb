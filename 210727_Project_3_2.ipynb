{
  "nbformat": 4,
  "nbformat_minor": 0,
  "metadata": {
    "colab": {
      "name": "210727 Project 3.2.ipynb",
      "provenance": [],
      "collapsed_sections": [],
      "mount_file_id": "1QPlJYD9tgsaHfneU_jCOlVKtCsQgjkVV",
      "authorship_tag": "ABX9TyPciSsP4Pw5iqua/FezRsut",
      "include_colab_link": true
    },
    "kernelspec": {
      "name": "python3",
      "display_name": "Python 3"
    },
    "language_info": {
      "name": "python"
    }
  },
  "cells": [
    {
      "cell_type": "markdown",
      "metadata": {
        "id": "view-in-github",
        "colab_type": "text"
      },
      "source": [
        "<a href=\"https://colab.research.google.com/github/tuccib/CUNY_LAG/blob/Python/210727_Project_3_2.ipynb\" target=\"_parent\"><img src=\"https://colab.research.google.com/assets/colab-badge.svg\" alt=\"Open In Colab\"/></a>"
      ]
    },
    {
      "cell_type": "code",
      "metadata": {
        "id": "BJAvRxColErE"
      },
      "source": [
        "import numpy as np\n",
        "import pandas as pd\n",
        "import matplotlib.pyplot as plot\n",
        "%matplotlib inline\n",
        "import seaborn as sns\n"
      ],
      "execution_count": 1,
      "outputs": []
    },
    {
      "cell_type": "code",
      "metadata": {
        "colab": {
          "base_uri": "https://localhost:8080/",
          "height": 405
        },
        "id": "GdzXBikUlQHf",
        "outputId": "f084f1ea-9b24-4ea5-8a2c-d35293626a92"
      },
      "source": [
        "df = pd.read_csv('/content/drive/MyDrive/Colab Notebooks/Hospital_Charges_In_America_Dhiraj_Kaggle.csv')\n",
        "df.head()"
      ],
      "execution_count": 2,
      "outputs": [
        {
          "output_type": "execute_result",
          "data": {
            "text/html": [
              "<div>\n",
              "<style scoped>\n",
              "    .dataframe tbody tr th:only-of-type {\n",
              "        vertical-align: middle;\n",
              "    }\n",
              "\n",
              "    .dataframe tbody tr th {\n",
              "        vertical-align: top;\n",
              "    }\n",
              "\n",
              "    .dataframe thead th {\n",
              "        text-align: right;\n",
              "    }\n",
              "</style>\n",
              "<table border=\"1\" class=\"dataframe\">\n",
              "  <thead>\n",
              "    <tr style=\"text-align: right;\">\n",
              "      <th></th>\n",
              "      <th>DRG Definition</th>\n",
              "      <th>Provider Id</th>\n",
              "      <th>Provider Name</th>\n",
              "      <th>Provider Street Address</th>\n",
              "      <th>Provider City</th>\n",
              "      <th>Provider State</th>\n",
              "      <th>Provider Zip Code</th>\n",
              "      <th>Hospital Referral Region Description</th>\n",
              "      <th>Total Discharges</th>\n",
              "      <th>Average Covered Charges</th>\n",
              "      <th>Average Total Payments</th>\n",
              "      <th>Average Medicare Payments</th>\n",
              "    </tr>\n",
              "  </thead>\n",
              "  <tbody>\n",
              "    <tr>\n",
              "      <th>0</th>\n",
              "      <td>039 - EXTRACRANIAL PROCEDURES W/O CC/MCC</td>\n",
              "      <td>10001</td>\n",
              "      <td>SOUTHEAST ALABAMA MEDICAL CENTER</td>\n",
              "      <td>1108 ROSS CLARK CIRCLE</td>\n",
              "      <td>DOTHAN</td>\n",
              "      <td>AL</td>\n",
              "      <td>36301</td>\n",
              "      <td>AL - Dothan</td>\n",
              "      <td>91</td>\n",
              "      <td>$32,963.07</td>\n",
              "      <td>$5,777.24</td>\n",
              "      <td>$4,763.73</td>\n",
              "    </tr>\n",
              "    <tr>\n",
              "      <th>1</th>\n",
              "      <td>039 - EXTRACRANIAL PROCEDURES W/O CC/MCC</td>\n",
              "      <td>10005</td>\n",
              "      <td>MARSHALL MEDICAL CENTER SOUTH</td>\n",
              "      <td>2505 U S HIGHWAY 431 NORTH</td>\n",
              "      <td>BOAZ</td>\n",
              "      <td>AL</td>\n",
              "      <td>35957</td>\n",
              "      <td>AL - Birmingham</td>\n",
              "      <td>14</td>\n",
              "      <td>$15,131.85</td>\n",
              "      <td>$5,787.57</td>\n",
              "      <td>$4,976.71</td>\n",
              "    </tr>\n",
              "    <tr>\n",
              "      <th>2</th>\n",
              "      <td>039 - EXTRACRANIAL PROCEDURES W/O CC/MCC</td>\n",
              "      <td>10006</td>\n",
              "      <td>ELIZA COFFEE MEMORIAL HOSPITAL</td>\n",
              "      <td>205 MARENGO STREET</td>\n",
              "      <td>FLORENCE</td>\n",
              "      <td>AL</td>\n",
              "      <td>35631</td>\n",
              "      <td>AL - Birmingham</td>\n",
              "      <td>24</td>\n",
              "      <td>$37,560.37</td>\n",
              "      <td>$5,434.95</td>\n",
              "      <td>$4,453.79</td>\n",
              "    </tr>\n",
              "    <tr>\n",
              "      <th>3</th>\n",
              "      <td>039 - EXTRACRANIAL PROCEDURES W/O CC/MCC</td>\n",
              "      <td>10011</td>\n",
              "      <td>ST VINCENT'S EAST</td>\n",
              "      <td>50 MEDICAL PARK EAST DRIVE</td>\n",
              "      <td>BIRMINGHAM</td>\n",
              "      <td>AL</td>\n",
              "      <td>35235</td>\n",
              "      <td>AL - Birmingham</td>\n",
              "      <td>25</td>\n",
              "      <td>$13,998.28</td>\n",
              "      <td>$5,417.56</td>\n",
              "      <td>$4,129.16</td>\n",
              "    </tr>\n",
              "    <tr>\n",
              "      <th>4</th>\n",
              "      <td>039 - EXTRACRANIAL PROCEDURES W/O CC/MCC</td>\n",
              "      <td>10016</td>\n",
              "      <td>SHELBY BAPTIST MEDICAL CENTER</td>\n",
              "      <td>1000 FIRST STREET NORTH</td>\n",
              "      <td>ALABASTER</td>\n",
              "      <td>AL</td>\n",
              "      <td>35007</td>\n",
              "      <td>AL - Birmingham</td>\n",
              "      <td>18</td>\n",
              "      <td>$31,633.27</td>\n",
              "      <td>$5,658.33</td>\n",
              "      <td>$4,851.44</td>\n",
              "    </tr>\n",
              "  </tbody>\n",
              "</table>\n",
              "</div>"
            ],
            "text/plain": [
              "                             DRG Definition  ...  Average Medicare Payments\n",
              "0  039 - EXTRACRANIAL PROCEDURES W/O CC/MCC  ...                 $4,763.73 \n",
              "1  039 - EXTRACRANIAL PROCEDURES W/O CC/MCC  ...                 $4,976.71 \n",
              "2  039 - EXTRACRANIAL PROCEDURES W/O CC/MCC  ...                 $4,453.79 \n",
              "3  039 - EXTRACRANIAL PROCEDURES W/O CC/MCC  ...                 $4,129.16 \n",
              "4  039 - EXTRACRANIAL PROCEDURES W/O CC/MCC  ...                 $4,851.44 \n",
              "\n",
              "[5 rows x 12 columns]"
            ]
          },
          "metadata": {
            "tags": []
          },
          "execution_count": 2
        }
      ]
    },
    {
      "cell_type": "code",
      "metadata": {
        "colab": {
          "base_uri": "https://localhost:8080/",
          "height": 295
        },
        "id": "ds1WD9VqcCRo",
        "outputId": "0bed232d-310c-4f77-fa8d-2bb240dce5cc"
      },
      "source": [
        "df.describe().round(0)"
      ],
      "execution_count": 4,
      "outputs": [
        {
          "output_type": "execute_result",
          "data": {
            "text/html": [
              "<div>\n",
              "<style scoped>\n",
              "    .dataframe tbody tr th:only-of-type {\n",
              "        vertical-align: middle;\n",
              "    }\n",
              "\n",
              "    .dataframe tbody tr th {\n",
              "        vertical-align: top;\n",
              "    }\n",
              "\n",
              "    .dataframe thead th {\n",
              "        text-align: right;\n",
              "    }\n",
              "</style>\n",
              "<table border=\"1\" class=\"dataframe\">\n",
              "  <thead>\n",
              "    <tr style=\"text-align: right;\">\n",
              "      <th></th>\n",
              "      <th>Provider Id</th>\n",
              "      <th>Provider Zip Code</th>\n",
              "      <th>Total Discharges</th>\n",
              "    </tr>\n",
              "  </thead>\n",
              "  <tbody>\n",
              "    <tr>\n",
              "      <th>count</th>\n",
              "      <td>163065.0</td>\n",
              "      <td>163065.0</td>\n",
              "      <td>163065.0</td>\n",
              "    </tr>\n",
              "    <tr>\n",
              "      <th>mean</th>\n",
              "      <td>255570.0</td>\n",
              "      <td>47938.0</td>\n",
              "      <td>43.0</td>\n",
              "    </tr>\n",
              "    <tr>\n",
              "      <th>std</th>\n",
              "      <td>151564.0</td>\n",
              "      <td>27854.0</td>\n",
              "      <td>51.0</td>\n",
              "    </tr>\n",
              "    <tr>\n",
              "      <th>min</th>\n",
              "      <td>10001.0</td>\n",
              "      <td>1040.0</td>\n",
              "      <td>11.0</td>\n",
              "    </tr>\n",
              "    <tr>\n",
              "      <th>25%</th>\n",
              "      <td>110092.0</td>\n",
              "      <td>27261.0</td>\n",
              "      <td>17.0</td>\n",
              "    </tr>\n",
              "    <tr>\n",
              "      <th>50%</th>\n",
              "      <td>250007.0</td>\n",
              "      <td>44309.0</td>\n",
              "      <td>27.0</td>\n",
              "    </tr>\n",
              "    <tr>\n",
              "      <th>75%</th>\n",
              "      <td>380075.0</td>\n",
              "      <td>72901.0</td>\n",
              "      <td>49.0</td>\n",
              "    </tr>\n",
              "    <tr>\n",
              "      <th>max</th>\n",
              "      <td>670077.0</td>\n",
              "      <td>99835.0</td>\n",
              "      <td>3383.0</td>\n",
              "    </tr>\n",
              "  </tbody>\n",
              "</table>\n",
              "</div>"
            ],
            "text/plain": [
              "       Provider Id  Provider Zip Code   Total Discharges \n",
              "count     163065.0           163065.0            163065.0\n",
              "mean      255570.0            47938.0                43.0\n",
              "std       151564.0            27854.0                51.0\n",
              "min        10001.0             1040.0                11.0\n",
              "25%       110092.0            27261.0                17.0\n",
              "50%       250007.0            44309.0                27.0\n",
              "75%       380075.0            72901.0                49.0\n",
              "max       670077.0            99835.0              3383.0"
            ]
          },
          "metadata": {
            "tags": []
          },
          "execution_count": 4
        }
      ]
    },
    {
      "cell_type": "markdown",
      "metadata": {
        "id": "h05Ua-oZcnNj"
      },
      "source": [
        "Average Covered Charges, Average Total Payments, Average Medicare Payments are non-numeric but should be numeric.  "
      ]
    },
    {
      "cell_type": "code",
      "metadata": {
        "colab": {
          "base_uri": "https://localhost:8080/"
        },
        "id": "PV7zyZwQc645",
        "outputId": "4199e79b-d6b7-4926-c35c-578a6c05d9bf"
      },
      "source": [
        "df[' Total Discharges '].mean()"
      ],
      "execution_count": 14,
      "outputs": [
        {
          "output_type": "execute_result",
          "data": {
            "text/plain": [
              "42.77630392788152"
            ]
          },
          "metadata": {
            "tags": []
          },
          "execution_count": 14
        }
      ]
    },
    {
      "cell_type": "markdown",
      "metadata": {
        "id": "3ORq-fJufVTq"
      },
      "source": [
        "Note space before and after in ' Total Discharges '"
      ]
    },
    {
      "cell_type": "code",
      "metadata": {
        "colab": {
          "base_uri": "https://localhost:8080/",
          "height": 506
        },
        "id": "_Tg_4YXHiQHO",
        "outputId": "84d76700-aa6a-4e6a-8461-8821424b7035"
      },
      "source": [
        "df2 = pd.read_csv('/content/drive/MyDrive/Colab Notebooks/v2 Hospital_Charges_In_America_Dhiraj_Kaggle.csv')\n",
        "df2.head()"
      ],
      "execution_count": 15,
      "outputs": [
        {
          "output_type": "execute_result",
          "data": {
            "text/html": [
              "<div>\n",
              "<style scoped>\n",
              "    .dataframe tbody tr th:only-of-type {\n",
              "        vertical-align: middle;\n",
              "    }\n",
              "\n",
              "    .dataframe tbody tr th {\n",
              "        vertical-align: top;\n",
              "    }\n",
              "\n",
              "    .dataframe thead th {\n",
              "        text-align: right;\n",
              "    }\n",
              "</style>\n",
              "<table border=\"1\" class=\"dataframe\">\n",
              "  <thead>\n",
              "    <tr style=\"text-align: right;\">\n",
              "      <th></th>\n",
              "      <th>DRG Code</th>\n",
              "      <th>DRG Definition</th>\n",
              "      <th>Provider Id</th>\n",
              "      <th>Provider Name</th>\n",
              "      <th>Provider Street Address</th>\n",
              "      <th>Provider City</th>\n",
              "      <th>Provider State</th>\n",
              "      <th>Provider Zip Code</th>\n",
              "      <th>Hospital Referral Region Description</th>\n",
              "      <th>Total Discharges</th>\n",
              "      <th>Average Covered Charges</th>\n",
              "      <th>Average Total Payments</th>\n",
              "      <th>Average Medicare Payments</th>\n",
              "      <th>Unnamed: 13</th>\n",
              "      <th>Unnamed: 14</th>\n",
              "    </tr>\n",
              "  </thead>\n",
              "  <tbody>\n",
              "    <tr>\n",
              "      <th>0</th>\n",
              "      <td>39</td>\n",
              "      <td>039 - EXTRACRANIAL PROCEDURES W/O CC/MCC</td>\n",
              "      <td>10001</td>\n",
              "      <td>SOUTHEAST ALABAMA MEDICAL CENTER</td>\n",
              "      <td>1108 ROSS CLARK CIRCLE</td>\n",
              "      <td>DOTHAN</td>\n",
              "      <td>AL</td>\n",
              "      <td>36301</td>\n",
              "      <td>AL - Dothan</td>\n",
              "      <td>91</td>\n",
              "      <td>32,963.07</td>\n",
              "      <td>5,777.24</td>\n",
              "      <td>4,763.73</td>\n",
              "      <td>NaN</td>\n",
              "      <td>NaN</td>\n",
              "    </tr>\n",
              "    <tr>\n",
              "      <th>1</th>\n",
              "      <td>39</td>\n",
              "      <td>039 - EXTRACRANIAL PROCEDURES W/O CC/MCC</td>\n",
              "      <td>10005</td>\n",
              "      <td>MARSHALL MEDICAL CENTER SOUTH</td>\n",
              "      <td>2505 U S HIGHWAY 431 NORTH</td>\n",
              "      <td>BOAZ</td>\n",
              "      <td>AL</td>\n",
              "      <td>35957</td>\n",
              "      <td>AL - Birmingham</td>\n",
              "      <td>14</td>\n",
              "      <td>15,131.85</td>\n",
              "      <td>5,787.57</td>\n",
              "      <td>4,976.71</td>\n",
              "      <td>NaN</td>\n",
              "      <td>NaN</td>\n",
              "    </tr>\n",
              "    <tr>\n",
              "      <th>2</th>\n",
              "      <td>39</td>\n",
              "      <td>039 - EXTRACRANIAL PROCEDURES W/O CC/MCC</td>\n",
              "      <td>10006</td>\n",
              "      <td>ELIZA COFFEE MEMORIAL HOSPITAL</td>\n",
              "      <td>205 MARENGO STREET</td>\n",
              "      <td>FLORENCE</td>\n",
              "      <td>AL</td>\n",
              "      <td>35631</td>\n",
              "      <td>AL - Birmingham</td>\n",
              "      <td>24</td>\n",
              "      <td>37,560.37</td>\n",
              "      <td>5,434.95</td>\n",
              "      <td>4,453.79</td>\n",
              "      <td>NaN</td>\n",
              "      <td>NaN</td>\n",
              "    </tr>\n",
              "    <tr>\n",
              "      <th>3</th>\n",
              "      <td>39</td>\n",
              "      <td>039 - EXTRACRANIAL PROCEDURES W/O CC/MCC</td>\n",
              "      <td>10011</td>\n",
              "      <td>ST VINCENT'S EAST</td>\n",
              "      <td>50 MEDICAL PARK EAST DRIVE</td>\n",
              "      <td>BIRMINGHAM</td>\n",
              "      <td>AL</td>\n",
              "      <td>35235</td>\n",
              "      <td>AL - Birmingham</td>\n",
              "      <td>25</td>\n",
              "      <td>13,998.28</td>\n",
              "      <td>5,417.56</td>\n",
              "      <td>4,129.16</td>\n",
              "      <td>NaN</td>\n",
              "      <td>NaN</td>\n",
              "    </tr>\n",
              "    <tr>\n",
              "      <th>4</th>\n",
              "      <td>39</td>\n",
              "      <td>039 - EXTRACRANIAL PROCEDURES W/O CC/MCC</td>\n",
              "      <td>10016</td>\n",
              "      <td>SHELBY BAPTIST MEDICAL CENTER</td>\n",
              "      <td>1000 FIRST STREET NORTH</td>\n",
              "      <td>ALABASTER</td>\n",
              "      <td>AL</td>\n",
              "      <td>35007</td>\n",
              "      <td>AL - Birmingham</td>\n",
              "      <td>18</td>\n",
              "      <td>31,633.27</td>\n",
              "      <td>5,658.33</td>\n",
              "      <td>4,851.44</td>\n",
              "      <td>NaN</td>\n",
              "      <td>NaN</td>\n",
              "    </tr>\n",
              "  </tbody>\n",
              "</table>\n",
              "</div>"
            ],
            "text/plain": [
              "   DRG Code                            DRG Definition  ...  Unnamed: 13 Unnamed: 14\n",
              "0        39  039 - EXTRACRANIAL PROCEDURES W/O CC/MCC  ...          NaN         NaN\n",
              "1        39  039 - EXTRACRANIAL PROCEDURES W/O CC/MCC  ...          NaN         NaN\n",
              "2        39  039 - EXTRACRANIAL PROCEDURES W/O CC/MCC  ...          NaN         NaN\n",
              "3        39  039 - EXTRACRANIAL PROCEDURES W/O CC/MCC  ...          NaN         NaN\n",
              "4        39  039 - EXTRACRANIAL PROCEDURES W/O CC/MCC  ...          NaN         NaN\n",
              "\n",
              "[5 rows x 15 columns]"
            ]
          },
          "metadata": {
            "tags": []
          },
          "execution_count": 15
        }
      ]
    },
    {
      "cell_type": "code",
      "metadata": {
        "colab": {
          "base_uri": "https://localhost:8080/",
          "height": 295
        },
        "id": "gsK4XoRwifj2",
        "outputId": "5cc853b1-2546-4df2-f2d9-975a95400b61"
      },
      "source": [
        "df.describe().round()"
      ],
      "execution_count": 16,
      "outputs": [
        {
          "output_type": "execute_result",
          "data": {
            "text/html": [
              "<div>\n",
              "<style scoped>\n",
              "    .dataframe tbody tr th:only-of-type {\n",
              "        vertical-align: middle;\n",
              "    }\n",
              "\n",
              "    .dataframe tbody tr th {\n",
              "        vertical-align: top;\n",
              "    }\n",
              "\n",
              "    .dataframe thead th {\n",
              "        text-align: right;\n",
              "    }\n",
              "</style>\n",
              "<table border=\"1\" class=\"dataframe\">\n",
              "  <thead>\n",
              "    <tr style=\"text-align: right;\">\n",
              "      <th></th>\n",
              "      <th>Provider Id</th>\n",
              "      <th>Provider Zip Code</th>\n",
              "      <th>Total Discharges</th>\n",
              "    </tr>\n",
              "  </thead>\n",
              "  <tbody>\n",
              "    <tr>\n",
              "      <th>count</th>\n",
              "      <td>163065.0</td>\n",
              "      <td>163065.0</td>\n",
              "      <td>163065.0</td>\n",
              "    </tr>\n",
              "    <tr>\n",
              "      <th>mean</th>\n",
              "      <td>255570.0</td>\n",
              "      <td>47938.0</td>\n",
              "      <td>43.0</td>\n",
              "    </tr>\n",
              "    <tr>\n",
              "      <th>std</th>\n",
              "      <td>151564.0</td>\n",
              "      <td>27854.0</td>\n",
              "      <td>51.0</td>\n",
              "    </tr>\n",
              "    <tr>\n",
              "      <th>min</th>\n",
              "      <td>10001.0</td>\n",
              "      <td>1040.0</td>\n",
              "      <td>11.0</td>\n",
              "    </tr>\n",
              "    <tr>\n",
              "      <th>25%</th>\n",
              "      <td>110092.0</td>\n",
              "      <td>27261.0</td>\n",
              "      <td>17.0</td>\n",
              "    </tr>\n",
              "    <tr>\n",
              "      <th>50%</th>\n",
              "      <td>250007.0</td>\n",
              "      <td>44309.0</td>\n",
              "      <td>27.0</td>\n",
              "    </tr>\n",
              "    <tr>\n",
              "      <th>75%</th>\n",
              "      <td>380075.0</td>\n",
              "      <td>72901.0</td>\n",
              "      <td>49.0</td>\n",
              "    </tr>\n",
              "    <tr>\n",
              "      <th>max</th>\n",
              "      <td>670077.0</td>\n",
              "      <td>99835.0</td>\n",
              "      <td>3383.0</td>\n",
              "    </tr>\n",
              "  </tbody>\n",
              "</table>\n",
              "</div>"
            ],
            "text/plain": [
              "       Provider Id  Provider Zip Code   Total Discharges \n",
              "count     163065.0           163065.0            163065.0\n",
              "mean      255570.0            47938.0                43.0\n",
              "std       151564.0            27854.0                51.0\n",
              "min        10001.0             1040.0                11.0\n",
              "25%       110092.0            27261.0                17.0\n",
              "50%       250007.0            44309.0                27.0\n",
              "75%       380075.0            72901.0                49.0\n",
              "max       670077.0            99835.0              3383.0"
            ]
          },
          "metadata": {
            "tags": []
          },
          "execution_count": 16
        }
      ]
    },
    {
      "cell_type": "code",
      "metadata": {
        "colab": {
          "base_uri": "https://localhost:8080/",
          "height": 558
        },
        "id": "q-rcdFm6j5Cy",
        "outputId": "9e6db238-5432-4bc6-8619-f0243b82a05e"
      },
      "source": [
        "df2['Average Covered Charges'].mean()"
      ],
      "execution_count": 21,
      "outputs": [
        {
          "output_type": "error",
          "ename": "TypeError",
          "evalue": "ignored",
          "traceback": [
            "\u001b[0;31m---------------------------------------------------------------------------\u001b[0m",
            "\u001b[0;31mValueError\u001b[0m                                Traceback (most recent call last)",
            "\u001b[0;32m/usr/local/lib/python3.7/dist-packages/pandas/core/nanops.py\u001b[0m in \u001b[0;36m_ensure_numeric\u001b[0;34m(x)\u001b[0m\n\u001b[1;32m   1426\u001b[0m         \u001b[0;32mtry\u001b[0m\u001b[0;34m:\u001b[0m\u001b[0;34m\u001b[0m\u001b[0;34m\u001b[0m\u001b[0m\n\u001b[0;32m-> 1427\u001b[0;31m             \u001b[0mx\u001b[0m \u001b[0;34m=\u001b[0m \u001b[0mfloat\u001b[0m\u001b[0;34m(\u001b[0m\u001b[0mx\u001b[0m\u001b[0;34m)\u001b[0m\u001b[0;34m\u001b[0m\u001b[0;34m\u001b[0m\u001b[0m\n\u001b[0m\u001b[1;32m   1428\u001b[0m         \u001b[0;32mexcept\u001b[0m \u001b[0mValueError\u001b[0m\u001b[0;34m:\u001b[0m\u001b[0;34m\u001b[0m\u001b[0;34m\u001b[0m\u001b[0m\n",
            "\u001b[0;31mValueError\u001b[0m: could not convert string to float: '32,963.0715,131.8537,560.3713,998.2831,633.2716,920.7911,977.1335,841.0928,523.3975,233.3867,327.9239,607.2822,862.2331,110.8525,411.339,234.5115,895.8519,721.1610,710.8851,343.7555,219.3114,948.1573,846.2134,805.1334,803.8124,474.7528,571.6135,968.5026,294.5226,771.7829,967.8027,349.4059,443.8324,714.6637,706.0038,149.8515,931.5229,718.4825,259.6639,165.9226,776.3324,560.0054,050.5832,998.0025,757.6460,608.6929,774.1243,823.2030,470.5627,734.8917,593.3311,057.0637,470.7319,270.6316,582.3411,406.1723,182.4214,799.3029,474.0898,388.7725,076.6429,442.3622,973.0024,489.9344,664.4551,950.87105,929.4766,207.6640,062.4653,334.8042,446.3027,027.9330,686.0165,099.5435,690.0257,187.3072,051.8959,184.7441,460.6751,983.8560,997.1644,775.9152,977.9245,246.7439,046.8182,480.7557,258.7351,813.1385,165.1094,693.8455,232.6929,350.8560,022.5864,419.66101,282.0330,027.5488,175.0036,730.6948,567.2226,209.5443,000.1148,852.4559,465.0041,204.2353,860.1730,510.2962,077.7169,223.4742,287.4736,866.3160,448.4737,691.9662,924.0931,305.4790,836.4872,225.3164,346.6879,033.5054,446.4656,328.9064,229.6160,264.9750,977.01146,892.0044,761.5072,784.0026,258.0020,227.6631,017.0670,478.2574,093.9233,135.6826,928.5446,569.3037,752.3027,170.4622,619.0233,369.7633,355.7363,986.4027,634.8818,103.1813,479.3127,697.5716,060.6321,229.0918,847.6838,982.6620,848.2027,901.3416,739.3723,753.6617,413.7521,274.4722,336.6819,812.5014,336.6618,353.3039,209.6057,13...",
            "\nDuring handling of the above exception, another exception occurred:\n",
            "\u001b[0;31mValueError\u001b[0m                                Traceback (most recent call last)",
            "\u001b[0;32m/usr/local/lib/python3.7/dist-packages/pandas/core/nanops.py\u001b[0m in \u001b[0;36m_ensure_numeric\u001b[0;34m(x)\u001b[0m\n\u001b[1;32m   1430\u001b[0m             \u001b[0;32mtry\u001b[0m\u001b[0;34m:\u001b[0m\u001b[0;34m\u001b[0m\u001b[0;34m\u001b[0m\u001b[0m\n\u001b[0;32m-> 1431\u001b[0;31m                 \u001b[0mx\u001b[0m \u001b[0;34m=\u001b[0m \u001b[0mcomplex\u001b[0m\u001b[0;34m(\u001b[0m\u001b[0mx\u001b[0m\u001b[0;34m)\u001b[0m\u001b[0;34m\u001b[0m\u001b[0;34m\u001b[0m\u001b[0m\n\u001b[0m\u001b[1;32m   1432\u001b[0m             \u001b[0;32mexcept\u001b[0m \u001b[0mValueError\u001b[0m \u001b[0;32mas\u001b[0m \u001b[0merr\u001b[0m\u001b[0;34m:\u001b[0m\u001b[0;34m\u001b[0m\u001b[0;34m\u001b[0m\u001b[0m\n",
            "\u001b[0;31mValueError\u001b[0m: complex() arg is a malformed string",
            "\nThe above exception was the direct cause of the following exception:\n",
            "\u001b[0;31mTypeError\u001b[0m                                 Traceback (most recent call last)",
            "\u001b[0;32m<ipython-input-21-285eb8685d9b>\u001b[0m in \u001b[0;36m<module>\u001b[0;34m()\u001b[0m\n\u001b[0;32m----> 1\u001b[0;31m \u001b[0mdf2\u001b[0m\u001b[0;34m[\u001b[0m\u001b[0;34m'Average Covered Charges'\u001b[0m\u001b[0;34m]\u001b[0m\u001b[0;34m.\u001b[0m\u001b[0mmean\u001b[0m\u001b[0;34m(\u001b[0m\u001b[0;34m)\u001b[0m\u001b[0;34m\u001b[0m\u001b[0;34m\u001b[0m\u001b[0m\n\u001b[0m",
            "\u001b[0;32m/usr/local/lib/python3.7/dist-packages/pandas/core/generic.py\u001b[0m in \u001b[0;36mstat_func\u001b[0;34m(self, axis, skipna, level, numeric_only, **kwargs)\u001b[0m\n\u001b[1;32m  11473\u001b[0m             \u001b[0;32mreturn\u001b[0m \u001b[0mself\u001b[0m\u001b[0;34m.\u001b[0m\u001b[0m_agg_by_level\u001b[0m\u001b[0;34m(\u001b[0m\u001b[0mname\u001b[0m\u001b[0;34m,\u001b[0m \u001b[0maxis\u001b[0m\u001b[0;34m=\u001b[0m\u001b[0maxis\u001b[0m\u001b[0;34m,\u001b[0m \u001b[0mlevel\u001b[0m\u001b[0;34m=\u001b[0m\u001b[0mlevel\u001b[0m\u001b[0;34m,\u001b[0m \u001b[0mskipna\u001b[0m\u001b[0;34m=\u001b[0m\u001b[0mskipna\u001b[0m\u001b[0;34m)\u001b[0m\u001b[0;34m\u001b[0m\u001b[0;34m\u001b[0m\u001b[0m\n\u001b[1;32m  11474\u001b[0m         return self._reduce(\n\u001b[0;32m> 11475\u001b[0;31m             \u001b[0mfunc\u001b[0m\u001b[0;34m,\u001b[0m \u001b[0mname\u001b[0m\u001b[0;34m=\u001b[0m\u001b[0mname\u001b[0m\u001b[0;34m,\u001b[0m \u001b[0maxis\u001b[0m\u001b[0;34m=\u001b[0m\u001b[0maxis\u001b[0m\u001b[0;34m,\u001b[0m \u001b[0mskipna\u001b[0m\u001b[0;34m=\u001b[0m\u001b[0mskipna\u001b[0m\u001b[0;34m,\u001b[0m \u001b[0mnumeric_only\u001b[0m\u001b[0;34m=\u001b[0m\u001b[0mnumeric_only\u001b[0m\u001b[0;34m\u001b[0m\u001b[0;34m\u001b[0m\u001b[0m\n\u001b[0m\u001b[1;32m  11476\u001b[0m         )\n\u001b[1;32m  11477\u001b[0m \u001b[0;34m\u001b[0m\u001b[0m\n",
            "\u001b[0;32m/usr/local/lib/python3.7/dist-packages/pandas/core/series.py\u001b[0m in \u001b[0;36m_reduce\u001b[0;34m(self, op, name, axis, skipna, numeric_only, filter_type, **kwds)\u001b[0m\n\u001b[1;32m   4247\u001b[0m                 )\n\u001b[1;32m   4248\u001b[0m             \u001b[0;32mwith\u001b[0m \u001b[0mnp\u001b[0m\u001b[0;34m.\u001b[0m\u001b[0merrstate\u001b[0m\u001b[0;34m(\u001b[0m\u001b[0mall\u001b[0m\u001b[0;34m=\u001b[0m\u001b[0;34m\"ignore\"\u001b[0m\u001b[0;34m)\u001b[0m\u001b[0;34m:\u001b[0m\u001b[0;34m\u001b[0m\u001b[0;34m\u001b[0m\u001b[0m\n\u001b[0;32m-> 4249\u001b[0;31m                 \u001b[0;32mreturn\u001b[0m \u001b[0mop\u001b[0m\u001b[0;34m(\u001b[0m\u001b[0mdelegate\u001b[0m\u001b[0;34m,\u001b[0m \u001b[0mskipna\u001b[0m\u001b[0;34m=\u001b[0m\u001b[0mskipna\u001b[0m\u001b[0;34m,\u001b[0m \u001b[0;34m**\u001b[0m\u001b[0mkwds\u001b[0m\u001b[0;34m)\u001b[0m\u001b[0;34m\u001b[0m\u001b[0;34m\u001b[0m\u001b[0m\n\u001b[0m\u001b[1;32m   4250\u001b[0m \u001b[0;34m\u001b[0m\u001b[0m\n\u001b[1;32m   4251\u001b[0m     \u001b[0;32mdef\u001b[0m \u001b[0m_reindex_indexer\u001b[0m\u001b[0;34m(\u001b[0m\u001b[0mself\u001b[0m\u001b[0;34m,\u001b[0m \u001b[0mnew_index\u001b[0m\u001b[0;34m,\u001b[0m \u001b[0mindexer\u001b[0m\u001b[0;34m,\u001b[0m \u001b[0mcopy\u001b[0m\u001b[0;34m)\u001b[0m\u001b[0;34m:\u001b[0m\u001b[0;34m\u001b[0m\u001b[0;34m\u001b[0m\u001b[0m\n",
            "\u001b[0;32m/usr/local/lib/python3.7/dist-packages/pandas/core/nanops.py\u001b[0m in \u001b[0;36m_f\u001b[0;34m(*args, **kwargs)\u001b[0m\n\u001b[1;32m     69\u001b[0m             \u001b[0;32mtry\u001b[0m\u001b[0;34m:\u001b[0m\u001b[0;34m\u001b[0m\u001b[0;34m\u001b[0m\u001b[0m\n\u001b[1;32m     70\u001b[0m                 \u001b[0;32mwith\u001b[0m \u001b[0mnp\u001b[0m\u001b[0;34m.\u001b[0m\u001b[0merrstate\u001b[0m\u001b[0;34m(\u001b[0m\u001b[0minvalid\u001b[0m\u001b[0;34m=\u001b[0m\u001b[0;34m\"ignore\"\u001b[0m\u001b[0;34m)\u001b[0m\u001b[0;34m:\u001b[0m\u001b[0;34m\u001b[0m\u001b[0;34m\u001b[0m\u001b[0m\n\u001b[0;32m---> 71\u001b[0;31m                     \u001b[0;32mreturn\u001b[0m \u001b[0mf\u001b[0m\u001b[0;34m(\u001b[0m\u001b[0;34m*\u001b[0m\u001b[0margs\u001b[0m\u001b[0;34m,\u001b[0m \u001b[0;34m**\u001b[0m\u001b[0mkwargs\u001b[0m\u001b[0;34m)\u001b[0m\u001b[0;34m\u001b[0m\u001b[0;34m\u001b[0m\u001b[0m\n\u001b[0m\u001b[1;32m     72\u001b[0m             \u001b[0;32mexcept\u001b[0m \u001b[0mValueError\u001b[0m \u001b[0;32mas\u001b[0m \u001b[0me\u001b[0m\u001b[0;34m:\u001b[0m\u001b[0;34m\u001b[0m\u001b[0;34m\u001b[0m\u001b[0m\n\u001b[1;32m     73\u001b[0m                 \u001b[0;31m# we want to transform an object array\u001b[0m\u001b[0;34m\u001b[0m\u001b[0;34m\u001b[0m\u001b[0;34m\u001b[0m\u001b[0m\n",
            "\u001b[0;32m/usr/local/lib/python3.7/dist-packages/pandas/core/nanops.py\u001b[0m in \u001b[0;36mf\u001b[0;34m(values, axis, skipna, **kwds)\u001b[0m\n\u001b[1;32m    127\u001b[0m                     \u001b[0mresult\u001b[0m \u001b[0;34m=\u001b[0m \u001b[0malt\u001b[0m\u001b[0;34m(\u001b[0m\u001b[0mvalues\u001b[0m\u001b[0;34m,\u001b[0m \u001b[0maxis\u001b[0m\u001b[0;34m=\u001b[0m\u001b[0maxis\u001b[0m\u001b[0;34m,\u001b[0m \u001b[0mskipna\u001b[0m\u001b[0;34m=\u001b[0m\u001b[0mskipna\u001b[0m\u001b[0;34m,\u001b[0m \u001b[0;34m**\u001b[0m\u001b[0mkwds\u001b[0m\u001b[0;34m)\u001b[0m\u001b[0;34m\u001b[0m\u001b[0;34m\u001b[0m\u001b[0m\n\u001b[1;32m    128\u001b[0m             \u001b[0;32melse\u001b[0m\u001b[0;34m:\u001b[0m\u001b[0;34m\u001b[0m\u001b[0;34m\u001b[0m\u001b[0m\n\u001b[0;32m--> 129\u001b[0;31m                 \u001b[0mresult\u001b[0m \u001b[0;34m=\u001b[0m \u001b[0malt\u001b[0m\u001b[0;34m(\u001b[0m\u001b[0mvalues\u001b[0m\u001b[0;34m,\u001b[0m \u001b[0maxis\u001b[0m\u001b[0;34m=\u001b[0m\u001b[0maxis\u001b[0m\u001b[0;34m,\u001b[0m \u001b[0mskipna\u001b[0m\u001b[0;34m=\u001b[0m\u001b[0mskipna\u001b[0m\u001b[0;34m,\u001b[0m \u001b[0;34m**\u001b[0m\u001b[0mkwds\u001b[0m\u001b[0;34m)\u001b[0m\u001b[0;34m\u001b[0m\u001b[0;34m\u001b[0m\u001b[0m\n\u001b[0m\u001b[1;32m    130\u001b[0m \u001b[0;34m\u001b[0m\u001b[0m\n\u001b[1;32m    131\u001b[0m             \u001b[0;32mreturn\u001b[0m \u001b[0mresult\u001b[0m\u001b[0;34m\u001b[0m\u001b[0;34m\u001b[0m\u001b[0m\n",
            "\u001b[0;32m/usr/local/lib/python3.7/dist-packages/pandas/core/nanops.py\u001b[0m in \u001b[0;36mnanmean\u001b[0;34m(values, axis, skipna, mask)\u001b[0m\n\u001b[1;32m    561\u001b[0m         \u001b[0mdtype_count\u001b[0m \u001b[0;34m=\u001b[0m \u001b[0mdtype\u001b[0m\u001b[0;34m\u001b[0m\u001b[0;34m\u001b[0m\u001b[0m\n\u001b[1;32m    562\u001b[0m     \u001b[0mcount\u001b[0m \u001b[0;34m=\u001b[0m \u001b[0m_get_counts\u001b[0m\u001b[0;34m(\u001b[0m\u001b[0mvalues\u001b[0m\u001b[0;34m.\u001b[0m\u001b[0mshape\u001b[0m\u001b[0;34m,\u001b[0m \u001b[0mmask\u001b[0m\u001b[0;34m,\u001b[0m \u001b[0maxis\u001b[0m\u001b[0;34m,\u001b[0m \u001b[0mdtype\u001b[0m\u001b[0;34m=\u001b[0m\u001b[0mdtype_count\u001b[0m\u001b[0;34m)\u001b[0m\u001b[0;34m\u001b[0m\u001b[0;34m\u001b[0m\u001b[0m\n\u001b[0;32m--> 563\u001b[0;31m     \u001b[0mthe_sum\u001b[0m \u001b[0;34m=\u001b[0m \u001b[0m_ensure_numeric\u001b[0m\u001b[0;34m(\u001b[0m\u001b[0mvalues\u001b[0m\u001b[0;34m.\u001b[0m\u001b[0msum\u001b[0m\u001b[0;34m(\u001b[0m\u001b[0maxis\u001b[0m\u001b[0;34m,\u001b[0m \u001b[0mdtype\u001b[0m\u001b[0;34m=\u001b[0m\u001b[0mdtype_sum\u001b[0m\u001b[0;34m)\u001b[0m\u001b[0;34m)\u001b[0m\u001b[0;34m\u001b[0m\u001b[0;34m\u001b[0m\u001b[0m\n\u001b[0m\u001b[1;32m    564\u001b[0m \u001b[0;34m\u001b[0m\u001b[0m\n\u001b[1;32m    565\u001b[0m     \u001b[0;32mif\u001b[0m \u001b[0maxis\u001b[0m \u001b[0;32mis\u001b[0m \u001b[0;32mnot\u001b[0m \u001b[0;32mNone\u001b[0m \u001b[0;32mand\u001b[0m \u001b[0mgetattr\u001b[0m\u001b[0;34m(\u001b[0m\u001b[0mthe_sum\u001b[0m\u001b[0;34m,\u001b[0m \u001b[0;34m\"ndim\"\u001b[0m\u001b[0;34m,\u001b[0m \u001b[0;32mFalse\u001b[0m\u001b[0;34m)\u001b[0m\u001b[0;34m:\u001b[0m\u001b[0;34m\u001b[0m\u001b[0;34m\u001b[0m\u001b[0m\n",
            "\u001b[0;32m/usr/local/lib/python3.7/dist-packages/pandas/core/nanops.py\u001b[0m in \u001b[0;36m_ensure_numeric\u001b[0;34m(x)\u001b[0m\n\u001b[1;32m   1432\u001b[0m             \u001b[0;32mexcept\u001b[0m \u001b[0mValueError\u001b[0m \u001b[0;32mas\u001b[0m \u001b[0merr\u001b[0m\u001b[0;34m:\u001b[0m\u001b[0;34m\u001b[0m\u001b[0;34m\u001b[0m\u001b[0m\n\u001b[1;32m   1433\u001b[0m                 \u001b[0;31m# e.g. \"foo\"\u001b[0m\u001b[0;34m\u001b[0m\u001b[0;34m\u001b[0m\u001b[0;34m\u001b[0m\u001b[0m\n\u001b[0;32m-> 1434\u001b[0;31m                 \u001b[0;32mraise\u001b[0m \u001b[0mTypeError\u001b[0m\u001b[0;34m(\u001b[0m\u001b[0;34mf\"Could not convert {x} to numeric\"\u001b[0m\u001b[0;34m)\u001b[0m \u001b[0;32mfrom\u001b[0m \u001b[0merr\u001b[0m\u001b[0;34m\u001b[0m\u001b[0;34m\u001b[0m\u001b[0m\n\u001b[0m\u001b[1;32m   1435\u001b[0m     \u001b[0;32mreturn\u001b[0m \u001b[0mx\u001b[0m\u001b[0;34m\u001b[0m\u001b[0;34m\u001b[0m\u001b[0m\n\u001b[1;32m   1436\u001b[0m \u001b[0;34m\u001b[0m\u001b[0m\n",
            "\u001b[0;31mTypeError\u001b[0m: Could not convert 32,963.0715,131.8537,560.3713,998.2831,633.2716,920.7911,977.1335,841.0928,523.3975,233.3867,327.9239,607.2822,862.2331,110.8525,411.339,234.5115,895.8519,721.1610,710.8851,343.7555,219.3114,948.1573,846.2134,805.1334,803.8124,474.7528,571.6135,968.5026,294.5226,771.7829,967.8027,349.4059,443.8324,714.6637,706.0038,149.8515,931.5229,718.4825,259.6639,165.9226,776.3324,560.0054,050.5832,998.0025,757.6460,608.6929,774.1243,823.2030,470.5627,734.8917,593.3311,057.0637,470.7319,270.6316,582.3411,406.1723,182.4214,799.3029,474.0898,388.7725,076.6429,442.3622,973.0024,489.9344,664.4551,950.87105,929.4766,207.6640,062.4653,334.8042,446.3027,027.9330,686.0165,099.5435,690.0257,187.3072,051.8959,184.7441,460.6751,983.8560,997.1644,775.9152,977.9245,246.7439,046.8182,480.7557,258.7351,813.1385,165.1094,693.8455,232.6929,350.8560,022.5864,419.66101,282.0330,027.5488,175.0036,730.6948,567.2226,209.5443,000.1148,852.4559,465.0041,204.2353,860.1730,510.2962,077.7169,223.4742,287.4736,866.3160,448.4737,691.9662,924.0931,305.4790,836.4872,225.3164,346.6879,033.5054,446.4656,328.9064,229.6160,264.9750,977.01146,892.0044,761.5072,784.0026,258.0020,227.6631,017.0670,478.2574,093.9233,135.6826,928.5446,569.3037,752.3027,170.4622,619.0233,369.7633,355.7363,986.4027,634.8818,103.1813,479.3127,697.5716,060.6321,229.0918,847.6838,982.6620,848.2027,901.3416,739.3723,753.6617,413.7521,274.4722,336.6819,812.5014,336.6618,353.3039,209.6057,137.4548,336.1436,636..."
          ]
        }
      ]
    },
    {
      "cell_type": "markdown",
      "metadata": {
        "id": "clglNaIClIPd"
      },
      "source": [
        "Average Covered Charges, Average Total Payments, Average Medicare Payments are still non-numeric even after taking off the dollar signs in the .csv file. "
      ]
    },
    {
      "cell_type": "code",
      "metadata": {
        "colab": {
          "base_uri": "https://localhost:8080/",
          "height": 430
        },
        "id": "1XRZ2PN9laux",
        "outputId": "4aa4bba4-f647-4596-b30a-f80dfc409b41"
      },
      "source": [
        "df2['Average Covered Charges'] = pd.to_numeric(['Average Covered Charges'])"
      ],
      "execution_count": 23,
      "outputs": [
        {
          "output_type": "error",
          "ename": "ValueError",
          "evalue": "ignored",
          "traceback": [
            "\u001b[0;31m---------------------------------------------------------------------------\u001b[0m",
            "\u001b[0;31mValueError\u001b[0m                                Traceback (most recent call last)",
            "\u001b[0;32mpandas/_libs/lib.pyx\u001b[0m in \u001b[0;36mpandas._libs.lib.maybe_convert_numeric\u001b[0;34m()\u001b[0m\n",
            "\u001b[0;31mValueError\u001b[0m: Unable to parse string \"Average Covered Charges\"",
            "\nDuring handling of the above exception, another exception occurred:\n",
            "\u001b[0;31mValueError\u001b[0m                                Traceback (most recent call last)",
            "\u001b[0;32m<ipython-input-23-cdf3422d9f0a>\u001b[0m in \u001b[0;36m<module>\u001b[0;34m()\u001b[0m\n\u001b[0;32m----> 1\u001b[0;31m \u001b[0mdf2\u001b[0m\u001b[0;34m[\u001b[0m\u001b[0;34m'Average Covered Charges'\u001b[0m\u001b[0;34m]\u001b[0m \u001b[0;34m=\u001b[0m \u001b[0mpd\u001b[0m\u001b[0;34m.\u001b[0m\u001b[0mto_numeric\u001b[0m\u001b[0;34m(\u001b[0m\u001b[0;34m[\u001b[0m\u001b[0;34m'Average Covered Charges'\u001b[0m\u001b[0;34m]\u001b[0m\u001b[0;34m)\u001b[0m\u001b[0;34m\u001b[0m\u001b[0;34m\u001b[0m\u001b[0m\n\u001b[0m",
            "\u001b[0;32m/usr/local/lib/python3.7/dist-packages/pandas/core/tools/numeric.py\u001b[0m in \u001b[0;36mto_numeric\u001b[0;34m(arg, errors, downcast)\u001b[0m\n\u001b[1;32m    151\u001b[0m         \u001b[0;32mtry\u001b[0m\u001b[0;34m:\u001b[0m\u001b[0;34m\u001b[0m\u001b[0;34m\u001b[0m\u001b[0m\n\u001b[1;32m    152\u001b[0m             values = lib.maybe_convert_numeric(\n\u001b[0;32m--> 153\u001b[0;31m                 \u001b[0mvalues\u001b[0m\u001b[0;34m,\u001b[0m \u001b[0mset\u001b[0m\u001b[0;34m(\u001b[0m\u001b[0;34m)\u001b[0m\u001b[0;34m,\u001b[0m \u001b[0mcoerce_numeric\u001b[0m\u001b[0;34m=\u001b[0m\u001b[0mcoerce_numeric\u001b[0m\u001b[0;34m\u001b[0m\u001b[0;34m\u001b[0m\u001b[0m\n\u001b[0m\u001b[1;32m    154\u001b[0m             )\n\u001b[1;32m    155\u001b[0m         \u001b[0;32mexcept\u001b[0m \u001b[0;34m(\u001b[0m\u001b[0mValueError\u001b[0m\u001b[0;34m,\u001b[0m \u001b[0mTypeError\u001b[0m\u001b[0;34m)\u001b[0m\u001b[0;34m:\u001b[0m\u001b[0;34m\u001b[0m\u001b[0;34m\u001b[0m\u001b[0m\n",
            "\u001b[0;32mpandas/_libs/lib.pyx\u001b[0m in \u001b[0;36mpandas._libs.lib.maybe_convert_numeric\u001b[0;34m()\u001b[0m\n",
            "\u001b[0;31mValueError\u001b[0m: Unable to parse string \"Average Covered Charges\" at position 0"
          ]
        }
      ]
    },
    {
      "cell_type": "markdown",
      "metadata": {
        "id": "Tdr5uYGnqggw"
      },
      "source": [
        "Convert Average Covered Charges to number"
      ]
    },
    {
      "cell_type": "code",
      "metadata": {
        "colab": {
          "base_uri": "https://localhost:8080/"
        },
        "id": "A-9cfFldoqSN",
        "outputId": "7be0ddba-b0af-46c8-ed06-d12283e8449a"
      },
      "source": [
        "df3 = df['Average Covered Charges'].str.extract(r'^(\\d{4})', expand=False)\n",
        "df3.head()"
      ],
      "execution_count": 25,
      "outputs": [
        {
          "output_type": "execute_result",
          "data": {
            "text/plain": [
              "0    NaN\n",
              "1    NaN\n",
              "2    NaN\n",
              "3    NaN\n",
              "4    NaN\n",
              "Name: Average Covered Charges, dtype: object"
            ]
          },
          "metadata": {
            "tags": []
          },
          "execution_count": 25
        }
      ]
    },
    {
      "cell_type": "code",
      "metadata": {
        "colab": {
          "base_uri": "https://localhost:8080/"
        },
        "id": "odPw4ESapkaf",
        "outputId": "1cd9cfb8-f068-4a1a-ccf0-c5e77e03901a"
      },
      "source": [
        "df2['Average Covered Charges'] = pd.to_numeric(df3)\n",
        "df2['Average Covered Charges'].dtype"
      ],
      "execution_count": 28,
      "outputs": [
        {
          "output_type": "execute_result",
          "data": {
            "text/plain": [
              "dtype('float64')"
            ]
          },
          "metadata": {
            "tags": []
          },
          "execution_count": 28
        }
      ]
    },
    {
      "cell_type": "code",
      "metadata": {
        "id": "bgYSY0e0qmTB"
      },
      "source": [
        "# Convert 'Average Total Payments' and 'Average Medicare Payments' to numbers\n",
        "df4 =  df2['Average Total Payments'].str.extract(r'^(\\d{4})', expand=False)\n",
        "df5 =  df2['Average Medicare Payments'].str.extract(r'^(\\d{4})', expand=False)\n",
        "df2['Average Total Payments'] = pd.to_numeric(df4)\n",
        "df2['Average Medicare Payments'] = pd.to_numeric(df5)"
      ],
      "execution_count": 30,
      "outputs": []
    },
    {
      "cell_type": "code",
      "metadata": {
        "colab": {
          "base_uri": "https://localhost:8080/",
          "height": 295
        },
        "id": "SKpRTMHLzye0",
        "outputId": "2b45282a-896c-47df-be23-550104d49b08"
      },
      "source": [
        "df2.describe()"
      ],
      "execution_count": 31,
      "outputs": [
        {
          "output_type": "execute_result",
          "data": {
            "text/html": [
              "<div>\n",
              "<style scoped>\n",
              "    .dataframe tbody tr th:only-of-type {\n",
              "        vertical-align: middle;\n",
              "    }\n",
              "\n",
              "    .dataframe tbody tr th {\n",
              "        vertical-align: top;\n",
              "    }\n",
              "\n",
              "    .dataframe thead th {\n",
              "        text-align: right;\n",
              "    }\n",
              "</style>\n",
              "<table border=\"1\" class=\"dataframe\">\n",
              "  <thead>\n",
              "    <tr style=\"text-align: right;\">\n",
              "      <th></th>\n",
              "      <th>DRG Code</th>\n",
              "      <th>Provider Id</th>\n",
              "      <th>Provider Zip Code</th>\n",
              "      <th>Total Discharges</th>\n",
              "      <th>Average Covered Charges</th>\n",
              "      <th>Average Total Payments</th>\n",
              "      <th>Average Medicare Payments</th>\n",
              "      <th>Unnamed: 13</th>\n",
              "      <th>Unnamed: 14</th>\n",
              "    </tr>\n",
              "  </thead>\n",
              "  <tbody>\n",
              "    <tr>\n",
              "      <th>count</th>\n",
              "      <td>163065.000000</td>\n",
              "      <td>163065.000000</td>\n",
              "      <td>163065.000000</td>\n",
              "      <td>163065.000000</td>\n",
              "      <td>0.0</td>\n",
              "      <td>0.0</td>\n",
              "      <td>0.0</td>\n",
              "      <td>0.0</td>\n",
              "      <td>0.0</td>\n",
              "    </tr>\n",
              "    <tr>\n",
              "      <th>mean</th>\n",
              "      <td>395.722792</td>\n",
              "      <td>255569.865428</td>\n",
              "      <td>47938.121908</td>\n",
              "      <td>42.776304</td>\n",
              "      <td>NaN</td>\n",
              "      <td>NaN</td>\n",
              "      <td>NaN</td>\n",
              "      <td>NaN</td>\n",
              "      <td>NaN</td>\n",
              "    </tr>\n",
              "    <tr>\n",
              "      <th>std</th>\n",
              "      <td>232.113021</td>\n",
              "      <td>151563.671767</td>\n",
              "      <td>27854.323080</td>\n",
              "      <td>51.104042</td>\n",
              "      <td>NaN</td>\n",
              "      <td>NaN</td>\n",
              "      <td>NaN</td>\n",
              "      <td>NaN</td>\n",
              "      <td>NaN</td>\n",
              "    </tr>\n",
              "    <tr>\n",
              "      <th>min</th>\n",
              "      <td>39.000000</td>\n",
              "      <td>10001.000000</td>\n",
              "      <td>1040.000000</td>\n",
              "      <td>11.000000</td>\n",
              "      <td>NaN</td>\n",
              "      <td>NaN</td>\n",
              "      <td>NaN</td>\n",
              "      <td>NaN</td>\n",
              "      <td>NaN</td>\n",
              "    </tr>\n",
              "    <tr>\n",
              "      <th>25%</th>\n",
              "      <td>208.000000</td>\n",
              "      <td>110092.000000</td>\n",
              "      <td>27261.000000</td>\n",
              "      <td>17.000000</td>\n",
              "      <td>NaN</td>\n",
              "      <td>NaN</td>\n",
              "      <td>NaN</td>\n",
              "      <td>NaN</td>\n",
              "      <td>NaN</td>\n",
              "    </tr>\n",
              "    <tr>\n",
              "      <th>50%</th>\n",
              "      <td>312.000000</td>\n",
              "      <td>250007.000000</td>\n",
              "      <td>44309.000000</td>\n",
              "      <td>27.000000</td>\n",
              "      <td>NaN</td>\n",
              "      <td>NaN</td>\n",
              "      <td>NaN</td>\n",
              "      <td>NaN</td>\n",
              "      <td>NaN</td>\n",
              "    </tr>\n",
              "    <tr>\n",
              "      <th>75%</th>\n",
              "      <td>552.000000</td>\n",
              "      <td>380075.000000</td>\n",
              "      <td>72901.000000</td>\n",
              "      <td>49.000000</td>\n",
              "      <td>NaN</td>\n",
              "      <td>NaN</td>\n",
              "      <td>NaN</td>\n",
              "      <td>NaN</td>\n",
              "      <td>NaN</td>\n",
              "    </tr>\n",
              "    <tr>\n",
              "      <th>max</th>\n",
              "      <td>948.000000</td>\n",
              "      <td>670077.000000</td>\n",
              "      <td>99835.000000</td>\n",
              "      <td>3383.000000</td>\n",
              "      <td>NaN</td>\n",
              "      <td>NaN</td>\n",
              "      <td>NaN</td>\n",
              "      <td>NaN</td>\n",
              "      <td>NaN</td>\n",
              "    </tr>\n",
              "  </tbody>\n",
              "</table>\n",
              "</div>"
            ],
            "text/plain": [
              "            DRG Code    Provider Id  ...  Unnamed: 13  Unnamed: 14\n",
              "count  163065.000000  163065.000000  ...          0.0          0.0\n",
              "mean      395.722792  255569.865428  ...          NaN          NaN\n",
              "std       232.113021  151563.671767  ...          NaN          NaN\n",
              "min        39.000000   10001.000000  ...          NaN          NaN\n",
              "25%       208.000000  110092.000000  ...          NaN          NaN\n",
              "50%       312.000000  250007.000000  ...          NaN          NaN\n",
              "75%       552.000000  380075.000000  ...          NaN          NaN\n",
              "max       948.000000  670077.000000  ...          NaN          NaN\n",
              "\n",
              "[8 rows x 9 columns]"
            ]
          },
          "metadata": {
            "tags": []
          },
          "execution_count": 31
        }
      ]
    },
    {
      "cell_type": "code",
      "metadata": {
        "colab": {
          "base_uri": "https://localhost:8080/"
        },
        "id": "d-Bg8k_h0Hdv",
        "outputId": "6a6643b6-c37e-4d18-8f81-78de3be1e1ae"
      },
      "source": [
        "df2['Average Medicare Payments'].dtype"
      ],
      "execution_count": 32,
      "outputs": [
        {
          "output_type": "execute_result",
          "data": {
            "text/plain": [
              "dtype('float64')"
            ]
          },
          "metadata": {
            "tags": []
          },
          "execution_count": 32
        }
      ]
    },
    {
      "cell_type": "code",
      "metadata": {
        "colab": {
          "base_uri": "https://localhost:8080/"
        },
        "id": "xzOdcrlR0VwK",
        "outputId": "c50dbfa4-723a-4c25-dc08-12debb08bb36"
      },
      "source": [
        "df2['Average Total Payments'].dtype"
      ],
      "execution_count": 34,
      "outputs": [
        {
          "output_type": "execute_result",
          "data": {
            "text/plain": [
              "dtype('float64')"
            ]
          },
          "metadata": {
            "tags": []
          },
          "execution_count": 34
        }
      ]
    },
    {
      "cell_type": "code",
      "metadata": {
        "colab": {
          "base_uri": "https://localhost:8080/"
        },
        "id": "_yapTcnu0dWh",
        "outputId": "93572e34-730c-4333-ae7f-52dd62a0fe89"
      },
      "source": [
        "df2['Average Medicare Payments'].mean()"
      ],
      "execution_count": 36,
      "outputs": [
        {
          "output_type": "execute_result",
          "data": {
            "text/plain": [
              "nan"
            ]
          },
          "metadata": {
            "tags": []
          },
          "execution_count": 36
        }
      ]
    },
    {
      "cell_type": "code",
      "metadata": {
        "colab": {
          "base_uri": "https://localhost:8080/",
          "height": 506
        },
        "id": "bMRIdBjp1uRe",
        "outputId": "7ec37a7a-d972-485a-b4ce-8a0c9e34ffc4"
      },
      "source": [
        "df2.head()"
      ],
      "execution_count": 37,
      "outputs": [
        {
          "output_type": "execute_result",
          "data": {
            "text/html": [
              "<div>\n",
              "<style scoped>\n",
              "    .dataframe tbody tr th:only-of-type {\n",
              "        vertical-align: middle;\n",
              "    }\n",
              "\n",
              "    .dataframe tbody tr th {\n",
              "        vertical-align: top;\n",
              "    }\n",
              "\n",
              "    .dataframe thead th {\n",
              "        text-align: right;\n",
              "    }\n",
              "</style>\n",
              "<table border=\"1\" class=\"dataframe\">\n",
              "  <thead>\n",
              "    <tr style=\"text-align: right;\">\n",
              "      <th></th>\n",
              "      <th>DRG Code</th>\n",
              "      <th>DRG Definition</th>\n",
              "      <th>Provider Id</th>\n",
              "      <th>Provider Name</th>\n",
              "      <th>Provider Street Address</th>\n",
              "      <th>Provider City</th>\n",
              "      <th>Provider State</th>\n",
              "      <th>Provider Zip Code</th>\n",
              "      <th>Hospital Referral Region Description</th>\n",
              "      <th>Total Discharges</th>\n",
              "      <th>Average Covered Charges</th>\n",
              "      <th>Average Total Payments</th>\n",
              "      <th>Average Medicare Payments</th>\n",
              "      <th>Unnamed: 13</th>\n",
              "      <th>Unnamed: 14</th>\n",
              "    </tr>\n",
              "  </thead>\n",
              "  <tbody>\n",
              "    <tr>\n",
              "      <th>0</th>\n",
              "      <td>39</td>\n",
              "      <td>039 - EXTRACRANIAL PROCEDURES W/O CC/MCC</td>\n",
              "      <td>10001</td>\n",
              "      <td>SOUTHEAST ALABAMA MEDICAL CENTER</td>\n",
              "      <td>1108 ROSS CLARK CIRCLE</td>\n",
              "      <td>DOTHAN</td>\n",
              "      <td>AL</td>\n",
              "      <td>36301</td>\n",
              "      <td>AL - Dothan</td>\n",
              "      <td>91</td>\n",
              "      <td>NaN</td>\n",
              "      <td>NaN</td>\n",
              "      <td>NaN</td>\n",
              "      <td>NaN</td>\n",
              "      <td>NaN</td>\n",
              "    </tr>\n",
              "    <tr>\n",
              "      <th>1</th>\n",
              "      <td>39</td>\n",
              "      <td>039 - EXTRACRANIAL PROCEDURES W/O CC/MCC</td>\n",
              "      <td>10005</td>\n",
              "      <td>MARSHALL MEDICAL CENTER SOUTH</td>\n",
              "      <td>2505 U S HIGHWAY 431 NORTH</td>\n",
              "      <td>BOAZ</td>\n",
              "      <td>AL</td>\n",
              "      <td>35957</td>\n",
              "      <td>AL - Birmingham</td>\n",
              "      <td>14</td>\n",
              "      <td>NaN</td>\n",
              "      <td>NaN</td>\n",
              "      <td>NaN</td>\n",
              "      <td>NaN</td>\n",
              "      <td>NaN</td>\n",
              "    </tr>\n",
              "    <tr>\n",
              "      <th>2</th>\n",
              "      <td>39</td>\n",
              "      <td>039 - EXTRACRANIAL PROCEDURES W/O CC/MCC</td>\n",
              "      <td>10006</td>\n",
              "      <td>ELIZA COFFEE MEMORIAL HOSPITAL</td>\n",
              "      <td>205 MARENGO STREET</td>\n",
              "      <td>FLORENCE</td>\n",
              "      <td>AL</td>\n",
              "      <td>35631</td>\n",
              "      <td>AL - Birmingham</td>\n",
              "      <td>24</td>\n",
              "      <td>NaN</td>\n",
              "      <td>NaN</td>\n",
              "      <td>NaN</td>\n",
              "      <td>NaN</td>\n",
              "      <td>NaN</td>\n",
              "    </tr>\n",
              "    <tr>\n",
              "      <th>3</th>\n",
              "      <td>39</td>\n",
              "      <td>039 - EXTRACRANIAL PROCEDURES W/O CC/MCC</td>\n",
              "      <td>10011</td>\n",
              "      <td>ST VINCENT'S EAST</td>\n",
              "      <td>50 MEDICAL PARK EAST DRIVE</td>\n",
              "      <td>BIRMINGHAM</td>\n",
              "      <td>AL</td>\n",
              "      <td>35235</td>\n",
              "      <td>AL - Birmingham</td>\n",
              "      <td>25</td>\n",
              "      <td>NaN</td>\n",
              "      <td>NaN</td>\n",
              "      <td>NaN</td>\n",
              "      <td>NaN</td>\n",
              "      <td>NaN</td>\n",
              "    </tr>\n",
              "    <tr>\n",
              "      <th>4</th>\n",
              "      <td>39</td>\n",
              "      <td>039 - EXTRACRANIAL PROCEDURES W/O CC/MCC</td>\n",
              "      <td>10016</td>\n",
              "      <td>SHELBY BAPTIST MEDICAL CENTER</td>\n",
              "      <td>1000 FIRST STREET NORTH</td>\n",
              "      <td>ALABASTER</td>\n",
              "      <td>AL</td>\n",
              "      <td>35007</td>\n",
              "      <td>AL - Birmingham</td>\n",
              "      <td>18</td>\n",
              "      <td>NaN</td>\n",
              "      <td>NaN</td>\n",
              "      <td>NaN</td>\n",
              "      <td>NaN</td>\n",
              "      <td>NaN</td>\n",
              "    </tr>\n",
              "  </tbody>\n",
              "</table>\n",
              "</div>"
            ],
            "text/plain": [
              "   DRG Code                            DRG Definition  ...  Unnamed: 13 Unnamed: 14\n",
              "0        39  039 - EXTRACRANIAL PROCEDURES W/O CC/MCC  ...          NaN         NaN\n",
              "1        39  039 - EXTRACRANIAL PROCEDURES W/O CC/MCC  ...          NaN         NaN\n",
              "2        39  039 - EXTRACRANIAL PROCEDURES W/O CC/MCC  ...          NaN         NaN\n",
              "3        39  039 - EXTRACRANIAL PROCEDURES W/O CC/MCC  ...          NaN         NaN\n",
              "4        39  039 - EXTRACRANIAL PROCEDURES W/O CC/MCC  ...          NaN         NaN\n",
              "\n",
              "[5 rows x 15 columns]"
            ]
          },
          "metadata": {
            "tags": []
          },
          "execution_count": 37
        }
      ]
    },
    {
      "cell_type": "markdown",
      "metadata": {
        "id": "CfoV7yEQ16r-"
      },
      "source": [
        "Average Covered Charges, Average Total Payments, Average Medicare Payments are all NaN. Must reload file. "
      ]
    },
    {
      "cell_type": "code",
      "metadata": {
        "colab": {
          "base_uri": "https://localhost:8080/",
          "height": 506
        },
        "id": "Jcm1_V352QCK",
        "outputId": "4e0267c5-123d-41ad-c058-1c6e57b9ed16"
      },
      "source": [
        "df2 = pd.read_csv('/content/drive/MyDrive/Colab Notebooks/v2 Hospital_Charges_In_America_Dhiraj_Kaggle.csv')\n",
        "df2.head()"
      ],
      "execution_count": 45,
      "outputs": [
        {
          "output_type": "execute_result",
          "data": {
            "text/html": [
              "<div>\n",
              "<style scoped>\n",
              "    .dataframe tbody tr th:only-of-type {\n",
              "        vertical-align: middle;\n",
              "    }\n",
              "\n",
              "    .dataframe tbody tr th {\n",
              "        vertical-align: top;\n",
              "    }\n",
              "\n",
              "    .dataframe thead th {\n",
              "        text-align: right;\n",
              "    }\n",
              "</style>\n",
              "<table border=\"1\" class=\"dataframe\">\n",
              "  <thead>\n",
              "    <tr style=\"text-align: right;\">\n",
              "      <th></th>\n",
              "      <th>DRG Code</th>\n",
              "      <th>DRG Definition</th>\n",
              "      <th>Provider Id</th>\n",
              "      <th>Provider Name</th>\n",
              "      <th>Provider Street Address</th>\n",
              "      <th>Provider City</th>\n",
              "      <th>Provider State</th>\n",
              "      <th>Provider Zip Code</th>\n",
              "      <th>Hospital Referral Region Description</th>\n",
              "      <th>Total Discharges</th>\n",
              "      <th>Average Covered Charges</th>\n",
              "      <th>Average Total Payments</th>\n",
              "      <th>Average Medicare Payments</th>\n",
              "      <th>Unnamed: 13</th>\n",
              "      <th>Unnamed: 14</th>\n",
              "    </tr>\n",
              "  </thead>\n",
              "  <tbody>\n",
              "    <tr>\n",
              "      <th>0</th>\n",
              "      <td>39</td>\n",
              "      <td>039 - EXTRACRANIAL PROCEDURES W/O CC/MCC</td>\n",
              "      <td>10001</td>\n",
              "      <td>SOUTHEAST ALABAMA MEDICAL CENTER</td>\n",
              "      <td>1108 ROSS CLARK CIRCLE</td>\n",
              "      <td>DOTHAN</td>\n",
              "      <td>AL</td>\n",
              "      <td>36301</td>\n",
              "      <td>AL - Dothan</td>\n",
              "      <td>91</td>\n",
              "      <td>32,963.07</td>\n",
              "      <td>5,777.24</td>\n",
              "      <td>4,763.73</td>\n",
              "      <td>NaN</td>\n",
              "      <td>NaN</td>\n",
              "    </tr>\n",
              "    <tr>\n",
              "      <th>1</th>\n",
              "      <td>39</td>\n",
              "      <td>039 - EXTRACRANIAL PROCEDURES W/O CC/MCC</td>\n",
              "      <td>10005</td>\n",
              "      <td>MARSHALL MEDICAL CENTER SOUTH</td>\n",
              "      <td>2505 U S HIGHWAY 431 NORTH</td>\n",
              "      <td>BOAZ</td>\n",
              "      <td>AL</td>\n",
              "      <td>35957</td>\n",
              "      <td>AL - Birmingham</td>\n",
              "      <td>14</td>\n",
              "      <td>15,131.85</td>\n",
              "      <td>5,787.57</td>\n",
              "      <td>4,976.71</td>\n",
              "      <td>NaN</td>\n",
              "      <td>NaN</td>\n",
              "    </tr>\n",
              "    <tr>\n",
              "      <th>2</th>\n",
              "      <td>39</td>\n",
              "      <td>039 - EXTRACRANIAL PROCEDURES W/O CC/MCC</td>\n",
              "      <td>10006</td>\n",
              "      <td>ELIZA COFFEE MEMORIAL HOSPITAL</td>\n",
              "      <td>205 MARENGO STREET</td>\n",
              "      <td>FLORENCE</td>\n",
              "      <td>AL</td>\n",
              "      <td>35631</td>\n",
              "      <td>AL - Birmingham</td>\n",
              "      <td>24</td>\n",
              "      <td>37,560.37</td>\n",
              "      <td>5,434.95</td>\n",
              "      <td>4,453.79</td>\n",
              "      <td>NaN</td>\n",
              "      <td>NaN</td>\n",
              "    </tr>\n",
              "    <tr>\n",
              "      <th>3</th>\n",
              "      <td>39</td>\n",
              "      <td>039 - EXTRACRANIAL PROCEDURES W/O CC/MCC</td>\n",
              "      <td>10011</td>\n",
              "      <td>ST VINCENT'S EAST</td>\n",
              "      <td>50 MEDICAL PARK EAST DRIVE</td>\n",
              "      <td>BIRMINGHAM</td>\n",
              "      <td>AL</td>\n",
              "      <td>35235</td>\n",
              "      <td>AL - Birmingham</td>\n",
              "      <td>25</td>\n",
              "      <td>13,998.28</td>\n",
              "      <td>5,417.56</td>\n",
              "      <td>4,129.16</td>\n",
              "      <td>NaN</td>\n",
              "      <td>NaN</td>\n",
              "    </tr>\n",
              "    <tr>\n",
              "      <th>4</th>\n",
              "      <td>39</td>\n",
              "      <td>039 - EXTRACRANIAL PROCEDURES W/O CC/MCC</td>\n",
              "      <td>10016</td>\n",
              "      <td>SHELBY BAPTIST MEDICAL CENTER</td>\n",
              "      <td>1000 FIRST STREET NORTH</td>\n",
              "      <td>ALABASTER</td>\n",
              "      <td>AL</td>\n",
              "      <td>35007</td>\n",
              "      <td>AL - Birmingham</td>\n",
              "      <td>18</td>\n",
              "      <td>31,633.27</td>\n",
              "      <td>5,658.33</td>\n",
              "      <td>4,851.44</td>\n",
              "      <td>NaN</td>\n",
              "      <td>NaN</td>\n",
              "    </tr>\n",
              "  </tbody>\n",
              "</table>\n",
              "</div>"
            ],
            "text/plain": [
              "   DRG Code                            DRG Definition  ...  Unnamed: 13 Unnamed: 14\n",
              "0        39  039 - EXTRACRANIAL PROCEDURES W/O CC/MCC  ...          NaN         NaN\n",
              "1        39  039 - EXTRACRANIAL PROCEDURES W/O CC/MCC  ...          NaN         NaN\n",
              "2        39  039 - EXTRACRANIAL PROCEDURES W/O CC/MCC  ...          NaN         NaN\n",
              "3        39  039 - EXTRACRANIAL PROCEDURES W/O CC/MCC  ...          NaN         NaN\n",
              "4        39  039 - EXTRACRANIAL PROCEDURES W/O CC/MCC  ...          NaN         NaN\n",
              "\n",
              "[5 rows x 15 columns]"
            ]
          },
          "metadata": {
            "tags": []
          },
          "execution_count": 45
        }
      ]
    },
    {
      "cell_type": "code",
      "metadata": {
        "colab": {
          "base_uri": "https://localhost:8080/",
          "height": 295
        },
        "id": "SsrkR2pA2bPa",
        "outputId": "1352e000-413b-4059-91d5-02f0cc62c9d7"
      },
      "source": [
        "df2.describe()"
      ],
      "execution_count": 46,
      "outputs": [
        {
          "output_type": "execute_result",
          "data": {
            "text/html": [
              "<div>\n",
              "<style scoped>\n",
              "    .dataframe tbody tr th:only-of-type {\n",
              "        vertical-align: middle;\n",
              "    }\n",
              "\n",
              "    .dataframe tbody tr th {\n",
              "        vertical-align: top;\n",
              "    }\n",
              "\n",
              "    .dataframe thead th {\n",
              "        text-align: right;\n",
              "    }\n",
              "</style>\n",
              "<table border=\"1\" class=\"dataframe\">\n",
              "  <thead>\n",
              "    <tr style=\"text-align: right;\">\n",
              "      <th></th>\n",
              "      <th>DRG Code</th>\n",
              "      <th>Provider Id</th>\n",
              "      <th>Provider Zip Code</th>\n",
              "      <th>Total Discharges</th>\n",
              "      <th>Unnamed: 13</th>\n",
              "      <th>Unnamed: 14</th>\n",
              "    </tr>\n",
              "  </thead>\n",
              "  <tbody>\n",
              "    <tr>\n",
              "      <th>count</th>\n",
              "      <td>163065.000000</td>\n",
              "      <td>163065.000000</td>\n",
              "      <td>163065.000000</td>\n",
              "      <td>163065.000000</td>\n",
              "      <td>0.0</td>\n",
              "      <td>0.0</td>\n",
              "    </tr>\n",
              "    <tr>\n",
              "      <th>mean</th>\n",
              "      <td>395.722792</td>\n",
              "      <td>255569.865428</td>\n",
              "      <td>47938.121908</td>\n",
              "      <td>42.776304</td>\n",
              "      <td>NaN</td>\n",
              "      <td>NaN</td>\n",
              "    </tr>\n",
              "    <tr>\n",
              "      <th>std</th>\n",
              "      <td>232.113021</td>\n",
              "      <td>151563.671767</td>\n",
              "      <td>27854.323080</td>\n",
              "      <td>51.104042</td>\n",
              "      <td>NaN</td>\n",
              "      <td>NaN</td>\n",
              "    </tr>\n",
              "    <tr>\n",
              "      <th>min</th>\n",
              "      <td>39.000000</td>\n",
              "      <td>10001.000000</td>\n",
              "      <td>1040.000000</td>\n",
              "      <td>11.000000</td>\n",
              "      <td>NaN</td>\n",
              "      <td>NaN</td>\n",
              "    </tr>\n",
              "    <tr>\n",
              "      <th>25%</th>\n",
              "      <td>208.000000</td>\n",
              "      <td>110092.000000</td>\n",
              "      <td>27261.000000</td>\n",
              "      <td>17.000000</td>\n",
              "      <td>NaN</td>\n",
              "      <td>NaN</td>\n",
              "    </tr>\n",
              "    <tr>\n",
              "      <th>50%</th>\n",
              "      <td>312.000000</td>\n",
              "      <td>250007.000000</td>\n",
              "      <td>44309.000000</td>\n",
              "      <td>27.000000</td>\n",
              "      <td>NaN</td>\n",
              "      <td>NaN</td>\n",
              "    </tr>\n",
              "    <tr>\n",
              "      <th>75%</th>\n",
              "      <td>552.000000</td>\n",
              "      <td>380075.000000</td>\n",
              "      <td>72901.000000</td>\n",
              "      <td>49.000000</td>\n",
              "      <td>NaN</td>\n",
              "      <td>NaN</td>\n",
              "    </tr>\n",
              "    <tr>\n",
              "      <th>max</th>\n",
              "      <td>948.000000</td>\n",
              "      <td>670077.000000</td>\n",
              "      <td>99835.000000</td>\n",
              "      <td>3383.000000</td>\n",
              "      <td>NaN</td>\n",
              "      <td>NaN</td>\n",
              "    </tr>\n",
              "  </tbody>\n",
              "</table>\n",
              "</div>"
            ],
            "text/plain": [
              "            DRG Code    Provider Id  ...  Unnamed: 13  Unnamed: 14\n",
              "count  163065.000000  163065.000000  ...          0.0          0.0\n",
              "mean      395.722792  255569.865428  ...          NaN          NaN\n",
              "std       232.113021  151563.671767  ...          NaN          NaN\n",
              "min        39.000000   10001.000000  ...          NaN          NaN\n",
              "25%       208.000000  110092.000000  ...          NaN          NaN\n",
              "50%       312.000000  250007.000000  ...          NaN          NaN\n",
              "75%       552.000000  380075.000000  ...          NaN          NaN\n",
              "max       948.000000  670077.000000  ...          NaN          NaN\n",
              "\n",
              "[8 rows x 6 columns]"
            ]
          },
          "metadata": {
            "tags": []
          },
          "execution_count": 46
        }
      ]
    },
    {
      "cell_type": "code",
      "metadata": {
        "colab": {
          "base_uri": "https://localhost:8080/"
        },
        "id": "Tdc7KjUX2k7G",
        "outputId": "4d5f2f9c-0be2-4d56-cccf-69e59252b033"
      },
      "source": [
        "df2.dtypes"
      ],
      "execution_count": 48,
      "outputs": [
        {
          "output_type": "execute_result",
          "data": {
            "text/plain": [
              "DRG Code                                  int64\n",
              "DRG Definition                           object\n",
              "Provider Id                               int64\n",
              "Provider Name                            object\n",
              "Provider Street Address                  object\n",
              "Provider City                            object\n",
              "Provider State                           object\n",
              "Provider Zip Code                         int64\n",
              "Hospital Referral Region Description     object\n",
              "Total Discharges                          int64\n",
              "Average Covered Charges                  object\n",
              "Average Total Payments                   object\n",
              "Average Medicare Payments               float64\n",
              "Unnamed: 13                             float64\n",
              "Unnamed: 14                             float64\n",
              "dtype: object"
            ]
          },
          "metadata": {
            "tags": []
          },
          "execution_count": 48
        }
      ]
    },
    {
      "cell_type": "code",
      "metadata": {
        "colab": {
          "base_uri": "https://localhost:8080/",
          "height": 447
        },
        "id": "p2BSjhAb6szp",
        "outputId": "807f80ab-07cf-4ed5-b44f-c51e2f39eb12"
      },
      "source": [
        "df5 =  df2['Average Medicare Payments']\n",
        "df2['Average Medicare Payments'] = pd.to_numeric(df5)"
      ],
      "execution_count": 42,
      "outputs": [
        {
          "output_type": "error",
          "ename": "ValueError",
          "evalue": "ignored",
          "traceback": [
            "\u001b[0;31m---------------------------------------------------------------------------\u001b[0m",
            "\u001b[0;31mValueError\u001b[0m                                Traceback (most recent call last)",
            "\u001b[0;32mpandas/_libs/lib.pyx\u001b[0m in \u001b[0;36mpandas._libs.lib.maybe_convert_numeric\u001b[0;34m()\u001b[0m\n",
            "\u001b[0;31mValueError\u001b[0m: Unable to parse string \"4,763.73\"",
            "\nDuring handling of the above exception, another exception occurred:\n",
            "\u001b[0;31mValueError\u001b[0m                                Traceback (most recent call last)",
            "\u001b[0;32m<ipython-input-42-df1be974e1ce>\u001b[0m in \u001b[0;36m<module>\u001b[0;34m()\u001b[0m\n\u001b[1;32m      1\u001b[0m \u001b[0mdf5\u001b[0m \u001b[0;34m=\u001b[0m  \u001b[0mdf2\u001b[0m\u001b[0;34m[\u001b[0m\u001b[0;34m'Average Medicare Payments'\u001b[0m\u001b[0;34m]\u001b[0m\u001b[0;34m\u001b[0m\u001b[0;34m\u001b[0m\u001b[0m\n\u001b[0;32m----> 2\u001b[0;31m \u001b[0mdf2\u001b[0m\u001b[0;34m[\u001b[0m\u001b[0;34m'Average Medicare Payments'\u001b[0m\u001b[0;34m]\u001b[0m \u001b[0;34m=\u001b[0m \u001b[0mpd\u001b[0m\u001b[0;34m.\u001b[0m\u001b[0mto_numeric\u001b[0m\u001b[0;34m(\u001b[0m\u001b[0mdf5\u001b[0m\u001b[0;34m)\u001b[0m\u001b[0;34m\u001b[0m\u001b[0;34m\u001b[0m\u001b[0m\n\u001b[0m",
            "\u001b[0;32m/usr/local/lib/python3.7/dist-packages/pandas/core/tools/numeric.py\u001b[0m in \u001b[0;36mto_numeric\u001b[0;34m(arg, errors, downcast)\u001b[0m\n\u001b[1;32m    151\u001b[0m         \u001b[0;32mtry\u001b[0m\u001b[0;34m:\u001b[0m\u001b[0;34m\u001b[0m\u001b[0;34m\u001b[0m\u001b[0m\n\u001b[1;32m    152\u001b[0m             values = lib.maybe_convert_numeric(\n\u001b[0;32m--> 153\u001b[0;31m                 \u001b[0mvalues\u001b[0m\u001b[0;34m,\u001b[0m \u001b[0mset\u001b[0m\u001b[0;34m(\u001b[0m\u001b[0;34m)\u001b[0m\u001b[0;34m,\u001b[0m \u001b[0mcoerce_numeric\u001b[0m\u001b[0;34m=\u001b[0m\u001b[0mcoerce_numeric\u001b[0m\u001b[0;34m\u001b[0m\u001b[0;34m\u001b[0m\u001b[0m\n\u001b[0m\u001b[1;32m    154\u001b[0m             )\n\u001b[1;32m    155\u001b[0m         \u001b[0;32mexcept\u001b[0m \u001b[0;34m(\u001b[0m\u001b[0mValueError\u001b[0m\u001b[0;34m,\u001b[0m \u001b[0mTypeError\u001b[0m\u001b[0;34m)\u001b[0m\u001b[0;34m:\u001b[0m\u001b[0;34m\u001b[0m\u001b[0;34m\u001b[0m\u001b[0m\n",
            "\u001b[0;32mpandas/_libs/lib.pyx\u001b[0m in \u001b[0;36mpandas._libs.lib.maybe_convert_numeric\u001b[0;34m()\u001b[0m\n",
            "\u001b[0;31mValueError\u001b[0m: Unable to parse string \"4,763.73\" at position 0"
          ]
        }
      ]
    },
    {
      "cell_type": "code",
      "metadata": {
        "colab": {
          "base_uri": "https://localhost:8080/",
          "height": 506
        },
        "id": "lIUHfU2s8I2N",
        "outputId": "67a676b8-8ed3-4474-d5e4-ecca94c74395"
      },
      "source": [
        "df2['Average Medicare Payments'] = pd.to_numeric(df2['Average Medicare Payments'], errors = 'coerce')\n",
        "df2.head()"
      ],
      "execution_count": 49,
      "outputs": [
        {
          "output_type": "execute_result",
          "data": {
            "text/html": [
              "<div>\n",
              "<style scoped>\n",
              "    .dataframe tbody tr th:only-of-type {\n",
              "        vertical-align: middle;\n",
              "    }\n",
              "\n",
              "    .dataframe tbody tr th {\n",
              "        vertical-align: top;\n",
              "    }\n",
              "\n",
              "    .dataframe thead th {\n",
              "        text-align: right;\n",
              "    }\n",
              "</style>\n",
              "<table border=\"1\" class=\"dataframe\">\n",
              "  <thead>\n",
              "    <tr style=\"text-align: right;\">\n",
              "      <th></th>\n",
              "      <th>DRG Code</th>\n",
              "      <th>DRG Definition</th>\n",
              "      <th>Provider Id</th>\n",
              "      <th>Provider Name</th>\n",
              "      <th>Provider Street Address</th>\n",
              "      <th>Provider City</th>\n",
              "      <th>Provider State</th>\n",
              "      <th>Provider Zip Code</th>\n",
              "      <th>Hospital Referral Region Description</th>\n",
              "      <th>Total Discharges</th>\n",
              "      <th>Average Covered Charges</th>\n",
              "      <th>Average Total Payments</th>\n",
              "      <th>Average Medicare Payments</th>\n",
              "      <th>Unnamed: 13</th>\n",
              "      <th>Unnamed: 14</th>\n",
              "    </tr>\n",
              "  </thead>\n",
              "  <tbody>\n",
              "    <tr>\n",
              "      <th>0</th>\n",
              "      <td>39</td>\n",
              "      <td>039 - EXTRACRANIAL PROCEDURES W/O CC/MCC</td>\n",
              "      <td>10001</td>\n",
              "      <td>SOUTHEAST ALABAMA MEDICAL CENTER</td>\n",
              "      <td>1108 ROSS CLARK CIRCLE</td>\n",
              "      <td>DOTHAN</td>\n",
              "      <td>AL</td>\n",
              "      <td>36301</td>\n",
              "      <td>AL - Dothan</td>\n",
              "      <td>91</td>\n",
              "      <td>32,963.07</td>\n",
              "      <td>5,777.24</td>\n",
              "      <td>NaN</td>\n",
              "      <td>NaN</td>\n",
              "      <td>NaN</td>\n",
              "    </tr>\n",
              "    <tr>\n",
              "      <th>1</th>\n",
              "      <td>39</td>\n",
              "      <td>039 - EXTRACRANIAL PROCEDURES W/O CC/MCC</td>\n",
              "      <td>10005</td>\n",
              "      <td>MARSHALL MEDICAL CENTER SOUTH</td>\n",
              "      <td>2505 U S HIGHWAY 431 NORTH</td>\n",
              "      <td>BOAZ</td>\n",
              "      <td>AL</td>\n",
              "      <td>35957</td>\n",
              "      <td>AL - Birmingham</td>\n",
              "      <td>14</td>\n",
              "      <td>15,131.85</td>\n",
              "      <td>5,787.57</td>\n",
              "      <td>NaN</td>\n",
              "      <td>NaN</td>\n",
              "      <td>NaN</td>\n",
              "    </tr>\n",
              "    <tr>\n",
              "      <th>2</th>\n",
              "      <td>39</td>\n",
              "      <td>039 - EXTRACRANIAL PROCEDURES W/O CC/MCC</td>\n",
              "      <td>10006</td>\n",
              "      <td>ELIZA COFFEE MEMORIAL HOSPITAL</td>\n",
              "      <td>205 MARENGO STREET</td>\n",
              "      <td>FLORENCE</td>\n",
              "      <td>AL</td>\n",
              "      <td>35631</td>\n",
              "      <td>AL - Birmingham</td>\n",
              "      <td>24</td>\n",
              "      <td>37,560.37</td>\n",
              "      <td>5,434.95</td>\n",
              "      <td>NaN</td>\n",
              "      <td>NaN</td>\n",
              "      <td>NaN</td>\n",
              "    </tr>\n",
              "    <tr>\n",
              "      <th>3</th>\n",
              "      <td>39</td>\n",
              "      <td>039 - EXTRACRANIAL PROCEDURES W/O CC/MCC</td>\n",
              "      <td>10011</td>\n",
              "      <td>ST VINCENT'S EAST</td>\n",
              "      <td>50 MEDICAL PARK EAST DRIVE</td>\n",
              "      <td>BIRMINGHAM</td>\n",
              "      <td>AL</td>\n",
              "      <td>35235</td>\n",
              "      <td>AL - Birmingham</td>\n",
              "      <td>25</td>\n",
              "      <td>13,998.28</td>\n",
              "      <td>5,417.56</td>\n",
              "      <td>NaN</td>\n",
              "      <td>NaN</td>\n",
              "      <td>NaN</td>\n",
              "    </tr>\n",
              "    <tr>\n",
              "      <th>4</th>\n",
              "      <td>39</td>\n",
              "      <td>039 - EXTRACRANIAL PROCEDURES W/O CC/MCC</td>\n",
              "      <td>10016</td>\n",
              "      <td>SHELBY BAPTIST MEDICAL CENTER</td>\n",
              "      <td>1000 FIRST STREET NORTH</td>\n",
              "      <td>ALABASTER</td>\n",
              "      <td>AL</td>\n",
              "      <td>35007</td>\n",
              "      <td>AL - Birmingham</td>\n",
              "      <td>18</td>\n",
              "      <td>31,633.27</td>\n",
              "      <td>5,658.33</td>\n",
              "      <td>NaN</td>\n",
              "      <td>NaN</td>\n",
              "      <td>NaN</td>\n",
              "    </tr>\n",
              "  </tbody>\n",
              "</table>\n",
              "</div>"
            ],
            "text/plain": [
              "   DRG Code                            DRG Definition  ...  Unnamed: 13 Unnamed: 14\n",
              "0        39  039 - EXTRACRANIAL PROCEDURES W/O CC/MCC  ...          NaN         NaN\n",
              "1        39  039 - EXTRACRANIAL PROCEDURES W/O CC/MCC  ...          NaN         NaN\n",
              "2        39  039 - EXTRACRANIAL PROCEDURES W/O CC/MCC  ...          NaN         NaN\n",
              "3        39  039 - EXTRACRANIAL PROCEDURES W/O CC/MCC  ...          NaN         NaN\n",
              "4        39  039 - EXTRACRANIAL PROCEDURES W/O CC/MCC  ...          NaN         NaN\n",
              "\n",
              "[5 rows x 15 columns]"
            ]
          },
          "metadata": {
            "tags": []
          },
          "execution_count": 49
        }
      ]
    }
  ]
}
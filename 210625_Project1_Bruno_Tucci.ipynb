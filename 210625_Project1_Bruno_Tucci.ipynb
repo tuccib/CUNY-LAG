{
  "nbformat": 4,
  "nbformat_minor": 0,
  "metadata": {
    "colab": {
      "name": "210625 Project1_Bruno_Tucci.ipynb",
      "provenance": [],
      "collapsed_sections": [],
      "authorship_tag": "ABX9TyPuasoUDYuvgsYiJ3fjHRD8",
      "include_colab_link": true
    },
    "kernelspec": {
      "name": "python3",
      "display_name": "Python 3"
    },
    "language_info": {
      "name": "python"
    }
  },
  "cells": [
    {
      "cell_type": "markdown",
      "metadata": {
        "id": "view-in-github",
        "colab_type": "text"
      },
      "source": [
        "<a href=\"https://colab.research.google.com/github/tuccib/CUNY_LAG/blob/main/210625_Project1_Bruno_Tucci.ipynb\" target=\"_parent\"><img src=\"https://colab.research.google.com/assets/colab-badge.svg\" alt=\"Open In Colab\"/></a>"
      ]
    },
    {
      "cell_type": "code",
      "metadata": {
        "id": "Noi7d53p19s7"
      },
      "source": [
        "import numpy as np\n",
        "import pandas as pd\n",
        "import matplotlib.pyplot as plot\n",
        "%matplotlib inline\n",
        "import seaborn as sns"
      ],
      "execution_count": 1,
      "outputs": []
    },
    {
      "cell_type": "code",
      "metadata": {
        "colab": {
          "base_uri": "https://localhost:8080/",
          "height": 397
        },
        "id": "ebIi1Sn711G6",
        "outputId": "b3f6c3c3-d89a-4812-eb20-f0a517929434"
      },
      "source": [
        "df = pd.read_csv('https://raw.githubusercontent.com/CunyLaguardiaDataAnalytics/datasets/master/2014-15_To_2016-17_School-_Level_NYC_Regents_Report_For_All_Variables.csv')\n",
        "df.head()\n"
      ],
      "execution_count": 2,
      "outputs": [
        {
          "output_type": "execute_result",
          "data": {
            "text/html": [
              "<div>\n",
              "<style scoped>\n",
              "    .dataframe tbody tr th:only-of-type {\n",
              "        vertical-align: middle;\n",
              "    }\n",
              "\n",
              "    .dataframe tbody tr th {\n",
              "        vertical-align: top;\n",
              "    }\n",
              "\n",
              "    .dataframe thead th {\n",
              "        text-align: right;\n",
              "    }\n",
              "</style>\n",
              "<table border=\"1\" class=\"dataframe\">\n",
              "  <thead>\n",
              "    <tr style=\"text-align: right;\">\n",
              "      <th></th>\n",
              "      <th>School DBN</th>\n",
              "      <th>School Name</th>\n",
              "      <th>School Level</th>\n",
              "      <th>Regents Exam</th>\n",
              "      <th>Year</th>\n",
              "      <th>Total Tested</th>\n",
              "      <th>Mean Score</th>\n",
              "      <th>Number Scoring Below 65</th>\n",
              "      <th>Percent Scoring Below 65</th>\n",
              "      <th>Number Scoring 65 or Above</th>\n",
              "      <th>Percent Scoring 65 or Above</th>\n",
              "      <th>Number Scoring 80 or Above</th>\n",
              "      <th>Percent Scoring 80 or Above</th>\n",
              "      <th>Number Scoring CR</th>\n",
              "      <th>Percent Scoring CR</th>\n",
              "    </tr>\n",
              "  </thead>\n",
              "  <tbody>\n",
              "    <tr>\n",
              "      <th>0</th>\n",
              "      <td>01M034</td>\n",
              "      <td>P.S. 034 Franklin D. Roosevelt</td>\n",
              "      <td>K-8</td>\n",
              "      <td>Common Core Algebra</td>\n",
              "      <td>2017</td>\n",
              "      <td>4</td>\n",
              "      <td>s</td>\n",
              "      <td>s</td>\n",
              "      <td>s</td>\n",
              "      <td>s</td>\n",
              "      <td>s</td>\n",
              "      <td>s</td>\n",
              "      <td>s</td>\n",
              "      <td>na</td>\n",
              "      <td>na</td>\n",
              "    </tr>\n",
              "    <tr>\n",
              "      <th>1</th>\n",
              "      <td>01M034</td>\n",
              "      <td>P.S. 034 Franklin D. Roosevelt</td>\n",
              "      <td>K-8</td>\n",
              "      <td>Living Environment</td>\n",
              "      <td>2015</td>\n",
              "      <td>16</td>\n",
              "      <td>77.9</td>\n",
              "      <td>1</td>\n",
              "      <td>6.3</td>\n",
              "      <td>15</td>\n",
              "      <td>93.8</td>\n",
              "      <td>7</td>\n",
              "      <td>43.8</td>\n",
              "      <td>na</td>\n",
              "      <td>na</td>\n",
              "    </tr>\n",
              "    <tr>\n",
              "      <th>2</th>\n",
              "      <td>01M034</td>\n",
              "      <td>P.S. 034 Franklin D. Roosevelt</td>\n",
              "      <td>K-8</td>\n",
              "      <td>Living Environment</td>\n",
              "      <td>2016</td>\n",
              "      <td>9</td>\n",
              "      <td>74</td>\n",
              "      <td>1</td>\n",
              "      <td>11.1</td>\n",
              "      <td>8</td>\n",
              "      <td>88.9</td>\n",
              "      <td>2</td>\n",
              "      <td>22.2</td>\n",
              "      <td>na</td>\n",
              "      <td>na</td>\n",
              "    </tr>\n",
              "    <tr>\n",
              "      <th>3</th>\n",
              "      <td>01M140</td>\n",
              "      <td>P.S. 140 Nathan Straus</td>\n",
              "      <td>K-8</td>\n",
              "      <td>Common Core Algebra</td>\n",
              "      <td>2016</td>\n",
              "      <td>3</td>\n",
              "      <td>s</td>\n",
              "      <td>s</td>\n",
              "      <td>s</td>\n",
              "      <td>s</td>\n",
              "      <td>s</td>\n",
              "      <td>s</td>\n",
              "      <td>s</td>\n",
              "      <td>na</td>\n",
              "      <td>na</td>\n",
              "    </tr>\n",
              "    <tr>\n",
              "      <th>4</th>\n",
              "      <td>01M140</td>\n",
              "      <td>P.S. 140 Nathan Straus</td>\n",
              "      <td>K-8</td>\n",
              "      <td>Common Core Algebra</td>\n",
              "      <td>2017</td>\n",
              "      <td>2</td>\n",
              "      <td>s</td>\n",
              "      <td>s</td>\n",
              "      <td>s</td>\n",
              "      <td>s</td>\n",
              "      <td>s</td>\n",
              "      <td>s</td>\n",
              "      <td>s</td>\n",
              "      <td>na</td>\n",
              "      <td>na</td>\n",
              "    </tr>\n",
              "  </tbody>\n",
              "</table>\n",
              "</div>"
            ],
            "text/plain": [
              "  School DBN  ... Percent Scoring CR\n",
              "0     01M034  ...                 na\n",
              "1     01M034  ...                 na\n",
              "2     01M034  ...                 na\n",
              "3     01M140  ...                 na\n",
              "4     01M140  ...                 na\n",
              "\n",
              "[5 rows x 15 columns]"
            ]
          },
          "metadata": {
            "tags": []
          },
          "execution_count": 2
        }
      ]
    },
    {
      "cell_type": "code",
      "metadata": {
        "colab": {
          "base_uri": "https://localhost:8080/",
          "height": 284
        },
        "id": "tPMPWOTf2rE5",
        "outputId": "0bb1bd6c-071b-4339-c942-0f529dc95c89"
      },
      "source": [
        "df.describe()"
      ],
      "execution_count": null,
      "outputs": [
        {
          "output_type": "execute_result",
          "data": {
            "text/html": [
              "<div>\n",
              "<style scoped>\n",
              "    .dataframe tbody tr th:only-of-type {\n",
              "        vertical-align: middle;\n",
              "    }\n",
              "\n",
              "    .dataframe tbody tr th {\n",
              "        vertical-align: top;\n",
              "    }\n",
              "\n",
              "    .dataframe thead th {\n",
              "        text-align: right;\n",
              "    }\n",
              "</style>\n",
              "<table border=\"1\" class=\"dataframe\">\n",
              "  <thead>\n",
              "    <tr style=\"text-align: right;\">\n",
              "      <th></th>\n",
              "      <th>Year</th>\n",
              "      <th>Total Tested</th>\n",
              "    </tr>\n",
              "  </thead>\n",
              "  <tbody>\n",
              "    <tr>\n",
              "      <th>count</th>\n",
              "      <td>212331.000000</td>\n",
              "      <td>212331.000000</td>\n",
              "    </tr>\n",
              "    <tr>\n",
              "      <th>mean</th>\n",
              "      <td>2015.956069</td>\n",
              "      <td>49.364200</td>\n",
              "    </tr>\n",
              "    <tr>\n",
              "      <th>std</th>\n",
              "      <td>0.799726</td>\n",
              "      <td>93.023576</td>\n",
              "    </tr>\n",
              "    <tr>\n",
              "      <th>min</th>\n",
              "      <td>2015.000000</td>\n",
              "      <td>1.000000</td>\n",
              "    </tr>\n",
              "    <tr>\n",
              "      <th>25%</th>\n",
              "      <td>2015.000000</td>\n",
              "      <td>5.000000</td>\n",
              "    </tr>\n",
              "    <tr>\n",
              "      <th>50%</th>\n",
              "      <td>2016.000000</td>\n",
              "      <td>20.000000</td>\n",
              "    </tr>\n",
              "    <tr>\n",
              "      <th>75%</th>\n",
              "      <td>2017.000000</td>\n",
              "      <td>57.000000</td>\n",
              "    </tr>\n",
              "    <tr>\n",
              "      <th>max</th>\n",
              "      <td>2017.000000</td>\n",
              "      <td>1729.000000</td>\n",
              "    </tr>\n",
              "  </tbody>\n",
              "</table>\n",
              "</div>"
            ],
            "text/plain": [
              "                Year   Total Tested\n",
              "count  212331.000000  212331.000000\n",
              "mean     2015.956069      49.364200\n",
              "std         0.799726      93.023576\n",
              "min      2015.000000       1.000000\n",
              "25%      2015.000000       5.000000\n",
              "50%      2016.000000      20.000000\n",
              "75%      2017.000000      57.000000\n",
              "max      2017.000000    1729.000000"
            ]
          },
          "metadata": {
            "tags": []
          },
          "execution_count": 4
        }
      ]
    },
    {
      "cell_type": "markdown",
      "metadata": {
        "id": "0E1WqrrnZmqB"
      },
      "source": [
        ""
      ]
    },
    {
      "cell_type": "code",
      "metadata": {
        "colab": {
          "base_uri": "https://localhost:8080/"
        },
        "id": "quFYrFpdvApW",
        "outputId": "d8bd9b98-a788-4356-cdc5-69f584fe88e6"
      },
      "source": [
        "df.dtypes"
      ],
      "execution_count": null,
      "outputs": [
        {
          "output_type": "execute_result",
          "data": {
            "text/plain": [
              "School DBN                     object\n",
              "School Name                    object\n",
              "School Level                   object\n",
              "Regents Exam                   object\n",
              "Year                            int64\n",
              "Total Tested                    int64\n",
              "Mean Score                     object\n",
              "Number Scoring Below 65        object\n",
              "Percent Scoring Below 65       object\n",
              "Number Scoring 65 or Above     object\n",
              "Percent Scoring 65 or Above    object\n",
              "Number Scoring 80 or Above     object\n",
              "Percent Scoring 80 or Above    object\n",
              "Number Scoring CR              object\n",
              "Percent Scoring CR             object\n",
              "dtype: object"
            ]
          },
          "metadata": {
            "tags": []
          },
          "execution_count": 6
        }
      ]
    },
    {
      "cell_type": "code",
      "metadata": {
        "colab": {
          "base_uri": "https://localhost:8080/"
        },
        "id": "72XbMWsW4tdu",
        "outputId": "20d8f1a7-a35f-48c7-fa38-f8579dc901ef"
      },
      "source": [
        "df.info()"
      ],
      "execution_count": null,
      "outputs": [
        {
          "output_type": "stream",
          "text": [
            "<class 'pandas.core.frame.DataFrame'>\n",
            "RangeIndex: 212331 entries, 0 to 212330\n",
            "Data columns (total 15 columns):\n",
            " #   Column                       Non-Null Count   Dtype \n",
            "---  ------                       --------------   ----- \n",
            " 0   School DBN                   212331 non-null  object\n",
            " 1   School Name                  212331 non-null  object\n",
            " 2   School Level                 212331 non-null  object\n",
            " 3   Regents Exam                 212321 non-null  object\n",
            " 4   Year                         212331 non-null  int64 \n",
            " 5   Total Tested                 212331 non-null  int64 \n",
            " 6   Mean Score                   212331 non-null  object\n",
            " 7   Number Scoring Below 65      212331 non-null  object\n",
            " 8   Percent Scoring Below 65     212331 non-null  object\n",
            " 9   Number Scoring 65 or Above   212331 non-null  object\n",
            " 10  Percent Scoring 65 or Above  212331 non-null  object\n",
            " 11  Number Scoring 80 or Above   212331 non-null  object\n",
            " 12  Percent Scoring 80 or Above  212331 non-null  object\n",
            " 13  Number Scoring CR            212331 non-null  object\n",
            " 14  Percent Scoring CR           212331 non-null  object\n",
            "dtypes: int64(2), object(13)\n",
            "memory usage: 24.3+ MB\n"
          ],
          "name": "stdout"
        }
      ]
    },
    {
      "cell_type": "code",
      "metadata": {
        "id": "zmbpTb8R1p08"
      },
      "source": [
        "\n",
        "df['Mean Score'] = pd.to_numeric(df['Mean Score'], errors = 'coerce')"
      ],
      "execution_count": 5,
      "outputs": []
    },
    {
      "cell_type": "code",
      "metadata": {
        "id": "q-g0PuroQV1m"
      },
      "source": [
        "df['Percent Scoring 80 or Above'] = pd.to_numeric(df['Percent Scoring 80 or Above'], errors = 'coerce')"
      ],
      "execution_count": null,
      "outputs": []
    },
    {
      "cell_type": "code",
      "metadata": {
        "colab": {
          "base_uri": "https://localhost:8080/"
        },
        "id": "5_h0pEmA2eB2",
        "outputId": "7e0db552-24f4-4e79-de0f-5edbf1ae8ddb"
      },
      "source": [
        "df['Mean Score'].dtype"
      ],
      "execution_count": null,
      "outputs": [
        {
          "output_type": "execute_result",
          "data": {
            "text/plain": [
              "dtype('float64')"
            ]
          },
          "metadata": {
            "tags": []
          },
          "execution_count": 9
        }
      ]
    },
    {
      "cell_type": "code",
      "metadata": {
        "colab": {
          "base_uri": "https://localhost:8080/"
        },
        "id": "jBFMh03VcqPF",
        "outputId": "7bef0165-98d4-44cb-c5f9-14f82e8b96af"
      },
      "source": [
        "df['School DBN'].is_unique"
      ],
      "execution_count": null,
      "outputs": [
        {
          "output_type": "execute_result",
          "data": {
            "text/plain": [
              "False"
            ]
          },
          "metadata": {
            "tags": []
          },
          "execution_count": 8
        }
      ]
    },
    {
      "cell_type": "code",
      "metadata": {
        "colab": {
          "base_uri": "https://localhost:8080/",
          "height": 521
        },
        "id": "VsYf0cWVh4_8",
        "outputId": "67d26958-8b77-4048-fe40-19e75a14aeaf"
      },
      "source": [
        "df.groupby(['Regents Exam']).describe().round(1)"
      ],
      "execution_count": null,
      "outputs": [
        {
          "output_type": "execute_result",
          "data": {
            "text/html": [
              "<div>\n",
              "<style scoped>\n",
              "    .dataframe tbody tr th:only-of-type {\n",
              "        vertical-align: middle;\n",
              "    }\n",
              "\n",
              "    .dataframe tbody tr th {\n",
              "        vertical-align: top;\n",
              "    }\n",
              "\n",
              "    .dataframe thead tr th {\n",
              "        text-align: left;\n",
              "    }\n",
              "\n",
              "    .dataframe thead tr:last-of-type th {\n",
              "        text-align: right;\n",
              "    }\n",
              "</style>\n",
              "<table border=\"1\" class=\"dataframe\">\n",
              "  <thead>\n",
              "    <tr>\n",
              "      <th></th>\n",
              "      <th colspan=\"8\" halign=\"left\">Year</th>\n",
              "      <th colspan=\"8\" halign=\"left\">Total Tested</th>\n",
              "    </tr>\n",
              "    <tr>\n",
              "      <th></th>\n",
              "      <th>count</th>\n",
              "      <th>mean</th>\n",
              "      <th>std</th>\n",
              "      <th>min</th>\n",
              "      <th>25%</th>\n",
              "      <th>50%</th>\n",
              "      <th>75%</th>\n",
              "      <th>max</th>\n",
              "      <th>count</th>\n",
              "      <th>mean</th>\n",
              "      <th>std</th>\n",
              "      <th>min</th>\n",
              "      <th>25%</th>\n",
              "      <th>50%</th>\n",
              "      <th>75%</th>\n",
              "      <th>max</th>\n",
              "    </tr>\n",
              "    <tr>\n",
              "      <th>Regents Exam</th>\n",
              "      <th></th>\n",
              "      <th></th>\n",
              "      <th></th>\n",
              "      <th></th>\n",
              "      <th></th>\n",
              "      <th></th>\n",
              "      <th></th>\n",
              "      <th></th>\n",
              "      <th></th>\n",
              "      <th></th>\n",
              "      <th></th>\n",
              "      <th></th>\n",
              "      <th></th>\n",
              "      <th></th>\n",
              "      <th></th>\n",
              "      <th></th>\n",
              "    </tr>\n",
              "  </thead>\n",
              "  <tbody>\n",
              "    <tr>\n",
              "      <th>Algebra2/Trigonometry</th>\n",
              "      <td>10788.0</td>\n",
              "      <td>2015.8</td>\n",
              "      <td>0.7</td>\n",
              "      <td>2015.0</td>\n",
              "      <td>2015.0</td>\n",
              "      <td>2016.0</td>\n",
              "      <td>2016.0</td>\n",
              "      <td>2017.0</td>\n",
              "      <td>10788.0</td>\n",
              "      <td>33.8</td>\n",
              "      <td>81.4</td>\n",
              "      <td>1.0</td>\n",
              "      <td>3.0</td>\n",
              "      <td>10.0</td>\n",
              "      <td>29.0</td>\n",
              "      <td>1477.0</td>\n",
              "    </tr>\n",
              "    <tr>\n",
              "      <th>Common Core Algebra</th>\n",
              "      <td>29254.0</td>\n",
              "      <td>2016.0</td>\n",
              "      <td>0.8</td>\n",
              "      <td>2015.0</td>\n",
              "      <td>2015.0</td>\n",
              "      <td>2016.0</td>\n",
              "      <td>2017.0</td>\n",
              "      <td>2017.0</td>\n",
              "      <td>29254.0</td>\n",
              "      <td>53.6</td>\n",
              "      <td>91.8</td>\n",
              "      <td>1.0</td>\n",
              "      <td>5.0</td>\n",
              "      <td>22.0</td>\n",
              "      <td>67.0</td>\n",
              "      <td>1384.0</td>\n",
              "    </tr>\n",
              "    <tr>\n",
              "      <th>Common Core Algebra2</th>\n",
              "      <td>7915.0</td>\n",
              "      <td>2016.6</td>\n",
              "      <td>0.5</td>\n",
              "      <td>2016.0</td>\n",
              "      <td>2016.0</td>\n",
              "      <td>2017.0</td>\n",
              "      <td>2017.0</td>\n",
              "      <td>2017.0</td>\n",
              "      <td>7915.0</td>\n",
              "      <td>37.3</td>\n",
              "      <td>83.4</td>\n",
              "      <td>1.0</td>\n",
              "      <td>3.0</td>\n",
              "      <td>12.0</td>\n",
              "      <td>36.0</td>\n",
              "      <td>1380.0</td>\n",
              "    </tr>\n",
              "    <tr>\n",
              "      <th>Common Core English</th>\n",
              "      <td>19878.0</td>\n",
              "      <td>2016.1</td>\n",
              "      <td>0.8</td>\n",
              "      <td>2015.0</td>\n",
              "      <td>2016.0</td>\n",
              "      <td>2016.0</td>\n",
              "      <td>2017.0</td>\n",
              "      <td>2017.0</td>\n",
              "      <td>19878.0</td>\n",
              "      <td>53.9</td>\n",
              "      <td>98.8</td>\n",
              "      <td>1.0</td>\n",
              "      <td>5.0</td>\n",
              "      <td>24.0</td>\n",
              "      <td>66.0</td>\n",
              "      <td>1554.0</td>\n",
              "    </tr>\n",
              "    <tr>\n",
              "      <th>Common Core Geometry</th>\n",
              "      <td>15267.0</td>\n",
              "      <td>2016.1</td>\n",
              "      <td>0.8</td>\n",
              "      <td>2015.0</td>\n",
              "      <td>2015.0</td>\n",
              "      <td>2016.0</td>\n",
              "      <td>2017.0</td>\n",
              "      <td>2017.0</td>\n",
              "      <td>15267.0</td>\n",
              "      <td>47.9</td>\n",
              "      <td>95.1</td>\n",
              "      <td>1.0</td>\n",
              "      <td>5.0</td>\n",
              "      <td>19.0</td>\n",
              "      <td>52.0</td>\n",
              "      <td>1527.0</td>\n",
              "    </tr>\n",
              "    <tr>\n",
              "      <th>English</th>\n",
              "      <td>11091.0</td>\n",
              "      <td>2015.4</td>\n",
              "      <td>0.5</td>\n",
              "      <td>2015.0</td>\n",
              "      <td>2015.0</td>\n",
              "      <td>2015.0</td>\n",
              "      <td>2016.0</td>\n",
              "      <td>2016.0</td>\n",
              "      <td>11091.0</td>\n",
              "      <td>39.6</td>\n",
              "      <td>84.1</td>\n",
              "      <td>1.0</td>\n",
              "      <td>4.0</td>\n",
              "      <td>14.0</td>\n",
              "      <td>43.0</td>\n",
              "      <td>1240.0</td>\n",
              "    </tr>\n",
              "    <tr>\n",
              "      <th>Geometry</th>\n",
              "      <td>8509.0</td>\n",
              "      <td>2015.4</td>\n",
              "      <td>0.5</td>\n",
              "      <td>2015.0</td>\n",
              "      <td>2015.0</td>\n",
              "      <td>2015.0</td>\n",
              "      <td>2016.0</td>\n",
              "      <td>2017.0</td>\n",
              "      <td>8509.0</td>\n",
              "      <td>35.3</td>\n",
              "      <td>82.3</td>\n",
              "      <td>1.0</td>\n",
              "      <td>2.0</td>\n",
              "      <td>10.0</td>\n",
              "      <td>35.0</td>\n",
              "      <td>1326.0</td>\n",
              "    </tr>\n",
              "    <tr>\n",
              "      <th>Global History and Geography</th>\n",
              "      <td>19192.0</td>\n",
              "      <td>2016.0</td>\n",
              "      <td>0.8</td>\n",
              "      <td>2015.0</td>\n",
              "      <td>2015.0</td>\n",
              "      <td>2016.0</td>\n",
              "      <td>2017.0</td>\n",
              "      <td>2017.0</td>\n",
              "      <td>19192.0</td>\n",
              "      <td>74.8</td>\n",
              "      <td>124.1</td>\n",
              "      <td>1.0</td>\n",
              "      <td>10.0</td>\n",
              "      <td>39.0</td>\n",
              "      <td>90.0</td>\n",
              "      <td>1453.0</td>\n",
              "    </tr>\n",
              "    <tr>\n",
              "      <th>Integrated Algebra</th>\n",
              "      <td>11022.0</td>\n",
              "      <td>2015.4</td>\n",
              "      <td>0.5</td>\n",
              "      <td>2015.0</td>\n",
              "      <td>2015.0</td>\n",
              "      <td>2015.0</td>\n",
              "      <td>2016.0</td>\n",
              "      <td>2017.0</td>\n",
              "      <td>11022.0</td>\n",
              "      <td>32.9</td>\n",
              "      <td>64.9</td>\n",
              "      <td>1.0</td>\n",
              "      <td>4.0</td>\n",
              "      <td>12.0</td>\n",
              "      <td>35.0</td>\n",
              "      <td>1106.0</td>\n",
              "    </tr>\n",
              "    <tr>\n",
              "      <th>Living Environment</th>\n",
              "      <td>25539.0</td>\n",
              "      <td>2016.0</td>\n",
              "      <td>0.8</td>\n",
              "      <td>2015.0</td>\n",
              "      <td>2015.0</td>\n",
              "      <td>2016.0</td>\n",
              "      <td>2017.0</td>\n",
              "      <td>2017.0</td>\n",
              "      <td>25539.0</td>\n",
              "      <td>55.5</td>\n",
              "      <td>91.7</td>\n",
              "      <td>1.0</td>\n",
              "      <td>7.0</td>\n",
              "      <td>27.0</td>\n",
              "      <td>70.0</td>\n",
              "      <td>1216.0</td>\n",
              "    </tr>\n",
              "    <tr>\n",
              "      <th>Physical Settings/Chemistry</th>\n",
              "      <td>11670.0</td>\n",
              "      <td>2016.0</td>\n",
              "      <td>0.8</td>\n",
              "      <td>2015.0</td>\n",
              "      <td>2015.0</td>\n",
              "      <td>2016.0</td>\n",
              "      <td>2017.0</td>\n",
              "      <td>2017.0</td>\n",
              "      <td>11670.0</td>\n",
              "      <td>38.9</td>\n",
              "      <td>90.0</td>\n",
              "      <td>1.0</td>\n",
              "      <td>3.0</td>\n",
              "      <td>13.0</td>\n",
              "      <td>36.0</td>\n",
              "      <td>1467.0</td>\n",
              "    </tr>\n",
              "    <tr>\n",
              "      <th>Physical Settings/Earth Science</th>\n",
              "      <td>15971.0</td>\n",
              "      <td>2016.0</td>\n",
              "      <td>0.8</td>\n",
              "      <td>2015.0</td>\n",
              "      <td>2015.0</td>\n",
              "      <td>2016.0</td>\n",
              "      <td>2017.0</td>\n",
              "      <td>2017.0</td>\n",
              "      <td>15971.0</td>\n",
              "      <td>39.2</td>\n",
              "      <td>59.9</td>\n",
              "      <td>1.0</td>\n",
              "      <td>5.0</td>\n",
              "      <td>19.0</td>\n",
              "      <td>50.0</td>\n",
              "      <td>753.0</td>\n",
              "    </tr>\n",
              "    <tr>\n",
              "      <th>Physical Settings/Physics</th>\n",
              "      <td>5799.0</td>\n",
              "      <td>2016.0</td>\n",
              "      <td>0.8</td>\n",
              "      <td>2015.0</td>\n",
              "      <td>2015.0</td>\n",
              "      <td>2016.0</td>\n",
              "      <td>2017.0</td>\n",
              "      <td>2017.0</td>\n",
              "      <td>5799.0</td>\n",
              "      <td>36.8</td>\n",
              "      <td>98.9</td>\n",
              "      <td>1.0</td>\n",
              "      <td>3.0</td>\n",
              "      <td>10.0</td>\n",
              "      <td>28.0</td>\n",
              "      <td>1729.0</td>\n",
              "    </tr>\n",
              "    <tr>\n",
              "      <th>U.S. History and Government</th>\n",
              "      <td>20426.0</td>\n",
              "      <td>2016.0</td>\n",
              "      <td>0.8</td>\n",
              "      <td>2015.0</td>\n",
              "      <td>2015.0</td>\n",
              "      <td>2016.0</td>\n",
              "      <td>2017.0</td>\n",
              "      <td>2017.0</td>\n",
              "      <td>20426.0</td>\n",
              "      <td>58.8</td>\n",
              "      <td>99.3</td>\n",
              "      <td>1.0</td>\n",
              "      <td>8.0</td>\n",
              "      <td>30.0</td>\n",
              "      <td>70.0</td>\n",
              "      <td>1278.0</td>\n",
              "    </tr>\n",
              "  </tbody>\n",
              "</table>\n",
              "</div>"
            ],
            "text/plain": [
              "                                    Year               ... Total Tested              \n",
              "                                   count    mean  std  ...          50%   75%     max\n",
              "Regents Exam                                           ...                           \n",
              "Algebra2/Trigonometry            10788.0  2015.8  0.7  ...         10.0  29.0  1477.0\n",
              "Common Core Algebra              29254.0  2016.0  0.8  ...         22.0  67.0  1384.0\n",
              "Common Core Algebra2              7915.0  2016.6  0.5  ...         12.0  36.0  1380.0\n",
              "Common Core English              19878.0  2016.1  0.8  ...         24.0  66.0  1554.0\n",
              "Common Core Geometry             15267.0  2016.1  0.8  ...         19.0  52.0  1527.0\n",
              "English                          11091.0  2015.4  0.5  ...         14.0  43.0  1240.0\n",
              "Geometry                          8509.0  2015.4  0.5  ...         10.0  35.0  1326.0\n",
              "Global History and Geography     19192.0  2016.0  0.8  ...         39.0  90.0  1453.0\n",
              "Integrated Algebra               11022.0  2015.4  0.5  ...         12.0  35.0  1106.0\n",
              "Living Environment               25539.0  2016.0  0.8  ...         27.0  70.0  1216.0\n",
              "Physical Settings/Chemistry      11670.0  2016.0  0.8  ...         13.0  36.0  1467.0\n",
              "Physical Settings/Earth Science  15971.0  2016.0  0.8  ...         19.0  50.0   753.0\n",
              "Physical Settings/Physics         5799.0  2016.0  0.8  ...         10.0  28.0  1729.0\n",
              "U.S. History and Government      20426.0  2016.0  0.8  ...         30.0  70.0  1278.0\n",
              "\n",
              "[14 rows x 16 columns]"
            ]
          },
          "metadata": {
            "tags": []
          },
          "execution_count": 23
        }
      ]
    },
    {
      "cell_type": "code",
      "metadata": {
        "colab": {
          "base_uri": "https://localhost:8080/",
          "height": 491
        },
        "id": "BAeR1p-U1Edi",
        "outputId": "ad67a7a8-52c8-4d3c-8441-0a6c7f8549d5"
      },
      "source": [
        "df.groupby(['Regents Exam'])['Mean Score'].describe().sort_values('mean', ascending=False).round(1)"
      ],
      "execution_count": null,
      "outputs": [
        {
          "output_type": "execute_result",
          "data": {
            "text/html": [
              "<div>\n",
              "<style scoped>\n",
              "    .dataframe tbody tr th:only-of-type {\n",
              "        vertical-align: middle;\n",
              "    }\n",
              "\n",
              "    .dataframe tbody tr th {\n",
              "        vertical-align: top;\n",
              "    }\n",
              "\n",
              "    .dataframe thead th {\n",
              "        text-align: right;\n",
              "    }\n",
              "</style>\n",
              "<table border=\"1\" class=\"dataframe\">\n",
              "  <thead>\n",
              "    <tr style=\"text-align: right;\">\n",
              "      <th></th>\n",
              "      <th>count</th>\n",
              "      <th>mean</th>\n",
              "      <th>std</th>\n",
              "      <th>min</th>\n",
              "      <th>25%</th>\n",
              "      <th>50%</th>\n",
              "      <th>75%</th>\n",
              "      <th>max</th>\n",
              "    </tr>\n",
              "    <tr>\n",
              "      <th>Regents Exam</th>\n",
              "      <th></th>\n",
              "      <th></th>\n",
              "      <th></th>\n",
              "      <th></th>\n",
              "      <th></th>\n",
              "      <th></th>\n",
              "      <th></th>\n",
              "      <th></th>\n",
              "    </tr>\n",
              "  </thead>\n",
              "  <tbody>\n",
              "    <tr>\n",
              "      <th>U.S. History and Government</th>\n",
              "      <td>14752.0</td>\n",
              "      <td>71.1</td>\n",
              "      <td>11.3</td>\n",
              "      <td>33.7</td>\n",
              "      <td>63.1</td>\n",
              "      <td>70.7</td>\n",
              "      <td>78.7</td>\n",
              "      <td>98.7</td>\n",
              "    </tr>\n",
              "    <tr>\n",
              "      <th>Common Core English</th>\n",
              "      <td>13319.0</td>\n",
              "      <td>70.4</td>\n",
              "      <td>11.9</td>\n",
              "      <td>15.0</td>\n",
              "      <td>63.4</td>\n",
              "      <td>71.4</td>\n",
              "      <td>78.4</td>\n",
              "      <td>98.3</td>\n",
              "    </tr>\n",
              "    <tr>\n",
              "      <th>Living Environment</th>\n",
              "      <td>18243.0</td>\n",
              "      <td>69.1</td>\n",
              "      <td>9.9</td>\n",
              "      <td>36.5</td>\n",
              "      <td>62.0</td>\n",
              "      <td>67.8</td>\n",
              "      <td>75.7</td>\n",
              "      <td>96.8</td>\n",
              "    </tr>\n",
              "    <tr>\n",
              "      <th>Common Core Algebra</th>\n",
              "      <td>19549.0</td>\n",
              "      <td>67.5</td>\n",
              "      <td>9.9</td>\n",
              "      <td>37.2</td>\n",
              "      <td>60.3</td>\n",
              "      <td>66.2</td>\n",
              "      <td>74.2</td>\n",
              "      <td>96.6</td>\n",
              "    </tr>\n",
              "    <tr>\n",
              "      <th>Physical Settings/Physics</th>\n",
              "      <td>2993.0</td>\n",
              "      <td>66.5</td>\n",
              "      <td>12.3</td>\n",
              "      <td>20.8</td>\n",
              "      <td>59.2</td>\n",
              "      <td>67.7</td>\n",
              "      <td>75.5</td>\n",
              "      <td>94.3</td>\n",
              "    </tr>\n",
              "    <tr>\n",
              "      <th>English</th>\n",
              "      <td>6784.0</td>\n",
              "      <td>65.8</td>\n",
              "      <td>10.0</td>\n",
              "      <td>30.7</td>\n",
              "      <td>59.0</td>\n",
              "      <td>66.0</td>\n",
              "      <td>72.1</td>\n",
              "      <td>95.1</td>\n",
              "    </tr>\n",
              "    <tr>\n",
              "      <th>Integrated Algebra</th>\n",
              "      <td>6308.0</td>\n",
              "      <td>64.8</td>\n",
              "      <td>7.1</td>\n",
              "      <td>36.7</td>\n",
              "      <td>60.3</td>\n",
              "      <td>64.4</td>\n",
              "      <td>68.8</td>\n",
              "      <td>95.9</td>\n",
              "    </tr>\n",
              "    <tr>\n",
              "      <th>Global History and Geography</th>\n",
              "      <td>14713.0</td>\n",
              "      <td>64.2</td>\n",
              "      <td>10.6</td>\n",
              "      <td>28.7</td>\n",
              "      <td>56.9</td>\n",
              "      <td>62.7</td>\n",
              "      <td>70.6</td>\n",
              "      <td>97.0</td>\n",
              "    </tr>\n",
              "    <tr>\n",
              "      <th>Physical Settings/Chemistry</th>\n",
              "      <td>6360.0</td>\n",
              "      <td>64.1</td>\n",
              "      <td>9.7</td>\n",
              "      <td>30.2</td>\n",
              "      <td>57.6</td>\n",
              "      <td>63.9</td>\n",
              "      <td>70.4</td>\n",
              "      <td>93.5</td>\n",
              "    </tr>\n",
              "    <tr>\n",
              "      <th>Common Core Algebra2</th>\n",
              "      <td>4358.0</td>\n",
              "      <td>63.6</td>\n",
              "      <td>9.3</td>\n",
              "      <td>33.6</td>\n",
              "      <td>57.1</td>\n",
              "      <td>63.5</td>\n",
              "      <td>69.7</td>\n",
              "      <td>90.9</td>\n",
              "    </tr>\n",
              "    <tr>\n",
              "      <th>Physical Settings/Earth Science</th>\n",
              "      <td>10397.0</td>\n",
              "      <td>63.5</td>\n",
              "      <td>11.8</td>\n",
              "      <td>27.1</td>\n",
              "      <td>55.6</td>\n",
              "      <td>62.5</td>\n",
              "      <td>70.8</td>\n",
              "      <td>96.8</td>\n",
              "    </tr>\n",
              "    <tr>\n",
              "      <th>Geometry</th>\n",
              "      <td>4347.0</td>\n",
              "      <td>61.9</td>\n",
              "      <td>10.7</td>\n",
              "      <td>29.0</td>\n",
              "      <td>54.3</td>\n",
              "      <td>61.3</td>\n",
              "      <td>68.9</td>\n",
              "      <td>95.1</td>\n",
              "    </tr>\n",
              "    <tr>\n",
              "      <th>Common Core Geometry</th>\n",
              "      <td>9546.0</td>\n",
              "      <td>59.1</td>\n",
              "      <td>10.1</td>\n",
              "      <td>27.0</td>\n",
              "      <td>52.0</td>\n",
              "      <td>58.0</td>\n",
              "      <td>65.6</td>\n",
              "      <td>92.1</td>\n",
              "    </tr>\n",
              "    <tr>\n",
              "      <th>Algebra2/Trigonometry</th>\n",
              "      <td>5432.0</td>\n",
              "      <td>56.4</td>\n",
              "      <td>13.3</td>\n",
              "      <td>19.1</td>\n",
              "      <td>47.2</td>\n",
              "      <td>55.3</td>\n",
              "      <td>64.4</td>\n",
              "      <td>95.2</td>\n",
              "    </tr>\n",
              "  </tbody>\n",
              "</table>\n",
              "</div>"
            ],
            "text/plain": [
              "                                   count  mean   std  ...   50%   75%   max\n",
              "Regents Exam                                          ...                  \n",
              "U.S. History and Government      14752.0  71.1  11.3  ...  70.7  78.7  98.7\n",
              "Common Core English              13319.0  70.4  11.9  ...  71.4  78.4  98.3\n",
              "Living Environment               18243.0  69.1   9.9  ...  67.8  75.7  96.8\n",
              "Common Core Algebra              19549.0  67.5   9.9  ...  66.2  74.2  96.6\n",
              "Physical Settings/Physics         2993.0  66.5  12.3  ...  67.7  75.5  94.3\n",
              "English                           6784.0  65.8  10.0  ...  66.0  72.1  95.1\n",
              "Integrated Algebra                6308.0  64.8   7.1  ...  64.4  68.8  95.9\n",
              "Global History and Geography     14713.0  64.2  10.6  ...  62.7  70.6  97.0\n",
              "Physical Settings/Chemistry       6360.0  64.1   9.7  ...  63.9  70.4  93.5\n",
              "Common Core Algebra2              4358.0  63.6   9.3  ...  63.5  69.7  90.9\n",
              "Physical Settings/Earth Science  10397.0  63.5  11.8  ...  62.5  70.8  96.8\n",
              "Geometry                          4347.0  61.9  10.7  ...  61.3  68.9  95.1\n",
              "Common Core Geometry              9546.0  59.1  10.1  ...  58.0  65.6  92.1\n",
              "Algebra2/Trigonometry             5432.0  56.4  13.3  ...  55.3  64.4  95.2\n",
              "\n",
              "[14 rows x 8 columns]"
            ]
          },
          "metadata": {
            "tags": []
          },
          "execution_count": 40
        }
      ]
    },
    {
      "cell_type": "code",
      "metadata": {
        "colab": {
          "base_uri": "https://localhost:8080/",
          "height": 734
        },
        "id": "bbPob2g8yil9",
        "outputId": "66752a3e-34d4-4b12-87b0-79334f469bcb"
      },
      "source": [
        "df.groupby(['School Name']).count().round(1)"
      ],
      "execution_count": null,
      "outputs": [
        {
          "output_type": "execute_result",
          "data": {
            "text/html": [
              "<div>\n",
              "<style scoped>\n",
              "    .dataframe tbody tr th:only-of-type {\n",
              "        vertical-align: middle;\n",
              "    }\n",
              "\n",
              "    .dataframe tbody tr th {\n",
              "        vertical-align: top;\n",
              "    }\n",
              "\n",
              "    .dataframe thead th {\n",
              "        text-align: right;\n",
              "    }\n",
              "</style>\n",
              "<table border=\"1\" class=\"dataframe\">\n",
              "  <thead>\n",
              "    <tr style=\"text-align: right;\">\n",
              "      <th></th>\n",
              "      <th>School DBN</th>\n",
              "      <th>School Level</th>\n",
              "      <th>Regents Exam</th>\n",
              "      <th>Year</th>\n",
              "      <th>Total Tested</th>\n",
              "      <th>Mean Score</th>\n",
              "      <th>Number Scoring Below 65</th>\n",
              "      <th>Percent Scoring Below 65</th>\n",
              "      <th>Number Scoring 65 or Above</th>\n",
              "      <th>Percent Scoring 65 or Above</th>\n",
              "      <th>Number Scoring 80 or Above</th>\n",
              "      <th>Percent Scoring 80 or Above</th>\n",
              "      <th>Number Scoring CR</th>\n",
              "      <th>Percent Scoring CR</th>\n",
              "    </tr>\n",
              "    <tr>\n",
              "      <th>School Name</th>\n",
              "      <th></th>\n",
              "      <th></th>\n",
              "      <th></th>\n",
              "      <th></th>\n",
              "      <th></th>\n",
              "      <th></th>\n",
              "      <th></th>\n",
              "      <th></th>\n",
              "      <th></th>\n",
              "      <th></th>\n",
              "      <th></th>\n",
              "      <th></th>\n",
              "      <th></th>\n",
              "      <th></th>\n",
              "    </tr>\n",
              "  </thead>\n",
              "  <tbody>\n",
              "    <tr>\n",
              "      <th>47 The American Sign Language and English Secondar</th>\n",
              "      <td>356</td>\n",
              "      <td>356</td>\n",
              "      <td>356</td>\n",
              "      <td>356</td>\n",
              "      <td>356</td>\n",
              "      <td>356</td>\n",
              "      <td>356</td>\n",
              "      <td>356</td>\n",
              "      <td>356</td>\n",
              "      <td>356</td>\n",
              "      <td>356</td>\n",
              "      <td>356</td>\n",
              "      <td>356</td>\n",
              "      <td>356</td>\n",
              "    </tr>\n",
              "    <tr>\n",
              "      <th>A. Philip Randolph Campus High School</th>\n",
              "      <td>459</td>\n",
              "      <td>459</td>\n",
              "      <td>459</td>\n",
              "      <td>459</td>\n",
              "      <td>459</td>\n",
              "      <td>459</td>\n",
              "      <td>459</td>\n",
              "      <td>459</td>\n",
              "      <td>459</td>\n",
              "      <td>459</td>\n",
              "      <td>459</td>\n",
              "      <td>459</td>\n",
              "      <td>459</td>\n",
              "      <td>459</td>\n",
              "    </tr>\n",
              "    <tr>\n",
              "      <th>ACORN Community High School</th>\n",
              "      <td>364</td>\n",
              "      <td>364</td>\n",
              "      <td>364</td>\n",
              "      <td>364</td>\n",
              "      <td>364</td>\n",
              "      <td>364</td>\n",
              "      <td>364</td>\n",
              "      <td>364</td>\n",
              "      <td>364</td>\n",
              "      <td>364</td>\n",
              "      <td>364</td>\n",
              "      <td>364</td>\n",
              "      <td>364</td>\n",
              "      <td>364</td>\n",
              "    </tr>\n",
              "    <tr>\n",
              "      <th>Abraham Lincoln High School</th>\n",
              "      <td>480</td>\n",
              "      <td>480</td>\n",
              "      <td>480</td>\n",
              "      <td>480</td>\n",
              "      <td>480</td>\n",
              "      <td>480</td>\n",
              "      <td>480</td>\n",
              "      <td>480</td>\n",
              "      <td>480</td>\n",
              "      <td>480</td>\n",
              "      <td>480</td>\n",
              "      <td>480</td>\n",
              "      <td>480</td>\n",
              "      <td>480</td>\n",
              "    </tr>\n",
              "    <tr>\n",
              "      <th>Abraham Lincoln Yabc</th>\n",
              "      <td>248</td>\n",
              "      <td>248</td>\n",
              "      <td>248</td>\n",
              "      <td>248</td>\n",
              "      <td>248</td>\n",
              "      <td>248</td>\n",
              "      <td>248</td>\n",
              "      <td>248</td>\n",
              "      <td>248</td>\n",
              "      <td>248</td>\n",
              "      <td>248</td>\n",
              "      <td>248</td>\n",
              "      <td>248</td>\n",
              "      <td>248</td>\n",
              "    </tr>\n",
              "    <tr>\n",
              "      <th>...</th>\n",
              "      <td>...</td>\n",
              "      <td>...</td>\n",
              "      <td>...</td>\n",
              "      <td>...</td>\n",
              "      <td>...</td>\n",
              "      <td>...</td>\n",
              "      <td>...</td>\n",
              "      <td>...</td>\n",
              "      <td>...</td>\n",
              "      <td>...</td>\n",
              "      <td>...</td>\n",
              "      <td>...</td>\n",
              "      <td>...</td>\n",
              "      <td>...</td>\n",
              "    </tr>\n",
              "    <tr>\n",
              "      <th>Young Women's Leadership School</th>\n",
              "      <td>378</td>\n",
              "      <td>378</td>\n",
              "      <td>378</td>\n",
              "      <td>378</td>\n",
              "      <td>378</td>\n",
              "      <td>378</td>\n",
              "      <td>378</td>\n",
              "      <td>378</td>\n",
              "      <td>378</td>\n",
              "      <td>378</td>\n",
              "      <td>378</td>\n",
              "      <td>378</td>\n",
              "      <td>378</td>\n",
              "      <td>378</td>\n",
              "    </tr>\n",
              "    <tr>\n",
              "      <th>Young Women's Leadership School of Brooklyn</th>\n",
              "      <td>337</td>\n",
              "      <td>337</td>\n",
              "      <td>337</td>\n",
              "      <td>337</td>\n",
              "      <td>337</td>\n",
              "      <td>337</td>\n",
              "      <td>337</td>\n",
              "      <td>337</td>\n",
              "      <td>337</td>\n",
              "      <td>337</td>\n",
              "      <td>337</td>\n",
              "      <td>337</td>\n",
              "      <td>337</td>\n",
              "      <td>337</td>\n",
              "    </tr>\n",
              "    <tr>\n",
              "      <th>Young Women's Leadership School of the Bronx</th>\n",
              "      <td>142</td>\n",
              "      <td>142</td>\n",
              "      <td>142</td>\n",
              "      <td>142</td>\n",
              "      <td>142</td>\n",
              "      <td>142</td>\n",
              "      <td>142</td>\n",
              "      <td>142</td>\n",
              "      <td>142</td>\n",
              "      <td>142</td>\n",
              "      <td>142</td>\n",
              "      <td>142</td>\n",
              "      <td>142</td>\n",
              "      <td>142</td>\n",
              "    </tr>\n",
              "    <tr>\n",
              "      <th>Young Women's Leadership School, Astoria</th>\n",
              "      <td>338</td>\n",
              "      <td>338</td>\n",
              "      <td>338</td>\n",
              "      <td>338</td>\n",
              "      <td>338</td>\n",
              "      <td>338</td>\n",
              "      <td>338</td>\n",
              "      <td>338</td>\n",
              "      <td>338</td>\n",
              "      <td>338</td>\n",
              "      <td>338</td>\n",
              "      <td>338</td>\n",
              "      <td>338</td>\n",
              "      <td>338</td>\n",
              "    </tr>\n",
              "    <tr>\n",
              "      <th>Young Women's Leadership School, Queens</th>\n",
              "      <td>391</td>\n",
              "      <td>391</td>\n",
              "      <td>391</td>\n",
              "      <td>391</td>\n",
              "      <td>391</td>\n",
              "      <td>391</td>\n",
              "      <td>391</td>\n",
              "      <td>391</td>\n",
              "      <td>391</td>\n",
              "      <td>391</td>\n",
              "      <td>391</td>\n",
              "      <td>391</td>\n",
              "      <td>391</td>\n",
              "      <td>391</td>\n",
              "    </tr>\n",
              "  </tbody>\n",
              "</table>\n",
              "<p>1012 rows × 14 columns</p>\n",
              "</div>"
            ],
            "text/plain": [
              "                                                    School DBN  ...  Percent Scoring CR\n",
              "School Name                                                     ...                    \n",
              "47 The American Sign Language and English Secondar         356  ...                 356\n",
              "A. Philip Randolph Campus High School                      459  ...                 459\n",
              "ACORN Community High School                                364  ...                 364\n",
              "Abraham Lincoln High School                                480  ...                 480\n",
              "Abraham Lincoln Yabc                                       248  ...                 248\n",
              "...                                                        ...  ...                 ...\n",
              "Young Women's Leadership School                            378  ...                 378\n",
              "Young Women's Leadership School of Brooklyn                337  ...                 337\n",
              "Young Women's Leadership School of the Bronx               142  ...                 142\n",
              "Young Women's Leadership School, Astoria                   338  ...                 338\n",
              "Young Women's Leadership School, Queens                    391  ...                 391\n",
              "\n",
              "[1012 rows x 14 columns]"
            ]
          },
          "metadata": {
            "tags": []
          },
          "execution_count": 21
        }
      ]
    },
    {
      "cell_type": "code",
      "metadata": {
        "colab": {
          "base_uri": "https://localhost:8080/",
          "height": 431
        },
        "id": "BT22Yr0HzQuK",
        "outputId": "93c5d7d2-955d-4fa5-9c1b-9671bf6dfc23"
      },
      "source": [
        "df.groupby(['School Name'])['Mean Score'].describe().sort_values('mean', ascending=False).round(1)"
      ],
      "execution_count": null,
      "outputs": [
        {
          "output_type": "execute_result",
          "data": {
            "text/html": [
              "<div>\n",
              "<style scoped>\n",
              "    .dataframe tbody tr th:only-of-type {\n",
              "        vertical-align: middle;\n",
              "    }\n",
              "\n",
              "    .dataframe tbody tr th {\n",
              "        vertical-align: top;\n",
              "    }\n",
              "\n",
              "    .dataframe thead th {\n",
              "        text-align: right;\n",
              "    }\n",
              "</style>\n",
              "<table border=\"1\" class=\"dataframe\">\n",
              "  <thead>\n",
              "    <tr style=\"text-align: right;\">\n",
              "      <th></th>\n",
              "      <th>count</th>\n",
              "      <th>mean</th>\n",
              "      <th>std</th>\n",
              "      <th>min</th>\n",
              "      <th>25%</th>\n",
              "      <th>50%</th>\n",
              "      <th>75%</th>\n",
              "      <th>max</th>\n",
              "    </tr>\n",
              "    <tr>\n",
              "      <th>School Name</th>\n",
              "      <th></th>\n",
              "      <th></th>\n",
              "      <th></th>\n",
              "      <th></th>\n",
              "      <th></th>\n",
              "      <th></th>\n",
              "      <th></th>\n",
              "      <th></th>\n",
              "    </tr>\n",
              "  </thead>\n",
              "  <tbody>\n",
              "    <tr>\n",
              "      <th>Stuyvesant High School</th>\n",
              "      <td>271.0</td>\n",
              "      <td>91.7</td>\n",
              "      <td>3.4</td>\n",
              "      <td>81.1</td>\n",
              "      <td>89.4</td>\n",
              "      <td>92.5</td>\n",
              "      <td>94.0</td>\n",
              "      <td>97.4</td>\n",
              "    </tr>\n",
              "    <tr>\n",
              "      <th>J.H.S. 185 Edward Bleeker</th>\n",
              "      <td>46.0</td>\n",
              "      <td>91.7</td>\n",
              "      <td>3.0</td>\n",
              "      <td>86.0</td>\n",
              "      <td>89.6</td>\n",
              "      <td>91.2</td>\n",
              "      <td>94.4</td>\n",
              "      <td>96.8</td>\n",
              "    </tr>\n",
              "    <tr>\n",
              "      <th>The Anderson School</th>\n",
              "      <td>43.0</td>\n",
              "      <td>91.4</td>\n",
              "      <td>3.7</td>\n",
              "      <td>82.6</td>\n",
              "      <td>89.1</td>\n",
              "      <td>92.7</td>\n",
              "      <td>94.4</td>\n",
              "      <td>96.8</td>\n",
              "    </tr>\n",
              "    <tr>\n",
              "      <th>The Christa McAuliffe School\\I.S. 187</th>\n",
              "      <td>22.0</td>\n",
              "      <td>91.0</td>\n",
              "      <td>1.9</td>\n",
              "      <td>88.0</td>\n",
              "      <td>89.1</td>\n",
              "      <td>91.2</td>\n",
              "      <td>92.6</td>\n",
              "      <td>93.9</td>\n",
              "    </tr>\n",
              "    <tr>\n",
              "      <th>East Side Middle School</th>\n",
              "      <td>16.0</td>\n",
              "      <td>90.4</td>\n",
              "      <td>4.5</td>\n",
              "      <td>82.7</td>\n",
              "      <td>85.6</td>\n",
              "      <td>92.3</td>\n",
              "      <td>94.0</td>\n",
              "      <td>94.9</td>\n",
              "    </tr>\n",
              "    <tr>\n",
              "      <th>...</th>\n",
              "      <td>...</td>\n",
              "      <td>...</td>\n",
              "      <td>...</td>\n",
              "      <td>...</td>\n",
              "      <td>...</td>\n",
              "      <td>...</td>\n",
              "      <td>...</td>\n",
              "      <td>...</td>\n",
              "    </tr>\n",
              "    <tr>\n",
              "      <th>Success Academy Charter School - Harlem 3</th>\n",
              "      <td>0.0</td>\n",
              "      <td>NaN</td>\n",
              "      <td>NaN</td>\n",
              "      <td>NaN</td>\n",
              "      <td>NaN</td>\n",
              "      <td>NaN</td>\n",
              "      <td>NaN</td>\n",
              "      <td>NaN</td>\n",
              "    </tr>\n",
              "    <tr>\n",
              "      <th>Technology, Arts, and Sciences Studio</th>\n",
              "      <td>0.0</td>\n",
              "      <td>NaN</td>\n",
              "      <td>NaN</td>\n",
              "      <td>NaN</td>\n",
              "      <td>NaN</td>\n",
              "      <td>NaN</td>\n",
              "      <td>NaN</td>\n",
              "      <td>NaN</td>\n",
              "    </tr>\n",
              "    <tr>\n",
              "      <th>The 47 American Sign Language &amp; English Lower Scho</th>\n",
              "      <td>0.0</td>\n",
              "      <td>NaN</td>\n",
              "      <td>NaN</td>\n",
              "      <td>NaN</td>\n",
              "      <td>NaN</td>\n",
              "      <td>NaN</td>\n",
              "      <td>NaN</td>\n",
              "      <td>NaN</td>\n",
              "    </tr>\n",
              "    <tr>\n",
              "      <th>University Neighborhood Middle School</th>\n",
              "      <td>0.0</td>\n",
              "      <td>NaN</td>\n",
              "      <td>NaN</td>\n",
              "      <td>NaN</td>\n",
              "      <td>NaN</td>\n",
              "      <td>NaN</td>\n",
              "      <td>NaN</td>\n",
              "      <td>NaN</td>\n",
              "    </tr>\n",
              "    <tr>\n",
              "      <th>Upper School @ P.S. 25</th>\n",
              "      <td>0.0</td>\n",
              "      <td>NaN</td>\n",
              "      <td>NaN</td>\n",
              "      <td>NaN</td>\n",
              "      <td>NaN</td>\n",
              "      <td>NaN</td>\n",
              "      <td>NaN</td>\n",
              "      <td>NaN</td>\n",
              "    </tr>\n",
              "  </tbody>\n",
              "</table>\n",
              "<p>1012 rows × 8 columns</p>\n",
              "</div>"
            ],
            "text/plain": [
              "                                                    count  mean  ...   75%   max\n",
              "School Name                                                      ...            \n",
              "Stuyvesant High School                              271.0  91.7  ...  94.0  97.4\n",
              "J.H.S. 185 Edward Bleeker                            46.0  91.7  ...  94.4  96.8\n",
              "The Anderson School                                  43.0  91.4  ...  94.4  96.8\n",
              "The Christa McAuliffe School\\I.S. 187                22.0  91.0  ...  92.6  93.9\n",
              "East Side Middle School                              16.0  90.4  ...  94.0  94.9\n",
              "...                                                   ...   ...  ...   ...   ...\n",
              "Success Academy Charter School - Harlem 3             0.0   NaN  ...   NaN   NaN\n",
              "Technology, Arts, and Sciences Studio                 0.0   NaN  ...   NaN   NaN\n",
              "The 47 American Sign Language & English Lower Scho    0.0   NaN  ...   NaN   NaN\n",
              "University Neighborhood Middle School                 0.0   NaN  ...   NaN   NaN\n",
              "Upper School @ P.S. 25                                0.0   NaN  ...   NaN   NaN\n",
              "\n",
              "[1012 rows x 8 columns]"
            ]
          },
          "metadata": {
            "tags": []
          },
          "execution_count": 41
        }
      ]
    },
    {
      "cell_type": "code",
      "metadata": {
        "colab": {
          "base_uri": "https://localhost:8080/",
          "height": 431
        },
        "id": "zoMMXyFE7kYt",
        "outputId": "184de2ae-c9de-4841-e0d8-9f52849b6c1d"
      },
      "source": [
        "df.groupby(['School Name'])['Mean Score'].describe().sort_values('mean', ascending=False).round(1)"
      ],
      "execution_count": null,
      "outputs": [
        {
          "output_type": "execute_result",
          "data": {
            "text/html": [
              "<div>\n",
              "<style scoped>\n",
              "    .dataframe tbody tr th:only-of-type {\n",
              "        vertical-align: middle;\n",
              "    }\n",
              "\n",
              "    .dataframe tbody tr th {\n",
              "        vertical-align: top;\n",
              "    }\n",
              "\n",
              "    .dataframe thead th {\n",
              "        text-align: right;\n",
              "    }\n",
              "</style>\n",
              "<table border=\"1\" class=\"dataframe\">\n",
              "  <thead>\n",
              "    <tr style=\"text-align: right;\">\n",
              "      <th></th>\n",
              "      <th>count</th>\n",
              "      <th>mean</th>\n",
              "      <th>std</th>\n",
              "      <th>min</th>\n",
              "      <th>25%</th>\n",
              "      <th>50%</th>\n",
              "      <th>75%</th>\n",
              "      <th>max</th>\n",
              "    </tr>\n",
              "    <tr>\n",
              "      <th>School Name</th>\n",
              "      <th></th>\n",
              "      <th></th>\n",
              "      <th></th>\n",
              "      <th></th>\n",
              "      <th></th>\n",
              "      <th></th>\n",
              "      <th></th>\n",
              "      <th></th>\n",
              "    </tr>\n",
              "  </thead>\n",
              "  <tbody>\n",
              "    <tr>\n",
              "      <th>Stuyvesant High School</th>\n",
              "      <td>271.0</td>\n",
              "      <td>91.7</td>\n",
              "      <td>3.4</td>\n",
              "      <td>81.1</td>\n",
              "      <td>89.4</td>\n",
              "      <td>92.5</td>\n",
              "      <td>94.0</td>\n",
              "      <td>97.4</td>\n",
              "    </tr>\n",
              "    <tr>\n",
              "      <th>J.H.S. 185 Edward Bleeker</th>\n",
              "      <td>46.0</td>\n",
              "      <td>91.7</td>\n",
              "      <td>3.0</td>\n",
              "      <td>86.0</td>\n",
              "      <td>89.6</td>\n",
              "      <td>91.2</td>\n",
              "      <td>94.4</td>\n",
              "      <td>96.8</td>\n",
              "    </tr>\n",
              "    <tr>\n",
              "      <th>The Anderson School</th>\n",
              "      <td>43.0</td>\n",
              "      <td>91.4</td>\n",
              "      <td>3.7</td>\n",
              "      <td>82.6</td>\n",
              "      <td>89.1</td>\n",
              "      <td>92.7</td>\n",
              "      <td>94.4</td>\n",
              "      <td>96.8</td>\n",
              "    </tr>\n",
              "    <tr>\n",
              "      <th>The Christa McAuliffe School\\I.S. 187</th>\n",
              "      <td>22.0</td>\n",
              "      <td>91.0</td>\n",
              "      <td>1.9</td>\n",
              "      <td>88.0</td>\n",
              "      <td>89.1</td>\n",
              "      <td>91.2</td>\n",
              "      <td>92.6</td>\n",
              "      <td>93.9</td>\n",
              "    </tr>\n",
              "    <tr>\n",
              "      <th>East Side Middle School</th>\n",
              "      <td>16.0</td>\n",
              "      <td>90.4</td>\n",
              "      <td>4.5</td>\n",
              "      <td>82.7</td>\n",
              "      <td>85.6</td>\n",
              "      <td>92.3</td>\n",
              "      <td>94.0</td>\n",
              "      <td>94.9</td>\n",
              "    </tr>\n",
              "    <tr>\n",
              "      <th>...</th>\n",
              "      <td>...</td>\n",
              "      <td>...</td>\n",
              "      <td>...</td>\n",
              "      <td>...</td>\n",
              "      <td>...</td>\n",
              "      <td>...</td>\n",
              "      <td>...</td>\n",
              "      <td>...</td>\n",
              "    </tr>\n",
              "    <tr>\n",
              "      <th>Success Academy Charter School - Harlem 3</th>\n",
              "      <td>0.0</td>\n",
              "      <td>NaN</td>\n",
              "      <td>NaN</td>\n",
              "      <td>NaN</td>\n",
              "      <td>NaN</td>\n",
              "      <td>NaN</td>\n",
              "      <td>NaN</td>\n",
              "      <td>NaN</td>\n",
              "    </tr>\n",
              "    <tr>\n",
              "      <th>Technology, Arts, and Sciences Studio</th>\n",
              "      <td>0.0</td>\n",
              "      <td>NaN</td>\n",
              "      <td>NaN</td>\n",
              "      <td>NaN</td>\n",
              "      <td>NaN</td>\n",
              "      <td>NaN</td>\n",
              "      <td>NaN</td>\n",
              "      <td>NaN</td>\n",
              "    </tr>\n",
              "    <tr>\n",
              "      <th>The 47 American Sign Language &amp; English Lower Scho</th>\n",
              "      <td>0.0</td>\n",
              "      <td>NaN</td>\n",
              "      <td>NaN</td>\n",
              "      <td>NaN</td>\n",
              "      <td>NaN</td>\n",
              "      <td>NaN</td>\n",
              "      <td>NaN</td>\n",
              "      <td>NaN</td>\n",
              "    </tr>\n",
              "    <tr>\n",
              "      <th>University Neighborhood Middle School</th>\n",
              "      <td>0.0</td>\n",
              "      <td>NaN</td>\n",
              "      <td>NaN</td>\n",
              "      <td>NaN</td>\n",
              "      <td>NaN</td>\n",
              "      <td>NaN</td>\n",
              "      <td>NaN</td>\n",
              "      <td>NaN</td>\n",
              "    </tr>\n",
              "    <tr>\n",
              "      <th>Upper School @ P.S. 25</th>\n",
              "      <td>0.0</td>\n",
              "      <td>NaN</td>\n",
              "      <td>NaN</td>\n",
              "      <td>NaN</td>\n",
              "      <td>NaN</td>\n",
              "      <td>NaN</td>\n",
              "      <td>NaN</td>\n",
              "      <td>NaN</td>\n",
              "    </tr>\n",
              "  </tbody>\n",
              "</table>\n",
              "<p>1012 rows × 8 columns</p>\n",
              "</div>"
            ],
            "text/plain": [
              "                                                    count  mean  ...   75%   max\n",
              "School Name                                                      ...            \n",
              "Stuyvesant High School                              271.0  91.7  ...  94.0  97.4\n",
              "J.H.S. 185 Edward Bleeker                            46.0  91.7  ...  94.4  96.8\n",
              "The Anderson School                                  43.0  91.4  ...  94.4  96.8\n",
              "The Christa McAuliffe School\\I.S. 187                22.0  91.0  ...  92.6  93.9\n",
              "East Side Middle School                              16.0  90.4  ...  94.0  94.9\n",
              "...                                                   ...   ...  ...   ...   ...\n",
              "Success Academy Charter School - Harlem 3             0.0   NaN  ...   NaN   NaN\n",
              "Technology, Arts, and Sciences Studio                 0.0   NaN  ...   NaN   NaN\n",
              "The 47 American Sign Language & English Lower Scho    0.0   NaN  ...   NaN   NaN\n",
              "University Neighborhood Middle School                 0.0   NaN  ...   NaN   NaN\n",
              "Upper School @ P.S. 25                                0.0   NaN  ...   NaN   NaN\n",
              "\n",
              "[1012 rows x 8 columns]"
            ]
          },
          "metadata": {
            "tags": []
          },
          "execution_count": 47
        }
      ]
    },
    {
      "cell_type": "code",
      "metadata": {
        "colab": {
          "base_uri": "https://localhost:8080/",
          "height": 582
        },
        "id": "APf9fFgT9A4V",
        "outputId": "ef80167d-fb0f-444c-9076-65fcf19b6b2e"
      },
      "source": [
        "df.groupby(['School Name'])['Mean Score'].describe().sort_values('mean', ascending=False).round(1).plot(kind='bar')"
      ],
      "execution_count": null,
      "outputs": [
        {
          "output_type": "execute_result",
          "data": {
            "text/plain": [
              "<matplotlib.axes._subplots.AxesSubplot at 0x7ff829b22a90>"
            ]
          },
          "metadata": {
            "tags": []
          },
          "execution_count": 51
        },
        {
          "output_type": "display_data",
          "data": {
            "image/png": "[encoded data removed]",
            "text/plain": [
              "<Figure size 432x288 with 1 Axes>"
            ]
          },
          "metadata": {
            "tags": [],
            "needs_background": "light"
          }
        }
      ]
    },
    {
      "cell_type": "code",
      "metadata": {
        "colab": {
          "base_uri": "https://localhost:8080/"
        },
        "id": "Kz4fjezuE38n",
        "outputId": "c5360808-271d-419d-c054-3303b8a90f89"
      },
      "source": [
        "df.groupby(['School Name'])['Mean Score'].median().round(1)"
      ],
      "execution_count": null,
      "outputs": [
        {
          "output_type": "execute_result",
          "data": {
            "text/plain": [
              "School Name\n",
              "47 The American Sign Language and English Secondar    60.9\n",
              "A. Philip Randolph Campus High School                 66.6\n",
              "ACORN Community High School                           62.0\n",
              "Abraham Lincoln High School                           61.9\n",
              "Abraham Lincoln Yabc                                  58.8\n",
              "                                                      ... \n",
              "Young Women's Leadership School                       71.9\n",
              "Young Women's Leadership School of Brooklyn           66.4\n",
              "Young Women's Leadership School of the Bronx          71.1\n",
              "Young Women's Leadership School, Astoria              71.8\n",
              "Young Women's Leadership School, Queens               68.2\n",
              "Name: Mean Score, Length: 1012, dtype: float64"
            ]
          },
          "metadata": {
            "tags": []
          },
          "execution_count": 52
        }
      ]
    },
    {
      "cell_type": "code",
      "metadata": {
        "id": "kGORU0GqK-jv"
      },
      "source": [
        "df2 = df[(df['School Name']=='The Anderson School') & (['Regents Exam'] == 'English')]\n"
      ],
      "execution_count": null,
      "outputs": []
    },
    {
      "cell_type": "code",
      "metadata": {
        "colab": {
          "base_uri": "https://localhost:8080/",
          "height": 162
        },
        "id": "9xguvapsSJRN",
        "outputId": "92740907-21d6-4516-ae3b-7dee8b91f282"
      },
      "source": [
        "df3[['School Name']=='Abraham Lincoln High School', ['Regents Exam']=='Geometry']"
      ],
      "execution_count": null,
      "outputs": [
        {
          "output_type": "error",
          "ename": "NameError",
          "evalue": "ignored",
          "traceback": [
            "\u001b[0;31m---------------------------------------------------------------------------\u001b[0m",
            "\u001b[0;31mNameError\u001b[0m                                 Traceback (most recent call last)",
            "\u001b[0;32m<ipython-input-30-98e3492b84a8>\u001b[0m in \u001b[0;36m<module>\u001b[0;34m()\u001b[0m\n\u001b[0;32m----> 1\u001b[0;31m \u001b[0mdf3\u001b[0m\u001b[0;34m[\u001b[0m\u001b[0;34m[\u001b[0m\u001b[0;34m'School Name'\u001b[0m\u001b[0;34m]\u001b[0m\u001b[0;34m==\u001b[0m\u001b[0;34m'Abraham Lincoln High School'\u001b[0m\u001b[0;34m,\u001b[0m \u001b[0;34m[\u001b[0m\u001b[0;34m'Regents Exam'\u001b[0m\u001b[0;34m]\u001b[0m\u001b[0;34m==\u001b[0m\u001b[0;34m'Geometry'\u001b[0m\u001b[0;34m]\u001b[0m\u001b[0;34m\u001b[0m\u001b[0;34m\u001b[0m\u001b[0m\n\u001b[0m",
            "\u001b[0;31mNameError\u001b[0m: name 'df3' is not defined"
          ]
        }
      ]
    },
    {
      "cell_type": "code",
      "metadata": {
        "colab": {
          "base_uri": "https://localhost:8080/"
        },
        "id": "8gO6fwE3NfJd",
        "outputId": "b420a268-853d-48d4-fc09-7e1d90d87255"
      },
      "source": [
        "df2.mean().round(1)"
      ],
      "execution_count": null,
      "outputs": [
        {
          "output_type": "execute_result",
          "data": {
            "text/plain": [
              "School DBN                    NaN\n",
              "School Name                   NaN\n",
              "School Level                  NaN\n",
              "Regents Exam                  NaN\n",
              "Year                          NaN\n",
              "Total Tested                  NaN\n",
              "Mean Score                    NaN\n",
              "Number Scoring Below 65       NaN\n",
              "Percent Scoring Below 65      NaN\n",
              "Number Scoring 65 or Above    NaN\n",
              "Percent Scoring 65 or Above   NaN\n",
              "Number Scoring 80 or Above    NaN\n",
              "Percent Scoring 80 or Above   NaN\n",
              "Number Scoring CR             NaN\n",
              "Percent Scoring CR            NaN\n",
              "dtype: float64"
            ]
          },
          "metadata": {
            "tags": []
          },
          "execution_count": 24
        }
      ]
    },
    {
      "cell_type": "code",
      "metadata": {
        "colab": {
          "base_uri": "https://localhost:8080/",
          "height": 284
        },
        "id": "_Kxsg2ueOg5y",
        "outputId": "0377c8e2-e495-49eb-b853-d864fe4c3ae3"
      },
      "source": [
        "df2.describe()"
      ],
      "execution_count": null,
      "outputs": [
        {
          "output_type": "execute_result",
          "data": {
            "text/html": [
              "<div>\n",
              "<style scoped>\n",
              "    .dataframe tbody tr th:only-of-type {\n",
              "        vertical-align: middle;\n",
              "    }\n",
              "\n",
              "    .dataframe tbody tr th {\n",
              "        vertical-align: top;\n",
              "    }\n",
              "\n",
              "    .dataframe thead th {\n",
              "        text-align: right;\n",
              "    }\n",
              "</style>\n",
              "<table border=\"1\" class=\"dataframe\">\n",
              "  <thead>\n",
              "    <tr style=\"text-align: right;\">\n",
              "      <th></th>\n",
              "      <th>Year</th>\n",
              "      <th>Total Tested</th>\n",
              "      <th>Mean Score</th>\n",
              "    </tr>\n",
              "  </thead>\n",
              "  <tbody>\n",
              "    <tr>\n",
              "      <th>count</th>\n",
              "      <td>0.0</td>\n",
              "      <td>0.0</td>\n",
              "      <td>0.0</td>\n",
              "    </tr>\n",
              "    <tr>\n",
              "      <th>mean</th>\n",
              "      <td>NaN</td>\n",
              "      <td>NaN</td>\n",
              "      <td>NaN</td>\n",
              "    </tr>\n",
              "    <tr>\n",
              "      <th>std</th>\n",
              "      <td>NaN</td>\n",
              "      <td>NaN</td>\n",
              "      <td>NaN</td>\n",
              "    </tr>\n",
              "    <tr>\n",
              "      <th>min</th>\n",
              "      <td>NaN</td>\n",
              "      <td>NaN</td>\n",
              "      <td>NaN</td>\n",
              "    </tr>\n",
              "    <tr>\n",
              "      <th>25%</th>\n",
              "      <td>NaN</td>\n",
              "      <td>NaN</td>\n",
              "      <td>NaN</td>\n",
              "    </tr>\n",
              "    <tr>\n",
              "      <th>50%</th>\n",
              "      <td>NaN</td>\n",
              "      <td>NaN</td>\n",
              "      <td>NaN</td>\n",
              "    </tr>\n",
              "    <tr>\n",
              "      <th>75%</th>\n",
              "      <td>NaN</td>\n",
              "      <td>NaN</td>\n",
              "      <td>NaN</td>\n",
              "    </tr>\n",
              "    <tr>\n",
              "      <th>max</th>\n",
              "      <td>NaN</td>\n",
              "      <td>NaN</td>\n",
              "      <td>NaN</td>\n",
              "    </tr>\n",
              "  </tbody>\n",
              "</table>\n",
              "</div>"
            ],
            "text/plain": [
              "       Year  Total Tested  Mean Score\n",
              "count   0.0           0.0         0.0\n",
              "mean    NaN           NaN         NaN\n",
              "std     NaN           NaN         NaN\n",
              "min     NaN           NaN         NaN\n",
              "25%     NaN           NaN         NaN\n",
              "50%     NaN           NaN         NaN\n",
              "75%     NaN           NaN         NaN\n",
              "max     NaN           NaN         NaN"
            ]
          },
          "metadata": {
            "tags": []
          },
          "execution_count": 18
        }
      ]
    },
    {
      "cell_type": "code",
      "metadata": {
        "colab": {
          "base_uri": "https://localhost:8080/",
          "height": 81
        },
        "id": "BjeS9wc5O2Sv",
        "outputId": "2d2f7353-eb3a-412f-8761-f0ed2fffb2df"
      },
      "source": [
        "df2"
      ],
      "execution_count": null,
      "outputs": [
        {
          "output_type": "execute_result",
          "data": {
            "text/html": [
              "<div>\n",
              "<style scoped>\n",
              "    .dataframe tbody tr th:only-of-type {\n",
              "        vertical-align: middle;\n",
              "    }\n",
              "\n",
              "    .dataframe tbody tr th {\n",
              "        vertical-align: top;\n",
              "    }\n",
              "\n",
              "    .dataframe thead th {\n",
              "        text-align: right;\n",
              "    }\n",
              "</style>\n",
              "<table border=\"1\" class=\"dataframe\">\n",
              "  <thead>\n",
              "    <tr style=\"text-align: right;\">\n",
              "      <th></th>\n",
              "      <th>School DBN</th>\n",
              "      <th>School Name</th>\n",
              "      <th>School Level</th>\n",
              "      <th>Regents Exam</th>\n",
              "      <th>Year</th>\n",
              "      <th>Total Tested</th>\n",
              "      <th>Mean Score</th>\n",
              "      <th>Number Scoring Below 65</th>\n",
              "      <th>Percent Scoring Below 65</th>\n",
              "      <th>Number Scoring 65 or Above</th>\n",
              "      <th>Percent Scoring 65 or Above</th>\n",
              "      <th>Number Scoring 80 or Above</th>\n",
              "      <th>Percent Scoring 80 or Above</th>\n",
              "      <th>Number Scoring CR</th>\n",
              "      <th>Percent Scoring CR</th>\n",
              "    </tr>\n",
              "  </thead>\n",
              "  <tbody>\n",
              "  </tbody>\n",
              "</table>\n",
              "</div>"
            ],
            "text/plain": [
              "Empty DataFrame\n",
              "Columns: [School DBN, School Name, School Level, Regents Exam, Year, Total Tested, Mean Score, Number Scoring Below 65, Percent Scoring Below 65, Number Scoring 65 or Above, Percent Scoring 65 or Above, Number Scoring 80 or Above, Percent Scoring 80 or Above, Number Scoring CR, Percent Scoring CR]\n",
              "Index: []"
            ]
          },
          "metadata": {
            "tags": []
          },
          "execution_count": 19
        }
      ]
    },
    {
      "cell_type": "code",
      "metadata": {
        "colab": {
          "base_uri": "https://localhost:8080/",
          "height": 365
        },
        "id": "9rCTugWUP5j5",
        "outputId": "4e1b5291-4db5-4b98-df16-a9fcb49d6434"
      },
      "source": [
        "df.hist()"
      ],
      "execution_count": null,
      "outputs": [
        {
          "output_type": "execute_result",
          "data": {
            "text/plain": [
              "array([[<matplotlib.axes._subplots.AxesSubplot object at 0x7fe806a2e1d0>,\n",
              "        <matplotlib.axes._subplots.AxesSubplot object at 0x7fe8069d9b10>],\n",
              "       [<matplotlib.axes._subplots.AxesSubplot object at 0x7fe80699c1d0>,\n",
              "        <matplotlib.axes._subplots.AxesSubplot object at 0x7fe806951850>]],\n",
              "      dtype=object)"
            ]
          },
          "metadata": {
            "tags": []
          },
          "execution_count": 28
        },
        {
          "output_type": "display_data",
          "data": {
            "image/png": "[encoded data removed]",
            "text/plain": [
              "<Figure size 432x288 with 4 Axes>"
            ]
          },
          "metadata": {
            "tags": [],
            "needs_background": "light"
          }
        }
      ]
    },
    {
      "cell_type": "code",
      "metadata": {
        "colab": {
          "base_uri": "https://localhost:8080/",
          "height": 282
        },
        "id": "NlKYPnC2QGB1",
        "outputId": "bf72424b-8d07-4286-d069-41cb8e1fff8f"
      },
      "source": [
        "df.plot()"
      ],
      "execution_count": null,
      "outputs": [
        {
          "output_type": "execute_result",
          "data": {
            "text/plain": [
              "<matplotlib.axes._subplots.AxesSubplot at 0x7fe80685be50>"
            ]
          },
          "metadata": {
            "tags": []
          },
          "execution_count": 29
        },
        {
          "output_type": "display_data",
          "data": {
            "image/png": "[encoded data removed]",
            "text/plain": [
              "<Figure size 432x288 with 1 Axes>"
            ]
          },
          "metadata": {
            "tags": [],
            "needs_background": "light"
          }
        }
      ]
    },
    {
      "cell_type": "code",
      "metadata": {
        "colab": {
          "base_uri": "https://localhost:8080/",
          "height": 282
        },
        "id": "pnxASm_6SvHy",
        "outputId": "a7da5d74-bbb1-44f8-b2f4-1819342de3ba"
      },
      "source": [
        "df.plot(kind = \"hist\")"
      ],
      "execution_count": null,
      "outputs": [
        {
          "output_type": "execute_result",
          "data": {
            "text/plain": [
              "<matplotlib.axes._subplots.AxesSubplot at 0x7fe802699a90>"
            ]
          },
          "metadata": {
            "tags": []
          },
          "execution_count": 33
        },
        {
          "output_type": "display_data",
          "data": {
            "image/png": "[encoded data removed]",
            "text/plain": [
              "<Figure size 432x288 with 1 Axes>"
            ]
          },
          "metadata": {
            "tags": [],
            "needs_background": "light"
          }
        }
      ]
    },
    {
      "cell_type": "code",
      "metadata": {
        "colab": {
          "base_uri": "https://localhost:8080/",
          "height": 582
        },
        "id": "mD7dtpyZU3ig",
        "outputId": "16e73167-5d95-4e8b-b9aa-4be432c5df3e"
      },
      "source": [
        "df.groupby(['School Name'])['Mean Score'].mean().plot(kind='bar')"
      ],
      "execution_count": null,
      "outputs": [
        {
          "output_type": "execute_result",
          "data": {
            "text/plain": [
              "<matplotlib.axes._subplots.AxesSubplot at 0x7fe7f4b08a10>"
            ]
          },
          "metadata": {
            "tags": []
          },
          "execution_count": 35
        },
        {
          "output_type": "display_data",
          "data": {
            "image/png": "[encoded data removed]",
            "text/plain": [
              "<Figure size 432x288 with 1 Axes>"
            ]
          },
          "metadata": {
            "tags": [],
            "needs_background": "light"
          }
        }
      ]
    },
    {
      "cell_type": "code",
      "metadata": {
        "colab": {
          "base_uri": "https://localhost:8080/",
          "height": 282
        },
        "id": "MBT92QNvWP2Q",
        "outputId": "52129c57-a006-4d4c-fe28-91bf967595f7"
      },
      "source": [
        "df[df['Regents Exam']=='Geometry'].count().plot(kind='barh')"
      ],
      "execution_count": null,
      "outputs": [
        {
          "output_type": "execute_result",
          "data": {
            "text/plain": [
              "<matplotlib.axes._subplots.AxesSubplot at 0x7fe7f39c6f90>"
            ]
          },
          "metadata": {
            "tags": []
          },
          "execution_count": 37
        },
        {
          "output_type": "display_data",
          "data": {
            "image/png": "[encoded data removed]",
            "text/plain": [
              "<Figure size 432x288 with 1 Axes>"
            ]
          },
          "metadata": {
            "tags": [],
            "needs_background": "light"
          }
        }
      ]
    },
    {
      "cell_type": "code",
      "metadata": {
        "colab": {
          "base_uri": "https://localhost:8080/",
          "height": 282
        },
        "id": "LBtNxXQIXvMp",
        "outputId": "e306bff6-8582-4e81-b1e6-1d3a105edd10"
      },
      "source": [
        "df[df['Regents Exam']=='Geometry'].median().plot(kind='barh')"
      ],
      "execution_count": null,
      "outputs": [
        {
          "output_type": "execute_result",
          "data": {
            "text/plain": [
              "<matplotlib.axes._subplots.AxesSubplot at 0x7fe7f2ec4910>"
            ]
          },
          "metadata": {
            "tags": []
          },
          "execution_count": 38
        },
        {
          "output_type": "display_data",
          "data": {
            "image/png": "[encoded data removed]",
            "text/plain": [
              "<Figure size 432x288 with 1 Axes>"
            ]
          },
          "metadata": {
            "tags": [],
            "needs_background": "light"
          }
        }
      ]
    },
    {
      "cell_type": "code",
      "metadata": {
        "colab": {
          "base_uri": "https://localhost:8080/",
          "height": 162
        },
        "id": "40Y5LzrjYM7d",
        "outputId": "93861400-f2f9-4e34-d77a-c43b66622ec1"
      },
      "source": [
        "df[df['Regents Exam']=='Geometry' & ['School Name'] =='The Anderson School'].median().plot(kind='barh')"
      ],
      "execution_count": null,
      "outputs": [
        {
          "output_type": "error",
          "ename": "TypeError",
          "evalue": "ignored",
          "traceback": [
            "\u001b[0;31m---------------------------------------------------------------------------\u001b[0m",
            "\u001b[0;31mTypeError\u001b[0m                                 Traceback (most recent call last)",
            "\u001b[0;32m<ipython-input-41-91662eb62228>\u001b[0m in \u001b[0;36m<module>\u001b[0;34m()\u001b[0m\n\u001b[0;32m----> 1\u001b[0;31m \u001b[0mdf\u001b[0m\u001b[0;34m[\u001b[0m\u001b[0mdf\u001b[0m\u001b[0;34m[\u001b[0m\u001b[0;34m'Regents Exam'\u001b[0m\u001b[0;34m]\u001b[0m\u001b[0;34m==\u001b[0m\u001b[0;34m'Geometry'\u001b[0m \u001b[0;34m&\u001b[0m \u001b[0;34m[\u001b[0m\u001b[0;34m'School Name'\u001b[0m\u001b[0;34m]\u001b[0m \u001b[0;34m==\u001b[0m\u001b[0;34m'The Anderson School'\u001b[0m\u001b[0;34m]\u001b[0m\u001b[0;34m.\u001b[0m\u001b[0mmedian\u001b[0m\u001b[0;34m(\u001b[0m\u001b[0;34m)\u001b[0m\u001b[0;34m.\u001b[0m\u001b[0mplot\u001b[0m\u001b[0;34m(\u001b[0m\u001b[0mkind\u001b[0m\u001b[0;34m=\u001b[0m\u001b[0;34m'barh'\u001b[0m\u001b[0;34m)\u001b[0m\u001b[0;34m\u001b[0m\u001b[0;34m\u001b[0m\u001b[0m\n\u001b[0m",
            "\u001b[0;31mTypeError\u001b[0m: unsupported operand type(s) for &: 'str' and 'list'"
          ]
        }
      ]
    },
    {
      "cell_type": "code",
      "metadata": {
        "colab": {
          "base_uri": "https://localhost:8080/",
          "height": 555
        },
        "id": "-52pnfLaY6Tf",
        "outputId": "d93e78f2-7e77-4a4f-b97a-5f03b52260d1"
      },
      "source": [
        "df[df['Regents Exam'] , ['School Name']].median().plot(kind='barh')"
      ],
      "execution_count": null,
      "outputs": [
        {
          "output_type": "error",
          "ename": "TypeError",
          "evalue": "ignored",
          "traceback": [
            "\u001b[0;31m---------------------------------------------------------------------------\u001b[0m",
            "\u001b[0;31mTypeError\u001b[0m                                 Traceback (most recent call last)",
            "\u001b[0;32m<ipython-input-43-ea74635b3b92>\u001b[0m in \u001b[0;36m<module>\u001b[0;34m()\u001b[0m\n\u001b[0;32m----> 1\u001b[0;31m \u001b[0mdf\u001b[0m\u001b[0;34m[\u001b[0m\u001b[0mdf\u001b[0m\u001b[0;34m[\u001b[0m\u001b[0;34m'Regents Exam'\u001b[0m\u001b[0;34m]\u001b[0m \u001b[0;34m,\u001b[0m \u001b[0;34m[\u001b[0m\u001b[0;34m'School Name'\u001b[0m\u001b[0;34m]\u001b[0m\u001b[0;34m]\u001b[0m\u001b[0;34m.\u001b[0m\u001b[0mmedian\u001b[0m\u001b[0;34m(\u001b[0m\u001b[0;34m)\u001b[0m\u001b[0;34m.\u001b[0m\u001b[0mplot\u001b[0m\u001b[0;34m(\u001b[0m\u001b[0mkind\u001b[0m\u001b[0;34m=\u001b[0m\u001b[0;34m'barh'\u001b[0m\u001b[0;34m)\u001b[0m\u001b[0;34m\u001b[0m\u001b[0;34m\u001b[0m\u001b[0m\n\u001b[0m",
            "\u001b[0;32m/usr/local/lib/python3.7/dist-packages/pandas/core/frame.py\u001b[0m in \u001b[0;36m__getitem__\u001b[0;34m(self, key)\u001b[0m\n\u001b[1;32m   2904\u001b[0m             \u001b[0;32mif\u001b[0m \u001b[0mself\u001b[0m\u001b[0;34m.\u001b[0m\u001b[0mcolumns\u001b[0m\u001b[0;34m.\u001b[0m\u001b[0mnlevels\u001b[0m \u001b[0;34m>\u001b[0m \u001b[0;36m1\u001b[0m\u001b[0;34m:\u001b[0m\u001b[0;34m\u001b[0m\u001b[0;34m\u001b[0m\u001b[0m\n\u001b[1;32m   2905\u001b[0m                 \u001b[0;32mreturn\u001b[0m \u001b[0mself\u001b[0m\u001b[0;34m.\u001b[0m\u001b[0m_getitem_multilevel\u001b[0m\u001b[0;34m(\u001b[0m\u001b[0mkey\u001b[0m\u001b[0;34m)\u001b[0m\u001b[0;34m\u001b[0m\u001b[0;34m\u001b[0m\u001b[0m\n\u001b[0;32m-> 2906\u001b[0;31m             \u001b[0mindexer\u001b[0m \u001b[0;34m=\u001b[0m \u001b[0mself\u001b[0m\u001b[0;34m.\u001b[0m\u001b[0mcolumns\u001b[0m\u001b[0;34m.\u001b[0m\u001b[0mget_loc\u001b[0m\u001b[0;34m(\u001b[0m\u001b[0mkey\u001b[0m\u001b[0;34m)\u001b[0m\u001b[0;34m\u001b[0m\u001b[0;34m\u001b[0m\u001b[0m\n\u001b[0m\u001b[1;32m   2907\u001b[0m             \u001b[0;32mif\u001b[0m \u001b[0mis_integer\u001b[0m\u001b[0;34m(\u001b[0m\u001b[0mindexer\u001b[0m\u001b[0;34m)\u001b[0m\u001b[0;34m:\u001b[0m\u001b[0;34m\u001b[0m\u001b[0;34m\u001b[0m\u001b[0m\n\u001b[1;32m   2908\u001b[0m                 \u001b[0mindexer\u001b[0m \u001b[0;34m=\u001b[0m \u001b[0;34m[\u001b[0m\u001b[0mindexer\u001b[0m\u001b[0;34m]\u001b[0m\u001b[0;34m\u001b[0m\u001b[0;34m\u001b[0m\u001b[0m\n",
            "\u001b[0;32m/usr/local/lib/python3.7/dist-packages/pandas/core/indexes/base.py\u001b[0m in \u001b[0;36mget_loc\u001b[0;34m(self, key, method, tolerance)\u001b[0m\n\u001b[1;32m   2896\u001b[0m             \u001b[0mcasted_key\u001b[0m \u001b[0;34m=\u001b[0m \u001b[0mself\u001b[0m\u001b[0;34m.\u001b[0m\u001b[0m_maybe_cast_indexer\u001b[0m\u001b[0;34m(\u001b[0m\u001b[0mkey\u001b[0m\u001b[0;34m)\u001b[0m\u001b[0;34m\u001b[0m\u001b[0;34m\u001b[0m\u001b[0m\n\u001b[1;32m   2897\u001b[0m             \u001b[0;32mtry\u001b[0m\u001b[0;34m:\u001b[0m\u001b[0;34m\u001b[0m\u001b[0;34m\u001b[0m\u001b[0m\n\u001b[0;32m-> 2898\u001b[0;31m                 \u001b[0;32mreturn\u001b[0m \u001b[0mself\u001b[0m\u001b[0;34m.\u001b[0m\u001b[0m_engine\u001b[0m\u001b[0;34m.\u001b[0m\u001b[0mget_loc\u001b[0m\u001b[0;34m(\u001b[0m\u001b[0mcasted_key\u001b[0m\u001b[0;34m)\u001b[0m\u001b[0;34m\u001b[0m\u001b[0;34m\u001b[0m\u001b[0m\n\u001b[0m\u001b[1;32m   2899\u001b[0m             \u001b[0;32mexcept\u001b[0m \u001b[0mKeyError\u001b[0m \u001b[0;32mas\u001b[0m \u001b[0merr\u001b[0m\u001b[0;34m:\u001b[0m\u001b[0;34m\u001b[0m\u001b[0;34m\u001b[0m\u001b[0m\n\u001b[1;32m   2900\u001b[0m                 \u001b[0;32mraise\u001b[0m \u001b[0mKeyError\u001b[0m\u001b[0;34m(\u001b[0m\u001b[0mkey\u001b[0m\u001b[0;34m)\u001b[0m \u001b[0;32mfrom\u001b[0m \u001b[0merr\u001b[0m\u001b[0;34m\u001b[0m\u001b[0;34m\u001b[0m\u001b[0m\n",
            "\u001b[0;32mpandas/_libs/index.pyx\u001b[0m in \u001b[0;36mpandas._libs.index.IndexEngine.get_loc\u001b[0;34m()\u001b[0m\n",
            "\u001b[0;32mpandas/_libs/index.pyx\u001b[0m in \u001b[0;36mpandas._libs.index.IndexEngine.get_loc\u001b[0;34m()\u001b[0m\n",
            "\u001b[0;31mTypeError\u001b[0m: '(0                 Common Core Algebra\n1                  Living Environment\n2                  Living Environment\n3                 Common Core Algebra\n4                 Common Core Algebra\n                     ...             \n212326             Living Environment\n212327             Living Environment\n212328             Living Environment\n212329             Living Environment\n212330    U.S. History and Government\nName: Regents Exam, Length: 212331, dtype: object, ['School Name'])' is an invalid key"
          ]
        }
      ]
    },
    {
      "cell_type": "code",
      "metadata": {
        "colab": {
          "base_uri": "https://localhost:8080/",
          "height": 303
        },
        "id": "X-hNLLtEZIzH",
        "outputId": "c8997660-332f-42ed-be61-fc961b4537ef"
      },
      "source": [
        "df[df['Regents Exam']].median().plot(kind='barh')"
      ],
      "execution_count": null,
      "outputs": [
        {
          "output_type": "error",
          "ename": "ValueError",
          "evalue": "ignored",
          "traceback": [
            "\u001b[0;31m---------------------------------------------------------------------------\u001b[0m",
            "\u001b[0;31mValueError\u001b[0m                                Traceback (most recent call last)",
            "\u001b[0;32m<ipython-input-44-e5b90c0684d3>\u001b[0m in \u001b[0;36m<module>\u001b[0;34m()\u001b[0m\n\u001b[0;32m----> 1\u001b[0;31m \u001b[0mdf\u001b[0m\u001b[0;34m[\u001b[0m\u001b[0mdf\u001b[0m\u001b[0;34m[\u001b[0m\u001b[0;34m'Regents Exam'\u001b[0m\u001b[0;34m]\u001b[0m\u001b[0;34m]\u001b[0m\u001b[0;34m.\u001b[0m\u001b[0mmedian\u001b[0m\u001b[0;34m(\u001b[0m\u001b[0;34m)\u001b[0m\u001b[0;34m.\u001b[0m\u001b[0mplot\u001b[0m\u001b[0;34m(\u001b[0m\u001b[0mkind\u001b[0m\u001b[0;34m=\u001b[0m\u001b[0;34m'barh'\u001b[0m\u001b[0;34m)\u001b[0m\u001b[0;34m\u001b[0m\u001b[0;34m\u001b[0m\u001b[0m\n\u001b[0m",
            "\u001b[0;32m/usr/local/lib/python3.7/dist-packages/pandas/core/frame.py\u001b[0m in \u001b[0;36m__getitem__\u001b[0;34m(self, key)\u001b[0m\n\u001b[1;32m   2894\u001b[0m \u001b[0;34m\u001b[0m\u001b[0m\n\u001b[1;32m   2895\u001b[0m         \u001b[0;31m# Do we have a (boolean) 1d indexer?\u001b[0m\u001b[0;34m\u001b[0m\u001b[0;34m\u001b[0m\u001b[0;34m\u001b[0m\u001b[0m\n\u001b[0;32m-> 2896\u001b[0;31m         \u001b[0;32mif\u001b[0m \u001b[0mcom\u001b[0m\u001b[0;34m.\u001b[0m\u001b[0mis_bool_indexer\u001b[0m\u001b[0;34m(\u001b[0m\u001b[0mkey\u001b[0m\u001b[0;34m)\u001b[0m\u001b[0;34m:\u001b[0m\u001b[0;34m\u001b[0m\u001b[0;34m\u001b[0m\u001b[0m\n\u001b[0m\u001b[1;32m   2897\u001b[0m             \u001b[0;32mreturn\u001b[0m \u001b[0mself\u001b[0m\u001b[0;34m.\u001b[0m\u001b[0m_getitem_bool_array\u001b[0m\u001b[0;34m(\u001b[0m\u001b[0mkey\u001b[0m\u001b[0;34m)\u001b[0m\u001b[0;34m\u001b[0m\u001b[0;34m\u001b[0m\u001b[0m\n\u001b[1;32m   2898\u001b[0m \u001b[0;34m\u001b[0m\u001b[0m\n",
            "\u001b[0;32m/usr/local/lib/python3.7/dist-packages/pandas/core/common.py\u001b[0m in \u001b[0;36mis_bool_indexer\u001b[0;34m(key)\u001b[0m\n\u001b[1;32m    132\u001b[0m                 \u001b[0mna_msg\u001b[0m \u001b[0;34m=\u001b[0m \u001b[0;34m\"Cannot mask with non-boolean array containing NA / NaN values\"\u001b[0m\u001b[0;34m\u001b[0m\u001b[0;34m\u001b[0m\u001b[0m\n\u001b[1;32m    133\u001b[0m                 \u001b[0;32mif\u001b[0m \u001b[0misna\u001b[0m\u001b[0;34m(\u001b[0m\u001b[0mkey\u001b[0m\u001b[0;34m)\u001b[0m\u001b[0;34m.\u001b[0m\u001b[0many\u001b[0m\u001b[0;34m(\u001b[0m\u001b[0;34m)\u001b[0m\u001b[0;34m:\u001b[0m\u001b[0;34m\u001b[0m\u001b[0;34m\u001b[0m\u001b[0m\n\u001b[0;32m--> 134\u001b[0;31m                     \u001b[0;32mraise\u001b[0m \u001b[0mValueError\u001b[0m\u001b[0;34m(\u001b[0m\u001b[0mna_msg\u001b[0m\u001b[0;34m)\u001b[0m\u001b[0;34m\u001b[0m\u001b[0;34m\u001b[0m\u001b[0m\n\u001b[0m\u001b[1;32m    135\u001b[0m                 \u001b[0;32mreturn\u001b[0m \u001b[0;32mFalse\u001b[0m\u001b[0;34m\u001b[0m\u001b[0;34m\u001b[0m\u001b[0m\n\u001b[1;32m    136\u001b[0m             \u001b[0;32mreturn\u001b[0m \u001b[0;32mTrue\u001b[0m\u001b[0;34m\u001b[0m\u001b[0;34m\u001b[0m\u001b[0m\n",
            "\u001b[0;31mValueError\u001b[0m: Cannot mask with non-boolean array containing NA / NaN values"
          ]
        }
      ]
    },
    {
      "cell_type": "code",
      "metadata": {
        "colab": {
          "base_uri": "https://localhost:8080/",
          "height": 303
        },
        "id": "yMKBr_BNZY-3",
        "outputId": "df2a1201-3b95-45fe-bdee-5d32c22a659b"
      },
      "source": [
        "df[df['Regents Exam']].count().plot(kind='barh')"
      ],
      "execution_count": null,
      "outputs": [
        {
          "output_type": "error",
          "ename": "ValueError",
          "evalue": "ignored",
          "traceback": [
            "\u001b[0;31m---------------------------------------------------------------------------\u001b[0m",
            "\u001b[0;31mValueError\u001b[0m                                Traceback (most recent call last)",
            "\u001b[0;32m<ipython-input-46-eceed8adaba7>\u001b[0m in \u001b[0;36m<module>\u001b[0;34m()\u001b[0m\n\u001b[0;32m----> 1\u001b[0;31m \u001b[0mdf\u001b[0m\u001b[0;34m[\u001b[0m\u001b[0mdf\u001b[0m\u001b[0;34m[\u001b[0m\u001b[0;34m'Regents Exam'\u001b[0m\u001b[0;34m]\u001b[0m\u001b[0;34m]\u001b[0m\u001b[0;34m.\u001b[0m\u001b[0mcount\u001b[0m\u001b[0;34m(\u001b[0m\u001b[0;34m)\u001b[0m\u001b[0;34m.\u001b[0m\u001b[0mplot\u001b[0m\u001b[0;34m(\u001b[0m\u001b[0mkind\u001b[0m\u001b[0;34m=\u001b[0m\u001b[0;34m'barh'\u001b[0m\u001b[0;34m)\u001b[0m\u001b[0;34m\u001b[0m\u001b[0;34m\u001b[0m\u001b[0m\n\u001b[0m",
            "\u001b[0;32m/usr/local/lib/python3.7/dist-packages/pandas/core/frame.py\u001b[0m in \u001b[0;36m__getitem__\u001b[0;34m(self, key)\u001b[0m\n\u001b[1;32m   2894\u001b[0m \u001b[0;34m\u001b[0m\u001b[0m\n\u001b[1;32m   2895\u001b[0m         \u001b[0;31m# Do we have a (boolean) 1d indexer?\u001b[0m\u001b[0;34m\u001b[0m\u001b[0;34m\u001b[0m\u001b[0;34m\u001b[0m\u001b[0m\n\u001b[0;32m-> 2896\u001b[0;31m         \u001b[0;32mif\u001b[0m \u001b[0mcom\u001b[0m\u001b[0;34m.\u001b[0m\u001b[0mis_bool_indexer\u001b[0m\u001b[0;34m(\u001b[0m\u001b[0mkey\u001b[0m\u001b[0;34m)\u001b[0m\u001b[0;34m:\u001b[0m\u001b[0;34m\u001b[0m\u001b[0;34m\u001b[0m\u001b[0m\n\u001b[0m\u001b[1;32m   2897\u001b[0m             \u001b[0;32mreturn\u001b[0m \u001b[0mself\u001b[0m\u001b[0;34m.\u001b[0m\u001b[0m_getitem_bool_array\u001b[0m\u001b[0;34m(\u001b[0m\u001b[0mkey\u001b[0m\u001b[0;34m)\u001b[0m\u001b[0;34m\u001b[0m\u001b[0;34m\u001b[0m\u001b[0m\n\u001b[1;32m   2898\u001b[0m \u001b[0;34m\u001b[0m\u001b[0m\n",
            "\u001b[0;32m/usr/local/lib/python3.7/dist-packages/pandas/core/common.py\u001b[0m in \u001b[0;36mis_bool_indexer\u001b[0;34m(key)\u001b[0m\n\u001b[1;32m    132\u001b[0m                 \u001b[0mna_msg\u001b[0m \u001b[0;34m=\u001b[0m \u001b[0;34m\"Cannot mask with non-boolean array containing NA / NaN values\"\u001b[0m\u001b[0;34m\u001b[0m\u001b[0;34m\u001b[0m\u001b[0m\n\u001b[1;32m    133\u001b[0m                 \u001b[0;32mif\u001b[0m \u001b[0misna\u001b[0m\u001b[0;34m(\u001b[0m\u001b[0mkey\u001b[0m\u001b[0;34m)\u001b[0m\u001b[0;34m.\u001b[0m\u001b[0many\u001b[0m\u001b[0;34m(\u001b[0m\u001b[0;34m)\u001b[0m\u001b[0;34m:\u001b[0m\u001b[0;34m\u001b[0m\u001b[0;34m\u001b[0m\u001b[0m\n\u001b[0;32m--> 134\u001b[0;31m                     \u001b[0;32mraise\u001b[0m \u001b[0mValueError\u001b[0m\u001b[0;34m(\u001b[0m\u001b[0mna_msg\u001b[0m\u001b[0;34m)\u001b[0m\u001b[0;34m\u001b[0m\u001b[0;34m\u001b[0m\u001b[0m\n\u001b[0m\u001b[1;32m    135\u001b[0m                 \u001b[0;32mreturn\u001b[0m \u001b[0;32mFalse\u001b[0m\u001b[0;34m\u001b[0m\u001b[0;34m\u001b[0m\u001b[0m\n\u001b[1;32m    136\u001b[0m             \u001b[0;32mreturn\u001b[0m \u001b[0;32mTrue\u001b[0m\u001b[0;34m\u001b[0m\u001b[0;34m\u001b[0m\u001b[0m\n",
            "\u001b[0;31mValueError\u001b[0m: Cannot mask with non-boolean array containing NA / NaN values"
          ]
        }
      ]
    },
    {
      "cell_type": "code",
      "metadata": {
        "colab": {
          "base_uri": "https://localhost:8080/",
          "height": 282
        },
        "id": "9SIbllZIX3fw",
        "outputId": "ba7cf042-983a-4f5f-e80d-f187a9f9d5e9"
      },
      "source": [
        "df[df['Regents Exam']=='Geometry'].count().plot(kind='barh')"
      ],
      "execution_count": null,
      "outputs": [
        {
          "output_type": "execute_result",
          "data": {
            "text/plain": [
              "<matplotlib.axes._subplots.AxesSubplot at 0x7fe7f129d410>"
            ]
          },
          "metadata": {
            "tags": []
          },
          "execution_count": 47
        },
        {
          "output_type": "display_data",
          "data": {
            "image/png": "[encoded data removed]",
            "text/plain": [
              "<Figure size 432x288 with 1 Axes>"
            ]
          },
          "metadata": {
            "tags": [],
            "needs_background": "light"
          }
        }
      ]
    },
    {
      "cell_type": "code",
      "metadata": {
        "colab": {
          "base_uri": "https://localhost:8080/",
          "height": 282
        },
        "id": "Sy1PL_vCaQhd",
        "outputId": "3210fa73-af8a-40a4-e28d-a74e3feded8d"
      },
      "source": [
        "df[df['Regents Exam']=='Geometry'].mean().plot(kind='barh')"
      ],
      "execution_count": null,
      "outputs": [
        {
          "output_type": "execute_result",
          "data": {
            "text/plain": [
              "<matplotlib.axes._subplots.AxesSubplot at 0x7fe7f11762d0>"
            ]
          },
          "metadata": {
            "tags": []
          },
          "execution_count": 48
        },
        {
          "output_type": "display_data",
          "data": {
            "image/png": "[encoded data removed]",
            "text/plain": [
              "<Figure size 432x288 with 1 Axes>"
            ]
          },
          "metadata": {
            "tags": [],
            "needs_background": "light"
          }
        }
      ]
    },
    {
      "cell_type": "code",
      "metadata": {
        "colab": {
          "base_uri": "https://localhost:8080/",
          "height": 320
        },
        "id": "D2JZkki4ayTX",
        "outputId": "eaecc366-0213-41bb-e801-068bb4fcd441"
      },
      "source": [
        "df1 = df['School Name'] == 'Abraham Lincoln High School'\n",
        "df1[df1['Regents Exam']=='Geometry'].mean().plot(kind='barh')"
      ],
      "execution_count": null,
      "outputs": [
        {
          "output_type": "error",
          "ename": "KeyError",
          "evalue": "ignored",
          "traceback": [
            "\u001b[0;31m---------------------------------------------------------------------------\u001b[0m",
            "\u001b[0;31mKeyError\u001b[0m                                  Traceback (most recent call last)",
            "\u001b[0;32m<ipython-input-51-4e5a828d98b4>\u001b[0m in \u001b[0;36m<module>\u001b[0;34m()\u001b[0m\n\u001b[1;32m      1\u001b[0m \u001b[0mdf1\u001b[0m \u001b[0;34m=\u001b[0m \u001b[0mdf\u001b[0m\u001b[0;34m[\u001b[0m\u001b[0;34m'School Name'\u001b[0m\u001b[0;34m]\u001b[0m \u001b[0;34m==\u001b[0m \u001b[0;34m'Abraham Lincoln High School'\u001b[0m\u001b[0;34m\u001b[0m\u001b[0;34m\u001b[0m\u001b[0m\n\u001b[0;32m----> 2\u001b[0;31m \u001b[0mdf1\u001b[0m\u001b[0;34m[\u001b[0m\u001b[0mdf1\u001b[0m\u001b[0;34m[\u001b[0m\u001b[0;34m'Regents Exam'\u001b[0m\u001b[0;34m]\u001b[0m\u001b[0;34m==\u001b[0m\u001b[0;34m'Geometry'\u001b[0m\u001b[0;34m]\u001b[0m\u001b[0;34m.\u001b[0m\u001b[0mmean\u001b[0m\u001b[0;34m(\u001b[0m\u001b[0;34m)\u001b[0m\u001b[0;34m.\u001b[0m\u001b[0mplot\u001b[0m\u001b[0;34m(\u001b[0m\u001b[0mkind\u001b[0m\u001b[0;34m=\u001b[0m\u001b[0;34m'barh'\u001b[0m\u001b[0;34m)\u001b[0m\u001b[0;34m\u001b[0m\u001b[0;34m\u001b[0m\u001b[0m\n\u001b[0m",
            "\u001b[0;32m/usr/local/lib/python3.7/dist-packages/pandas/core/series.py\u001b[0m in \u001b[0;36m__getitem__\u001b[0;34m(self, key)\u001b[0m\n\u001b[1;32m    880\u001b[0m \u001b[0;34m\u001b[0m\u001b[0m\n\u001b[1;32m    881\u001b[0m         \u001b[0;32melif\u001b[0m \u001b[0mkey_is_scalar\u001b[0m\u001b[0;34m:\u001b[0m\u001b[0;34m\u001b[0m\u001b[0;34m\u001b[0m\u001b[0m\n\u001b[0;32m--> 882\u001b[0;31m             \u001b[0;32mreturn\u001b[0m \u001b[0mself\u001b[0m\u001b[0;34m.\u001b[0m\u001b[0m_get_value\u001b[0m\u001b[0;34m(\u001b[0m\u001b[0mkey\u001b[0m\u001b[0;34m)\u001b[0m\u001b[0;34m\u001b[0m\u001b[0;34m\u001b[0m\u001b[0m\n\u001b[0m\u001b[1;32m    883\u001b[0m \u001b[0;34m\u001b[0m\u001b[0m\n\u001b[1;32m    884\u001b[0m         \u001b[0;32mif\u001b[0m \u001b[0mis_hashable\u001b[0m\u001b[0;34m(\u001b[0m\u001b[0mkey\u001b[0m\u001b[0;34m)\u001b[0m\u001b[0;34m:\u001b[0m\u001b[0;34m\u001b[0m\u001b[0;34m\u001b[0m\u001b[0m\n",
            "\u001b[0;32m/usr/local/lib/python3.7/dist-packages/pandas/core/series.py\u001b[0m in \u001b[0;36m_get_value\u001b[0;34m(self, label, takeable)\u001b[0m\n\u001b[1;32m    988\u001b[0m \u001b[0;34m\u001b[0m\u001b[0m\n\u001b[1;32m    989\u001b[0m         \u001b[0;31m# Similar to Index.get_value, but we do not fall back to positional\u001b[0m\u001b[0;34m\u001b[0m\u001b[0;34m\u001b[0m\u001b[0;34m\u001b[0m\u001b[0m\n\u001b[0;32m--> 990\u001b[0;31m         \u001b[0mloc\u001b[0m \u001b[0;34m=\u001b[0m \u001b[0mself\u001b[0m\u001b[0;34m.\u001b[0m\u001b[0mindex\u001b[0m\u001b[0;34m.\u001b[0m\u001b[0mget_loc\u001b[0m\u001b[0;34m(\u001b[0m\u001b[0mlabel\u001b[0m\u001b[0;34m)\u001b[0m\u001b[0;34m\u001b[0m\u001b[0;34m\u001b[0m\u001b[0m\n\u001b[0m\u001b[1;32m    991\u001b[0m         \u001b[0;32mreturn\u001b[0m \u001b[0mself\u001b[0m\u001b[0;34m.\u001b[0m\u001b[0mindex\u001b[0m\u001b[0;34m.\u001b[0m\u001b[0m_get_values_for_loc\u001b[0m\u001b[0;34m(\u001b[0m\u001b[0mself\u001b[0m\u001b[0;34m,\u001b[0m \u001b[0mloc\u001b[0m\u001b[0;34m,\u001b[0m \u001b[0mlabel\u001b[0m\u001b[0;34m)\u001b[0m\u001b[0;34m\u001b[0m\u001b[0;34m\u001b[0m\u001b[0m\n\u001b[1;32m    992\u001b[0m \u001b[0;34m\u001b[0m\u001b[0m\n",
            "\u001b[0;32m/usr/local/lib/python3.7/dist-packages/pandas/core/indexes/range.py\u001b[0m in \u001b[0;36mget_loc\u001b[0;34m(self, key, method, tolerance)\u001b[0m\n\u001b[1;32m    356\u001b[0m                 \u001b[0;32mexcept\u001b[0m \u001b[0mValueError\u001b[0m \u001b[0;32mas\u001b[0m \u001b[0merr\u001b[0m\u001b[0;34m:\u001b[0m\u001b[0;34m\u001b[0m\u001b[0;34m\u001b[0m\u001b[0m\n\u001b[1;32m    357\u001b[0m                     \u001b[0;32mraise\u001b[0m \u001b[0mKeyError\u001b[0m\u001b[0;34m(\u001b[0m\u001b[0mkey\u001b[0m\u001b[0;34m)\u001b[0m \u001b[0;32mfrom\u001b[0m \u001b[0merr\u001b[0m\u001b[0;34m\u001b[0m\u001b[0;34m\u001b[0m\u001b[0m\n\u001b[0;32m--> 358\u001b[0;31m             \u001b[0;32mraise\u001b[0m \u001b[0mKeyError\u001b[0m\u001b[0;34m(\u001b[0m\u001b[0mkey\u001b[0m\u001b[0;34m)\u001b[0m\u001b[0;34m\u001b[0m\u001b[0;34m\u001b[0m\u001b[0m\n\u001b[0m\u001b[1;32m    359\u001b[0m         \u001b[0;32mreturn\u001b[0m \u001b[0msuper\u001b[0m\u001b[0;34m(\u001b[0m\u001b[0;34m)\u001b[0m\u001b[0;34m.\u001b[0m\u001b[0mget_loc\u001b[0m\u001b[0;34m(\u001b[0m\u001b[0mkey\u001b[0m\u001b[0;34m,\u001b[0m \u001b[0mmethod\u001b[0m\u001b[0;34m=\u001b[0m\u001b[0mmethod\u001b[0m\u001b[0;34m,\u001b[0m \u001b[0mtolerance\u001b[0m\u001b[0;34m=\u001b[0m\u001b[0mtolerance\u001b[0m\u001b[0;34m)\u001b[0m\u001b[0;34m\u001b[0m\u001b[0;34m\u001b[0m\u001b[0m\n\u001b[1;32m    360\u001b[0m \u001b[0;34m\u001b[0m\u001b[0m\n",
            "\u001b[0;31mKeyError\u001b[0m: 'Regents Exam'"
          ]
        }
      ]
    },
    {
      "cell_type": "code",
      "metadata": {
        "colab": {
          "base_uri": "https://localhost:8080/",
          "height": 1000
        },
        "id": "q8UYxPjzcvUg",
        "outputId": "f4ef29fb-022c-4219-e2df-254d6f804cca"
      },
      "source": [
        "df.groupby(['Regents Exam']).min().round(1)"
      ],
      "execution_count": null,
      "outputs": [
        {
          "output_type": "execute_result",
          "data": {
            "text/html": [
              "<div>\n",
              "<style scoped>\n",
              "    .dataframe tbody tr th:only-of-type {\n",
              "        vertical-align: middle;\n",
              "    }\n",
              "\n",
              "    .dataframe tbody tr th {\n",
              "        vertical-align: top;\n",
              "    }\n",
              "\n",
              "    .dataframe thead th {\n",
              "        text-align: right;\n",
              "    }\n",
              "</style>\n",
              "<table border=\"1\" class=\"dataframe\">\n",
              "  <thead>\n",
              "    <tr style=\"text-align: right;\">\n",
              "      <th></th>\n",
              "      <th>School DBN</th>\n",
              "      <th>School Name</th>\n",
              "      <th>School Level</th>\n",
              "      <th>Year</th>\n",
              "      <th>Total Tested</th>\n",
              "      <th>Mean Score</th>\n",
              "      <th>Number Scoring Below 65</th>\n",
              "      <th>Percent Scoring Below 65</th>\n",
              "      <th>Number Scoring 65 or Above</th>\n",
              "      <th>Percent Scoring 65 or Above</th>\n",
              "      <th>Number Scoring 80 or Above</th>\n",
              "      <th>Percent Scoring 80 or Above</th>\n",
              "      <th>Number Scoring CR</th>\n",
              "      <th>Percent Scoring CR</th>\n",
              "    </tr>\n",
              "    <tr>\n",
              "      <th>Regents Exam</th>\n",
              "      <th></th>\n",
              "      <th></th>\n",
              "      <th></th>\n",
              "      <th></th>\n",
              "      <th></th>\n",
              "      <th></th>\n",
              "      <th></th>\n",
              "      <th></th>\n",
              "      <th></th>\n",
              "      <th></th>\n",
              "      <th></th>\n",
              "      <th></th>\n",
              "      <th></th>\n",
              "      <th></th>\n",
              "    </tr>\n",
              "  </thead>\n",
              "  <tbody>\n",
              "    <tr>\n",
              "      <th>Algebra2/Trigonometry</th>\n",
              "      <td>01M292</td>\n",
              "      <td>47 The American Sign Language and English Seco...</td>\n",
              "      <td>High school</td>\n",
              "      <td>2015</td>\n",
              "      <td>1</td>\n",
              "      <td>19.1</td>\n",
              "      <td>0</td>\n",
              "      <td>0</td>\n",
              "      <td>0</td>\n",
              "      <td>0</td>\n",
              "      <td>0</td>\n",
              "      <td>0.0</td>\n",
              "      <td>0</td>\n",
              "      <td>0</td>\n",
              "    </tr>\n",
              "    <tr>\n",
              "      <th>Common Core Algebra</th>\n",
              "      <td>01M034</td>\n",
              "      <td>47 The American Sign Language and English Seco...</td>\n",
              "      <td>Elementary</td>\n",
              "      <td>2015</td>\n",
              "      <td>1</td>\n",
              "      <td>37.2</td>\n",
              "      <td>0</td>\n",
              "      <td>0</td>\n",
              "      <td>0</td>\n",
              "      <td>0</td>\n",
              "      <td>0</td>\n",
              "      <td>0.0</td>\n",
              "      <td>0</td>\n",
              "      <td>0</td>\n",
              "    </tr>\n",
              "    <tr>\n",
              "      <th>Common Core Algebra2</th>\n",
              "      <td>01M292</td>\n",
              "      <td>47 The American Sign Language and English Seco...</td>\n",
              "      <td>High school</td>\n",
              "      <td>2016</td>\n",
              "      <td>1</td>\n",
              "      <td>33.6</td>\n",
              "      <td>0</td>\n",
              "      <td>0</td>\n",
              "      <td>0</td>\n",
              "      <td>0</td>\n",
              "      <td>0</td>\n",
              "      <td>0.0</td>\n",
              "      <td>0</td>\n",
              "      <td>0</td>\n",
              "    </tr>\n",
              "    <tr>\n",
              "      <th>Common Core English</th>\n",
              "      <td>01M188</td>\n",
              "      <td>47 The American Sign Language and English Seco...</td>\n",
              "      <td>High school</td>\n",
              "      <td>2015</td>\n",
              "      <td>1</td>\n",
              "      <td>15.0</td>\n",
              "      <td>0</td>\n",
              "      <td>0</td>\n",
              "      <td>0</td>\n",
              "      <td>0</td>\n",
              "      <td>0</td>\n",
              "      <td>0.0</td>\n",
              "      <td>0</td>\n",
              "      <td>0</td>\n",
              "    </tr>\n",
              "    <tr>\n",
              "      <th>Common Core Geometry</th>\n",
              "      <td>01M292</td>\n",
              "      <td>47 The American Sign Language and English Seco...</td>\n",
              "      <td>High school</td>\n",
              "      <td>2015</td>\n",
              "      <td>1</td>\n",
              "      <td>27.0</td>\n",
              "      <td>0</td>\n",
              "      <td>0</td>\n",
              "      <td>0</td>\n",
              "      <td>0</td>\n",
              "      <td>0</td>\n",
              "      <td>0.0</td>\n",
              "      <td>0</td>\n",
              "      <td>0</td>\n",
              "    </tr>\n",
              "    <tr>\n",
              "      <th>English</th>\n",
              "      <td>01M292</td>\n",
              "      <td>47 The American Sign Language and English Seco...</td>\n",
              "      <td>High school</td>\n",
              "      <td>2015</td>\n",
              "      <td>1</td>\n",
              "      <td>30.7</td>\n",
              "      <td>0</td>\n",
              "      <td>0</td>\n",
              "      <td>0</td>\n",
              "      <td>0</td>\n",
              "      <td>0</td>\n",
              "      <td>0.0</td>\n",
              "      <td>0</td>\n",
              "      <td>0</td>\n",
              "    </tr>\n",
              "    <tr>\n",
              "      <th>Geometry</th>\n",
              "      <td>01M292</td>\n",
              "      <td>47 The American Sign Language and English Seco...</td>\n",
              "      <td>High school</td>\n",
              "      <td>2015</td>\n",
              "      <td>1</td>\n",
              "      <td>29.0</td>\n",
              "      <td>0</td>\n",
              "      <td>0</td>\n",
              "      <td>0</td>\n",
              "      <td>0</td>\n",
              "      <td>0</td>\n",
              "      <td>0.0</td>\n",
              "      <td>0</td>\n",
              "      <td>0</td>\n",
              "    </tr>\n",
              "    <tr>\n",
              "      <th>Global History and Geography</th>\n",
              "      <td>01M292</td>\n",
              "      <td>47 The American Sign Language and English Seco...</td>\n",
              "      <td>High school</td>\n",
              "      <td>2015</td>\n",
              "      <td>1</td>\n",
              "      <td>28.7</td>\n",
              "      <td>0</td>\n",
              "      <td>0</td>\n",
              "      <td>0</td>\n",
              "      <td>0</td>\n",
              "      <td>0</td>\n",
              "      <td>0.0</td>\n",
              "      <td>na</td>\n",
              "      <td>na</td>\n",
              "    </tr>\n",
              "    <tr>\n",
              "      <th>Integrated Algebra</th>\n",
              "      <td>01M292</td>\n",
              "      <td>47 The American Sign Language and English Seco...</td>\n",
              "      <td>High school</td>\n",
              "      <td>2015</td>\n",
              "      <td>1</td>\n",
              "      <td>36.7</td>\n",
              "      <td>0</td>\n",
              "      <td>0</td>\n",
              "      <td>0</td>\n",
              "      <td>0</td>\n",
              "      <td>0</td>\n",
              "      <td>0.0</td>\n",
              "      <td>0</td>\n",
              "      <td>0</td>\n",
              "    </tr>\n",
              "    <tr>\n",
              "      <th>Living Environment</th>\n",
              "      <td>01M034</td>\n",
              "      <td>47 The American Sign Language and English Seco...</td>\n",
              "      <td>Elementary</td>\n",
              "      <td>2015</td>\n",
              "      <td>1</td>\n",
              "      <td>36.5</td>\n",
              "      <td>0</td>\n",
              "      <td>0</td>\n",
              "      <td>0</td>\n",
              "      <td>0</td>\n",
              "      <td>0</td>\n",
              "      <td>0.0</td>\n",
              "      <td>na</td>\n",
              "      <td>na</td>\n",
              "    </tr>\n",
              "    <tr>\n",
              "      <th>Physical Settings/Chemistry</th>\n",
              "      <td>01M292</td>\n",
              "      <td>A. Philip Randolph Campus High School</td>\n",
              "      <td>High school</td>\n",
              "      <td>2015</td>\n",
              "      <td>1</td>\n",
              "      <td>30.2</td>\n",
              "      <td>0</td>\n",
              "      <td>0</td>\n",
              "      <td>0</td>\n",
              "      <td>0</td>\n",
              "      <td>0</td>\n",
              "      <td>0.0</td>\n",
              "      <td>na</td>\n",
              "      <td>na</td>\n",
              "    </tr>\n",
              "    <tr>\n",
              "      <th>Physical Settings/Earth Science</th>\n",
              "      <td>01M292</td>\n",
              "      <td>47 The American Sign Language and English Seco...</td>\n",
              "      <td>High school</td>\n",
              "      <td>2015</td>\n",
              "      <td>1</td>\n",
              "      <td>27.1</td>\n",
              "      <td>0</td>\n",
              "      <td>0</td>\n",
              "      <td>0</td>\n",
              "      <td>0</td>\n",
              "      <td>0</td>\n",
              "      <td>0.0</td>\n",
              "      <td>na</td>\n",
              "      <td>na</td>\n",
              "    </tr>\n",
              "    <tr>\n",
              "      <th>Physical Settings/Physics</th>\n",
              "      <td>01M448</td>\n",
              "      <td>47 The American Sign Language and English Seco...</td>\n",
              "      <td>High school</td>\n",
              "      <td>2015</td>\n",
              "      <td>1</td>\n",
              "      <td>20.8</td>\n",
              "      <td>0</td>\n",
              "      <td>0</td>\n",
              "      <td>0</td>\n",
              "      <td>0</td>\n",
              "      <td>0</td>\n",
              "      <td>0.0</td>\n",
              "      <td>na</td>\n",
              "      <td>na</td>\n",
              "    </tr>\n",
              "    <tr>\n",
              "      <th>U.S. History and Government</th>\n",
              "      <td>01M292</td>\n",
              "      <td>47 The American Sign Language and English Seco...</td>\n",
              "      <td>High school</td>\n",
              "      <td>2015</td>\n",
              "      <td>1</td>\n",
              "      <td>33.7</td>\n",
              "      <td>0</td>\n",
              "      <td>0</td>\n",
              "      <td>0</td>\n",
              "      <td>0</td>\n",
              "      <td>0</td>\n",
              "      <td>0.0</td>\n",
              "      <td>na</td>\n",
              "      <td>na</td>\n",
              "    </tr>\n",
              "  </tbody>\n",
              "</table>\n",
              "</div>"
            ],
            "text/plain": [
              "                                School DBN  ... Percent Scoring CR\n",
              "Regents Exam                                ...                   \n",
              "Algebra2/Trigonometry               01M292  ...                  0\n",
              "Common Core Algebra                 01M034  ...                  0\n",
              "Common Core Algebra2                01M292  ...                  0\n",
              "Common Core English                 01M188  ...                  0\n",
              "Common Core Geometry                01M292  ...                  0\n",
              "English                             01M292  ...                  0\n",
              "Geometry                            01M292  ...                  0\n",
              "Global History and Geography        01M292  ...                 na\n",
              "Integrated Algebra                  01M292  ...                  0\n",
              "Living Environment                  01M034  ...                 na\n",
              "Physical Settings/Chemistry         01M292  ...                 na\n",
              "Physical Settings/Earth Science     01M292  ...                 na\n",
              "Physical Settings/Physics           01M448  ...                 na\n",
              "U.S. History and Government         01M292  ...                 na\n",
              "\n",
              "[14 rows x 14 columns]"
            ]
          },
          "metadata": {
            "tags": []
          },
          "execution_count": 53
        }
      ]
    },
    {
      "cell_type": "code",
      "metadata": {
        "colab": {
          "base_uri": "https://localhost:8080/"
        },
        "id": "Z_c1nbF2diB7",
        "outputId": "fc9fbc69-2ffe-4df5-ff53-33efd45aed7e"
      },
      "source": [
        "\n",
        "df['Mean Score'].max()"
      ],
      "execution_count": null,
      "outputs": [
        {
          "output_type": "execute_result",
          "data": {
            "text/plain": [
              "98.7"
            ]
          },
          "metadata": {
            "tags": []
          },
          "execution_count": 10
        }
      ]
    },
    {
      "cell_type": "code",
      "metadata": {
        "colab": {
          "base_uri": "https://localhost:8080/",
          "height": 128
        },
        "id": "JycqZEa0eT0u",
        "outputId": "388c2299-5279-475f-ad89-28938bc36383"
      },
      "source": [
        "df['Mean Score].groupby(['Regents Exam'])"
      ],
      "execution_count": null,
      "outputs": [
        {
          "output_type": "error",
          "ename": "SyntaxError",
          "evalue": "ignored",
          "traceback": [
            "\u001b[0;36m  File \u001b[0;32m\"<ipython-input-11-6169cd50f120>\"\u001b[0;36m, line \u001b[0;32m1\u001b[0m\n\u001b[0;31m    df['Mean Score].groupby(['Regents Exam'])\u001b[0m\n\u001b[0m                                    ^\u001b[0m\n\u001b[0;31mSyntaxError\u001b[0m\u001b[0;31m:\u001b[0m invalid syntax\n"
          ]
        }
      ]
    },
    {
      "cell_type": "code",
      "metadata": {
        "colab": {
          "base_uri": "https://localhost:8080/",
          "height": 402
        },
        "id": "vcDeEETWeo2D",
        "outputId": "e08a0b81-cffe-498c-a1f3-48c3a7964405"
      },
      "source": [
        "df5 = df[['Mean Score', 'School Name', 'Regents Exam', 'Year']]\n",
        "df5"
      ],
      "execution_count": 7,
      "outputs": [
        {
          "output_type": "execute_result",
          "data": {
            "text/html": [
              "<div>\n",
              "<style scoped>\n",
              "    .dataframe tbody tr th:only-of-type {\n",
              "        vertical-align: middle;\n",
              "    }\n",
              "\n",
              "    .dataframe tbody tr th {\n",
              "        vertical-align: top;\n",
              "    }\n",
              "\n",
              "    .dataframe thead th {\n",
              "        text-align: right;\n",
              "    }\n",
              "</style>\n",
              "<table border=\"1\" class=\"dataframe\">\n",
              "  <thead>\n",
              "    <tr style=\"text-align: right;\">\n",
              "      <th></th>\n",
              "      <th>Mean Score</th>\n",
              "      <th>School Name</th>\n",
              "      <th>Regents Exam</th>\n",
              "      <th>Year</th>\n",
              "    </tr>\n",
              "  </thead>\n",
              "  <tbody>\n",
              "    <tr>\n",
              "      <th>0</th>\n",
              "      <td>NaN</td>\n",
              "      <td>P.S. 034 Franklin D. Roosevelt</td>\n",
              "      <td>Common Core Algebra</td>\n",
              "      <td>2017</td>\n",
              "    </tr>\n",
              "    <tr>\n",
              "      <th>1</th>\n",
              "      <td>77.9</td>\n",
              "      <td>P.S. 034 Franklin D. Roosevelt</td>\n",
              "      <td>Living Environment</td>\n",
              "      <td>2015</td>\n",
              "    </tr>\n",
              "    <tr>\n",
              "      <th>2</th>\n",
              "      <td>74.0</td>\n",
              "      <td>P.S. 034 Franklin D. Roosevelt</td>\n",
              "      <td>Living Environment</td>\n",
              "      <td>2016</td>\n",
              "    </tr>\n",
              "    <tr>\n",
              "      <th>3</th>\n",
              "      <td>NaN</td>\n",
              "      <td>P.S. 140 Nathan Straus</td>\n",
              "      <td>Common Core Algebra</td>\n",
              "      <td>2016</td>\n",
              "    </tr>\n",
              "    <tr>\n",
              "      <th>4</th>\n",
              "      <td>NaN</td>\n",
              "      <td>P.S. 140 Nathan Straus</td>\n",
              "      <td>Common Core Algebra</td>\n",
              "      <td>2017</td>\n",
              "    </tr>\n",
              "    <tr>\n",
              "      <th>...</th>\n",
              "      <td>...</td>\n",
              "      <td>...</td>\n",
              "      <td>...</td>\n",
              "      <td>...</td>\n",
              "    </tr>\n",
              "    <tr>\n",
              "      <th>212326</th>\n",
              "      <td>NaN</td>\n",
              "      <td>Icahn Charter School</td>\n",
              "      <td>Living Environment</td>\n",
              "      <td>2016</td>\n",
              "    </tr>\n",
              "    <tr>\n",
              "      <th>212327</th>\n",
              "      <td>NaN</td>\n",
              "      <td>Icahn Charter School</td>\n",
              "      <td>Living Environment</td>\n",
              "      <td>2016</td>\n",
              "    </tr>\n",
              "    <tr>\n",
              "      <th>212328</th>\n",
              "      <td>NaN</td>\n",
              "      <td>Icahn Charter School</td>\n",
              "      <td>Living Environment</td>\n",
              "      <td>2017</td>\n",
              "    </tr>\n",
              "    <tr>\n",
              "      <th>212329</th>\n",
              "      <td>NaN</td>\n",
              "      <td>Icahn Charter School</td>\n",
              "      <td>Living Environment</td>\n",
              "      <td>2017</td>\n",
              "    </tr>\n",
              "    <tr>\n",
              "      <th>212330</th>\n",
              "      <td>NaN</td>\n",
              "      <td>Icahn Charter School</td>\n",
              "      <td>U.S. History and Government</td>\n",
              "      <td>2015</td>\n",
              "    </tr>\n",
              "  </tbody>\n",
              "</table>\n",
              "<p>212331 rows × 4 columns</p>\n",
              "</div>"
            ],
            "text/plain": [
              "        Mean Score  ...  Year\n",
              "0              NaN  ...  2017\n",
              "1             77.9  ...  2015\n",
              "2             74.0  ...  2016\n",
              "3              NaN  ...  2016\n",
              "4              NaN  ...  2017\n",
              "...            ...  ...   ...\n",
              "212326         NaN  ...  2016\n",
              "212327         NaN  ...  2016\n",
              "212328         NaN  ...  2017\n",
              "212329         NaN  ...  2017\n",
              "212330         NaN  ...  2015\n",
              "\n",
              "[212331 rows x 4 columns]"
            ]
          },
          "metadata": {
            "tags": []
          },
          "execution_count": 7
        }
      ]
    },
    {
      "cell_type": "code",
      "metadata": {
        "colab": {
          "base_uri": "https://localhost:8080/",
          "height": 402
        },
        "id": "WWGfv0r-g3zJ",
        "outputId": "6621c0be-793c-4a27-b472-490105035259"
      },
      "source": [
        "df5[df5['Mean Score']>0]"
      ],
      "execution_count": 8,
      "outputs": [
        {
          "output_type": "execute_result",
          "data": {
            "text/html": [
              "<div>\n",
              "<style scoped>\n",
              "    .dataframe tbody tr th:only-of-type {\n",
              "        vertical-align: middle;\n",
              "    }\n",
              "\n",
              "    .dataframe tbody tr th {\n",
              "        vertical-align: top;\n",
              "    }\n",
              "\n",
              "    .dataframe thead th {\n",
              "        text-align: right;\n",
              "    }\n",
              "</style>\n",
              "<table border=\"1\" class=\"dataframe\">\n",
              "  <thead>\n",
              "    <tr style=\"text-align: right;\">\n",
              "      <th></th>\n",
              "      <th>Mean Score</th>\n",
              "      <th>School Name</th>\n",
              "      <th>Regents Exam</th>\n",
              "      <th>Year</th>\n",
              "    </tr>\n",
              "  </thead>\n",
              "  <tbody>\n",
              "    <tr>\n",
              "      <th>1</th>\n",
              "      <td>77.9</td>\n",
              "      <td>P.S. 034 Franklin D. Roosevelt</td>\n",
              "      <td>Living Environment</td>\n",
              "      <td>2015</td>\n",
              "    </tr>\n",
              "    <tr>\n",
              "      <th>2</th>\n",
              "      <td>74.0</td>\n",
              "      <td>P.S. 034 Franklin D. Roosevelt</td>\n",
              "      <td>Living Environment</td>\n",
              "      <td>2016</td>\n",
              "    </tr>\n",
              "    <tr>\n",
              "      <th>5</th>\n",
              "      <td>67.4</td>\n",
              "      <td>P.S. 140 Nathan Straus</td>\n",
              "      <td>Living Environment</td>\n",
              "      <td>2015</td>\n",
              "    </tr>\n",
              "    <tr>\n",
              "      <th>6</th>\n",
              "      <td>72.6</td>\n",
              "      <td>P.S. 140 Nathan Straus</td>\n",
              "      <td>Living Environment</td>\n",
              "      <td>2016</td>\n",
              "    </tr>\n",
              "    <tr>\n",
              "      <th>7</th>\n",
              "      <td>64.4</td>\n",
              "      <td>P.S. 140 Nathan Straus</td>\n",
              "      <td>Living Environment</td>\n",
              "      <td>2017</td>\n",
              "    </tr>\n",
              "    <tr>\n",
              "      <th>...</th>\n",
              "      <td>...</td>\n",
              "      <td>...</td>\n",
              "      <td>...</td>\n",
              "      <td>...</td>\n",
              "    </tr>\n",
              "    <tr>\n",
              "      <th>212321</th>\n",
              "      <td>87.2</td>\n",
              "      <td>Icahn Charter School</td>\n",
              "      <td>Common Core Algebra</td>\n",
              "      <td>2016</td>\n",
              "    </tr>\n",
              "    <tr>\n",
              "      <th>212322</th>\n",
              "      <td>87.0</td>\n",
              "      <td>Icahn Charter School</td>\n",
              "      <td>Common Core Algebra</td>\n",
              "      <td>2017</td>\n",
              "    </tr>\n",
              "    <tr>\n",
              "      <th>212323</th>\n",
              "      <td>88.3</td>\n",
              "      <td>Icahn Charter School</td>\n",
              "      <td>Common Core Algebra</td>\n",
              "      <td>2017</td>\n",
              "    </tr>\n",
              "    <tr>\n",
              "      <th>212324</th>\n",
              "      <td>76.5</td>\n",
              "      <td>Icahn Charter School</td>\n",
              "      <td>Living Environment</td>\n",
              "      <td>2015</td>\n",
              "    </tr>\n",
              "    <tr>\n",
              "      <th>212325</th>\n",
              "      <td>79.8</td>\n",
              "      <td>Icahn Charter School</td>\n",
              "      <td>Living Environment</td>\n",
              "      <td>2015</td>\n",
              "    </tr>\n",
              "  </tbody>\n",
              "</table>\n",
              "<p>137109 rows × 4 columns</p>\n",
              "</div>"
            ],
            "text/plain": [
              "        Mean Score                     School Name         Regents Exam  Year\n",
              "1             77.9  P.S. 034 Franklin D. Roosevelt   Living Environment  2015\n",
              "2             74.0  P.S. 034 Franklin D. Roosevelt   Living Environment  2016\n",
              "5             67.4          P.S. 140 Nathan Straus   Living Environment  2015\n",
              "6             72.6          P.S. 140 Nathan Straus   Living Environment  2016\n",
              "7             64.4          P.S. 140 Nathan Straus   Living Environment  2017\n",
              "...            ...                             ...                  ...   ...\n",
              "212321        87.2            Icahn Charter School  Common Core Algebra  2016\n",
              "212322        87.0            Icahn Charter School  Common Core Algebra  2017\n",
              "212323        88.3            Icahn Charter School  Common Core Algebra  2017\n",
              "212324        76.5            Icahn Charter School   Living Environment  2015\n",
              "212325        79.8            Icahn Charter School   Living Environment  2015\n",
              "\n",
              "[137109 rows x 4 columns]"
            ]
          },
          "metadata": {
            "tags": []
          },
          "execution_count": 8
        }
      ]
    },
    {
      "cell_type": "code",
      "metadata": {
        "colab": {
          "base_uri": "https://localhost:8080/",
          "height": 331
        },
        "id": "B9xQa4fkiLMB",
        "outputId": "52152415-3c89-4de2-b561-59adef8d75fc"
      },
      "source": [
        "df5.hist()"
      ],
      "execution_count": 9,
      "outputs": [
        {
          "output_type": "execute_result",
          "data": {
            "text/plain": [
              "array([[<matplotlib.axes._subplots.AxesSubplot object at 0x7fa38219e590>,\n",
              "        <matplotlib.axes._subplots.AxesSubplot object at 0x7fa36bec0c50>]],\n",
              "      dtype=object)"
            ]
          },
          "metadata": {
            "tags": []
          },
          "execution_count": 9
        },
        {
          "output_type": "display_data",
          "data": {
            "image/png": "[encoded data removed]",
            "text/plain": [
              "<Figure size 432x288 with 2 Axes>"
            ]
          },
          "metadata": {
            "tags": [],
            "needs_background": "light"
          }
        }
      ]
    },
    {
      "cell_type": "code",
      "metadata": {
        "colab": {
          "base_uri": "https://localhost:8080/",
          "height": 282
        },
        "id": "Gdqe6wIeipPJ",
        "outputId": "3164da7d-9a43-495a-f5b9-b290014dea01"
      },
      "source": [
        "df5.plot(kind=\"hist\")"
      ],
      "execution_count": 10,
      "outputs": [
        {
          "output_type": "execute_result",
          "data": {
            "text/plain": [
              "<matplotlib.axes._subplots.AxesSubplot at 0x7fa36bdca110>"
            ]
          },
          "metadata": {
            "tags": []
          },
          "execution_count": 10
        },
        {
          "output_type": "display_data",
          "data": {
            "image/png": "[encoded data removed]",
            "text/plain": [
              "<Figure size 432x288 with 1 Axes>"
            ]
          },
          "metadata": {
            "tags": [],
            "needs_background": "light"
          }
        }
      ]
    },
    {
      "cell_type": "code",
      "metadata": {
        "colab": {
          "base_uri": "https://localhost:8080/",
          "height": 162
        },
        "id": "YT8GqQ7oi7fe",
        "outputId": "ef607c5e-d329-45dd-ccf8-09e092cea368"
      },
      "source": [
        "df5.groupby('Regents Exam')['Mean Score'].max().sort_values(ascending=False)"
      ],
      "execution_count": null,
      "outputs": [
        {
          "output_type": "error",
          "ename": "NameError",
          "evalue": "ignored",
          "traceback": [
            "\u001b[0;31m---------------------------------------------------------------------------\u001b[0m",
            "\u001b[0;31mNameError\u001b[0m                                 Traceback (most recent call last)",
            "\u001b[0;32m<ipython-input-3-551f742973b3>\u001b[0m in \u001b[0;36m<module>\u001b[0;34m()\u001b[0m\n\u001b[0;32m----> 1\u001b[0;31m \u001b[0mdf5\u001b[0m\u001b[0;34m.\u001b[0m\u001b[0mgroupby\u001b[0m\u001b[0;34m(\u001b[0m\u001b[0;34m'Regents Exam'\u001b[0m\u001b[0;34m)\u001b[0m\u001b[0;34m[\u001b[0m\u001b[0;34m'Mean Score'\u001b[0m\u001b[0;34m]\u001b[0m\u001b[0;34m.\u001b[0m\u001b[0mmax\u001b[0m\u001b[0;34m(\u001b[0m\u001b[0;34m)\u001b[0m\u001b[0;34m.\u001b[0m\u001b[0msort_values\u001b[0m\u001b[0;34m(\u001b[0m\u001b[0mascending\u001b[0m\u001b[0;34m=\u001b[0m\u001b[0;32mFalse\u001b[0m\u001b[0;34m)\u001b[0m\u001b[0;34m\u001b[0m\u001b[0;34m\u001b[0m\u001b[0m\n\u001b[0m",
            "\u001b[0;31mNameError\u001b[0m: name 'df5' is not defined"
          ]
        }
      ]
    },
    {
      "cell_type": "code",
      "metadata": {
        "colab": {
          "base_uri": "https://localhost:8080/"
        },
        "id": "viIyYBBajYT5",
        "outputId": "002d1172-af36-4fba-9c31-a180b5022188"
      },
      "source": [
        "df5.groupby('School Name')['Mean Score'].max().sort_values(ascending=False)"
      ],
      "execution_count": null,
      "outputs": [
        {
          "output_type": "execute_result",
          "data": {
            "text/plain": [
              "School Name\n",
              "High School of American Studies at Lehman College     98.7\n",
              "Central Park East High School                         98.3\n",
              "Townsend Harris High School                           97.6\n",
              "Bronx High School of Science                          97.6\n",
              "Stuyvesant High School                                97.4\n",
              "                                                      ... \n",
              "Success Academy Charter School - Harlem 3              NaN\n",
              "Technology, Arts, and Sciences Studio                  NaN\n",
              "The 47 American Sign Language & English Lower Scho     NaN\n",
              "University Neighborhood Middle School                  NaN\n",
              "Upper School @ P.S. 25                                 NaN\n",
              "Name: Mean Score, Length: 1012, dtype: float64"
            ]
          },
          "metadata": {
            "tags": []
          },
          "execution_count": 88
        }
      ]
    },
    {
      "cell_type": "code",
      "metadata": {
        "colab": {
          "base_uri": "https://localhost:8080/",
          "height": 303
        },
        "id": "wYTrRt2bqWuw",
        "outputId": "84631429-0615-41ae-b892-27adb0c46118"
      },
      "source": [
        "Tips = sns.load_dataset(df)"
      ],
      "execution_count": null,
      "outputs": [
        {
          "output_type": "error",
          "ename": "ValueError",
          "evalue": "ignored",
          "traceback": [
            "\u001b[0;31m---------------------------------------------------------------------------\u001b[0m",
            "\u001b[0;31mValueError\u001b[0m                                Traceback (most recent call last)",
            "\u001b[0;32m<ipython-input-96-b7f3286cd4f6>\u001b[0m in \u001b[0;36m<module>\u001b[0;34m()\u001b[0m\n\u001b[0;32m----> 1\u001b[0;31m \u001b[0mTips\u001b[0m \u001b[0;34m=\u001b[0m \u001b[0msns\u001b[0m\u001b[0;34m.\u001b[0m\u001b[0mload_dataset\u001b[0m\u001b[0;34m(\u001b[0m\u001b[0mdf\u001b[0m\u001b[0;34m)\u001b[0m\u001b[0;34m\u001b[0m\u001b[0;34m\u001b[0m\u001b[0m\n\u001b[0m",
            "\u001b[0;32m/usr/local/lib/python3.7/dist-packages/seaborn/utils.py\u001b[0m in \u001b[0;36mload_dataset\u001b[0;34m(name, cache, data_home, **kws)\u001b[0m\n\u001b[1;32m    483\u001b[0m                                   os.path.basename(full_path))\n\u001b[1;32m    484\u001b[0m         \u001b[0;32mif\u001b[0m \u001b[0;32mnot\u001b[0m \u001b[0mos\u001b[0m\u001b[0;34m.\u001b[0m\u001b[0mpath\u001b[0m\u001b[0;34m.\u001b[0m\u001b[0mexists\u001b[0m\u001b[0;34m(\u001b[0m\u001b[0mcache_path\u001b[0m\u001b[0;34m)\u001b[0m\u001b[0;34m:\u001b[0m\u001b[0;34m\u001b[0m\u001b[0;34m\u001b[0m\u001b[0m\n\u001b[0;32m--> 485\u001b[0;31m             \u001b[0;32mif\u001b[0m \u001b[0mname\u001b[0m \u001b[0;32mnot\u001b[0m \u001b[0;32min\u001b[0m \u001b[0mget_dataset_names\u001b[0m\u001b[0;34m(\u001b[0m\u001b[0;34m)\u001b[0m\u001b[0;34m:\u001b[0m\u001b[0;34m\u001b[0m\u001b[0;34m\u001b[0m\u001b[0m\n\u001b[0m\u001b[1;32m    486\u001b[0m                 \u001b[0;32mraise\u001b[0m \u001b[0mValueError\u001b[0m\u001b[0;34m(\u001b[0m\u001b[0;34mf\"'{name}' is not one of the example datasets.\"\u001b[0m\u001b[0;34m)\u001b[0m\u001b[0;34m\u001b[0m\u001b[0;34m\u001b[0m\u001b[0m\n\u001b[1;32m    487\u001b[0m             \u001b[0murlretrieve\u001b[0m\u001b[0;34m(\u001b[0m\u001b[0mfull_path\u001b[0m\u001b[0;34m,\u001b[0m \u001b[0mcache_path\u001b[0m\u001b[0;34m)\u001b[0m\u001b[0;34m\u001b[0m\u001b[0;34m\u001b[0m\u001b[0m\n",
            "\u001b[0;32m/usr/local/lib/python3.7/dist-packages/pandas/core/generic.py\u001b[0m in \u001b[0;36m__nonzero__\u001b[0;34m(self)\u001b[0m\n\u001b[1;32m   1328\u001b[0m     \u001b[0;32mdef\u001b[0m \u001b[0m__nonzero__\u001b[0m\u001b[0;34m(\u001b[0m\u001b[0mself\u001b[0m\u001b[0;34m)\u001b[0m\u001b[0;34m:\u001b[0m\u001b[0;34m\u001b[0m\u001b[0;34m\u001b[0m\u001b[0m\n\u001b[1;32m   1329\u001b[0m         raise ValueError(\n\u001b[0;32m-> 1330\u001b[0;31m             \u001b[0;34mf\"The truth value of a {type(self).__name__} is ambiguous. \"\u001b[0m\u001b[0;34m\u001b[0m\u001b[0;34m\u001b[0m\u001b[0m\n\u001b[0m\u001b[1;32m   1331\u001b[0m             \u001b[0;34m\"Use a.empty, a.bool(), a.item(), a.any() or a.all().\"\u001b[0m\u001b[0;34m\u001b[0m\u001b[0;34m\u001b[0m\u001b[0m\n\u001b[1;32m   1332\u001b[0m         )\n",
            "\u001b[0;31mValueError\u001b[0m: The truth value of a DataFrame is ambiguous. Use a.empty, a.bool(), a.item(), a.any() or a.all()."
          ]
        }
      ]
    },
    {
      "cell_type": "code",
      "metadata": {
        "colab": {
          "base_uri": "https://localhost:8080/",
          "height": 337
        },
        "id": "BNJNa8dpH-ni",
        "outputId": "6f23754f-f6c7-4f1c-c114-5b640b5c3eef"
      },
      "source": [
        "df6 = df[(df['School Name'] == 'Abraham Lincoln High School') & (df['Regents Exam'] == 'Geometry')]\n",
        "df6[df6['Mean Score'] ]"
      ],
      "execution_count": null,
      "outputs": [
        {
          "output_type": "error",
          "ename": "KeyError",
          "evalue": "ignored",
          "traceback": [
            "\u001b[0;31m---------------------------------------------------------------------------\u001b[0m",
            "\u001b[0;31mKeyError\u001b[0m                                  Traceback (most recent call last)",
            "\u001b[0;32m<ipython-input-24-15425bd2244d>\u001b[0m in \u001b[0;36m<module>\u001b[0;34m()\u001b[0m\n\u001b[1;32m      1\u001b[0m \u001b[0mdf6\u001b[0m \u001b[0;34m=\u001b[0m \u001b[0mdf\u001b[0m\u001b[0;34m[\u001b[0m\u001b[0;34m(\u001b[0m\u001b[0mdf\u001b[0m\u001b[0;34m[\u001b[0m\u001b[0;34m'School Name'\u001b[0m\u001b[0;34m]\u001b[0m \u001b[0;34m==\u001b[0m \u001b[0;34m'Abraham Lincoln High School'\u001b[0m\u001b[0;34m)\u001b[0m \u001b[0;34m&\u001b[0m \u001b[0;34m(\u001b[0m\u001b[0mdf\u001b[0m\u001b[0;34m[\u001b[0m\u001b[0;34m'Regents Exam'\u001b[0m\u001b[0;34m]\u001b[0m \u001b[0;34m==\u001b[0m \u001b[0;34m'Geometry'\u001b[0m\u001b[0;34m)\u001b[0m\u001b[0;34m]\u001b[0m\u001b[0;34m\u001b[0m\u001b[0;34m\u001b[0m\u001b[0m\n\u001b[0;32m----> 2\u001b[0;31m \u001b[0mdf6\u001b[0m\u001b[0;34m[\u001b[0m\u001b[0mdf6\u001b[0m\u001b[0;34m[\u001b[0m\u001b[0;34m'Mean Score'\u001b[0m\u001b[0;34m]\u001b[0m \u001b[0;34m]\u001b[0m\u001b[0;34m\u001b[0m\u001b[0;34m\u001b[0m\u001b[0m\n\u001b[0m",
            "\u001b[0;32m/usr/local/lib/python3.7/dist-packages/pandas/core/frame.py\u001b[0m in \u001b[0;36m__getitem__\u001b[0;34m(self, key)\u001b[0m\n\u001b[1;32m   2910\u001b[0m             \u001b[0;32mif\u001b[0m \u001b[0mis_iterator\u001b[0m\u001b[0;34m(\u001b[0m\u001b[0mkey\u001b[0m\u001b[0;34m)\u001b[0m\u001b[0;34m:\u001b[0m\u001b[0;34m\u001b[0m\u001b[0;34m\u001b[0m\u001b[0m\n\u001b[1;32m   2911\u001b[0m                 \u001b[0mkey\u001b[0m \u001b[0;34m=\u001b[0m \u001b[0mlist\u001b[0m\u001b[0;34m(\u001b[0m\u001b[0mkey\u001b[0m\u001b[0;34m)\u001b[0m\u001b[0;34m\u001b[0m\u001b[0;34m\u001b[0m\u001b[0m\n\u001b[0;32m-> 2912\u001b[0;31m             \u001b[0mindexer\u001b[0m \u001b[0;34m=\u001b[0m \u001b[0mself\u001b[0m\u001b[0;34m.\u001b[0m\u001b[0mloc\u001b[0m\u001b[0;34m.\u001b[0m\u001b[0m_get_listlike_indexer\u001b[0m\u001b[0;34m(\u001b[0m\u001b[0mkey\u001b[0m\u001b[0;34m,\u001b[0m \u001b[0maxis\u001b[0m\u001b[0;34m=\u001b[0m\u001b[0;36m1\u001b[0m\u001b[0;34m,\u001b[0m \u001b[0mraise_missing\u001b[0m\u001b[0;34m=\u001b[0m\u001b[0;32mTrue\u001b[0m\u001b[0;34m)\u001b[0m\u001b[0;34m[\u001b[0m\u001b[0;36m1\u001b[0m\u001b[0;34m]\u001b[0m\u001b[0;34m\u001b[0m\u001b[0;34m\u001b[0m\u001b[0m\n\u001b[0m\u001b[1;32m   2913\u001b[0m \u001b[0;34m\u001b[0m\u001b[0m\n\u001b[1;32m   2914\u001b[0m         \u001b[0;31m# take() does not accept boolean indexers\u001b[0m\u001b[0;34m\u001b[0m\u001b[0;34m\u001b[0m\u001b[0;34m\u001b[0m\u001b[0m\n",
            "\u001b[0;32m/usr/local/lib/python3.7/dist-packages/pandas/core/indexing.py\u001b[0m in \u001b[0;36m_get_listlike_indexer\u001b[0;34m(self, key, axis, raise_missing)\u001b[0m\n\u001b[1;32m   1252\u001b[0m             \u001b[0mkeyarr\u001b[0m\u001b[0;34m,\u001b[0m \u001b[0mindexer\u001b[0m\u001b[0;34m,\u001b[0m \u001b[0mnew_indexer\u001b[0m \u001b[0;34m=\u001b[0m \u001b[0max\u001b[0m\u001b[0;34m.\u001b[0m\u001b[0m_reindex_non_unique\u001b[0m\u001b[0;34m(\u001b[0m\u001b[0mkeyarr\u001b[0m\u001b[0;34m)\u001b[0m\u001b[0;34m\u001b[0m\u001b[0;34m\u001b[0m\u001b[0m\n\u001b[1;32m   1253\u001b[0m \u001b[0;34m\u001b[0m\u001b[0m\n\u001b[0;32m-> 1254\u001b[0;31m         \u001b[0mself\u001b[0m\u001b[0;34m.\u001b[0m\u001b[0m_validate_read_indexer\u001b[0m\u001b[0;34m(\u001b[0m\u001b[0mkeyarr\u001b[0m\u001b[0;34m,\u001b[0m \u001b[0mindexer\u001b[0m\u001b[0;34m,\u001b[0m \u001b[0maxis\u001b[0m\u001b[0;34m,\u001b[0m \u001b[0mraise_missing\u001b[0m\u001b[0;34m=\u001b[0m\u001b[0mraise_missing\u001b[0m\u001b[0;34m)\u001b[0m\u001b[0;34m\u001b[0m\u001b[0;34m\u001b[0m\u001b[0m\n\u001b[0m\u001b[1;32m   1255\u001b[0m         \u001b[0;32mreturn\u001b[0m \u001b[0mkeyarr\u001b[0m\u001b[0;34m,\u001b[0m \u001b[0mindexer\u001b[0m\u001b[0;34m\u001b[0m\u001b[0;34m\u001b[0m\u001b[0m\n\u001b[1;32m   1256\u001b[0m \u001b[0;34m\u001b[0m\u001b[0m\n",
            "\u001b[0;32m/usr/local/lib/python3.7/dist-packages/pandas/core/indexing.py\u001b[0m in \u001b[0;36m_validate_read_indexer\u001b[0;34m(self, key, indexer, axis, raise_missing)\u001b[0m\n\u001b[1;32m   1296\u001b[0m             \u001b[0;32mif\u001b[0m \u001b[0mmissing\u001b[0m \u001b[0;34m==\u001b[0m \u001b[0mlen\u001b[0m\u001b[0;34m(\u001b[0m\u001b[0mindexer\u001b[0m\u001b[0;34m)\u001b[0m\u001b[0;34m:\u001b[0m\u001b[0;34m\u001b[0m\u001b[0;34m\u001b[0m\u001b[0m\n\u001b[1;32m   1297\u001b[0m                 \u001b[0maxis_name\u001b[0m \u001b[0;34m=\u001b[0m \u001b[0mself\u001b[0m\u001b[0;34m.\u001b[0m\u001b[0mobj\u001b[0m\u001b[0;34m.\u001b[0m\u001b[0m_get_axis_name\u001b[0m\u001b[0;34m(\u001b[0m\u001b[0maxis\u001b[0m\u001b[0;34m)\u001b[0m\u001b[0;34m\u001b[0m\u001b[0;34m\u001b[0m\u001b[0m\n\u001b[0;32m-> 1298\u001b[0;31m                 \u001b[0;32mraise\u001b[0m \u001b[0mKeyError\u001b[0m\u001b[0;34m(\u001b[0m\u001b[0;34mf\"None of [{key}] are in the [{axis_name}]\"\u001b[0m\u001b[0;34m)\u001b[0m\u001b[0;34m\u001b[0m\u001b[0;34m\u001b[0m\u001b[0m\n\u001b[0m\u001b[1;32m   1299\u001b[0m \u001b[0;34m\u001b[0m\u001b[0m\n\u001b[1;32m   1300\u001b[0m             \u001b[0;31m# We (temporarily) allow for some missing keys with .loc, except in\u001b[0m\u001b[0;34m\u001b[0m\u001b[0;34m\u001b[0m\u001b[0;34m\u001b[0m\u001b[0m\n",
            "\u001b[0;31mKeyError\u001b[0m: \"None of [Float64Index([63.2, 54.5, 64.4, 40.4,  nan,  nan, 59.4, 62.9, 66.1,  nan, 52.5,\\n               nan, 63.2, 63.1, 52.8, 56.0, 68.3, 59.9,  nan,  nan, 64.6, 58.9,\\n              52.4, 56.4,  nan,  nan],\\n             dtype='float64')] are in the [columns]\""
          ]
        }
      ]
    },
    {
      "cell_type": "code",
      "metadata": {
        "colab": {
          "base_uri": "https://localhost:8080/",
          "height": 386
        },
        "id": "UaIzdw24DPYS",
        "outputId": "f9e67f27-21da-474e-8a51-e2b94aebf267"
      },
      "source": [
        "sns.displot(df5['Mean Score'])"
      ],
      "execution_count": 11,
      "outputs": [
        {
          "output_type": "execute_result",
          "data": {
            "text/plain": [
              "<seaborn.axisgrid.FacetGrid at 0x7fa36b89c490>"
            ]
          },
          "metadata": {
            "tags": []
          },
          "execution_count": 11
        },
        {
          "output_type": "display_data",
          "data": {
            "image/png": "[encoded data removed]",
            "text/plain": [
              "<Figure size 360x360 with 1 Axes>"
            ]
          },
          "metadata": {
            "tags": [],
            "needs_background": "light"
          }
        }
      ]
    },
    {
      "cell_type": "code",
      "metadata": {
        "colab": {
          "base_uri": "https://localhost:8080/",
          "height": 391
        },
        "id": "MlN7uz6TESCt",
        "outputId": "a8204971-6595-49ce-cc04-6d221dbf5852"
      },
      "source": [
        "sns.pairplot(df5)"
      ],
      "execution_count": 12,
      "outputs": [
        {
          "output_type": "execute_result",
          "data": {
            "text/plain": [
              "<seaborn.axisgrid.PairGrid at 0x7fa36b4f2550>"
            ]
          },
          "metadata": {
            "tags": []
          },
          "execution_count": 12
        },
        {
          "output_type": "display_data",
          "data": {
            "image/png": "[encoded data removed]",
            "text/plain": [
              "<Figure size 360x360 with 6 Axes>"
            ]
          },
          "metadata": {
            "tags": [],
            "needs_background": "light"
          }
        }
      ]
    },
    {
      "cell_type": "code",
      "metadata": {
        "colab": {
          "base_uri": "https://localhost:8080/",
          "height": 391
        },
        "id": "K0pDJamfEvbd",
        "outputId": "847fbca2-0ac0-4d35-eb57-08aba4ed318b"
      },
      "source": [
        "sns.pairplot(df5, hue = 'Regents Exam')"
      ],
      "execution_count": 13,
      "outputs": [
        {
          "output_type": "execute_result",
          "data": {
            "text/plain": [
              "<seaborn.axisgrid.PairGrid at 0x7fa3627fac50>"
            ]
          },
          "metadata": {
            "tags": []
          },
          "execution_count": 13
        },
        {
          "output_type": "display_data",
          "data": {
            "image/png": "[encoded data removed]",
            "text/plain": [
              "<Figure size 553x360 with 6 Axes>"
            ]
          },
          "metadata": {
            "tags": [],
            "needs_background": "light"
          }
        }
      ]
    }
  ]
}